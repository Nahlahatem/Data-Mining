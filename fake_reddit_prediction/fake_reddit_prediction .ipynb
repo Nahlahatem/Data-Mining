{
  "metadata": {
    "kernelspec": {
      "language": "python",
      "display_name": "Python 3",
      "name": "python3"
    },
    "language_info": {
      "name": "python",
      "version": "3.7.12",
      "mimetype": "text/x-python",
      "codemirror_mode": {
        "name": "ipython",
        "version": 3
      },
      "pygments_lexer": "ipython3",
      "nbconvert_exporter": "python",
      "file_extension": ".py"
    },
    "colab": {
      "provenance": [],
      "toc_visible": true
    },
    "accelerator": "GPU",
    "gpuClass": "standard"
  },
  "nbformat_minor": 0,
  "nbformat": 4,
  "cells": [
    {
      "cell_type": "markdown",
      "source": [
        "# Problem Formulation:"
      ],
      "metadata": {
        "id": "ujRqQG5S5qQD"
      }
    },
    {
      "cell_type": "markdown",
      "source": [
        "**These is a classification problem** to predict if a specific reddit post is fake news or not, by looking at its title. </br>\n",
        "**The input** for our problem is the reddit post.</br>\n",
        "**The output** of the problem is a prediction is it fake or not.</br>\n",
        "**The goal** is to help users of the platform to identify trustworthy and reliable sources of information. "
      ],
      "metadata": {
        "id": "z7OymGVE6GKw"
      }
    },
    {
      "cell_type": "markdown",
      "source": [
        "The required function is to **classify** if the posts is fack or not"
      ],
      "metadata": {
        "id": "fpygvR2F6LFy"
      }
    },
    {
      "cell_type": "markdown",
      "source": [
        "**The challenges** is the dealing with Ambiguity data,remove Stop-word,Reducing words to their root form,removing irrelevant or duplicate data, correcting spelling errors, and standardizing the format of the data.</br>\n",
        "Also, Converting text data into numerical or categorical features\n"
      ],
      "metadata": {
        "id": "zH3nEjxq6Nwd"
      }
    },
    {
      "cell_type": "markdown",
      "source": [
        "**The benefit of predict if a specific reddit post is fake news or not** to help users of the platform to identify trustworthy and reliable sources of information. Fake news can spread quickly on social media platforms like Reddit, and can have serious consequences, including spreading disinformation, promoting harmful or misleading ideas, and influencing public opinion.\n",
        "."
      ],
      "metadata": {
        "id": "2dOA5BQ36T1u"
      }
    },
    {
      "cell_type": "markdown",
      "source": [
        "# Get Started"
      ],
      "metadata": {
        "id": "0IcJktzcyg9k"
      }
    },
    {
      "cell_type": "code",
      "source": [
        "import nltk\n",
        "nltk.download('punkt')"
      ],
      "metadata": {
        "colab": {
          "base_uri": "https://localhost:8080/"
        },
        "id": "zGLDIgyUn_DI",
        "outputId": "e5b7c6b0-8a93-4d51-a8e5-9df11c47f7ef"
      },
      "execution_count": 1,
      "outputs": [
        {
          "output_type": "stream",
          "name": "stderr",
          "text": [
            "[nltk_data] Downloading package punkt to /root/nltk_data...\n",
            "[nltk_data]   Unzipping tokenizers/punkt.zip.\n"
          ]
        },
        {
          "output_type": "execute_result",
          "data": {
            "text/plain": [
              "True"
            ]
          },
          "metadata": {},
          "execution_count": 1
        }
      ]
    },
    {
      "cell_type": "markdown",
      "source": [
        "**NLTK (Natural Language Toolkit)**</br>\n",
        "Is a popular open-source library for working with natural language processing (NLP) in Python. NLTK provides a wide range of tools and resources for tasks such as tokenization, stemming, tagging, parsing, and semantic reasoning.</br></br>\n",
        "\n",
        "**Some of the main features of NLTK include:**</br></br>\n",
        "\n",
        "**Tokenization:** splitting text into individual words or sentences\n",
        "Part-of-speech tagging: identifying the grammatical parts of speech for each word in a sentence</br>\n",
        "**Named entity recognition:** identifying and classifying named entities such as people, organizations, or locations\n",
        "Sentiment analysis: determining the sentiment (positive, negative, or neutral) of a piece of text</br>\n",
        "**Parsing:** analyzing the structure of a sentence and identifying its syntactic components</br>\n",
        "**WordNet integration:** a lexical database that provides synonyms, antonyms, and other related words for a given word\n",
        "NLTK also includes a variety of corpora and datasets for use in NLP tasks, as well as tools for text classification, machine learning, and more."
      ],
      "metadata": {
        "id": "HZUuIiTWra9I"
      }
    },
    {
      "cell_type": "code",
      "source": [
        "import re\n",
        "from nltk.stem.wordnet import WordNetLemmatizer\n",
        "\n",
        "#library that contains punctuation\n",
        "import string\n",
        "# string.punctuation\n",
        "import nltk\n",
        "from nltk.classify.scikitlearn import SklearnClassifier\n",
        "from sklearn.svm import SVC\n",
        "from translate import Translator\n",
        "from sklearn.pipeline import Pipeline\n",
        "from sklearn.model_selection import GridSearchCV\n",
        "# Let's try this with SVM model\n",
        "from skopt import BayesSearchCV\n",
        "from skopt.space import Real, Categorical, Integer\n",
        "from sklearn.model_selection import train_test_split, GridSearchCV\n",
        "from sklearn.model_selection import PredefinedSplit"
      ],
      "metadata": {
        "id": "NQ1ej4As5TUq"
      },
      "execution_count": 14,
      "outputs": []
    },
    {
      "cell_type": "code",
      "source": [
        "!pip install scikit-optimize"
      ],
      "metadata": {
        "id": "BB8BKqM_VIlx",
        "colab": {
          "base_uri": "https://localhost:8080/"
        },
        "outputId": "4b10cfc7-ea98-4bee-9fbb-d58dd12464c6"
      },
      "execution_count": 3,
      "outputs": [
        {
          "output_type": "stream",
          "name": "stdout",
          "text": [
            "Looking in indexes: https://pypi.org/simple, https://us-python.pkg.dev/colab-wheels/public/simple/\n",
            "Collecting scikit-optimize\n",
            "  Downloading scikit_optimize-0.9.0-py2.py3-none-any.whl (100 kB)\n",
            "\u001b[2K     \u001b[90m━━━━━━━━━━━━━━━━━━━━━━━━━━━━━━━━━━━━━━━\u001b[0m \u001b[32m100.3/100.3 KB\u001b[0m \u001b[31m3.0 MB/s\u001b[0m eta \u001b[36m0:00:00\u001b[0m\n",
            "\u001b[?25hRequirement already satisfied: numpy>=1.13.3 in /usr/local/lib/python3.9/dist-packages (from scikit-optimize) (1.22.4)\n",
            "Requirement already satisfied: joblib>=0.11 in /usr/local/lib/python3.9/dist-packages (from scikit-optimize) (1.1.1)\n",
            "Collecting pyaml>=16.9\n",
            "  Downloading pyaml-21.10.1-py2.py3-none-any.whl (24 kB)\n",
            "Requirement already satisfied: scipy>=0.19.1 in /usr/local/lib/python3.9/dist-packages (from scikit-optimize) (1.10.1)\n",
            "Requirement already satisfied: scikit-learn>=0.20.0 in /usr/local/lib/python3.9/dist-packages (from scikit-optimize) (1.2.2)\n",
            "Requirement already satisfied: PyYAML in /usr/local/lib/python3.9/dist-packages (from pyaml>=16.9->scikit-optimize) (6.0)\n",
            "Requirement already satisfied: threadpoolctl>=2.0.0 in /usr/local/lib/python3.9/dist-packages (from scikit-learn>=0.20.0->scikit-optimize) (3.1.0)\n",
            "Installing collected packages: pyaml, scikit-optimize\n",
            "Successfully installed pyaml-21.10.1 scikit-optimize-0.9.0\n"
          ]
        }
      ]
    },
    {
      "cell_type": "code",
      "source": [
        "pip install translate\n"
      ],
      "metadata": {
        "id": "M7dN6w1siRp4",
        "colab": {
          "base_uri": "https://localhost:8080/"
        },
        "outputId": "f28c56c5-b4b3-4cc0-d660-12d6e14efd43"
      },
      "execution_count": 4,
      "outputs": [
        {
          "output_type": "stream",
          "name": "stdout",
          "text": [
            "Looking in indexes: https://pypi.org/simple, https://us-python.pkg.dev/colab-wheels/public/simple/\n",
            "Collecting translate\n",
            "  Downloading translate-3.6.1-py2.py3-none-any.whl (12 kB)\n",
            "Requirement already satisfied: requests in /usr/local/lib/python3.9/dist-packages (from translate) (2.27.1)\n",
            "Requirement already satisfied: click in /usr/local/lib/python3.9/dist-packages (from translate) (8.1.3)\n",
            "Collecting libretranslatepy==2.1.1\n",
            "  Downloading libretranslatepy-2.1.1-py3-none-any.whl (3.2 kB)\n",
            "Requirement already satisfied: lxml in /usr/local/lib/python3.9/dist-packages (from translate) (4.9.2)\n",
            "Requirement already satisfied: idna<4,>=2.5 in /usr/local/lib/python3.9/dist-packages (from requests->translate) (3.4)\n",
            "Requirement already satisfied: certifi>=2017.4.17 in /usr/local/lib/python3.9/dist-packages (from requests->translate) (2022.12.7)\n",
            "Requirement already satisfied: urllib3<1.27,>=1.21.1 in /usr/local/lib/python3.9/dist-packages (from requests->translate) (1.26.15)\n",
            "Requirement already satisfied: charset-normalizer~=2.0.0 in /usr/local/lib/python3.9/dist-packages (from requests->translate) (2.0.12)\n",
            "Installing collected packages: libretranslatepy, translate\n",
            "Successfully installed libretranslatepy-2.1.1 translate-3.6.1\n"
          ]
        }
      ]
    },
    {
      "cell_type": "code",
      "source": [
        "import re\n",
        "import pickle\n",
        "import sklearn\n",
        "import pandas as pd\n",
        "import numpy as np\n",
        "import holoviews as hv\n",
        "import nltk \n",
        "from bokeh.io import output_notebook\n",
        "output_notebook()\n",
        "\n",
        "from pathlib import Path\n",
        "\n",
        "# some seeting for pandas and hvplot\n",
        "\n",
        "pd.options.display.max_columns = 100\n",
        "pd.options.display.max_rows = 300\n",
        "pd.options.display.max_colwidth = 100\n",
        "np.set_printoptions(threshold=2000)"
      ],
      "metadata": {
        "id": "GxuEDQQzkTMW"
      },
      "execution_count": 5,
      "outputs": []
    },
    {
      "cell_type": "code",
      "source": [
        "from sklearn.model_selection import train_test_split\n",
        "from sklearn.feature_extraction.text import TfidfVectorizer\n",
        "from sklearn.linear_model import LogisticRegression\n",
        "from sklearn.svm import LinearSVC\n",
        "from sklearn.ensemble import RandomForestClassifier\n",
        "from sklearn.neural_network import MLPClassifier\n",
        "from sklearn.pipeline import Pipeline\n",
        "from sklearn.model_selection import GridSearchCV, RandomizedSearchCV\n",
        "from xgboost import XGBClassifier\n",
        "from nltk.stem.snowball import SnowballStemmer\n",
        "from nltk.tokenize import word_tokenize\n",
        "from nltk.corpus import stopwords"
      ],
      "metadata": {
        "id": "1b4FAkzpkV9u"
      },
      "execution_count": 6,
      "outputs": []
    },
    {
      "cell_type": "code",
      "source": [
        "import pandas as pd\n",
        "import numpy as np\n",
        "import matplotlib.pyplot as plt\n",
        "import seaborn as sns\n",
        "import math\n",
        "\n",
        "from sklearn.metrics import roc_curve, auc,roc_auc_score\n",
        "from sklearn.metrics import RocCurveDisplay\n",
        "\n",
        "from sklearn.model_selection import KFold\n",
        "from sklearn.model_selection import train_test_split\n",
        "from sklearn.datasets import make_classification\n",
        "\n",
        "from sklearn.metrics import confusion_matrix\n",
        "# from sklearn.metrics import classification_report, plot_confusion_matrix, accuracy_score,recall_score,precision_score, roc_curve, precision_recall_curve, roc_auc_score,f1_score\n",
        "from collections import Counter\n",
        "\n",
        "from sklearn import preprocessing\n"
      ],
      "metadata": {
        "_uuid": "8f2839f25d086af736a60e9eeb907d3b93b6e0e5",
        "_cell_guid": "b1076dfc-b9ad-4769-8c92-a6c4dae69d19",
        "execution": {
          "iopub.status.busy": "2023-04-02T17:56:00.197143Z",
          "iopub.execute_input": "2023-04-02T17:56:00.197690Z",
          "iopub.status.idle": "2023-04-02T17:56:01.150852Z",
          "shell.execute_reply.started": "2023-04-02T17:56:00.197638Z",
          "shell.execute_reply": "2023-04-02T17:56:01.149917Z"
        },
        "trusted": true,
        "id": "PY7dNOk3yg9o"
      },
      "execution_count": 7,
      "outputs": []
    },
    {
      "cell_type": "code",
      "source": [
        "pip install scikit-plot"
      ],
      "metadata": {
        "execution": {
          "iopub.status.busy": "2023-04-02T17:56:01.153310Z",
          "iopub.execute_input": "2023-04-02T17:56:01.154071Z",
          "iopub.status.idle": "2023-04-02T17:56:01.160259Z",
          "shell.execute_reply.started": "2023-04-02T17:56:01.154021Z",
          "shell.execute_reply": "2023-04-02T17:56:01.158481Z"
        },
        "trusted": true,
        "id": "nbr-eyHPyg9q",
        "colab": {
          "base_uri": "https://localhost:8080/"
        },
        "outputId": "d72788bc-d145-4963-b19c-2fe64456ae81"
      },
      "execution_count": 8,
      "outputs": [
        {
          "output_type": "stream",
          "name": "stdout",
          "text": [
            "Looking in indexes: https://pypi.org/simple, https://us-python.pkg.dev/colab-wheels/public/simple/\n",
            "Collecting scikit-plot\n",
            "  Downloading scikit_plot-0.3.7-py3-none-any.whl (33 kB)\n",
            "Requirement already satisfied: scikit-learn>=0.18 in /usr/local/lib/python3.9/dist-packages (from scikit-plot) (1.2.2)\n",
            "Requirement already satisfied: matplotlib>=1.4.0 in /usr/local/lib/python3.9/dist-packages (from scikit-plot) (3.7.1)\n",
            "Requirement already satisfied: joblib>=0.10 in /usr/local/lib/python3.9/dist-packages (from scikit-plot) (1.1.1)\n",
            "Requirement already satisfied: scipy>=0.9 in /usr/local/lib/python3.9/dist-packages (from scikit-plot) (1.10.1)\n",
            "Requirement already satisfied: numpy>=1.20 in /usr/local/lib/python3.9/dist-packages (from matplotlib>=1.4.0->scikit-plot) (1.22.4)\n",
            "Requirement already satisfied: importlib-resources>=3.2.0 in /usr/local/lib/python3.9/dist-packages (from matplotlib>=1.4.0->scikit-plot) (5.12.0)\n",
            "Requirement already satisfied: packaging>=20.0 in /usr/local/lib/python3.9/dist-packages (from matplotlib>=1.4.0->scikit-plot) (23.0)\n",
            "Requirement already satisfied: fonttools>=4.22.0 in /usr/local/lib/python3.9/dist-packages (from matplotlib>=1.4.0->scikit-plot) (4.39.3)\n",
            "Requirement already satisfied: python-dateutil>=2.7 in /usr/local/lib/python3.9/dist-packages (from matplotlib>=1.4.0->scikit-plot) (2.8.2)\n",
            "Requirement already satisfied: cycler>=0.10 in /usr/local/lib/python3.9/dist-packages (from matplotlib>=1.4.0->scikit-plot) (0.11.0)\n",
            "Requirement already satisfied: pyparsing>=2.3.1 in /usr/local/lib/python3.9/dist-packages (from matplotlib>=1.4.0->scikit-plot) (3.0.9)\n",
            "Requirement already satisfied: pillow>=6.2.0 in /usr/local/lib/python3.9/dist-packages (from matplotlib>=1.4.0->scikit-plot) (8.4.0)\n",
            "Requirement already satisfied: kiwisolver>=1.0.1 in /usr/local/lib/python3.9/dist-packages (from matplotlib>=1.4.0->scikit-plot) (1.4.4)\n",
            "Requirement already satisfied: contourpy>=1.0.1 in /usr/local/lib/python3.9/dist-packages (from matplotlib>=1.4.0->scikit-plot) (1.0.7)\n",
            "Requirement already satisfied: threadpoolctl>=2.0.0 in /usr/local/lib/python3.9/dist-packages (from scikit-learn>=0.18->scikit-plot) (3.1.0)\n",
            "Requirement already satisfied: zipp>=3.1.0 in /usr/local/lib/python3.9/dist-packages (from importlib-resources>=3.2.0->matplotlib>=1.4.0->scikit-plot) (3.15.0)\n",
            "Requirement already satisfied: six>=1.5 in /usr/local/lib/python3.9/dist-packages (from python-dateutil>=2.7->matplotlib>=1.4.0->scikit-plot) (1.16.0)\n",
            "Installing collected packages: scikit-plot\n",
            "Successfully installed scikit-plot-0.3.7\n"
          ]
        }
      ]
    },
    {
      "cell_type": "code",
      "source": [
        "!pip install contractions\n"
      ],
      "metadata": {
        "execution": {
          "iopub.status.busy": "2023-04-02T19:04:27.521124Z",
          "iopub.execute_input": "2023-04-02T19:04:27.521515Z",
          "iopub.status.idle": "2023-04-02T19:04:40.724880Z",
          "shell.execute_reply.started": "2023-04-02T19:04:27.521482Z",
          "shell.execute_reply": "2023-04-02T19:04:40.723469Z"
        },
        "trusted": true,
        "id": "3JdbVNSnyg9q",
        "colab": {
          "base_uri": "https://localhost:8080/"
        },
        "outputId": "abb7336a-88f3-4dbf-e0c8-7e34b37e0fc0"
      },
      "execution_count": 9,
      "outputs": [
        {
          "output_type": "stream",
          "name": "stdout",
          "text": [
            "Looking in indexes: https://pypi.org/simple, https://us-python.pkg.dev/colab-wheels/public/simple/\n",
            "Collecting contractions\n",
            "  Downloading contractions-0.1.73-py2.py3-none-any.whl (8.7 kB)\n",
            "Collecting textsearch>=0.0.21\n",
            "  Downloading textsearch-0.0.24-py2.py3-none-any.whl (7.6 kB)\n",
            "Collecting anyascii\n",
            "  Downloading anyascii-0.3.2-py3-none-any.whl (289 kB)\n",
            "\u001b[2K     \u001b[90m━━━━━━━━━━━━━━━━━━━━━━━━━━━━━━━━━━━━━━━\u001b[0m \u001b[32m289.9/289.9 KB\u001b[0m \u001b[31m6.0 MB/s\u001b[0m eta \u001b[36m0:00:00\u001b[0m\n",
            "\u001b[?25hCollecting pyahocorasick\n",
            "  Downloading pyahocorasick-2.0.0-cp39-cp39-manylinux_2_5_x86_64.manylinux1_x86_64.whl (103 kB)\n",
            "\u001b[2K     \u001b[90m━━━━━━━━━━━━━━━━━━━━━━━━━━━━━━━━━━━━━━━\u001b[0m \u001b[32m103.2/103.2 KB\u001b[0m \u001b[31m9.5 MB/s\u001b[0m eta \u001b[36m0:00:00\u001b[0m\n",
            "\u001b[?25hInstalling collected packages: pyahocorasick, anyascii, textsearch, contractions\n",
            "Successfully installed anyascii-0.3.2 contractions-0.1.73 pyahocorasick-2.0.0 textsearch-0.0.24\n"
          ]
        }
      ]
    },
    {
      "cell_type": "code",
      "source": [
        "import contractions\n"
      ],
      "metadata": {
        "execution": {
          "iopub.status.busy": "2023-04-02T19:04:40.727590Z",
          "iopub.execute_input": "2023-04-02T19:04:40.728064Z",
          "iopub.status.idle": "2023-04-02T19:04:40.754507Z",
          "shell.execute_reply.started": "2023-04-02T19:04:40.728011Z",
          "shell.execute_reply": "2023-04-02T19:04:40.753322Z"
        },
        "trusted": true,
        "id": "1NPEXOCjyg9r"
      },
      "execution_count": 10,
      "outputs": []
    },
    {
      "cell_type": "code",
      "source": [
        "import sys\n",
        "from sklearn import decomposition\n",
        "from sklearn.pipeline import Pipeline\n",
        "from sklearn.model_selection import GridSearchCV\n",
        "from sklearn.preprocessing import StandardScaler\n",
        "from sklearn import metrics\n",
        "import scikitplot as skplt"
      ],
      "metadata": {
        "execution": {
          "iopub.status.busy": "2023-04-02T17:56:01.161931Z",
          "iopub.execute_input": "2023-04-02T17:56:01.162365Z",
          "iopub.status.idle": "2023-04-02T17:56:01.367632Z",
          "shell.execute_reply.started": "2023-04-02T17:56:01.162318Z",
          "shell.execute_reply": "2023-04-02T17:56:01.366688Z"
        },
        "trusted": true,
        "id": "jMsSzDCcyg9r"
      },
      "execution_count": 11,
      "outputs": []
    },
    {
      "cell_type": "code",
      "source": [
        "np.set_printoptions(threshold=sys.maxsize)\n",
        "pd.set_option('display.max_rows', None)\n"
      ],
      "metadata": {
        "execution": {
          "iopub.status.busy": "2023-04-02T17:56:01.369075Z",
          "iopub.execute_input": "2023-04-02T17:56:01.369658Z",
          "iopub.status.idle": "2023-04-02T17:56:01.377124Z",
          "shell.execute_reply.started": "2023-04-02T17:56:01.369623Z",
          "shell.execute_reply": "2023-04-02T17:56:01.375920Z"
        },
        "trusted": true,
        "id": "FmRBCPtPyg9s"
      },
      "execution_count": 12,
      "outputs": []
    },
    {
      "cell_type": "code",
      "source": [
        "# check version number\n",
        "import imblearn\n",
        "print(imblearn.__version__)"
      ],
      "metadata": {
        "execution": {
          "iopub.status.busy": "2023-04-02T17:56:01.381483Z",
          "iopub.execute_input": "2023-04-02T17:56:01.381912Z",
          "iopub.status.idle": "2023-04-02T17:56:01.812728Z",
          "shell.execute_reply.started": "2023-04-02T17:56:01.381876Z",
          "shell.execute_reply": "2023-04-02T17:56:01.811217Z"
        },
        "trusted": true,
        "id": "2JQ2k7Khyg9s",
        "colab": {
          "base_uri": "https://localhost:8080/"
        },
        "outputId": "79d4ca5d-5957-4337-bc48-107fc0504257"
      },
      "execution_count": 13,
      "outputs": [
        {
          "output_type": "stream",
          "name": "stdout",
          "text": [
            "0.10.1\n"
          ]
        }
      ]
    },
    {
      "cell_type": "markdown",
      "source": [
        "# 1. Import Data"
      ],
      "metadata": {
        "id": "1iwLUONayg9t"
      }
    },
    {
      "cell_type": "code",
      "source": [
        "train_data = pd.read_csv(\"/content/xy_train.csv\")\n",
        "test_data = pd.read_csv(\"/content/x_test.csv\")\n",
        "\n",
        "# train_data.head(1)"
      ],
      "metadata": {
        "execution": {
          "iopub.status.busy": "2023-04-02T18:45:20.654368Z",
          "iopub.execute_input": "2023-04-02T18:45:20.654800Z",
          "iopub.status.idle": "2023-04-02T18:45:20.897207Z",
          "shell.execute_reply.started": "2023-04-02T18:45:20.654743Z",
          "shell.execute_reply": "2023-04-02T18:45:20.896057Z"
        },
        "trusted": true,
        "id": "TmBcOm_Kyg9u"
      },
      "execution_count": 15,
      "outputs": []
    },
    {
      "cell_type": "markdown",
      "source": [
        "# 2. Exploar Data"
      ],
      "metadata": {
        "id": "9_Ycpdsvyg9u"
      }
    },
    {
      "cell_type": "markdown",
      "source": [
        "By default, pandas will truncate the contents of a column to fit within a certain width, which can make it difficult to view the entire contents of a column, especially if it contains long strings or text.</br>\n",
        "Setting **pd.set_option('display.max_colwidth', -1)** in pandas allows you to display the entire contents of a column in a DataFrame, regardless of its length. "
      ],
      "metadata": {
        "id": "PD-BT2XFstNw"
      }
    },
    {
      "cell_type": "code",
      "source": [
        "#expanding the dispay of text sms column\n",
        "pd.set_option('display.max_colwidth', -1)\n",
        "#using only v1 and v2 column\n",
        "train_data.head(1)"
      ],
      "metadata": {
        "execution": {
          "iopub.status.busy": "2023-04-02T17:56:02.288830Z",
          "iopub.execute_input": "2023-04-02T17:56:02.289693Z",
          "iopub.status.idle": "2023-04-02T17:56:02.313374Z",
          "shell.execute_reply.started": "2023-04-02T17:56:02.289645Z",
          "shell.execute_reply": "2023-04-02T17:56:02.312081Z"
        },
        "collapsed": true,
        "jupyter": {
          "outputs_hidden": true
        },
        "trusted": true,
        "id": "qzHBQiX5yg9v",
        "colab": {
          "base_uri": "https://localhost:8080/",
          "height": 1000
        },
        "outputId": "4f2fcd7b-a26d-4761-f3e1-950dfc49cf64"
      },
      "execution_count": null,
      "outputs": [
        {
          "output_type": "stream",
          "name": "stderr",
          "text": [
            "<ipython-input-17-9418f6525a4d>:2: FutureWarning: Passing a negative integer is deprecated in version 1.0 and will not be supported in future version. Instead, use None to not limit the column width.\n",
            "  pd.set_option('display.max_colwidth', -1)\n"
          ]
        },
        {
          "output_type": "execute_result",
          "data": {
            "text/plain": [
              "       id  \\\n",
              "0  265723   \n",
              "\n",
              "                                                                                                                                                                                                                                                                                                                                                                                                                                                                                                                                                                                                                                                                                                                                                                                                                                                                                                                                                                                                                                                                                                                                                                                                                                                                                                                                                                                                                                                                                                                                                                                                                                                                                                                                                                                                                                                                                                                                                                                                                                                                                                                                                                                                                                                                                                                                                                                                                                                                                                                                                                                                                                                                                                                                                                                                                                                                                                                                                                                                                                                                                                                                                                                                                                                                                                                                                                                                                                                                                                                                                                                                                                                                                                                                                                                                                                                                                                                                                                                                                                                                                                                                                                                                                                                                                                                                                                                                                                                                                                                                                                                                                                                                                                                                                                                                                                                                                                                                                                                                                                                                                                                                                                                                                                                                                                                                                                                                                                                                                                                                                                                                                                                                                                                                                                                                                                                                                                                                                                                                                                                                                                                                                                                                                                                                                                                                                                                                                                                                                                                                                                                                                                                                                                                                                                                                                                                                                                                                                                                                                                                                                                                                                                                                                                                                                                                                                                                                                                                                                                                                                                                                                                                                                                                                                                                                                                                                                                                                                                                                                                                                                                                                                                                                                                                                                                                                                                                                                                                                                                                                                                                                                                                                                                                                                                                                                                                                                                                                                                                                                                                                                                                                                                                                                                                                                                                                                                                                                                                                                                                                                                                                                                                                                                                                                                                                                                                                                                                                                                                                                                                                                                                                                                                                                                                                                                                                                                                                                                                                                                                                                                                                                                                                                                                                                                                                                                                                                                                                                                                                                                                                                                                                                                                                                                                                                                                                                                                                                                                                                                                                                                                                                                                                                                                                                                                                                                                                                                                                                                                                                                                                                                                                                                                                                                                                                                                                                                                                                                                                                                                                                                                                                                                                                                                                                                                                                                                                                                                                                                                                                                                                                                                                                                                                                                                                                                                                                                                                                                                                                                                                                                                                                                                                                                                                                                                                                                                                                                                                                                                                                                                                                                                                                                                                                                                                                                                                                                                                                                                                                                                                                                                                                                                                                                                                                                                                                                                                                                                                                                                                                                                                                                                                                                                                                                                                                                                                                                                                                                                                                                                                                                                                                                                                                                                                                                                                                                                                                                                                                                                                                                                                                                                                                                                                                                                                                                                                                                                                                                                                                                                                                                                                                                                                                                                                                                                                                                                                                                                                                                                                                                                                                                                                                                                                                                                                                                                                                                                                                                                                                                                                                                                                                                                                                                                                                                                                                                                                                                                                                                                                                                                                                                                                                                                                                                                                                                                                                                                                                                                                                                                                                                                                                                                                                                                                                                                                                                                                                                                                                                                                                                                                                                                                                                                                                                                                                                                                                                                                                                                                                                                                                                                                                                                                                                                                                                                                                                                                                                                                                                                                                                                                                                                                                                                                                                                                                                                                                                                                                                                                                                                                                                                                                                                                                                                                                                                                                                                                                                                                                                                                                                                                                                                                                                                                                                                                                                                                                                                                                                                                                                                                                                                                                                                   text  \\\n",
              "0  A group of friends began to volunteer at a homeless shelter after their neighbors protested. \"Seeing another person who鈥檚 also in need, you should just naturally be like, 鈥業 want to help that person.鈥?\\t0.84\\t1\\t0\\t0\\nNeoMegaRyuMKII\\tdenmark just trolled trump with a bus watch what happens when it moves\\t1489962542.0\\tarchive.is\\tTrue\\t60cu90\\thttps://external-preview.redd.it/s8HQxoWDwn2pt3eeBjIqetmGxvVMBBxaD93W08lGZrs.jpg?width=320&crop=smart&auto=webp&s=46f0ad18132126cab9823da4f3a6d6ec3a281bb2\\t\\t5.0\\t36\\tsavedyouaclick\\tDenmark Just Trolled Trump With A Bus. Watch What Happens When It Moves | Back wheels look like eyes that spin crazily as the bus moves (saved a click + short video that goes into slow motion (video mirror in comments since archive removed it))\\t0.92\\t0\\t2\\t5\\natbthefirst\\tyoung man theres no need to feel down\\t1429563057.0\\t\\tTrue\\tcqiw655\\thttp://i.imgur.com/rxTKm4U.jpg\\t338ute\\t\\t6\\tpsbattle_artwork\\tYoung man, there's no need to feel down\\t\\t0\\t2\\t4\\nbeosronlto\\tmy onion ring chimp\\t1491483860.0\\timgur.com\\tTrue\\t63ss2x\\thttps://external-preview.redd.it/5muewXGrxJ6YS_iYpjqiBiXpIdxR7d7Woyyln7E4Xe4.jpg?width=320&crop=smart&auto=webp&s=68f0308f16bf0aa9dab6a28260dd06c85ed67450\\t\\t0.0\\t2\\tpareidolia\\tMy onion ring chimp\\t0.63\\t0\\t2\\t2\\nfood_SS\\tthis is what we eat in the images description\\t1443409099.0\\timgur.com\\tTrue\\t3mnjdi\\thttps://external-preview.redd.it/lLESgQetBjASylhfFUw6CKMfbKdR00WZA_LDVdXpOog.jpg?width=320&crop=smart&auto=webp&s=0cb7c577cf8f78d74b23db11f0069d3f32248d31\\t\\t20.0\\t20\\tsubredditsimulator\\tThis is what we eat in the images description)\\t0.84\\t0\\t2\\t3\\nCardboardSoyuz\\tarizona man purchases home and discovers an underground hatch in backyard\\t1505215025.0\\tweb.archive.org\\tTrue\\t6zmas6\\thttps://external-preview.redd.it/FBVXMNmhDNTqADXsiP9UE-NxQ7Caq5kTInsgl-BSvWI.jpg?width=320&crop=smart&auto=webp&s=cdf12b2b558aed4d0ad86199ea3d9592ff1f88c2\\t\\t7.0\\t613\\tsavedyouaclick\\tArizona Man Purchases Home And Discovers An Underground Hatch In Backyard | It leads to an old fall-out shelter in pretty good shape. It had a couple of cans of supplies in it, too. 17 clicks.\\t0.98\\t0\\t2\\t5\\nHarry_Butz\\tthe rpics awards spell out penis\\t1565605730.0\\ti.redd.it\\tTrue\\tcpajkp\\thttps://preview.redd.it/w948d5n4wzf31.jpg?width=320&crop=smart&auto=webp&s=a165988b2d70ef55257a8eeaeedf51b710f1a55b\\t\\t3.0\\t10\\tmildlyinteresting\\tThe /r/Pics awards spell out penis\\t0.71\\t1\\t0\\t0\\nbillarastg\\ttime traveller assassin attemps to take down obama before he becomes president circa\\t1551597882.0\\ti.redd.it\\tTrue\\tawrrxk\\thttps://preview.redd.it/behjedplvuj21.jpg?width=320&crop=smart&auto=webp&s=42ad1a826403a3575fbb94e823d47999b34cfbbd\\t\\t6.0\\t28\\tfakehistoryporn\\tTime traveller Assassin attemps to take down Obama before he becomes president. (circa 1952).\\t0.87\\t0\\t2\\t2\\nMissMaria86\\tew\\t1407262199.0\\t\\tTrue\\tcjhqf8a\\thttp://i.imgur.com/YBE2jms.jpg\\t2coipv\\t\\t95\\tpsbattle_artwork\\tEw.\\t\\t0\\t2\\t4\\nsnlisha\\tislamic state fighters reenter ancient palmyra in syria\\t1481392782.0\\tbbc.com\\tTrue\\t5hlch8\\thttps://external-preview.redd.it/rofxJBXObS76fw5nPTXg4tT9OXFHK-kvH33bZQyaO_8.jpg?width=320&crop=smart&auto=webp&s=02cc00050036279a3ae533ba8540830043fff74a\\t\\t0.0\\t5\\tneutralnews\\tIslamic State fighters 're-enter ancient Palmyra' in Syria\\t0.79\\t1\\t0\\t0\\nRaidyRafy\\ttop golf red line warning sign how many people have gotten hurt\\t1568605849.0\\ti.redd.it\\tTrue\\td4vcq7\\thttps://preview.redd.it/xtjcu5f0pvm31.jpg?width=320&crop=smart&auto=webp&s=9562ffe4127a0d6d34360e4df8a81e05de126519\\t\\t4.0\\t12\\tmildlyinteresting\\tTop Golf red line warning sign. How many people have gotten hurt?\\t0.83\\t1\\t0\\t0\\nBudrickBundy\\tthe nfls ratings slide was mainly fueled by white viewers and younger viewers\\t1516117668.0\\tawfulannouncing.com\\tTrue\\t7qt5fc\\thttps://external-preview.redd.it/vq1q3olqrN3tSCHnl2XJm349y4aGAnSEyepo6LkyFYQ.jpg?width=320&crop=smart&auto=webp&s=38bc55460c5785dbfb3dc2932c1e0321a1fe626c\\t\\t17.0\\t5\\tusanews\\tThe NFL's 2017 ratings slide was mainly fueled by white viewers and younger viewers\\t0.69\\t1\\t0\\t0\\nbbizzess\\tmeryl streep marries\\t1475121888.0\\tarchive.is\\tTrue\\t550gen\\thttps://external-preview.redd.it/QaioECFejw0fZN8SE5WoeGkfu3rRHO3fbYKq_4Ae3b4.jpg?width=320&crop=smart&auto=webp&s=8a4d0ebe34e0e8f3b3b4f163a8369c92e1fb2c14\\t\\t1.0\\t34\\tsavedyouaclick\\tMeryl Streep Marries | Article says she's marrying Robert Redford. She is not.\\t0.94\\t0\\t2\\t5\\nApiContraption\\tother discussions\\t1393550555.0\\t\\tTrue\\tcfqkht6\\thttp://i.imgur.com/XZObVs4%2ejpg\\t1z5152\\t\\t1\\tpsbattle_artwork\\tOther Discussions\\t\\t0\\t2\\t4\\nAskesl\\tsquash dingres\\t1447949876.0\\t\\tTrue\\tcx5t9jt\\thttp://i.imgur.com/4WrG3N6.jpg\\t3tfgjo\\t\\t242\\tpsbattle_artwork\\tSquash d'Ingres\\t\\t0\\t2\\t4\\nGrahamSaysNO\\tthis cactus man\\t1409262115.0\\timgur.com\\tTrue\\t2ev0r6\\thttps://external-preview.redd.it/tod214DPHe8fopeWeF_9MJUVbRXDR2tr78uzMrZSa2E.jpg?width=320&crop=smart&auto=webp&s=e6486a1ed49915388d5b756ae11b4f5e88bc64c4\\t\\t6.0\\t54\\tpareidolia\\tThis cactus man.\\t0.91\\t0\\t2\\t2\\nIShitPoopsALot\\troommates stab each other over debate between iphone and samsung\\t1429265409.0\\tktul.com\\tTrue\\t32wpnv\\thttps://external-preview.redd.it/TypZIEwJmWacgv45TjxxCrHXytjUCkLmhYjZUZatYmU.jpg?width=320&crop=smart&auto=webp&s=4cef96c45cc0f50e2d64f829daa184449136b89e\\t\\t183.0\\t1175\\tnottheonion\\tRoommates stab each other over debate between iPhone and Samsung.\\t0.93\\t1\\t0\\t0\\nslithek\\tgot rid of the ant\\t1365912044.0\\t\\tTrue\\tc9es9hx\\thttp://i.imgur.com/HOCK1nE.jpg\\t1cairr\\t\\t99\\tpsbattle_artwork\\tGot rid of the ant...\\t\\t0\\t2\\t4\\nJJ935\\ttitanic\\t1557350663.0\\t\\tTrue\\temv7vw0\\thttps://i.imgur.com/WIYL8aT.jpg\\tbm9yhe\\t\\t3\\tpsbattle_artwork\\tTitanic\\t\\t0\\t2\\t4\\nThigira\\tdeclaration of independence philadelphia\\t1553375330.0\\ti.redd.it\\tTrue\\tb4o9wf\\thttps://preview.redd.it/9v1epg3voxn21.jpg?width=320&crop=smart&auto=webp&s=eece10bb46d039890257c34ace5de65900928c13\\t\\t3.0\\t81\\tfakehistoryporn\\tDeclaration of Independence. Philadelphia, 1776. Colorized\\t0.91\\t0\\t2\\t2\\nBobblee20\\tthis cloud formation against a sunrise looks like a fire tornado\\t1551025203.0\\ti.redd.it\\tTrue\\tau9fsm\\thttps://preview.redd.it/f6kfxc7qkji21.jpg?width=320&crop=smart&auto=webp&s=bd863086c477286b4c2cdb4ca3fa0b547494c118\\t\\t1.0\\t48\\tmildlyinteresting\\tThis cloud formation against a sunrise looks like a fire tornado\\t0.93\\t1\\t0\\t0\\nChispy\\tobligatory faceswap\\t1472415912.0\\t\\tTrue\\td70cdmk\\thttp://i.imgur.com/KbRXBLs.jpg\\t4zzhjk\\t\\t60\\tpsbattle_artwork\\tobligatory faceswap\\t\\t0\\t2\\t4\\nVt412\\texcited dog\\t1367321385.0\\ti.imgur.com\\tTrue\\t1dekok\\thttps://external-preview.redd.it/ESPM-tTuK3werLgfWG_wBsw_trUSDNU4bI5s2jVRAgQ.png?width=108&crop=smart&auto=webp&s=6bdf4d9c8ec6b3100f803c1cf0848f49a5aee344\\t\\t1.0\\t1\\tphotoshopbattles\\tExcited dog\\t0.53\\t1\\t0\\t0\\nratchetraccoon\\tphotograph of first interracial family in pennsylvania after interracial marriage is legalized circa\\t1524449884.0\\ti.redd.it\\tTrue\\t8e84ku\\thttps://preview.redd.it/mydnsd5oikt01.jpg?width=320&crop=smart&auto=webp&s=dbcf91c9c5aacb9f49c2e2cdf5f9f8dcca3b7d8d\\t\\t4.0\\t103\\tfakehistoryporn\\tColorized photograph of first interracial family in Pennsylvania after interracial marriage is legalized, circa 1780\\t0.97\\t0\\t2\\t2\\nMrtenpence\\tmy local bus has usb chargers in every seat\\t1537876887.0\\timgur.com\\tTrue\\t9iri2s\\thttps://external-preview.redd.it/8OSU-4_TeshCI8i0-Qokoj4-GnuIeAsl1uS7Y5-yAko.jpg?width=320&crop=smart&auto=webp&s=ccbf8c98e0c00fb8f459a421a4a3d5f29dc05a18\\t\\t32.0\\t261\\tmildlyinteresting\\tMy local bus has USB chargers in every seat\\t0.92\\t1\\t0\\t0\\nLucastWaddle\\tthe fact that people keep buying this stuff at the ace harware i work at in texas\\t1561857484.0\\ti.redd.it\\tTrue\\tc7790i\\thttps://preview.redd.it/uj09xvsnae731.jpg?width=320&crop=smart&auto=webp&s=9b174799db2c906c646b9a8999e76d4dedc97a09\\t\\t4.0\\t7\\tmildlyinteresting\\tThe fact that people keep buying this stuff at the Ace Harware I work at in Texas.\\t0.82\\t1\\t0\\t0\\nOriginalstix\\thuge tennis racket or mini federer\\t1451981052.0\\t\\tTrue\\tcymkq8f\\thttp://i.imgur.com/kWNXbnZ.jpg\\t3zfune\\t\\t1\\tpsbattle_artwork\\thuge tennis racket or mini federer?\\t\\t0\\t2\\t4\\nmangobutter6179\\tthese cigs in mexico have a photo of a dead body on it also picked it up at a pharmacy who was selling it secretly lol\\t1568731999.0\\ti.redd.it\\tTrue\\td5i3v2\\thttps://preview.redd.it/jy5rsoi446n31.jpg?width=320&crop=smart&auto=webp&s=30c4d1ab9ff12513839b3492606c02d4dad3fedf\\t\\t7.0\\t8\\tmildlyinteresting\\tThese cigs in Mexico have a photo of a dead body on it, also picked it up at a pharmacy who was selling it secretly lol\\t0.75\\t1\\t0\\t0\\n9elefanttwoothpaste7\\tfat man bomb dropped on nagasaki\\t1501655233.0\\ti.imgur.com\\tTrue\\t6r2cz7\\thttps://external-preview.redd.it/Pk13Js7E_zB5abguKu7q7vJkzSol8soRomMY2bQsOcU.jpg?width=320&crop=smart&auto=webp&s=1846378b13372ae5a072f7c7494bc15b9243288d\\t\\t0.0\\t4\\tmisleadingthumbnails\\tFat Man bomb dropped on Nagasaki, 1945 (colorized)\\t0.57\\t0\\t2\\t2\\nViperdream\\tdeath is close\\t1364940402.0\\t\\tTrue\\tc978mws\\thttp://i.imgur.com/vW3hyor.jpg\\t1biplz\\t\\t1\\tpsbattle_artwork\\tDeath is close...\\t\\t0\\t2\\t4\\nMohhh777\\tbritish soldiers during a last stand in the battle of el alamein\\t1520350464.0\\ti.redd.it\\tTrue\\t82fx19\\thttps://preview.redd.it/q0pxntkzw5k01.jpg?width=320&crop=smart&auto=webp&s=f5e3a60c7d11e99167a41d139f7aafadfd572eab\\t\\t1.0\\t6\\tfakehistoryporn\\tBritish soldiers during a last stand in the battle of el alamein (1942,colorized)\\t0.87\\t0\\t2\\t2\\nWaffleSmoof\\ta year old doingthis\\t1466958003.0\\ti.imgur.com\\tTrue\\t4pyfx6\\thttps://external-preview.redd.it/E5eDuxcbUIShmnalJeNwxFdygee8fD8wnPkva04grGk.jpg?width=320&crop=smart&auto=webp&s=a55dceaa0d3d8be7b860c503b3ebbe881b2c4de9\\t\\t8.0\\t5\\tphotoshopbattles\\tPsBattle: A 4-year old doing...this\\t0.86\\t1\\t0\\t0\\nj_Wlms\\tboov\\t1480133670.0\\t\\tTrue\\tdafx4a6\\thttp://i64.tinypic.com/2iqi36.jpg\\t5etd1l\\t\\t3\\tpsbattle_artwork\\tboov\\t\\t0\\t2\\t4\\nLordMetrognome\\tthese puppies\\t1560574409.0\\ti.redd.it\\tTrue\\tc0tmcc\\thttps://preview.redd.it/cfv54djfbg431.jpg?width=320&crop=smart&auto=webp&s=4e3def0be13bf80708e56b7d1d787da9dc992953\\t\\t6.0\\t35\\tphotoshopbattles\\tPsBattle: These 3 puppies\\t0.85\\t1\\t0\\t0\\nswigsweg8897\\twe raced another plane on my flight back from europe the other day\\t1536676609.0\\timgur.com\\tTrue\\t9ey3ng\\thttps://external-preview.redd.it/gG22KFjIVjNARSyZPlTpL34Fs_O-IJ-Po07K_4JCkBA.jpg?width=320&crop=smart&auto=webp&s=21d02ead80ce93e5a3066d4285bd580a3d98d700\\t\\t5.0\\t13\\tmildlyinteresting\\tWe raced another plane on my flight back from Europe the other day\\t0.85\\t1\\t0\\t0\\nBlackjack115\\ttexas woman uses her coupon clipping skills to help hurricane survivors\\t1505681867.0\\tabcnews.go.com\\tTrue\\t70q7na\\thttps://external-preview.redd.it/X34E8Gwjznfyqi_wuBHow-e6zi3caqVn8IQ8zWx82CU.jpg?width=320&crop=smart&auto=webp&s=ba32edcc58727c1de53e72a37fd51aeae0ef9887\\t\\t615.0\\t29035\\tupliftingnews\\tTexas woman uses her coupon clipping skills to help hurricane survivors\\t0.87\\t1\\t0\\t0\\nApiContraption\\tcutouts\\t1412348760.0\\t\\tTrue\\tckzeba8\\thttp://i.imgur.com/uSH1Cwe%2ejpg\\t2i6ymd\\t\\t2\\tpsbattle_artwork\\tcutouts\\t\\t0\\t2\\t4\\njargos\\tidk might be nsfw\\t1373170717.0\\t\\tTrue\\tcaxeexm\\thttp://i.imgur.com/B9oD0ac.jpg\\t1hs7jh\\t\\t15\\tpsbattle_artwork\\tIDK, might be NSFW\\t\\t0\\t2\\t4\\nene_due_rabe\\tdeep inside shes no different\\t1524409377.0\\t\\tTrue\\tdxs4e1p\\thttps://i.imgur.com/pQnFFRS.jpg\\t8e2py4\\t\\t3\\tpsbattle_artwork\\tDeep inside she's no different\\t\\t0\\t2\\t4\\nRizilus\\tbig head\\t1524535418.0\\t\\tTrue\\tdxv3mcd\\thttps://i.imgur.com/Kfo4au9.jpg\\t8ee4tt\\t\\t2\\tpsbattle_artwork\\tBig Head\\t\\t0\\t2\\t4\\nchibucks\\teveryone looks so yummy\\t1445894162.0\\t\\tTrue\\tcwdtq0c\\thttp://i.imgur.com/FA7Tni2.jpg\\t3q9z4g\\t\\t15\\tpsbattle_artwork\\teveryone looks so yummy\\t\\t0\\t2\\t4\\n\\tthis guy at the adult vr festival in tokyo this weekend\\t1465819487.0\\ti.kinja-img.com\\tTrue\\t4nvas9\\thttps://external-preview.redd.it/1XEjZYusUBXwJndja1lHPuCW4NFz7j80OCfBd7XiTAY.jpg?width=320&crop=smart&auto=webp&s=e80adfcb9b709fb98556ce09261ee53de045800b\\t\\t349.0\\t9551\\tphotoshopbattles\\tPsBattle: This guy at the Adult VR Festival in Tokyo this weekend\\t0.89\\t1\\t0\\t0\\nDizzyEllie\\tobligitory\\t1476226457.0\\t\\tTrue\\td8o0chd\\thttp://i.imgur.com/z0PnFE0.jpg\\t56z02p\\t\\t2\\tpsbattle_artwork\\tObligitory.\\t\\t0\\t2\\t4\\nall-top-today_SS\\telephant seal pup says hello to a post from a few floors above\\t1559336297.0\\ti.redd.it\\tTrue\\tbvctt3\\thttps://preview.redd.it/g0c53pmrlf131.jpg?width=320&crop=smart&auto=webp&s=1de627c4a23e85b629d107d7e1ebc7b06b1d39ee\\t\\t18.0\\t101\\tsubredditsimulator\\tElephant seal pup says hello to a post from a few floors above\\t0.96\\t0\\t2\\t3\\nshinji3\\twhat elon doesnt want you to see\\t1518287809.0\\t\\tTrue\\tdu1mjqa\\thttps://i.imgur.com/xRbpvxW.jpg\\t7wl1vo\\t\\t71\\tpsbattle_artwork\\tWhat Elon doesn't want you to see\\t\\t0\\t2\\t4\\nTheCreativeNick\\tblue turtle with a dirty shell\\t1563833741.0\\ti.redd.it\\tTrue\\tcgjwhn\\thttps://preview.redd.it/9qdsw151jxb31.jpg?width=320&crop=smart&auto=webp&s=c4c5c2ade1810433a3e371e72a5a2d848464f7ae\\t\\t408.0\\t24511\\tphotoshopbattles\\tPsBattle: Blue turtle with a dirty shell\\t0.96\\t1\\t0\\t0\\ncauseofb\\tjapanese depiction of an american warship\\t1476659895.0\\ti.imgur.com\\tTrue\\t57u8n9\\thttps://external-preview.redd.it/DaZZGGLadbj-qSzlJ96STTAfhrlUqz6MbTn5AK3wsGw.jpg?width=320&crop=smart&auto=webp&s=d188c0f83b3d2e8072ad9c7bf585cbb682876baa\\t\\t67.0\\t1105\\tpropagandaposters\\tJapanese depiction of an American warship, 1854\\t0.97\\t0\\t1\\t5\\n\\tlittle girl in a white dress looking out a window\\t1436536622.0\\timgur.com\\tTrue\\t3csr8n\\thttps://external-preview.redd.it/PwEtMoKSLV6YSSn3kpk-UyRocldOPcAEAGqQO9XoO2k.jpg?width=320&crop=smart&auto=webp&s=87f9ff5781ff0b8153faba6f7387211fa953b0bf\\t\\t6.0\\t100\\tmisleadingthumbnails\\tLittle girl in a white dress looking out a window.\\t0.86\\t0\\t2\\t2\\nDrXtreme28\\tkeep your head above\\t1399860594.0\\t\\tTrue\\tchfm9uw\\thttp://i.imgur.com/J4Qwfi4.jpg\\t25b9e2\\t\\t31\\tpsbattle_artwork\\tKeep your head above\\t\\t0\\t2\\t4\\nIf_You_Only_Knew\\toh north koreas invading well let me just go and get my fucking clown shoes\\t1363142770.0\\t\\tTrue\\tc8umnyd\\thttp://i.imgur.com/HMPT52I.jpg\\t1a6upj\\t\\t27\\tpsbattle_artwork\\tOh, North Korea's invading? Well, let me just go and get my fucking clown shoes.\\t\\t0\\t2\\t4\\nGetMotivated_SS\\tarticle one of the rest of us are wasting our lives\\t1448287091.0\\tbrainpickings.org\\tTrue\\t3txxj1\\thttps://external-preview.redd.it/r2qrGFfHPGuFWTCeXdjcly6Ew7UlC5yR2urSZuHoW74.jpg?width=320&crop=smart&auto=webp&s=381feada4235ba6e4686f149b41f78007bd7a02e\\t\\t20.0\\t9\\tsubredditsimulator\\t[Article] One of the rest of us are wasting our lives\\t0.91\\t0\\t2\\t3\\nartunitinc\\tthis one\\t1468845225.0\\t\\tTrue\\td5gpz50\\thttp://i.imgur.com/JPJBsz0.jpg\\t4td1bc\\t\\t33\\tpsbattle_artwork\\tthis one?\\t\\t0\\t2\\t4\\nkoi666\\tbored christmas cat\\t1482768667.0\\ti.reddituploads.com\\tTrue\\t5kecl5\\thttps://external-preview.redd.it/_oeEZ21UIWYl9qySzhuhOBihXfL8pHd-q4ThRcoTuTI.jpg?width=320&crop=smart&auto=webp&s=3f81abc8b3013db4e2121338709f2242c20abdcb\\t\\t1.0\\t5\\tphotoshopbattles\\tPsBattle: Bored Christmas cat\\t0.86\\t1\\t0\\t0\\nkluste\\twhere is the fucking backup\\t1476130417.0\\t\\tTrue\\td8mbzus\\thttp://i.imgur.com/4BkCTlU.jpg\\t56tith\\t\\t2\\tpsbattle_artwork\\tWhere is the fucking backup!?!?!\\t\\t0\\t2\\t4\\nal0c-ac0c\\tbeen staring at this one eared cyclops mouse on my train ride through scotland\\t1568824896.0\\timgur.com\\tTrue\\td60g9w\\thttps://external-preview.redd.it/Y3Wr32rXNPudybPwgaFelgcf2rkiyrGSb9jmV8n0nCA.jpg?width=320&crop=smart&auto=webp&s=f99b7f97505aadb40d816857877158668a3b85b5\\t\\t1.0\\t6\\tpareidolia\\tBeen staring at this one eared Cyclops mouse on my train ride through Scotland.\\t0.88\\t0\\t2\\t2\\nall-top-today_SS\\tmy first gaming pc just arrived in brazil i am sick of politicians giving the same thing as donald trumps star on the head\\t1485817095.0\\ti.imgur.com\\tTrue\\t5r48ow\\thttps://external-preview.redd.it/ESPM-tTuK3werLgfWG_wBsw_trUSDNU4bI5s2jVRAgQ.png?width=108&crop=smart&auto=webp&s=6bdf4d9c8ec6b3100f803c1cf0848f49a5aee344\\t\\t20.0\\t31\\tsubredditsimulator\\tMy first gaming pc just arrived in Brazil, I am sick of politicians giving the same thing as Donald Trump's star on the head\\t0.88\\t0\\t2\\t3\\nalsobrante\\tmit engineer browsing incognito mode on early computer\\t1538338579.0\\ti.imgur.com\\tTrue\\t9k9lgj\\thttps://external-preview.redd.it/O20cyX0xei4nvxlKlFepHyl3JcqI3Hm-pN7E2415_U8.png?width=320&crop=smart&auto=webp&s=d16e7d0d23250c36644e90b66e2e5c9fe559dd6d\\t\\t4.0\\t173\\tfakehistoryporn\\tMIT engineer browsing incognito mode on early computer (1983)\\t1.0\\t0\\t2\\t2\\nalloutnow\\ttrump blocks release of democratic memo on russia probe\\t1518225144.0\\treuters.com\\tTrue\\t7wi82s\\thttps://external-preview.redd.it/U5Y07YbILjhjvhQiiaawsr2jdIwnO2Fxd1C_d24xYw4.jpg?width=320&crop=smart&auto=webp&s=9edaf07bda93aa9a9d24ee418fa53470fbd32cc2\\t\\t1.0\\t23\\tusanews\\tTrump blocks release of Democratic memo on Russia probe | Reuters\\t0.83\\t1\\t0\\t0\\nFoxprowl\\tthe city of los angeles at night seen from space\\t1502384619.0\\ti.redd.it\\tTrue\\t6sup0y\\thttps://preview.redd.it/w3y6f99jixez.jpg?width=320&crop=smart&auto=webp&s=69fa24f2862da454d01a71b6639a27ad491fcbc6\\t\\t0.0\\t10\\tmisleadingthumbnails\\tThe city of Los Angeles at night seen from space\\t0.71\\t0\\t2\\t2\\nblackbanhmi\\ta coffee shop in vietnam where you can soak your feet in anklelevel water with swimming fish\\t1537851239.0\\ti.redd.it\\tTrue\\t9ip9m3\\thttps://preview.redd.it/y1grvezrfbo11.jpg?width=320&crop=smart&auto=webp&s=85a8240a4042389f1d53d9046f983993ddabebd8\\t\\t24.0\\t87\\tmildlyinteresting\\tA coffee shop in Vietnam, where you can soak your feet in ankle-level water with swimming fish\\t0.91\\t1\\t0\\t0\\nSimmo5150\\tthe strangers at the mountains of madness\\t1522416520.0\\ti.redd.it\\tTrue\\t88abtq\\thttps://preview.redd.it/f5vy9qi7kwo01.jpg?width=320&crop=smart&auto=webp&s=b819fa1c7096cf275cf65a26dca2e33b64e429aa\\t\\t2.0\\t49\\tfakealbumcovers\\tThe Strangers - At The Mountains Of Madness\\t0.98\\t0\\t2\\t1\\n\\tirafsky district tender compassions x\\t1422020514.0\\ti.imgur.com\\tTrue\\t2tehcz\\thttps://external-preview.redd.it/FZyyQnZrEkI997h31MdaUxrkQf4hlDirrd9uLXIckOc.png?width=320&crop=smart&auto=webp&s=c71ff486b5d749cd93313a3cc14d86cbeae3e2e2\\t\\t1.0\\t7\\tfakealbumcovers\\tIrafsky District - Tender Compassions {1040x1040}\\t1.0\\t0\\t2\\t1\\nroset_ta\\tthis world leader missing from his chair\\t1566852595.0\\ti.redd.it\\tTrue\\tcvtwtq\\thttps://preview.redd.it/poaq69oe7ti31.jpg?width=320&crop=smart&auto=webp&s=ad1bb72a6d731a440bcd33256c53b1504c1540a0\\t\\t14.0\\t30\\tphotoshopbattles\\tPsBattle: This world leader missing from his chair.\\t0.81\\t1\\t0\\t0\\nOxTox\\tmy cat dreaming about his future as a basketballer\\t1374694335.0\\ti.imgur.com\\tTrue\\t1iz5p0\\thttps://external-preview.redd.it/Kt6FWE0rz41rDzlHbrtZjl1nZl4SBnTOBquEJ7DHbyQ.jpg?width=320&crop=smart&auto=webp&s=d69173783daa7e0dba2c9d2b3abfdadc650d5d69\\t\\t6.0\\t3\\tphotoshopbattles\\tMy cat dreaming about his future as a basketballer.\\t0.72\\t1\\t0\\t0\\nChesleaFc\\ther period gone wild\\t1420259337.0\\ti.imgur.com\\tTrue\\t2r69ma\\thttps://external-preview.redd.it/psWSM7m7r_Zuw7dMUg_BBi4BLMor_CRXtEZkrcFyLww.jpg?width=320&crop=smart&auto=webp&s=fb315ebd5bdae391657e48b8fad4bdebe63b8af3\\t\\t5.0\\t63\\tmisleadingthumbnails\\tHer period gone wild\\t0.68\\t0\\t2\\t2\\nMyEmptyBagOfChips\\tthese snails crowded on a tree\\t1557935912.0\\ti.imgur.com\\tTrue\\tbozp05\\thttps://external-preview.redd.it/6O_jT6jvg3Hw1_yIeiJuo1c621jDd2cJYCQcb2JNkmo.jpg?width=320&crop=smart&auto=webp&s=c8acfe313a1737754086f16f07a30124da959b6a\\t\\t5.0\\t21\\tphotoshopbattles\\tPsBattle: These snails crowded on a tree\\t0.8\\t1\\t0\\t0\\nfried_egg_on_toast\\ti was driving and saw this house that had a sperm kite flying outside\\t1564947960.0\\ti.redd.it\\tTrue\\tcm0o0a\\thttps://preview.redd.it/krgpibi8khe31.jpg?width=320&crop=smart&auto=webp&s=18fb1c436e2a825af71a2380646a29297d51affc\\t\\t14.0\\t8\\tmildlyinteresting\\tI was driving and saw this house that had a sperm kite flying outside\\t0.79\\t1\\t0\\t0\\nramong941\\tdont skip leg day\\t1447339550.0\\ti.imgur.com\\tTrue\\t3sjdx0\\thttps://external-preview.redd.it/Y-UA9ez9xIbJ7DW4ee44psznfbgrZYDlp9MCd_aNS6M.jpg?width=320&crop=smart&auto=webp&s=e2fbd201c861263735f76e0ad196907448736152\\t\\t3.0\\t366\\tconfusing_perspective\\tDon't skip leg day\\t0.95\\t0\\t2\\t2\\nApiContraption\\tcutouts\\t1407988458.0\\t\\tTrue\\tcjpqh64\\thttp://i.imgur.com/aQdK3Cd%2ejpg\\t2di8gm\\t\\t1\\tpsbattle_artwork\\tcutouts\\t\\t0\\t2\\t4\\nJohnJTaylor\\tstate has st elk sighting in more than centuries\\t1477570409.0\\tmsn.com\\tTrue\\t59nmlp\\thttps://external-preview.redd.it/GK9zzWdnSgLiJfA0UoZ-6RI4PgInibREyfSNBj_xZHo.jpg?width=320&crop=smart&auto=webp&s=31042c360e26d9aea8294e62ff4ea3636b5ff12f\\t\\t3.0\\t18\\tupliftingnews\\tState has 1st elk sighting in more than 2 centuries\\t0.89\\t1\\t0\\t0\\nWOSBen\\twish you were here\\t1468486664.0\\t\\tTrue\\td5bqhmr\\thttp://i.imgur.com/6dHjTDU.jpg\\t4srok6\\t\\t550\\tpsbattle_artwork\\t\"Wish you were here\"\"\"   \n",
              "\n",
              "   label  \n",
              "0  0.0    "
            ],
            "text/html": [
              "\n",
              "  <div id=\"df-86b21d01-8452-436c-ad15-37b92279150a\">\n",
              "    <div class=\"colab-df-container\">\n",
              "      <div>\n",
              "<style scoped>\n",
              "    .dataframe tbody tr th:only-of-type {\n",
              "        vertical-align: middle;\n",
              "    }\n",
              "\n",
              "    .dataframe tbody tr th {\n",
              "        vertical-align: top;\n",
              "    }\n",
              "\n",
              "    .dataframe thead th {\n",
              "        text-align: right;\n",
              "    }\n",
              "</style>\n",
              "<table border=\"1\" class=\"dataframe\">\n",
              "  <thead>\n",
              "    <tr style=\"text-align: right;\">\n",
              "      <th></th>\n",
              "      <th>id</th>\n",
              "      <th>text</th>\n",
              "      <th>label</th>\n",
              "    </tr>\n",
              "  </thead>\n",
              "  <tbody>\n",
              "    <tr>\n",
              "      <th>0</th>\n",
              "      <td>265723</td>\n",
              "      <td>A group of friends began to volunteer at a homeless shelter after their neighbors protested. \"Seeing another person who鈥檚 also in need, you should just naturally be like, 鈥業 want to help that person.鈥?\\t0.84\\t1\\t0\\t0\\nNeoMegaRyuMKII\\tdenmark just trolled trump with a bus watch what happens when it moves\\t1489962542.0\\tarchive.is\\tTrue\\t60cu90\\thttps://external-preview.redd.it/s8HQxoWDwn2pt3eeBjIqetmGxvVMBBxaD93W08lGZrs.jpg?width=320&amp;crop=smart&amp;auto=webp&amp;s=46f0ad18132126cab9823da4f3a6d6ec3a281bb2\\t\\t5.0\\t36\\tsavedyouaclick\\tDenmark Just Trolled Trump With A Bus. Watch What Happens When It Moves | Back wheels look like eyes that spin crazily as the bus moves (saved a click + short video that goes into slow motion (video mirror in comments since archive removed it))\\t0.92\\t0\\t2\\t5\\natbthefirst\\tyoung man theres no need to feel down\\t1429563057.0\\t\\tTrue\\tcqiw655\\thttp://i.imgur.com/rxTKm4U.jpg\\t338ute\\t\\t6\\tpsbattle_artwork\\tYoung man, there's no need to feel down\\t\\t0\\t2\\t4\\nbeosronlto\\tmy onion ring chimp\\t1491483860.0\\timgur.com\\tTrue\\t63ss2x\\thttps://external-preview.redd.it/5muewXGrxJ6YS_iYpjqiBiXpIdxR7d7Woyyln7E4Xe4.jpg?width=320&amp;crop=smart&amp;auto=webp&amp;s=68f0308f16bf0aa9dab6a28260dd06c85ed67450\\t\\t0.0\\t2\\tpareidolia\\tMy onion ring chimp\\t0.63\\t0\\t2\\t2\\nfood_SS\\tthis is what we eat in the images description\\t1443409099.0\\timgur.com\\tTrue\\t3mnjdi\\thttps://external-preview.redd.it/lLESgQetBjASylhfFUw6CKMfbKdR00WZA_LDVdXpOog.jpg?width=320&amp;crop=smart&amp;auto=webp&amp;s=0cb7c577cf8f78d74b23db11f0069d3f32248d31\\t\\t20.0\\t20\\tsubredditsimulator\\tThis is what we eat in the images description)\\t0.84\\t0\\t2\\t3\\nCardboardSoyuz\\tarizona man purchases home and discovers an underground hatch in backyard\\t1505215025.0\\tweb.archive.org\\tTrue\\t6zmas6\\thttps://external-preview.redd.it/FBVXMNmhDNTqADXsiP9UE-NxQ7Caq5kTInsgl-BSvWI.jpg?width=320&amp;crop=smart&amp;auto=webp&amp;s=cdf12b2b558aed4d0ad86199ea3d9592ff1f88c2\\t\\t7.0\\t613\\tsavedyouaclick\\tArizona Man Purchases Home And Discovers An Underground Hatch In Backyard | It leads to an old fall-out shelter in pretty good shape. It had a couple of cans of supplies in it, too. 17 clicks.\\t0.98\\t0\\t2\\t5\\nHarry_Butz\\tthe rpics awards spell out penis\\t1565605730.0\\ti.redd.it\\tTrue\\tcpajkp\\thttps://preview.redd.it/w948d5n4wzf31.jpg?width=320&amp;crop=smart&amp;auto=webp&amp;s=a165988b2d70ef55257a8eeaeedf51b710f1a55b\\t\\t3.0\\t10\\tmildlyinteresting\\tThe /r/Pics awards spell out penis\\t0.71\\t1\\t0\\t0\\nbillarastg\\ttime traveller assassin attemps to take down obama before he becomes president circa\\t1551597882.0\\ti.redd.it\\tTrue\\tawrrxk\\thttps://preview.redd.it/behjedplvuj21.jpg?width=320&amp;crop=smart&amp;auto=webp&amp;s=42ad1a826403a3575fbb94e823d47999b34cfbbd\\t\\t6.0\\t28\\tfakehistoryporn\\tTime traveller Assassin attemps to take down Obama before he becomes president. (circa 1952).\\t0.87\\t0\\t2\\t2\\nMissMaria86\\tew\\t1407262199.0\\t\\tTrue\\tcjhqf8a\\thttp://i.imgur.com/YBE2jms.jpg\\t2coipv\\t\\t95\\tpsbattle_artwork\\tEw.\\t\\t0\\t2\\t4\\nsnlisha\\tislamic state fighters reenter ancient palmyra in syria\\t1481392782.0\\tbbc.com\\tTrue\\t5hlch8\\thttps://external-preview.redd.it/rofxJBXObS76fw5nPTXg4tT9OXFHK-kvH33bZQyaO_8.jpg?width=320&amp;crop=smart&amp;auto=webp&amp;s=02cc00050036279a3ae533ba8540830043fff74a\\t\\t0.0\\t5\\tneutralnews\\tIslamic State fighters 're-enter ancient Palmyra' in Syria\\t0.79\\t1\\t0\\t0\\nRaidyRafy\\ttop golf red line warning sign how many people have gotten hurt\\t1568605849.0\\ti.redd.it\\tTrue\\td4vcq7\\thttps://preview.redd.it/xtjcu5f0pvm31.jpg?width=320&amp;crop=smart&amp;auto=webp&amp;s=9562ffe4127a0d6d34360e4df8a81e05de126519\\t\\t4.0\\t12\\tmildlyinteresting\\tTop Golf red line warning sign. How many people have gotten hurt?\\t0.83\\t1\\t0\\t0\\nBudrickBundy\\tthe nfls ratings slide was mainly fueled by white viewers and younger viewers\\t1516117668.0\\tawfulannouncing.com\\tTrue\\t7qt5fc\\thttps://external-preview.redd.it/vq1q3olqrN3tSCHnl2XJm349y4aGAnSEyepo6LkyFYQ.jpg?width=320&amp;crop=smart&amp;auto=webp&amp;s=38bc55460c5785dbfb3dc2932c1e0321a1fe626c\\t\\t17.0\\t5\\tusanews\\tThe NFL's 2017 ratings slide was mainly fueled by white viewers and younger viewers\\t0.69\\t1\\t0\\t0\\nbbizzess\\tmeryl streep marries\\t1475121888.0\\tarchive.is\\tTrue\\t550gen\\thttps://external-preview.redd.it/QaioECFejw0fZN8SE5WoeGkfu3rRHO3fbYKq_4Ae3b4.jpg?width=320&amp;crop=smart&amp;auto=webp&amp;s=8a4d0ebe34e0e8f3b3b4f163a8369c92e1fb2c14\\t\\t1.0\\t34\\tsavedyouaclick\\tMeryl Streep Marries | Article says she's marrying Robert Redford. She is not.\\t0.94\\t0\\t2\\t5\\nApiContraption\\tother discussions\\t1393550555.0\\t\\tTrue\\tcfqkht6\\thttp://i.imgur.com/XZObVs4%2ejpg\\t1z5152\\t\\t1\\tpsbattle_artwork\\tOther Discussions\\t\\t0\\t2\\t4\\nAskesl\\tsquash dingres\\t1447949876.0\\t\\tTrue\\tcx5t9jt\\thttp://i.imgur.com/4WrG3N6.jpg\\t3tfgjo\\t\\t242\\tpsbattle_artwork\\tSquash d'Ingres\\t\\t0\\t2\\t4\\nGrahamSaysNO\\tthis cactus man\\t1409262115.0\\timgur.com\\tTrue\\t2ev0r6\\thttps://external-preview.redd.it/tod214DPHe8fopeWeF_9MJUVbRXDR2tr78uzMrZSa2E.jpg?width=320&amp;crop=smart&amp;auto=webp&amp;s=e6486a1ed49915388d5b756ae11b4f5e88bc64c4\\t\\t6.0\\t54\\tpareidolia\\tThis cactus man.\\t0.91\\t0\\t2\\t2\\nIShitPoopsALot\\troommates stab each other over debate between iphone and samsung\\t1429265409.0\\tktul.com\\tTrue\\t32wpnv\\thttps://external-preview.redd.it/TypZIEwJmWacgv45TjxxCrHXytjUCkLmhYjZUZatYmU.jpg?width=320&amp;crop=smart&amp;auto=webp&amp;s=4cef96c45cc0f50e2d64f829daa184449136b89e\\t\\t183.0\\t1175\\tnottheonion\\tRoommates stab each other over debate between iPhone and Samsung.\\t0.93\\t1\\t0\\t0\\nslithek\\tgot rid of the ant\\t1365912044.0\\t\\tTrue\\tc9es9hx\\thttp://i.imgur.com/HOCK1nE.jpg\\t1cairr\\t\\t99\\tpsbattle_artwork\\tGot rid of the ant...\\t\\t0\\t2\\t4\\nJJ935\\ttitanic\\t1557350663.0\\t\\tTrue\\temv7vw0\\thttps://i.imgur.com/WIYL8aT.jpg\\tbm9yhe\\t\\t3\\tpsbattle_artwork\\tTitanic\\t\\t0\\t2\\t4\\nThigira\\tdeclaration of independence philadelphia\\t1553375330.0\\ti.redd.it\\tTrue\\tb4o9wf\\thttps://preview.redd.it/9v1epg3voxn21.jpg?width=320&amp;crop=smart&amp;auto=webp&amp;s=eece10bb46d039890257c34ace5de65900928c13\\t\\t3.0\\t81\\tfakehistoryporn\\tDeclaration of Independence. Philadelphia, 1776. Colorized\\t0.91\\t0\\t2\\t2\\nBobblee20\\tthis cloud formation against a sunrise looks like a fire tornado\\t1551025203.0\\ti.redd.it\\tTrue\\tau9fsm\\thttps://preview.redd.it/f6kfxc7qkji21.jpg?width=320&amp;crop=smart&amp;auto=webp&amp;s=bd863086c477286b4c2cdb4ca3fa0b547494c118\\t\\t1.0\\t48\\tmildlyinteresting\\tThis cloud formation against a sunrise looks like a fire tornado\\t0.93\\t1\\t0\\t0\\nChispy\\tobligatory faceswap\\t1472415912.0\\t\\tTrue\\td70cdmk\\thttp://i.imgur.com/KbRXBLs.jpg\\t4zzhjk\\t\\t60\\tpsbattle_artwork\\tobligatory faceswap\\t\\t0\\t2\\t4\\nVt412\\texcited dog\\t1367321385.0\\ti.imgur.com\\tTrue\\t1dekok\\thttps://external-preview.redd.it/ESPM-tTuK3werLgfWG_wBsw_trUSDNU4bI5s2jVRAgQ.png?width=108&amp;crop=smart&amp;auto=webp&amp;s=6bdf4d9c8ec6b3100f803c1cf0848f49a5aee344\\t\\t1.0\\t1\\tphotoshopbattles\\tExcited dog\\t0.53\\t1\\t0\\t0\\nratchetraccoon\\tphotograph of first interracial family in pennsylvania after interracial marriage is legalized circa\\t1524449884.0\\ti.redd.it\\tTrue\\t8e84ku\\thttps://preview.redd.it/mydnsd5oikt01.jpg?width=320&amp;crop=smart&amp;auto=webp&amp;s=dbcf91c9c5aacb9f49c2e2cdf5f9f8dcca3b7d8d\\t\\t4.0\\t103\\tfakehistoryporn\\tColorized photograph of first interracial family in Pennsylvania after interracial marriage is legalized, circa 1780\\t0.97\\t0\\t2\\t2\\nMrtenpence\\tmy local bus has usb chargers in every seat\\t1537876887.0\\timgur.com\\tTrue\\t9iri2s\\thttps://external-preview.redd.it/8OSU-4_TeshCI8i0-Qokoj4-GnuIeAsl1uS7Y5-yAko.jpg?width=320&amp;crop=smart&amp;auto=webp&amp;s=ccbf8c98e0c00fb8f459a421a4a3d5f29dc05a18\\t\\t32.0\\t261\\tmildlyinteresting\\tMy local bus has USB chargers in every seat\\t0.92\\t1\\t0\\t0\\nLucastWaddle\\tthe fact that people keep buying this stuff at the ace harware i work at in texas\\t1561857484.0\\ti.redd.it\\tTrue\\tc7790i\\thttps://preview.redd.it/uj09xvsnae731.jpg?width=320&amp;crop=smart&amp;auto=webp&amp;s=9b174799db2c906c646b9a8999e76d4dedc97a09\\t\\t4.0\\t7\\tmildlyinteresting\\tThe fact that people keep buying this stuff at the Ace Harware I work at in Texas.\\t0.82\\t1\\t0\\t0\\nOriginalstix\\thuge tennis racket or mini federer\\t1451981052.0\\t\\tTrue\\tcymkq8f\\thttp://i.imgur.com/kWNXbnZ.jpg\\t3zfune\\t\\t1\\tpsbattle_artwork\\thuge tennis racket or mini federer?\\t\\t0\\t2\\t4\\nmangobutter6179\\tthese cigs in mexico have a photo of a dead body on it also picked it up at a pharmacy who was selling it secretly lol\\t1568731999.0\\ti.redd.it\\tTrue\\td5i3v2\\thttps://preview.redd.it/jy5rsoi446n31.jpg?width=320&amp;crop=smart&amp;auto=webp&amp;s=30c4d1ab9ff12513839b3492606c02d4dad3fedf\\t\\t7.0\\t8\\tmildlyinteresting\\tThese cigs in Mexico have a photo of a dead body on it, also picked it up at a pharmacy who was selling it secretly lol\\t0.75\\t1\\t0\\t0\\n9elefanttwoothpaste7\\tfat man bomb dropped on nagasaki\\t1501655233.0\\ti.imgur.com\\tTrue\\t6r2cz7\\thttps://external-preview.redd.it/Pk13Js7E_zB5abguKu7q7vJkzSol8soRomMY2bQsOcU.jpg?width=320&amp;crop=smart&amp;auto=webp&amp;s=1846378b13372ae5a072f7c7494bc15b9243288d\\t\\t0.0\\t4\\tmisleadingthumbnails\\tFat Man bomb dropped on Nagasaki, 1945 (colorized)\\t0.57\\t0\\t2\\t2\\nViperdream\\tdeath is close\\t1364940402.0\\t\\tTrue\\tc978mws\\thttp://i.imgur.com/vW3hyor.jpg\\t1biplz\\t\\t1\\tpsbattle_artwork\\tDeath is close...\\t\\t0\\t2\\t4\\nMohhh777\\tbritish soldiers during a last stand in the battle of el alamein\\t1520350464.0\\ti.redd.it\\tTrue\\t82fx19\\thttps://preview.redd.it/q0pxntkzw5k01.jpg?width=320&amp;crop=smart&amp;auto=webp&amp;s=f5e3a60c7d11e99167a41d139f7aafadfd572eab\\t\\t1.0\\t6\\tfakehistoryporn\\tBritish soldiers during a last stand in the battle of el alamein (1942,colorized)\\t0.87\\t0\\t2\\t2\\nWaffleSmoof\\ta year old doingthis\\t1466958003.0\\ti.imgur.com\\tTrue\\t4pyfx6\\thttps://external-preview.redd.it/E5eDuxcbUIShmnalJeNwxFdygee8fD8wnPkva04grGk.jpg?width=320&amp;crop=smart&amp;auto=webp&amp;s=a55dceaa0d3d8be7b860c503b3ebbe881b2c4de9\\t\\t8.0\\t5\\tphotoshopbattles\\tPsBattle: A 4-year old doing...this\\t0.86\\t1\\t0\\t0\\nj_Wlms\\tboov\\t1480133670.0\\t\\tTrue\\tdafx4a6\\thttp://i64.tinypic.com/2iqi36.jpg\\t5etd1l\\t\\t3\\tpsbattle_artwork\\tboov\\t\\t0\\t2\\t4\\nLordMetrognome\\tthese puppies\\t1560574409.0\\ti.redd.it\\tTrue\\tc0tmcc\\thttps://preview.redd.it/cfv54djfbg431.jpg?width=320&amp;crop=smart&amp;auto=webp&amp;s=4e3def0be13bf80708e56b7d1d787da9dc992953\\t\\t6.0\\t35\\tphotoshopbattles\\tPsBattle: These 3 puppies\\t0.85\\t1\\t0\\t0\\nswigsweg8897\\twe raced another plane on my flight back from europe the other day\\t1536676609.0\\timgur.com\\tTrue\\t9ey3ng\\thttps://external-preview.redd.it/gG22KFjIVjNARSyZPlTpL34Fs_O-IJ-Po07K_4JCkBA.jpg?width=320&amp;crop=smart&amp;auto=webp&amp;s=21d02ead80ce93e5a3066d4285bd580a3d98d700\\t\\t5.0\\t13\\tmildlyinteresting\\tWe raced another plane on my flight back from Europe the other day\\t0.85\\t1\\t0\\t0\\nBlackjack115\\ttexas woman uses her coupon clipping skills to help hurricane survivors\\t1505681867.0\\tabcnews.go.com\\tTrue\\t70q7na\\thttps://external-preview.redd.it/X34E8Gwjznfyqi_wuBHow-e6zi3caqVn8IQ8zWx82CU.jpg?width=320&amp;crop=smart&amp;auto=webp&amp;s=ba32edcc58727c1de53e72a37fd51aeae0ef9887\\t\\t615.0\\t29035\\tupliftingnews\\tTexas woman uses her coupon clipping skills to help hurricane survivors\\t0.87\\t1\\t0\\t0\\nApiContraption\\tcutouts\\t1412348760.0\\t\\tTrue\\tckzeba8\\thttp://i.imgur.com/uSH1Cwe%2ejpg\\t2i6ymd\\t\\t2\\tpsbattle_artwork\\tcutouts\\t\\t0\\t2\\t4\\njargos\\tidk might be nsfw\\t1373170717.0\\t\\tTrue\\tcaxeexm\\thttp://i.imgur.com/B9oD0ac.jpg\\t1hs7jh\\t\\t15\\tpsbattle_artwork\\tIDK, might be NSFW\\t\\t0\\t2\\t4\\nene_due_rabe\\tdeep inside shes no different\\t1524409377.0\\t\\tTrue\\tdxs4e1p\\thttps://i.imgur.com/pQnFFRS.jpg\\t8e2py4\\t\\t3\\tpsbattle_artwork\\tDeep inside she's no different\\t\\t0\\t2\\t4\\nRizilus\\tbig head\\t1524535418.0\\t\\tTrue\\tdxv3mcd\\thttps://i.imgur.com/Kfo4au9.jpg\\t8ee4tt\\t\\t2\\tpsbattle_artwork\\tBig Head\\t\\t0\\t2\\t4\\nchibucks\\teveryone looks so yummy\\t1445894162.0\\t\\tTrue\\tcwdtq0c\\thttp://i.imgur.com/FA7Tni2.jpg\\t3q9z4g\\t\\t15\\tpsbattle_artwork\\teveryone looks so yummy\\t\\t0\\t2\\t4\\n\\tthis guy at the adult vr festival in tokyo this weekend\\t1465819487.0\\ti.kinja-img.com\\tTrue\\t4nvas9\\thttps://external-preview.redd.it/1XEjZYusUBXwJndja1lHPuCW4NFz7j80OCfBd7XiTAY.jpg?width=320&amp;crop=smart&amp;auto=webp&amp;s=e80adfcb9b709fb98556ce09261ee53de045800b\\t\\t349.0\\t9551\\tphotoshopbattles\\tPsBattle: This guy at the Adult VR Festival in Tokyo this weekend\\t0.89\\t1\\t0\\t0\\nDizzyEllie\\tobligitory\\t1476226457.0\\t\\tTrue\\td8o0chd\\thttp://i.imgur.com/z0PnFE0.jpg\\t56z02p\\t\\t2\\tpsbattle_artwork\\tObligitory.\\t\\t0\\t2\\t4\\nall-top-today_SS\\telephant seal pup says hello to a post from a few floors above\\t1559336297.0\\ti.redd.it\\tTrue\\tbvctt3\\thttps://preview.redd.it/g0c53pmrlf131.jpg?width=320&amp;crop=smart&amp;auto=webp&amp;s=1de627c4a23e85b629d107d7e1ebc7b06b1d39ee\\t\\t18.0\\t101\\tsubredditsimulator\\tElephant seal pup says hello to a post from a few floors above\\t0.96\\t0\\t2\\t3\\nshinji3\\twhat elon doesnt want you to see\\t1518287809.0\\t\\tTrue\\tdu1mjqa\\thttps://i.imgur.com/xRbpvxW.jpg\\t7wl1vo\\t\\t71\\tpsbattle_artwork\\tWhat Elon doesn't want you to see\\t\\t0\\t2\\t4\\nTheCreativeNick\\tblue turtle with a dirty shell\\t1563833741.0\\ti.redd.it\\tTrue\\tcgjwhn\\thttps://preview.redd.it/9qdsw151jxb31.jpg?width=320&amp;crop=smart&amp;auto=webp&amp;s=c4c5c2ade1810433a3e371e72a5a2d848464f7ae\\t\\t408.0\\t24511\\tphotoshopbattles\\tPsBattle: Blue turtle with a dirty shell\\t0.96\\t1\\t0\\t0\\ncauseofb\\tjapanese depiction of an american warship\\t1476659895.0\\ti.imgur.com\\tTrue\\t57u8n9\\thttps://external-preview.redd.it/DaZZGGLadbj-qSzlJ96STTAfhrlUqz6MbTn5AK3wsGw.jpg?width=320&amp;crop=smart&amp;auto=webp&amp;s=d188c0f83b3d2e8072ad9c7bf585cbb682876baa\\t\\t67.0\\t1105\\tpropagandaposters\\tJapanese depiction of an American warship, 1854\\t0.97\\t0\\t1\\t5\\n\\tlittle girl in a white dress looking out a window\\t1436536622.0\\timgur.com\\tTrue\\t3csr8n\\thttps://external-preview.redd.it/PwEtMoKSLV6YSSn3kpk-UyRocldOPcAEAGqQO9XoO2k.jpg?width=320&amp;crop=smart&amp;auto=webp&amp;s=87f9ff5781ff0b8153faba6f7387211fa953b0bf\\t\\t6.0\\t100\\tmisleadingthumbnails\\tLittle girl in a white dress looking out a window.\\t0.86\\t0\\t2\\t2\\nDrXtreme28\\tkeep your head above\\t1399860594.0\\t\\tTrue\\tchfm9uw\\thttp://i.imgur.com/J4Qwfi4.jpg\\t25b9e2\\t\\t31\\tpsbattle_artwork\\tKeep your head above\\t\\t0\\t2\\t4\\nIf_You_Only_Knew\\toh north koreas invading well let me just go and get my fucking clown shoes\\t1363142770.0\\t\\tTrue\\tc8umnyd\\thttp://i.imgur.com/HMPT52I.jpg\\t1a6upj\\t\\t27\\tpsbattle_artwork\\tOh, North Korea's invading? Well, let me just go and get my fucking clown shoes.\\t\\t0\\t2\\t4\\nGetMotivated_SS\\tarticle one of the rest of us are wasting our lives\\t1448287091.0\\tbrainpickings.org\\tTrue\\t3txxj1\\thttps://external-preview.redd.it/r2qrGFfHPGuFWTCeXdjcly6Ew7UlC5yR2urSZuHoW74.jpg?width=320&amp;crop=smart&amp;auto=webp&amp;s=381feada4235ba6e4686f149b41f78007bd7a02e\\t\\t20.0\\t9\\tsubredditsimulator\\t[Article] One of the rest of us are wasting our lives\\t0.91\\t0\\t2\\t3\\nartunitinc\\tthis one\\t1468845225.0\\t\\tTrue\\td5gpz50\\thttp://i.imgur.com/JPJBsz0.jpg\\t4td1bc\\t\\t33\\tpsbattle_artwork\\tthis one?\\t\\t0\\t2\\t4\\nkoi666\\tbored christmas cat\\t1482768667.0\\ti.reddituploads.com\\tTrue\\t5kecl5\\thttps://external-preview.redd.it/_oeEZ21UIWYl9qySzhuhOBihXfL8pHd-q4ThRcoTuTI.jpg?width=320&amp;crop=smart&amp;auto=webp&amp;s=3f81abc8b3013db4e2121338709f2242c20abdcb\\t\\t1.0\\t5\\tphotoshopbattles\\tPsBattle: Bored Christmas cat\\t0.86\\t1\\t0\\t0\\nkluste\\twhere is the fucking backup\\t1476130417.0\\t\\tTrue\\td8mbzus\\thttp://i.imgur.com/4BkCTlU.jpg\\t56tith\\t\\t2\\tpsbattle_artwork\\tWhere is the fucking backup!?!?!\\t\\t0\\t2\\t4\\nal0c-ac0c\\tbeen staring at this one eared cyclops mouse on my train ride through scotland\\t1568824896.0\\timgur.com\\tTrue\\td60g9w\\thttps://external-preview.redd.it/Y3Wr32rXNPudybPwgaFelgcf2rkiyrGSb9jmV8n0nCA.jpg?width=320&amp;crop=smart&amp;auto=webp&amp;s=f99b7f97505aadb40d816857877158668a3b85b5\\t\\t1.0\\t6\\tpareidolia\\tBeen staring at this one eared Cyclops mouse on my train ride through Scotland.\\t0.88\\t0\\t2\\t2\\nall-top-today_SS\\tmy first gaming pc just arrived in brazil i am sick of politicians giving the same thing as donald trumps star on the head\\t1485817095.0\\ti.imgur.com\\tTrue\\t5r48ow\\thttps://external-preview.redd.it/ESPM-tTuK3werLgfWG_wBsw_trUSDNU4bI5s2jVRAgQ.png?width=108&amp;crop=smart&amp;auto=webp&amp;s=6bdf4d9c8ec6b3100f803c1cf0848f49a5aee344\\t\\t20.0\\t31\\tsubredditsimulator\\tMy first gaming pc just arrived in Brazil, I am sick of politicians giving the same thing as Donald Trump's star on the head\\t0.88\\t0\\t2\\t3\\nalsobrante\\tmit engineer browsing incognito mode on early computer\\t1538338579.0\\ti.imgur.com\\tTrue\\t9k9lgj\\thttps://external-preview.redd.it/O20cyX0xei4nvxlKlFepHyl3JcqI3Hm-pN7E2415_U8.png?width=320&amp;crop=smart&amp;auto=webp&amp;s=d16e7d0d23250c36644e90b66e2e5c9fe559dd6d\\t\\t4.0\\t173\\tfakehistoryporn\\tMIT engineer browsing incognito mode on early computer (1983)\\t1.0\\t0\\t2\\t2\\nalloutnow\\ttrump blocks release of democratic memo on russia probe\\t1518225144.0\\treuters.com\\tTrue\\t7wi82s\\thttps://external-preview.redd.it/U5Y07YbILjhjvhQiiaawsr2jdIwnO2Fxd1C_d24xYw4.jpg?width=320&amp;crop=smart&amp;auto=webp&amp;s=9edaf07bda93aa9a9d24ee418fa53470fbd32cc2\\t\\t1.0\\t23\\tusanews\\tTrump blocks release of Democratic memo on Russia probe | Reuters\\t0.83\\t1\\t0\\t0\\nFoxprowl\\tthe city of los angeles at night seen from space\\t1502384619.0\\ti.redd.it\\tTrue\\t6sup0y\\thttps://preview.redd.it/w3y6f99jixez.jpg?width=320&amp;crop=smart&amp;auto=webp&amp;s=69fa24f2862da454d01a71b6639a27ad491fcbc6\\t\\t0.0\\t10\\tmisleadingthumbnails\\tThe city of Los Angeles at night seen from space\\t0.71\\t0\\t2\\t2\\nblackbanhmi\\ta coffee shop in vietnam where you can soak your feet in anklelevel water with swimming fish\\t1537851239.0\\ti.redd.it\\tTrue\\t9ip9m3\\thttps://preview.redd.it/y1grvezrfbo11.jpg?width=320&amp;crop=smart&amp;auto=webp&amp;s=85a8240a4042389f1d53d9046f983993ddabebd8\\t\\t24.0\\t87\\tmildlyinteresting\\tA coffee shop in Vietnam, where you can soak your feet in ankle-level water with swimming fish\\t0.91\\t1\\t0\\t0\\nSimmo5150\\tthe strangers at the mountains of madness\\t1522416520.0\\ti.redd.it\\tTrue\\t88abtq\\thttps://preview.redd.it/f5vy9qi7kwo01.jpg?width=320&amp;crop=smart&amp;auto=webp&amp;s=b819fa1c7096cf275cf65a26dca2e33b64e429aa\\t\\t2.0\\t49\\tfakealbumcovers\\tThe Strangers - At The Mountains Of Madness\\t0.98\\t0\\t2\\t1\\n\\tirafsky district tender compassions x\\t1422020514.0\\ti.imgur.com\\tTrue\\t2tehcz\\thttps://external-preview.redd.it/FZyyQnZrEkI997h31MdaUxrkQf4hlDirrd9uLXIckOc.png?width=320&amp;crop=smart&amp;auto=webp&amp;s=c71ff486b5d749cd93313a3cc14d86cbeae3e2e2\\t\\t1.0\\t7\\tfakealbumcovers\\tIrafsky District - Tender Compassions {1040x1040}\\t1.0\\t0\\t2\\t1\\nroset_ta\\tthis world leader missing from his chair\\t1566852595.0\\ti.redd.it\\tTrue\\tcvtwtq\\thttps://preview.redd.it/poaq69oe7ti31.jpg?width=320&amp;crop=smart&amp;auto=webp&amp;s=ad1bb72a6d731a440bcd33256c53b1504c1540a0\\t\\t14.0\\t30\\tphotoshopbattles\\tPsBattle: This world leader missing from his chair.\\t0.81\\t1\\t0\\t0\\nOxTox\\tmy cat dreaming about his future as a basketballer\\t1374694335.0\\ti.imgur.com\\tTrue\\t1iz5p0\\thttps://external-preview.redd.it/Kt6FWE0rz41rDzlHbrtZjl1nZl4SBnTOBquEJ7DHbyQ.jpg?width=320&amp;crop=smart&amp;auto=webp&amp;s=d69173783daa7e0dba2c9d2b3abfdadc650d5d69\\t\\t6.0\\t3\\tphotoshopbattles\\tMy cat dreaming about his future as a basketballer.\\t0.72\\t1\\t0\\t0\\nChesleaFc\\ther period gone wild\\t1420259337.0\\ti.imgur.com\\tTrue\\t2r69ma\\thttps://external-preview.redd.it/psWSM7m7r_Zuw7dMUg_BBi4BLMor_CRXtEZkrcFyLww.jpg?width=320&amp;crop=smart&amp;auto=webp&amp;s=fb315ebd5bdae391657e48b8fad4bdebe63b8af3\\t\\t5.0\\t63\\tmisleadingthumbnails\\tHer period gone wild\\t0.68\\t0\\t2\\t2\\nMyEmptyBagOfChips\\tthese snails crowded on a tree\\t1557935912.0\\ti.imgur.com\\tTrue\\tbozp05\\thttps://external-preview.redd.it/6O_jT6jvg3Hw1_yIeiJuo1c621jDd2cJYCQcb2JNkmo.jpg?width=320&amp;crop=smart&amp;auto=webp&amp;s=c8acfe313a1737754086f16f07a30124da959b6a\\t\\t5.0\\t21\\tphotoshopbattles\\tPsBattle: These snails crowded on a tree\\t0.8\\t1\\t0\\t0\\nfried_egg_on_toast\\ti was driving and saw this house that had a sperm kite flying outside\\t1564947960.0\\ti.redd.it\\tTrue\\tcm0o0a\\thttps://preview.redd.it/krgpibi8khe31.jpg?width=320&amp;crop=smart&amp;auto=webp&amp;s=18fb1c436e2a825af71a2380646a29297d51affc\\t\\t14.0\\t8\\tmildlyinteresting\\tI was driving and saw this house that had a sperm kite flying outside\\t0.79\\t1\\t0\\t0\\nramong941\\tdont skip leg day\\t1447339550.0\\ti.imgur.com\\tTrue\\t3sjdx0\\thttps://external-preview.redd.it/Y-UA9ez9xIbJ7DW4ee44psznfbgrZYDlp9MCd_aNS6M.jpg?width=320&amp;crop=smart&amp;auto=webp&amp;s=e2fbd201c861263735f76e0ad196907448736152\\t\\t3.0\\t366\\tconfusing_perspective\\tDon't skip leg day\\t0.95\\t0\\t2\\t2\\nApiContraption\\tcutouts\\t1407988458.0\\t\\tTrue\\tcjpqh64\\thttp://i.imgur.com/aQdK3Cd%2ejpg\\t2di8gm\\t\\t1\\tpsbattle_artwork\\tcutouts\\t\\t0\\t2\\t4\\nJohnJTaylor\\tstate has st elk sighting in more than centuries\\t1477570409.0\\tmsn.com\\tTrue\\t59nmlp\\thttps://external-preview.redd.it/GK9zzWdnSgLiJfA0UoZ-6RI4PgInibREyfSNBj_xZHo.jpg?width=320&amp;crop=smart&amp;auto=webp&amp;s=31042c360e26d9aea8294e62ff4ea3636b5ff12f\\t\\t3.0\\t18\\tupliftingnews\\tState has 1st elk sighting in more than 2 centuries\\t0.89\\t1\\t0\\t0\\nWOSBen\\twish you were here\\t1468486664.0\\t\\tTrue\\td5bqhmr\\thttp://i.imgur.com/6dHjTDU.jpg\\t4srok6\\t\\t550\\tpsbattle_artwork\\t\"Wish you were here\"\"\"</td>\n",
              "      <td>0.0</td>\n",
              "    </tr>\n",
              "  </tbody>\n",
              "</table>\n",
              "</div>\n",
              "      <button class=\"colab-df-convert\" onclick=\"convertToInteractive('df-86b21d01-8452-436c-ad15-37b92279150a')\"\n",
              "              title=\"Convert this dataframe to an interactive table.\"\n",
              "              style=\"display:none;\">\n",
              "        \n",
              "  <svg xmlns=\"http://www.w3.org/2000/svg\" height=\"24px\"viewBox=\"0 0 24 24\"\n",
              "       width=\"24px\">\n",
              "    <path d=\"M0 0h24v24H0V0z\" fill=\"none\"/>\n",
              "    <path d=\"M18.56 5.44l.94 2.06.94-2.06 2.06-.94-2.06-.94-.94-2.06-.94 2.06-2.06.94zm-11 1L8.5 8.5l.94-2.06 2.06-.94-2.06-.94L8.5 2.5l-.94 2.06-2.06.94zm10 10l.94 2.06.94-2.06 2.06-.94-2.06-.94-.94-2.06-.94 2.06-2.06.94z\"/><path d=\"M17.41 7.96l-1.37-1.37c-.4-.4-.92-.59-1.43-.59-.52 0-1.04.2-1.43.59L10.3 9.45l-7.72 7.72c-.78.78-.78 2.05 0 2.83L4 21.41c.39.39.9.59 1.41.59.51 0 1.02-.2 1.41-.59l7.78-7.78 2.81-2.81c.8-.78.8-2.07 0-2.86zM5.41 20L4 18.59l7.72-7.72 1.47 1.35L5.41 20z\"/>\n",
              "  </svg>\n",
              "      </button>\n",
              "      \n",
              "  <style>\n",
              "    .colab-df-container {\n",
              "      display:flex;\n",
              "      flex-wrap:wrap;\n",
              "      gap: 12px;\n",
              "    }\n",
              "\n",
              "    .colab-df-convert {\n",
              "      background-color: #E8F0FE;\n",
              "      border: none;\n",
              "      border-radius: 50%;\n",
              "      cursor: pointer;\n",
              "      display: none;\n",
              "      fill: #1967D2;\n",
              "      height: 32px;\n",
              "      padding: 0 0 0 0;\n",
              "      width: 32px;\n",
              "    }\n",
              "\n",
              "    .colab-df-convert:hover {\n",
              "      background-color: #E2EBFA;\n",
              "      box-shadow: 0px 1px 2px rgba(60, 64, 67, 0.3), 0px 1px 3px 1px rgba(60, 64, 67, 0.15);\n",
              "      fill: #174EA6;\n",
              "    }\n",
              "\n",
              "    [theme=dark] .colab-df-convert {\n",
              "      background-color: #3B4455;\n",
              "      fill: #D2E3FC;\n",
              "    }\n",
              "\n",
              "    [theme=dark] .colab-df-convert:hover {\n",
              "      background-color: #434B5C;\n",
              "      box-shadow: 0px 1px 3px 1px rgba(0, 0, 0, 0.15);\n",
              "      filter: drop-shadow(0px 1px 2px rgba(0, 0, 0, 0.3));\n",
              "      fill: #FFFFFF;\n",
              "    }\n",
              "  </style>\n",
              "\n",
              "      <script>\n",
              "        const buttonEl =\n",
              "          document.querySelector('#df-86b21d01-8452-436c-ad15-37b92279150a button.colab-df-convert');\n",
              "        buttonEl.style.display =\n",
              "          google.colab.kernel.accessAllowed ? 'block' : 'none';\n",
              "\n",
              "        async function convertToInteractive(key) {\n",
              "          const element = document.querySelector('#df-86b21d01-8452-436c-ad15-37b92279150a');\n",
              "          const dataTable =\n",
              "            await google.colab.kernel.invokeFunction('convertToInteractive',\n",
              "                                                     [key], {});\n",
              "          if (!dataTable) return;\n",
              "\n",
              "          const docLinkHtml = 'Like what you see? Visit the ' +\n",
              "            '<a target=\"_blank\" href=https://colab.research.google.com/notebooks/data_table.ipynb>data table notebook</a>'\n",
              "            + ' to learn more about interactive tables.';\n",
              "          element.innerHTML = '';\n",
              "          dataTable['output_type'] = 'display_data';\n",
              "          await google.colab.output.renderOutput(dataTable, element);\n",
              "          const docLink = document.createElement('div');\n",
              "          docLink.innerHTML = docLinkHtml;\n",
              "          element.appendChild(docLink);\n",
              "        }\n",
              "      </script>\n",
              "    </div>\n",
              "  </div>\n",
              "  "
            ]
          },
          "metadata": {},
          "execution_count": 17
        }
      ]
    },
    {
      "cell_type": "code",
      "source": [
        "train_data.info()"
      ],
      "metadata": {
        "execution": {
          "iopub.status.busy": "2023-04-02T17:56:02.314698Z",
          "iopub.execute_input": "2023-04-02T17:56:02.315142Z",
          "iopub.status.idle": "2023-04-02T17:56:02.352635Z",
          "shell.execute_reply.started": "2023-04-02T17:56:02.315095Z",
          "shell.execute_reply": "2023-04-02T17:56:02.351248Z"
        },
        "trusted": true,
        "id": "vEBofahJyg9v",
        "outputId": "5fe54009-8906-4473-b921-ac5fc10d3535",
        "colab": {
          "base_uri": "https://localhost:8080/"
        }
      },
      "execution_count": null,
      "outputs": [
        {
          "output_type": "stream",
          "name": "stdout",
          "text": [
            "<class 'pandas.core.frame.DataFrame'>\n",
            "RangeIndex: 60000 entries, 0 to 59999\n",
            "Data columns (total 3 columns):\n",
            " #   Column  Non-Null Count  Dtype \n",
            "---  ------  --------------  ----- \n",
            " 0   id      60000 non-null  int64 \n",
            " 1   text    60000 non-null  object\n",
            " 2   label   60000 non-null  int64 \n",
            "dtypes: int64(2), object(1)\n",
            "memory usage: 1.4+ MB\n"
          ]
        }
      ]
    },
    {
      "cell_type": "markdown",
      "source": [
        "From above we can see that there is no null values"
      ],
      "metadata": {
        "id": "9XblVICtyg9v"
      }
    },
    {
      "cell_type": "markdown",
      "source": [
        "## 2.2 Check Duplication"
      ],
      "metadata": {
        "id": "1n-iMVdpyg9v"
      }
    },
    {
      "cell_type": "code",
      "source": [
        "print(\"Duplicated data:\", train_data.duplicated().sum())"
      ],
      "metadata": {
        "execution": {
          "iopub.status.busy": "2023-04-02T17:56:02.355080Z",
          "iopub.execute_input": "2023-04-02T17:56:02.355895Z",
          "iopub.status.idle": "2023-04-02T17:56:02.407581Z",
          "shell.execute_reply.started": "2023-04-02T17:56:02.355845Z",
          "shell.execute_reply": "2023-04-02T17:56:02.406508Z"
        },
        "trusted": true,
        "id": "Heji0FXmyg9w",
        "outputId": "fe7bff6d-d40f-493a-923f-9f01de75d1e4",
        "colab": {
          "base_uri": "https://localhost:8080/"
        }
      },
      "execution_count": null,
      "outputs": [
        {
          "output_type": "stream",
          "name": "stdout",
          "text": [
            "Duplicated data: 0\n"
          ]
        }
      ]
    },
    {
      "cell_type": "markdown",
      "source": [
        "There is no duplicate values in all the dataset\n"
      ],
      "metadata": {
        "id": "P7e8xUqpyg9w"
      }
    },
    {
      "cell_type": "markdown",
      "source": [
        "## 2.3 Check if data imbalanced "
      ],
      "metadata": {
        "id": "dC9dxPZUyg9w"
      }
    },
    {
      "cell_type": "code",
      "source": [
        "# summarize class distribution\n",
        "myexplode = [0.2, 0 ,0]\n",
        "counter = Counter(train_data['label'])\n",
        "Labels = ['Not Fake','Fake','UNKNOWN']\n",
        "plt.pie(counter.values(),labels = Labels , explode = myexplode, shadow = True)\n",
        "plt.show()"
      ],
      "metadata": {
        "execution": {
          "iopub.status.busy": "2023-04-02T17:56:02.409488Z",
          "iopub.execute_input": "2023-04-02T17:56:02.410404Z",
          "iopub.status.idle": "2023-04-02T17:56:02.631619Z",
          "shell.execute_reply.started": "2023-04-02T17:56:02.410355Z",
          "shell.execute_reply": "2023-04-02T17:56:02.629552Z"
        },
        "trusted": true,
        "id": "NUIPIEdkyg9x",
        "outputId": "4e95f2d6-fb3d-4dcd-9846-efe90b9a3055",
        "colab": {
          "base_uri": "https://localhost:8080/",
          "height": 419
        }
      },
      "execution_count": null,
      "outputs": [
        {
          "output_type": "display_data",
          "data": {
            "text/plain": [
              "<Figure size 640x480 with 1 Axes>"
            ],
            "image/png": "[encoded data removed]"
          },
          "metadata": {}
        }
      ]
    },
    {
      "cell_type": "code",
      "source": [
        "train_data = train_data.drop(train_data[train_data['label'] == 2 ].index)"
      ],
      "metadata": {
        "id": "l9-PgGlNTOvh"
      },
      "execution_count": 16,
      "outputs": []
    },
    {
      "cell_type": "markdown",
      "source": [
        "From the graph we can said the data is almost balance</br>\n",
        "Also  there are unknown label in the data so we dropped it"
      ],
      "metadata": {
        "id": "uxeUiHV7yg9x"
      }
    },
    {
      "cell_type": "markdown",
      "source": [
        "# 3. Pre-Processing The Data"
      ],
      "metadata": {
        "id": "pCud6Iqkyg9x"
      }
    },
    {
      "cell_type": "markdown",
      "source": [
        "**Some of the preprocessing steps are:**\n",
        "* Removing punctuations like . , ! $( ) * % @\n",
        "* Removing URLs\n",
        "* Removing Stop words\n",
        "* Lower casing\n",
        "* Tokenization\n",
        "* Stemming\n",
        "* Lemmatization"
      ],
      "metadata": {
        "id": "lCGsskSKyg9x"
      }
    },
    {
      "cell_type": "code",
      "source": [
        "import nltk\n",
        "nltk.download('wordnet')\n",
        "nltk.download('stopwords')\n",
        "nltk.download('words')\n",
        "nltk.download('stopwords')"
      ],
      "metadata": {
        "execution": {
          "iopub.status.busy": "2023-04-02T19:11:01.388258Z",
          "iopub.execute_input": "2023-04-02T19:11:01.388698Z",
          "iopub.status.idle": "2023-04-02T19:11:01.409742Z",
          "shell.execute_reply.started": "2023-04-02T19:11:01.388651Z",
          "shell.execute_reply": "2023-04-02T19:11:01.408014Z"
        },
        "trusted": true,
        "colab": {
          "base_uri": "https://localhost:8080/"
        },
        "id": "fTLOHQnSyg90",
        "outputId": "4a64a442-582d-44dd-a917-be881c92a796"
      },
      "execution_count": 17,
      "outputs": [
        {
          "output_type": "stream",
          "name": "stderr",
          "text": [
            "[nltk_data] Downloading package wordnet to /root/nltk_data...\n",
            "[nltk_data] Downloading package stopwords to /root/nltk_data...\n",
            "[nltk_data]   Unzipping corpora/stopwords.zip.\n",
            "[nltk_data] Downloading package words to /root/nltk_data...\n",
            "[nltk_data]   Unzipping corpora/words.zip.\n",
            "[nltk_data] Downloading package stopwords to /root/nltk_data...\n",
            "[nltk_data]   Package stopwords is already up-to-date!\n"
          ]
        },
        {
          "output_type": "execute_result",
          "data": {
            "text/plain": [
              "True"
            ]
          },
          "metadata": {},
          "execution_count": 17
        }
      ]
    },
    {
      "cell_type": "markdown",
      "source": [
        "## My Clean Function"
      ],
      "metadata": {
        "id": "ISKBhW3a5y4L"
      }
    },
    {
      "cell_type": "code",
      "source": [
        "df = train_data[:50].copy()"
      ],
      "metadata": {
        "id": "_AhlUqra_UCt"
      },
      "execution_count": 18,
      "outputs": []
    },
    {
      "cell_type": "code",
      "source": [
        "# from translate import Translator\n",
        "# translator= Translator(to_lang=\"English\")\n",
        "# translation = translator.translate(\"Good Morning!\")\n",
        "# print translation"
      ],
      "metadata": {
        "id": "ubkADAl3icXo"
      },
      "execution_count": 19,
      "outputs": []
    },
    {
      "cell_type": "code",
      "source": [
        "emojis = [\"\\U0001F600\", \"\\U0001F64F\", \"\\U0001F300\", \"\\U0001F5FF\", \"\\U0001F680\", \"\\U0001F6FF\", \"\\U0001F1E0\", \"\\U0001F1FF\", \"\\U00002702\", \"\\U000027B0\", \"\\U000024C2\", \"\\U0001F251\"]\n",
        "stopWords = nltk.corpus.stopwords.words(\"english\")\n",
        "token = nltk.tokenize.RegexpTokenizer(r\"\\w+\")\n",
        "lemmatizer = nltk.stem.WordNetLemmatizer()\n",
        "translator= Translator(to_lang=\"English\")\n",
        "nltk.download('punkt')\n",
        "nltk.download('stopwords')\n",
        "\n",
        "stemmer = SnowballStemmer(\"english\")\n",
        "stop_words = set(stopwords.words(\"english\"))\n"
      ],
      "metadata": {
        "execution": {
          "iopub.status.busy": "2023-04-02T19:08:10.390245Z",
          "iopub.status.idle": "2023-04-02T19:08:10.390901Z",
          "shell.execute_reply.started": "2023-04-02T19:08:10.390657Z",
          "shell.execute_reply": "2023-04-02T19:08:10.390679Z"
        },
        "trusted": true,
        "id": "qnlHLeZByg91",
        "colab": {
          "base_uri": "https://localhost:8080/"
        },
        "outputId": "b8125c08-d5c7-4ced-ba25-65993483a672"
      },
      "execution_count": 20,
      "outputs": [
        {
          "output_type": "stream",
          "name": "stderr",
          "text": [
            "[nltk_data] Downloading package punkt to /root/nltk_data...\n",
            "[nltk_data]   Package punkt is already up-to-date!\n",
            "[nltk_data] Downloading package stopwords to /root/nltk_data...\n",
            "[nltk_data]   Package stopwords is already up-to-date!\n"
          ]
        }
      ]
    },
    {
      "cell_type": "markdown",
      "source": [
        "It is necessary to remove non-ASCII characters from text before training an NLP model, because many models are designed to work with ASCII-encoded text, and may not be able to handle non-ASCII characters, such as those from non-Latin scripts."
      ],
      "metadata": {
        "id": "A31UQkuzuvOP"
      }
    },
    {
      "cell_type": "code",
      "source": [
        "def remove_non_ascii(string):\n",
        "    return ''.join(\n",
        "      char for char in string if ord(char) < 128\n",
        "    )\n",
        "\n",
        "words = set(nltk.corpus.words.words())"
      ],
      "metadata": {
        "id": "_fFQf0WSPxx4"
      },
      "execution_count": 21,
      "outputs": []
    },
    {
      "cell_type": "markdown",
      "source": [
        "**Stemming** </br></br>\n",
        "It is the process of reducing infected words to their stem. For instance, in figure , stemming with replace words “history” and “historical” with “histori”. Similarly, for the words finally and final.\n",
        "\n",
        "Stemming is the process of removing the last few characters of a given word, to obtain a shorter form, even if that form doesn’t have any meaning.</br>\n",
        "![image.png](data:image/png;base64,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)\n",
        "\n",
        "</br>**Why we need Stemming?**\n",
        "\n",
        "In NLP use cases such as sentiment analysis, spam classification, restaurant reviews etc., getting base word is important to know whether the word is positive or negative. Stemming is used to get that base word."
      ],
      "metadata": {
        "id": "DGiMdeJdxXNf"
      }
    },
    {
      "cell_type": "markdown",
      "source": [
        "**Lemmatization**</br></br>\n",
        "The purpose of lemmatization is same as that of stemming but overcomes the drawbacks of stemming. In stemming, for some words, it may not give may not give meaningful representation such as “Histori”. Here, lemmatization comes into picture as it gives meaningful word.\n",
        "\n",
        "Lemmatization takes more time as compared to stemming because it finds meaningful word/ representation. Stemming just needs to get a base word and therefore takes less time.\n",
        "\n",
        "Stemming has its application in Sentiment Analysis while Lemmatization has its application in Chatbots, human-answering."
      ],
      "metadata": {
        "id": "t-_bq1p7xR-o"
      }
    },
    {
      "cell_type": "markdown",
      "source": [
        "**Stemming v/s Lemmatization**\n",
        "\n",
        "\n",
        "\n",
        "|Stemming|Lemmatization|\n",
        "|----------------------------------------------------|-----------------------|\n",
        "|Stemming is a process that stems or removes last few characters from a word, often leading to incorrect meanings and spelling.|Lemmatization considers the context and converts the word to its meaningful base form, which is called Lemma.|\n",
        "|---|---|\n",
        "|For instance, stemming the word ‘Caring‘ would return ‘Car‘.|For instance, lemmatizing the word ‘Caring‘ would return ‘Care‘.|\n",
        "|---|---|\n",
        "|Stemming is used in case of large dataset where performance is an issue.|\tLemmatization is computationally expensive since it involves look-up tables and what not.|\n",
        "|---|---|"
      ],
      "metadata": {
        "id": "svZmVLgFvEbf"
      }
    },
    {
      "cell_type": "code",
      "source": [
        "\n",
        "def cleanerFUN(sentence,lamitize = True):\n",
        "  RE_TAGS = re.compile(r\"<[^>]+>\")\n",
        "  sentence = re.sub(RE_TAGS, \" \", sentence) # To Delete Tags \n",
        "\n",
        "  #IN These step ew need to replace /t with space \n",
        "  # sentence = sentence.replace(\"\\t\", \" \")\n",
        "  # sentence = sentence.replace(\"\\n\", \" \")\n",
        "  RE_WSPACE = re.compile(r\"\\s+\", re.IGNORECASE)\n",
        "  sentence = re.sub(RE_WSPACE, \" \", sentence)  # To Delete /t and /n  \n",
        "\n",
        "  # sentence = translator.translate(sentence)\n",
        "  # Remove Punctiotion \n",
        "  sentence = sentence.translate(str.maketrans('', '', string.punctuation))\n",
        "  # Use lower case  function \n",
        " # sentence=\"\".join(sentence).lower().split(\" \")\n",
        "  sentence = word_tokenize(sentence)\n",
        "  sentence = [word.lower() for word in sentence]\n",
        "# Remove Emojies from the sentence \n",
        "  # sentence = [word for word in sentence if word not in emojis]\n",
        "\n",
        "# Here we will remove URL\n",
        "  # sentence = [word for word in sentence if \n",
        "  #               \"http\" not in word and \n",
        "  #               \"https\" not in word and \n",
        "  #               \"@\" not in word]\n",
        "              \n",
        "# Remove non-ASCII characters\n",
        "  sentence = [remove_non_ascii(word) for word in sentence ]\n",
        "  \n",
        "# Remove Non English Words\n",
        "  # sentence = [w for w in sentence \\\n",
        "  #       if w.lower() in words or not w.isalpha()]\n",
        "\n",
        "#Solve contrast in the sentence \n",
        "\n",
        "# Contractions are shortened forms of words or phrases that are commonly used in informal speech and writing.\n",
        "#  For example, \"don't\" is a contraction of \"do not\", and \"it's\" is a contraction of \"it is\". However,\n",
        "#  many NLP tasks require text data to be in standard English grammar and usage,\n",
        "#  which means that contractions should be expanded to their full form.\n",
        "\n",
        "  sentence=[contractions.fix(word) for word in sentence]\n",
        "  \n",
        "  # #Remove Stop Words\n",
        "  sentence =[word for word in sentence if word not in stopWords]\n",
        "\n",
        "  # #Here we will remove any digit \n",
        "  sentence = [word for word in sentence if not re.match(r\"\\S*\\d+\\S*\", word)]\n",
        "\n",
        "  # #Use tokonization \n",
        "  # sentence=token.tokenize(sentence)\n",
        "  \n",
        "\n",
        "\n",
        "\n",
        "# The strip() method is a string method in Python that removes any leading or trailing whitespace characters (i.e., spaces, tabs, and newlines) from a string. \n",
        "  sentence = [word.strip() for word in sentence]\n",
        "  \n",
        "# the next code is to replace repeated characters in a word with only two occurrences of that character.but only if it is not at the end of a word. \n",
        "  # sentence=[re.sub(r\"(.)\\1{2,}\\B\", r\"\\1\\1\", word) for word in sentence]******************\n",
        "# the next code is to replace repeated characters in a word with only two occurrences of that character.regardless of whether it is at the end of a word or not. \n",
        "  sentence=[re.sub(r\"(.)\\1{2,}\\b\", r\"\\1\\1\", word) for word in sentence]\n",
        "\n",
        "  sentence=[word for word in sentence if len(word) > 1]\n",
        "#Use Lamitaization \n",
        "# Lemmatization is the process of reducing words to their base or dictionary form (i.e., the lemma), \n",
        "# which can help to group together words with similar meanings and reduce the dimensionality of the feature space in NLP tasks.\n",
        "  \n",
        "  if lamitize:\n",
        "        sentence = [lemmatizer.lemmatize(w) for w in sentence]\n",
        "  else:\n",
        "    sentence =[stemmer.stem(word) for word in sentence if word not in stop_words]\n",
        "        \n",
        "\n",
        "  # \n",
        "\n",
        "  sentence=\" \".join([word for word in sentence if len(word) < 30])\n",
        "\n",
        "\n",
        "  return sentence"
      ],
      "metadata": {
        "execution": {
          "iopub.status.busy": "2023-04-02T19:13:19.647412Z",
          "iopub.execute_input": "2023-04-02T19:13:19.647841Z",
          "iopub.status.idle": "2023-04-02T19:13:19.656661Z",
          "shell.execute_reply.started": "2023-04-02T19:13:19.647802Z",
          "shell.execute_reply": "2023-04-02T19:13:19.655558Z"
        },
        "trusted": true,
        "id": "pGWD5qiJyg91"
      },
      "execution_count": 22,
      "outputs": []
    },
    {
      "cell_type": "code",
      "source": [
        "df = train_data[:50].copy()\n",
        "df['clean_msg2']= df['text'].apply(lambda x: cleanerFUN(x))\n",
        "df['clean_msg2'].head(1) "
      ],
      "metadata": {
        "execution": {
          "iopub.status.busy": "2023-04-02T19:13:19.970899Z",
          "iopub.execute_input": "2023-04-02T19:13:19.971286Z",
          "iopub.status.idle": "2023-04-02T19:14:33.437072Z",
          "shell.execute_reply.started": "2023-04-02T19:13:19.971254Z",
          "shell.execute_reply": "2023-04-02T19:14:33.435871Z"
        },
        "trusted": true,
        "colab": {
          "base_uri": "https://localhost:8080/"
        },
        "id": "2T8rfcvyyg91",
        "outputId": "2e59cd57-fd50-44f4-a838-467010225156"
      },
      "execution_count": 23,
      "outputs": [
        {
          "output_type": "execute_result",
          "data": {
            "text/plain": [
              "0    group friend began volunteer homeless shelter neighbor protested seeing another person also need...\n",
              "Name: clean_msg2, dtype: object"
            ]
          },
          "metadata": {},
          "execution_count": 23
        }
      ]
    },
    {
      "cell_type": "markdown",
      "source": [
        "## Cleaner V2"
      ],
      "metadata": {
        "id": "fsAWX1HTyxFO"
      }
    },
    {
      "cell_type": "code",
      "source": [
        "def cleaner(DF, labeled=True, stopWrds=True, Lemmatize=True, dropDigits=True, dropSinLet=True, c=\"text\"):\n",
        "    fake = []\n",
        "    real = []\n",
        "    data = []\n",
        "    col = np.where(DF.columns == c)[0][0]\n",
        "    \n",
        "    for i, row in enumerate(DF.iterrows()):\n",
        "\n",
        "        sentence = row[1][col]\n",
        "        sentence = sentence.lower().split(\" \")\n",
        "        sentence = [word for word in sentence if word not in emojis]\n",
        "        sentence = [word for word in sentence if \n",
        "                  \"http\" not in word and \n",
        "                  \"https\" not in word and \n",
        "                  \"@\" not in word]\n",
        "        sentence=[contractions.fix(word) for word in sentence]\n",
        "        sentence=\" \".join(sentence).lower()\n",
        "        sentence=token.tokenize(sentence)\n",
        "        if stopWrds == True:\n",
        "            sentence =[word for word in sentence if word not in stopWords]\n",
        "        if Lemmatize == True:\n",
        "            sentence= [lemmatizer.lemmatize(word) for word in sentence]\n",
        "        sentence = [word.strip() for word in sentence]\n",
        "        if dropDigits == True:\n",
        "            sentence = [word for word in sentence if not re.match(r\"\\S*\\d+\\S*\", word)]\n",
        "        sentence = [word for word in sentence if \n",
        "                  word != \"rt\" and \n",
        "                  word != \"û_\" and \n",
        "                  word != \"amp\" and \n",
        "                  word != \"ûª\" and\n",
        "                  word != \"ûªs\" and\n",
        "                  word != \"ûò\" and\n",
        "                  word != \"åè\" and\n",
        "                  word != \"ìñ1\"] \n",
        "        sentence=[re.sub(r\"(.)\\1{2,}\\B\", r\"\\1\\1\", word) for word in sentence]\n",
        "        sentence=[re.sub(r\"(.)\\1{2,}\\b\", r\"\\1\\1\", word) for word in sentence]\n",
        "        if dropSinLet == True:\n",
        "            sentence=[word for word in sentence if len(word) > 1]\n",
        "        sentence=[word for word in sentence if len(word) < 30]\n",
        "        \n",
        "        if labeled == True:\n",
        "            if row[1][4] == 1:\n",
        "                fake.extend(sentence)\n",
        "            else:\n",
        "                real.extend(sentence)\n",
        "\n",
        "        data.append(\" \".join(sentence))\n",
        "        \n",
        "    return data, fake, real\n"
      ],
      "metadata": {
        "execution": {
          "iopub.status.busy": "2023-04-02T19:14:43.216465Z",
          "iopub.execute_input": "2023-04-02T19:14:43.217388Z",
          "iopub.status.idle": "2023-04-02T19:14:43.232751Z",
          "shell.execute_reply.started": "2023-04-02T19:14:43.217345Z",
          "shell.execute_reply": "2023-04-02T19:14:43.231653Z"
        },
        "trusted": true,
        "id": "R_8myFMAyg91"
      },
      "execution_count": 24,
      "outputs": []
    },
    {
      "cell_type": "code",
      "source": [
        "te, e, e = cleaner(train_data, labeled=False)\n",
        "te[0]"
      ],
      "metadata": {
        "execution": {
          "iopub.status.busy": "2023-04-02T19:45:30.167906Z",
          "iopub.execute_input": "2023-04-02T19:45:30.168322Z",
          "iopub.status.idle": "2023-04-02T19:45:30.239594Z",
          "shell.execute_reply.started": "2023-04-02T19:45:30.168282Z",
          "shell.execute_reply": "2023-04-02T19:45:30.237810Z"
        },
        "trusted": true,
        "id": "wI0yqx4qyg92",
        "colab": {
          "base_uri": "https://localhost:8080/",
          "height": 140
        },
        "outputId": "dbf699a6-069e-4774-c89a-95cd418e3d07"
      },
      "execution_count": 25,
      "outputs": [
        {
          "output_type": "execute_result",
          "data": {
            "text/plain": [
              "'group friend began volunteer homeless shelter neighbor protested seeing another person who鈥檚 also need naturally like 鈥業 want help person neomegaryumkii denmark trolled trump bus watch happens trolled trump bus watch happens move back wheel look like eye spin crazily bus move saved click short video go slow motion video mirror comment since archive removed atbthefirst young man need feel man need feel beosronlto onion ring onion ring chimp food_ss eat image eat image description cardboardsoyuz arizona man purchase home discovers underground hatch man purchase home discovers underground hatch backyard lead old fall shelter pretty good shape couple can supply click harry_butz rpics award spell pic award spell penis billarastg time traveller assassin attemps take obama becomes president traveller assassin attemps take obama becomes president circa state fighter reenter ancient palmyra state fighter enter ancient palmyra syria raidyrafy top golf red line warning sign many people gotten golf red line warning sign many people gotten hurt budrickbundy nfls rating slide mainly fueled white viewer younger nfl rating slide mainly fueled white viewer younger viewer bbizzess meryl streep streep marries article say marrying robert redford apicontraption discussion askesl squash ingres grahamsaysno cactus cactus man ishitpoopsalot roommate stab debate iphone stab debate iphone samsung slithek got rid rid independence independence philadelphia colorized cloud formation sunrise look like fire cloud formation sunrise look like fire tornado chispy obligatory faceswap excited dog ratchetraccoon photograph first interracial family pennsylvania interracial marriage legalized photograph first interracial family pennsylvania interracial marriage legalized circa mrtenpence local bus usb charger every local bus usb charger every seat lucastwaddle fact people keep buying stuff ace harware work fact people keep buying stuff ace harware work texas originalstix huge tennis racket mini tennis racket mini federer cigs mexico photo dead body also picked pharmacy selling secretly cigs mexico photo dead body also picked pharmacy selling secretly lol fat man bomb dropped man bomb dropped nagasaki colorized viperdream death close british soldier last stand battle el soldier last stand battle el alamein colorized wafflesmoof year old year old puppy raced another plane flight back europe raced another plane flight back europe day texas woman us coupon clipping skill help hurricane woman us coupon clipping skill help hurricane might might nsfw ene_due_rabe deep inside inside different rizilus big head chibucks everyone look look yummy guy adult vr festival tokyo guy adult vr festival tokyo seal pup say hello post floor seal pup say hello post floor elon want elon want see thecreativenick blue turtle dirty blue turtle dirty causeofb japanese depiction american depiction american warship little girl white dress looking girl white dress looking window keep head head if_you_only_knew oh north korea invading well let go get fucking clown north korea invading well let go get fucking clown shoe getmotivated_ss article one rest wasting one rest wasting life artunitinc one bored christmas bored christmas cat kluste fucking fucking backup staring one eared cyclops mouse train ride staring one eared cyclops mouse train ride scotland top today_ss first gaming pc arrived brazil sick politician giving thing donald trump star first gaming pc arrived brazil sick politician giving thing donald trump star head alsobrante mit engineer browsing incognito mode early engineer browsing incognito mode early computer alloutnow trump block release democratic memo russia block release democratic memo russia probe reuters foxprowl city los angeles night seen city los angeles night seen space blackbanhmi coffee shop vietnam soak foot anklelevel water swimming coffee shop vietnam soak foot ankle level water swimming fish stranger mountain stranger mountain madness irafsky district tender compassion district tender compassion roset_ta world leader missing world leader missing chair oxtox cat dreaming future cat dreaming future basketballer chesleafc period gone period gone wild myemptybagofchips snail crowded snail crowded tree fried_egg_on_toast driving saw house sperm kite flying driving saw house sperm kite flying outside skip leg skip leg st elk sighting elk sighting century wosben wish'"
            ],
            "application/vnd.google.colaboratory.intrinsic+json": {
              "type": "string"
            }
          },
          "metadata": {},
          "execution_count": 25
        }
      ]
    },
    {
      "cell_type": "markdown",
      "source": [
        "## Clean Function V3"
      ],
      "metadata": {
        "id": "l8HgSlJdkFBL"
      }
    },
    {
      "cell_type": "code",
      "source": [
        "nltk.download('punkt')\n",
        "nltk.download('stopwords')\n",
        "\n",
        "stemmer = SnowballStemmer(\"english\")\n",
        "stop_words = set(stopwords.words(\"english\"))\n",
        "lemmatizer = WordNetLemmatizer()\n",
        "\n",
        "def clean_text(text,lamitize = True, for_embedding=False):\n",
        "    \"\"\" steps:\n",
        "        - remove any html tags (< /br> often found)\n",
        "        - Keep only ASCII + European Chars and whitespace, no digits\n",
        "        - remove single letter chars\n",
        "        - convert all whitespaces (tabs etc.) to single wspace\n",
        "        if not for embedding (but e.g. tdf-idf):\n",
        "        - all lowercase\n",
        "        - remove stopwords, punctuation and stemm\n",
        "    \"\"\"\n",
        "    RE_WSPACE = re.compile(r\"\\s+\", re.IGNORECASE)\n",
        "    RE_TAGS = re.compile(r\"<[^>]+>\")\n",
        "    RE_ASCII = re.compile(r\"[^A-Za-zÀ-ž ]\", re.IGNORECASE)\n",
        "    RE_SINGLECHAR = re.compile(r\"\\b[A-Za-zÀ-ž]\\b\", re.IGNORECASE)\n",
        "    if for_embedding:\n",
        "        # Keep punctuation\n",
        "        RE_ASCII = re.compile(r\"[^A-Za-zÀ-ž,.!? ]\", re.IGNORECASE)\n",
        "        RE_SINGLECHAR = re.compile(r\"\\b[A-Za-zÀ-ž,.!?]\\b\", re.IGNORECASE)\n",
        "\n",
        "    text = re.sub(RE_TAGS, \" \", text) # To Delete Tags \n",
        "    text = re.sub(RE_ASCII, \" \", text) #To delete un ascii characters\n",
        "    text = re.sub(RE_SINGLECHAR, \" \", text) # To delete single charachters\n",
        "    text = re.sub(RE_WSPACE, \" \", text)  # To Delete /t and /n  \n",
        "\n",
        "    word_tokens = word_tokenize(text)\n",
        "    words_tokens_lower = [word.lower() for word in word_tokens]\n",
        "\n",
        "    if for_embedding:\n",
        "        # no stemming, lowering and punctuation / stop words removal\n",
        "        words_filtered = word_tokens\n",
        "    else:\n",
        "      if lamitize:\n",
        "        words_filtered = [lemmatizer.lemmatize(word) for word in words_tokens_lower if word not in stop_words]\n",
        "      else:\n",
        "        words_filtered = [stemmer.stem(word) for word in words_tokens_lower if word not in stop_words]\n",
        "        \n",
        "\n",
        "    text_clean = \" \".join(words_filtered)\n",
        "    return text_clean"
      ],
      "metadata": {
        "colab": {
          "base_uri": "https://localhost:8080/"
        },
        "id": "fisyxEfnkKTK",
        "outputId": "fe437b6e-5706-468f-a1cb-c7e179a824d5"
      },
      "execution_count": 26,
      "outputs": [
        {
          "output_type": "stream",
          "name": "stderr",
          "text": [
            "[nltk_data] Downloading package punkt to /root/nltk_data...\n",
            "[nltk_data]   Package punkt is already up-to-date!\n",
            "[nltk_data] Downloading package stopwords to /root/nltk_data...\n",
            "[nltk_data]   Package stopwords is already up-to-date!\n"
          ]
        }
      ]
    },
    {
      "cell_type": "code",
      "source": [
        "df = train_data[:50].copy()\n",
        "df['clean_msg3'] =  df['text'].apply(lambda x: clean_text(x))\n",
        "df['clean_msg3'].head(1) "
      ],
      "metadata": {
        "colab": {
          "base_uri": "https://localhost:8080/"
        },
        "id": "hwG4QeT4jsca",
        "outputId": "6bb3afe7-2193-4fbb-f1d6-168e9a8c18c3"
      },
      "execution_count": 27,
      "outputs": [
        {
          "output_type": "execute_result",
          "data": {
            "text/plain": [
              "0    group friend began volunteer homeless shelter neighbor protested seeing another person also need...\n",
              "Name: clean_msg3, dtype: object"
            ]
          },
          "metadata": {},
          "execution_count": 27
        }
      ]
    },
    {
      "cell_type": "markdown",
      "source": [
        "# Model"
      ],
      "metadata": {
        "id": "CojRCc-Phara"
      }
    },
    {
      "cell_type": "code",
      "source": [
        "data_clean = train_data.copy()\n",
        "#First method of cleaning\n",
        "# data_clean['comment_clean']= data_clean['text'].apply(lambda x: cleanerFUN(x))\n",
        "#Second method of cleaning\n",
        "# data_clean['comment_clean'], e, e = cleaner(train_data, labeled=False)\n",
        "#Third Method of cleaning\n",
        "data_clean[\"comment_clean\"] = data_clean['text'].apply(lambda x: clean_text(x))\n"
      ],
      "metadata": {
        "id": "gFZIntsVkq9i"
      },
      "execution_count": 28,
      "outputs": []
    },
    {
      "cell_type": "markdown",
      "source": [
        "## Feature creation with TF-IDF\n"
      ],
      "metadata": {
        "id": "VenfV_yvhYXW"
      }
    },
    {
      "cell_type": "markdown",
      "source": [
        "**TF-IDF (Term Frequency-Inverse Document Frequency)**</br></br>\n",
        "Is a popular technique used in natural language processing (NLP) for text feature extraction. The TF-IDF score reflects the importance of a term in a document or a corpus, and is calculated by multiplying the term frequency (TF) and the inverse document frequency (IDF) of the term.</br>\n",
        "\n",
        "The TfidfVectorizer in scikit-learn is a tool that implements the TF-IDF algorithm for text feature extraction. It takes a collection of raw text documents as input and returns a matrix of TF-IDF features. Each feature in the resulting matrix represents a unique word or term in the input text, and the value of the feature is its corresponding TF-IDF score.</br>\n",
        "\n",
        "**The TfidfVectorizer has several advantages:**</br>\n",
        "\n",
        "1. It assigns higher weights to words that are more relevant to a document, by scaling the term frequency by the inverse document frequency.\n",
        "\n",
        "2. It can handle large vocabularies and sparse matrices efficiently, making it suitable for working with large text datasets.\n",
        "\n",
        "3. It can be customized to include various preprocessing steps such as stemming, stop-word removal, and n-gram generation.\n",
        "\n",
        "4. It can be used as input to various machine learning algorithms, such as logistic regression, Naive Bayes, and SVM, for text classification or clustering tasks."
      ],
      "metadata": {
        "id": "w0rgseTCyN4f"
      }
    },
    {
      "cell_type": "code",
      "source": [
        "\"\"\"\n",
        "Compute unique word vector with frequencies\n",
        "exclude very uncommon (<10 obsv.) and common (>=30%) words\n",
        "use pairs of two words (ngram)\n",
        "\"\"\"\n",
        "# The analyzer=\"word\" parameter tells the vectorizer to treat each word as a separate feature.\n",
        "# The max_df=0.3 parameter specifies that words that occur in more than 30% of the documents should be excluded from the vocabulary\n",
        "# The min_df=10 parameter specifies that words that occur in fewer than 10 documents should be excluded from the vocabulary.\n",
        "# The ngram_range=(1, 2) parameter specifies that both unigrams and bigrams should be included as features.\n",
        "# he norm=\"l2\" parameter specifies that the feature vectors should be normalized using the L2 norm.\n",
        "\n",
        "vectorizer = TfidfVectorizer(\n",
        "    analyzer=\"word\", max_df=0.3, min_df=10, ngram_range=(1, 2), norm=\"l2\"\n",
        ")\n",
        "vectorizer.fit(data_clean['comment_clean'])"
      ],
      "metadata": {
        "colab": {
          "base_uri": "https://localhost:8080/",
          "height": 75
        },
        "id": "Bs4F_BVAhU9Y",
        "outputId": "7ecf6c73-c401-4cf4-d00c-4253db4625b8"
      },
      "execution_count": null,
      "outputs": [
        {
          "output_type": "execute_result",
          "data": {
            "text/plain": [
              "TfidfVectorizer(max_df=0.3, min_df=10, ngram_range=(1, 2))"
            ],
            "text/html": [
              "<style>#sk-container-id-1 {color: black;background-color: white;}#sk-container-id-1 pre{padding: 0;}#sk-container-id-1 div.sk-toggleable {background-color: white;}#sk-container-id-1 label.sk-toggleable__label {cursor: pointer;display: block;width: 100%;margin-bottom: 0;padding: 0.3em;box-sizing: border-box;text-align: center;}#sk-container-id-1 label.sk-toggleable__label-arrow:before {content: \"▸\";float: left;margin-right: 0.25em;color: #696969;}#sk-container-id-1 label.sk-toggleable__label-arrow:hover:before {color: black;}#sk-container-id-1 div.sk-estimator:hover label.sk-toggleable__label-arrow:before {color: black;}#sk-container-id-1 div.sk-toggleable__content {max-height: 0;max-width: 0;overflow: hidden;text-align: left;background-color: #f0f8ff;}#sk-container-id-1 div.sk-toggleable__content pre {margin: 0.2em;color: black;border-radius: 0.25em;background-color: #f0f8ff;}#sk-container-id-1 input.sk-toggleable__control:checked~div.sk-toggleable__content {max-height: 200px;max-width: 100%;overflow: auto;}#sk-container-id-1 input.sk-toggleable__control:checked~label.sk-toggleable__label-arrow:before {content: \"▾\";}#sk-container-id-1 div.sk-estimator input.sk-toggleable__control:checked~label.sk-toggleable__label {background-color: #d4ebff;}#sk-container-id-1 div.sk-label input.sk-toggleable__control:checked~label.sk-toggleable__label {background-color: #d4ebff;}#sk-container-id-1 input.sk-hidden--visually {border: 0;clip: rect(1px 1px 1px 1px);clip: rect(1px, 1px, 1px, 1px);height: 1px;margin: -1px;overflow: hidden;padding: 0;position: absolute;width: 1px;}#sk-container-id-1 div.sk-estimator {font-family: monospace;background-color: #f0f8ff;border: 1px dotted black;border-radius: 0.25em;box-sizing: border-box;margin-bottom: 0.5em;}#sk-container-id-1 div.sk-estimator:hover {background-color: #d4ebff;}#sk-container-id-1 div.sk-parallel-item::after {content: \"\";width: 100%;border-bottom: 1px solid gray;flex-grow: 1;}#sk-container-id-1 div.sk-label:hover label.sk-toggleable__label {background-color: #d4ebff;}#sk-container-id-1 div.sk-serial::before {content: \"\";position: absolute;border-left: 1px solid gray;box-sizing: border-box;top: 0;bottom: 0;left: 50%;z-index: 0;}#sk-container-id-1 div.sk-serial {display: flex;flex-direction: column;align-items: center;background-color: white;padding-right: 0.2em;padding-left: 0.2em;position: relative;}#sk-container-id-1 div.sk-item {position: relative;z-index: 1;}#sk-container-id-1 div.sk-parallel {display: flex;align-items: stretch;justify-content: center;background-color: white;position: relative;}#sk-container-id-1 div.sk-item::before, #sk-container-id-1 div.sk-parallel-item::before {content: \"\";position: absolute;border-left: 1px solid gray;box-sizing: border-box;top: 0;bottom: 0;left: 50%;z-index: -1;}#sk-container-id-1 div.sk-parallel-item {display: flex;flex-direction: column;z-index: 1;position: relative;background-color: white;}#sk-container-id-1 div.sk-parallel-item:first-child::after {align-self: flex-end;width: 50%;}#sk-container-id-1 div.sk-parallel-item:last-child::after {align-self: flex-start;width: 50%;}#sk-container-id-1 div.sk-parallel-item:only-child::after {width: 0;}#sk-container-id-1 div.sk-dashed-wrapped {border: 1px dashed gray;margin: 0 0.4em 0.5em 0.4em;box-sizing: border-box;padding-bottom: 0.4em;background-color: white;}#sk-container-id-1 div.sk-label label {font-family: monospace;font-weight: bold;display: inline-block;line-height: 1.2em;}#sk-container-id-1 div.sk-label-container {text-align: center;}#sk-container-id-1 div.sk-container {/* jupyter's `normalize.less` sets `[hidden] { display: none; }` but bootstrap.min.css set `[hidden] { display: none !important; }` so we also need the `!important` here to be able to override the default hidden behavior on the sphinx rendered scikit-learn.org. See: https://github.com/scikit-learn/scikit-learn/issues/21755 */display: inline-block !important;position: relative;}#sk-container-id-1 div.sk-text-repr-fallback {display: none;}</style><div id=\"sk-container-id-1\" class=\"sk-top-container\"><div class=\"sk-text-repr-fallback\"><pre>TfidfVectorizer(max_df=0.3, min_df=10, ngram_range=(1, 2))</pre><b>In a Jupyter environment, please rerun this cell to show the HTML representation or trust the notebook. <br />On GitHub, the HTML representation is unable to render, please try loading this page with nbviewer.org.</b></div><div class=\"sk-container\" hidden><div class=\"sk-item\"><div class=\"sk-estimator sk-toggleable\"><input class=\"sk-toggleable__control sk-hidden--visually\" id=\"sk-estimator-id-1\" type=\"checkbox\" checked><label for=\"sk-estimator-id-1\" class=\"sk-toggleable__label sk-toggleable__label-arrow\">TfidfVectorizer</label><div class=\"sk-toggleable__content\"><pre>TfidfVectorizer(max_df=0.3, min_df=10, ngram_range=(1, 2))</pre></div></div></div></div></div>"
            ]
          },
          "metadata": {},
          "execution_count": 32
        }
      ]
    },
    {
      "cell_type": "code",
      "source": [
        "# Vector representation of vocabulary\n",
        "word_vector = pd.Series(vectorizer.vocabulary_).sample(5, random_state=1)\n",
        "print(f\"Unique word (ngram) vector extract:\\n\\n {word_vector}\")"
      ],
      "metadata": {
        "colab": {
          "base_uri": "https://localhost:8080/"
        },
        "id": "mY5cbynTibGM",
        "outputId": "432a1a27-7bfb-45ab-840a-cfbc6a1fbef2"
      },
      "execution_count": null,
      "outputs": [
        {
          "output_type": "stream",
          "name": "stdout",
          "text": [
            "Unique word (ngram) vector extract:\n",
            "\n",
            " sunset          8596\n",
            "falcon          3021\n",
            "hoop            4105\n",
            "breakthrough    1056\n",
            "vaccination     9388\n",
            "dtype: int64\n"
          ]
        }
      ]
    },
    {
      "cell_type": "markdown",
      "source": [
        "## Modeling"
      ],
      "metadata": {
        "id": "LJazFemxi1P7"
      }
    },
    {
      "cell_type": "markdown",
      "source": [
        "We will splite our train data into train and test to evaluate our models before use them on testing dataset "
      ],
      "metadata": {
        "id": "Mg1CsgjSIWBb"
      }
    },
    {
      "cell_type": "code",
      "source": [
        "# Sample data - 25% of data to test set\n",
        "train, test = train_test_split(data_clean, random_state=1, test_size=0.1, shuffle=True)\n",
        "\n",
        "X_train = train[\"comment_clean\"]\n",
        "Y_train = train[\"label\"]\n",
        "X_test = test[\"comment_clean\"]\n",
        "Y_test = test[\"label\"]\n",
        "print(X_train.shape)\n",
        "print(X_test.shape)"
      ],
      "metadata": {
        "colab": {
          "base_uri": "https://localhost:8080/"
        },
        "id": "MbmbqB2yirvQ",
        "outputId": "3925b6cb-2de7-472c-87f6-8fce5baa2d05"
      },
      "execution_count": null,
      "outputs": [
        {
          "output_type": "stream",
          "name": "stdout",
          "text": [
            "(54000,)\n",
            "(6000,)\n"
          ]
        }
      ]
    },
    {
      "cell_type": "code",
      "source": [
        "# transform each sentence to numeric vector with tf-idf value as elements\n",
        "X_train_vec = vectorizer.transform(X_train)\n",
        "X_test_vec = vectorizer.transform(X_test)\n",
        "X_train_vec.get_shape()"
      ],
      "metadata": {
        "colab": {
          "base_uri": "https://localhost:8080/"
        },
        "id": "aRoUYyFui0Ba",
        "outputId": "0f002161-80a1-4915-d476-aaaf25788e41"
      },
      "execution_count": null,
      "outputs": [
        {
          "output_type": "execute_result",
          "data": {
            "text/plain": [
              "(54000, 10960)"
            ]
          },
          "metadata": {},
          "execution_count": 33
        }
      ]
    },
    {
      "cell_type": "code",
      "source": [
        "# Compare original comment text with its numeric vector representation\n",
        "print(f\"Original sentence:\\n{X_train[3:4].values}\\n\")\n",
        "# Feature Matrix\n",
        "features = pd.DataFrame(\n",
        "    X_train_vec[3:4].toarray(), columns=vectorizer.get_feature_names_out()\n",
        ")\n",
        "nonempty_feat = features.loc[:, (features != 0).any(axis=0)]\n",
        "print(f\"Vector representation of sentence:\\n {nonempty_feat}\")"
      ],
      "metadata": {
        "colab": {
          "base_uri": "https://localhost:8080/"
        },
        "id": "IdnPMcNvi9xd",
        "outputId": "b59d797e-7e41-4fe9-f079-74ef81e430e3"
      },
      "execution_count": null,
      "outputs": [
        {
          "output_type": "stream",
          "name": "stdout",
          "text": [
            "Original sentence:\n",
            "['glass bottle ground long grass plant grown dirt inside']\n",
            "\n",
            "Vector representation of sentence:\n",
            "      bottle      dirt     glass     grass    ground     grown    inside  \\\n",
            "0  0.302713  0.388503  0.312368  0.382928  0.330199  0.386844  0.280549   \n",
            "\n",
            "       long     plant  \n",
            "0  0.282442  0.309939  \n"
          ]
        }
      ]
    },
    {
      "cell_type": "markdown",
      "source": [
        "Initially, we will attempt to train four different models using our training data, and then assess their performance using a validation dataset. This will enable us to determine which model is the most effective prior to utilizing it on our testing dataset."
      ],
      "metadata": {
        "id": "tMKHbxXCH3sN"
      }
    },
    {
      "cell_type": "code",
      "source": [
        "# models to test\n",
        "classifiers = [\n",
        "    LogisticRegression(solver=\"sag\", random_state=1),\n",
        "    # LinearSVC(random_state=1),\n",
        "    SklearnClassifier(SVC(kernel='linear',probability=True)),\n",
        "    RandomForestClassifier(random_state=1),\n",
        "    XGBClassifier(random_state=1)#,\n",
        "    MLPClassifier(\n",
        "        random_state=1,\n",
        "        solver=\"adam\",\n",
        "        hidden_layer_sizes=(12, 12, 12),\n",
        "        activation=\"relu\",\n",
        "        early_stopping=True,\n",
        "        n_iter_no_change=1,\n",
        "    ),\n",
        "]\n",
        "# get names of the objects in list (too lazy for c&p...)\n",
        "names = [re.match(r\"[^\\(]+\", name.__str__())[0] for name in classifiers]\n",
        "print(f\"Classifiers to test: {names}\")"
      ],
      "metadata": {
        "colab": {
          "base_uri": "https://localhost:8080/"
        },
        "id": "D4lYjwajjLdu",
        "outputId": "c5103ead-f920-4226-f748-d0fd56a5e621"
      },
      "execution_count": null,
      "outputs": [
        {
          "output_type": "stream",
          "name": "stdout",
          "text": [
            "Classifiers to test: ['XGBClassifier']\n"
          ]
        }
      ]
    },
    {
      "cell_type": "code",
      "source": [
        "%%time\n",
        "# test all classifiers and save pred. results on test data\n",
        "results = {}\n",
        "for name, clf in zip(names, classifiers):\n",
        "    print(f\"Training classifier: {name}\")\n",
        "    clf.fit(X_train_vec, Y_train)\n",
        "    prediction = clf.predict(X_test_vec)\n",
        "    report = sklearn.metrics.classification_report(Y_test, prediction)\n",
        "    results[name] = report"
      ],
      "metadata": {
        "colab": {
          "base_uri": "https://localhost:8080/"
        },
        "id": "hU0lXv32jPAo",
        "outputId": "3e660330-e667-469f-aa31-5615d4ab61bd"
      },
      "execution_count": null,
      "outputs": [
        {
          "output_type": "stream",
          "name": "stdout",
          "text": [
            "Training classifier: XGBClassifier\n",
            "CPU times: user 2min 8s, sys: 62.1 ms, total: 2min 8s\n",
            "Wall time: 1min 14s\n"
          ]
        }
      ]
    },
    {
      "cell_type": "code",
      "source": [
        "# Prediction results\n",
        "for k, v in results.items():\n",
        "    print(f\"Results for {k}:\")\n",
        "    print(f\"{v}\\n\")"
      ],
      "metadata": {
        "colab": {
          "base_uri": "https://localhost:8080/"
        },
        "id": "s-Bmoj2yjRw0",
        "outputId": "fe6218e2-b930-432f-ead9-c6509afc2faa"
      },
      "execution_count": null,
      "outputs": [
        {
          "output_type": "stream",
          "name": "stdout",
          "text": [
            "Results for XGBClassifier:\n",
            "              precision    recall  f1-score   support\n",
            "\n",
            "           0       0.75      0.79      0.77      3195\n",
            "           1       0.74      0.70      0.72      2784\n",
            "           2       1.00      0.10      0.17        21\n",
            "\n",
            "    accuracy                           0.75      6000\n",
            "   macro avg       0.83      0.53      0.56      6000\n",
            "weighted avg       0.75      0.75      0.75      6000\n",
            "\n",
            "\n"
          ]
        }
      ]
    },
    {
      "cell_type": "markdown",
      "source": [
        "We employed three distinct methods to preprocess our data before utilizing it for model training. **The outcome of all three attempts is:**"
      ],
      "metadata": {
        "id": "4lCpgdAUP2Fp"
      }
    },
    {
      "cell_type": "markdown",
      "source": [
        "## After using first method of cleaning\n",
        "\n",
        "Results for **LogisticRegression**:\n",
        "\n",
        "    type         precision    recall  f1-score \n",
        "    accuracy                           0.74       \n",
        "    macro avg       0.83      0.51     0.52       \n",
        "    weighted avg    0.74      0.74     0.74       \n",
        "\n",
        "\n",
        "Results for **LinearSVC**:\n",
        "\n",
        "    type         precision    recall  f1-score \n",
        "    accuracy                           0.73       \n",
        "    macro avg       0.82      0.54     0.57       \n",
        "    weighted avg    0.73      0.73     0.73       \n",
        "\n",
        "\n",
        "Results for **RandomForestClassifier**:\n",
        "\n",
        "    type         precision    recall  f1-score \n",
        "    accuracy                           0.72       \n",
        "    macro avg       0.81      0.53     0.56       \n",
        "    weighted avg    0.72      0.72     0.72       \n",
        "\n",
        "\n",
        "Results for **XGBClassifier**:\n",
        "\n",
        "\n",
        "    type         precision    recall  f1-score \n",
        "    accuracy                           0.71       \n",
        "    macro avg       0.81      0.50     0.53       \n",
        "    weighted avg    0.71      0.71     0.70       \n",
        "\n",
        "\n",
        "Results for **MLPClassifier**:\n",
        "\n",
        "    type         precision    recall  f1-score \n",
        "    accuracy                           0.74       \n",
        "    macro avg       0.49      0.49     0.49       \n",
        "    weighted avg    0.73      0.74     0.73       "
      ],
      "metadata": {
        "id": "P5fKhgsZoKLR"
      }
    },
    {
      "cell_type": "markdown",
      "source": [
        "## After using second method of cleaning\n",
        "\n",
        "Results for **LogisticRegression**:\n",
        "\n",
        "\n",
        "    type         precision  recall  f1-score \n",
        "    accuracy                          0.76       \n",
        "    macro avg     0.84      0.52      0.53       \n",
        "    weighted avg  0.76      0.76      0.75       \n",
        "\n",
        "\n",
        "Results for **LinearSVC**:\n",
        " \n",
        "    type         precision    recall  f1-score \n",
        "    accuracy                           0.74       \n",
        "    macro avg       0.83      0.54     0.58       \n",
        "    weighted avg    0.75      0.74     0.74       \n",
        "\n",
        "\n",
        "Results for **RandomForestClassifier**:\n",
        "\n",
        "    type         precision    recall  f1-score \n",
        "    accuracy                           0.73       \n",
        "    macro avg       0.82      0.52     0.54       \n",
        "    weighted avg    0.73      0.73     0.73       \n",
        "\n",
        "\n",
        "Results for **XGBClassifier**:\n",
        " \n",
        "    type         precision    recall  f1-score \n",
        "    accuracy                           0.72       \n",
        "    macro avg       0.81      0.51     0.53       \n",
        "    weighted avg    0.72      0.72     0.71       \n",
        "\n",
        "\n",
        "Results for **MLPClassifier**:\n",
        "\n",
        "    type         precision    recall  f1-score \n",
        "    accuracy                           0.75       \n",
        "    macro avg       0.50      0.50     0.50       \n",
        "    weighted avg    0.75      0.75     0.75      \n"
      ],
      "metadata": {
        "id": "6g2No_QEvzcv"
      }
    },
    {
      "cell_type": "markdown",
      "source": [
        "## After using third method of cleaning\n",
        "\n",
        "Results for **LogisticRegression**:</br>\n",
        "      \n",
        "    type         precision    recall  f1-score \n",
        "    accuracy                           0.80       \n",
        "    macro avg       0.53        0.53   0.53       \n",
        "    weighted avg    0.80        0.80   0.80      \n",
        "\n",
        "\n",
        "Results for **LinearSVC**:</br>\n",
        "\n",
        "    type         precision    recall  f1-score \n",
        "    accuracy                           0.78       \n",
        "    macro avg       0.86      0.57     0.61       \n",
        "    weighted avg    0.78      0.78     0.78       \n",
        "\n",
        "\n",
        "Results for **RandomForestClassifier**:</br>\n",
        " \n",
        "    type         precision    recall  f1-score \n",
        "    accuracy                           0.78      \n",
        "    macro avg       0.85      0.57     0.60       \n",
        "    weighted avg    0.78      0.78     0.78       \n",
        "\n",
        "\n",
        "Results for **XGBClassifier**:</br>\n",
        "\n",
        "    type         precision    recall  f1-score \n",
        "    accuracy                           0.76       \n",
        "    macro avg       0.84      0.56      0.59       \n",
        "    weighted avg    0.76      0.76      0.76       \n",
        "\n",
        "\n",
        "Results for **MLPClassifier**:</br>\n",
        "\n",
        "    type         precision    recall  f1-score \n",
        "    accuracy                             0.80       \n",
        "    macro avg       0.53       0.53      0.53       \n",
        "    weighted avg    0.79       0.80      0.80       "
      ],
      "metadata": {
        "id": "6BaEyLtTx9Dx"
      }
    },
    {
      "cell_type": "markdown",
      "source": [
        "Based on the data, it seems that the third cleaning method resulted in the highest accuracy for our dataset. When we applied all three cleaning methods to preprocess the data and used **XGBoost** as the machine learning model on the test dataset, we found that the **third** method resulted in the highest accuracy of **81.628%**."
      ],
      "metadata": {
        "id": "EDMFL0J8sjtw"
      }
    },
    {
      "cell_type": "markdown",
      "source": [
        "## Parameter tuning"
      ],
      "metadata": {
        "id": "Re1HgEyzjY_r"
      }
    },
    {
      "cell_type": "markdown",
      "source": [
        "### Using Word vectorizer "
      ],
      "metadata": {
        "id": "nmuEAcHZjn76"
      }
    },
    {
      "cell_type": "markdown",
      "source": [
        "In **TF-IDF (Term Frequency-Inverse Document Frequency)** vectorization, both Word Vectorization and Character Vectorization are used to represent text documents as numerical vectors.</br></br>\n",
        "\n",
        "**Word Vectorization** involves breaking down the text into individual words and then representing each word as a vector. The vector represents the frequency of the word in the document and the inverse frequency of the word across all documents in the corpus.</br> This method is useful for capturing the meaning of the text and is commonly used in natural language processing tasks.</br></br>\n",
        "\n",
        "On the other hand, **Character Vectorization** involves representing the text as vectors of individual characters. Each character in the text is represented by a vector, and the frequency of each character in the document is used as the value in the vector.</br> This method is useful in tasks where the structure of the text is important, such as in recognizing misspellings or detecting plagiarism."
      ],
      "metadata": {
        "id": "Elv1yXy1wqQW"
      }
    },
    {
      "cell_type": "markdown",
      "source": [
        "**We need a hyperparameter tuning method that can explore the hyperparameter space and identify the best values for the model's hyperparameters.**"
      ],
      "metadata": {
        "id": "U-x0sRHpxg8C"
      }
    },
    {
      "cell_type": "markdown",
      "source": [
        "#### Bayesian search"
      ],
      "metadata": {
        "id": "zTdgtLqlVc5Z"
      }
    },
    {
      "cell_type": "markdown",
      "source": [
        "\n",
        "##### Random Forest With Cross validation\n"
      ],
      "metadata": {
        "id": "utt9FRuCG-qT"
      }
    },
    {
      "cell_type": "markdown",
      "source": [
        "For our first attempt, we will use:\n",
        "1.  Random Forest(commonly used machine learning algorithm for classification problems) With cross validation\n",
        "2. First & Third method of cleaning \n",
        "3. TF IDF With word vector\n",
        "4. Lamitization\n",
        "5. Bayse search"
      ],
      "metadata": {
        "id": "joYIjJWix6xd"
      }
    },
    {
      "cell_type": "code",
      "source": [
        "# Define the Bayesian search with cross-validation\n",
        "\n",
        "# feature creation and modelling in a single function\n",
        "\n",
        "pipe = Pipeline([(\"tfidf\", TfidfVectorizer(analyzer=\"word\", norm=\"l2\")), (\"my_classifier\",  RandomForestClassifier())])\n",
        "\n",
        "# define parameter space to test # runtime 35min\n",
        "params = {\n",
        "    # \"tfidf__ngram_range\":((1, 2), (1,3)),\n",
        "    # tfidf__ngram_range points to TfidfVectorizer -> ngram_range\n",
        "    # ngram_range Two words have a higher correlation than the threshold and frequently appear together.\n",
        "    # ngram_range=(a,b)-> a is the minimum and b is the maximum size of ngrams\n",
        "    \"tfidf__max_df\": np.arange(0.3, 0.8),\n",
        "    # max_df ignore terms that have a document frequency strictly higher than the given threshold\n",
        "    \"tfidf__min_df\": np.arange(5, 100),\n",
        "    # min_df ignore terms that have a document frequency strictly lower than the given threshold\n",
        "    'my_classifier__n_estimators': [170,200,250],\n",
        "    # n_estimators is a number of trees \n",
        "    # my_classifier__n_estimators points to my_classifier->n_estimators\n",
        "    'my_classifier__max_depth':[70,80,90],   \n",
        "    # max_depth is a maximum depth of the tree\n",
        "    # my_classifier__max_depth points to my_classifier-> max_depth\n",
        "    'my_classifier__max_features':[10,20,30]\n",
        "    # max_features is a maximum number of features\n",
        "    # my_classifier__max_features points to my_classifier-> max_features\n",
        "\n",
        "}\n",
        "\n",
        "\n",
        "bayes_search_cv = BayesSearchCV(\n",
        "    pipe, params, cv=5, verbose=1, n_jobs=2, \n",
        "    scoring='roc_auc')\n",
        "\n",
        "\n",
        "# Perform the search\n",
        "bayes_search_cv.fit(X_train, Y_train)\n",
        "\n",
        "best_params = bayes_search_cv.best_params_\n",
        "\n",
        "# Print the best hyperparameters and score\n",
        "print(\"Best hyperparameters: \", bayes_search_cv.best_params_)\n",
        "print(\"Best score: \", bayes_search_cv.best_score_)\n"
      ],
      "metadata": {
        "colab": {
          "base_uri": "https://localhost:8080/"
        },
        "id": "Kcj3DfdLUCgR",
        "outputId": "5e3aa707-28ba-4896-8afd-1378dfdb28e3"
      },
      "execution_count": null,
      "outputs": [
        {
          "output_type": "stream",
          "name": "stdout",
          "text": [
            "Fitting 5 folds for each of 1 candidates, totalling 5 fits\n",
            "Fitting 5 folds for each of 1 candidates, totalling 5 fits\n",
            "Fitting 5 folds for each of 1 candidates, totalling 5 fits\n",
            "Fitting 5 folds for each of 1 candidates, totalling 5 fits\n",
            "Fitting 5 folds for each of 1 candidates, totalling 5 fits\n",
            "Fitting 5 folds for each of 1 candidates, totalling 5 fits\n",
            "Fitting 5 folds for each of 1 candidates, totalling 5 fits\n",
            "Fitting 5 folds for each of 1 candidates, totalling 5 fits\n",
            "Fitting 5 folds for each of 1 candidates, totalling 5 fits\n",
            "Fitting 5 folds for each of 1 candidates, totalling 5 fits\n",
            "Fitting 5 folds for each of 1 candidates, totalling 5 fits\n",
            "Fitting 5 folds for each of 1 candidates, totalling 5 fits\n",
            "Fitting 5 folds for each of 1 candidates, totalling 5 fits\n",
            "Fitting 5 folds for each of 1 candidates, totalling 5 fits\n",
            "Fitting 5 folds for each of 1 candidates, totalling 5 fits\n",
            "Fitting 5 folds for each of 1 candidates, totalling 5 fits\n",
            "Fitting 5 folds for each of 1 candidates, totalling 5 fits\n",
            "Fitting 5 folds for each of 1 candidates, totalling 5 fits\n",
            "Fitting 5 folds for each of 1 candidates, totalling 5 fits\n",
            "Fitting 5 folds for each of 1 candidates, totalling 5 fits\n",
            "Fitting 5 folds for each of 1 candidates, totalling 5 fits\n",
            "Fitting 5 folds for each of 1 candidates, totalling 5 fits\n",
            "Fitting 5 folds for each of 1 candidates, totalling 5 fits\n",
            "Fitting 5 folds for each of 1 candidates, totalling 5 fits\n",
            "Fitting 5 folds for each of 1 candidates, totalling 5 fits\n",
            "Fitting 5 folds for each of 1 candidates, totalling 5 fits\n",
            "Fitting 5 folds for each of 1 candidates, totalling 5 fits\n",
            "Fitting 5 folds for each of 1 candidates, totalling 5 fits\n",
            "Fitting 5 folds for each of 1 candidates, totalling 5 fits\n",
            "Fitting 5 folds for each of 1 candidates, totalling 5 fits\n",
            "Fitting 5 folds for each of 1 candidates, totalling 5 fits\n",
            "Fitting 5 folds for each of 1 candidates, totalling 5 fits\n",
            "Fitting 5 folds for each of 1 candidates, totalling 5 fits\n",
            "Fitting 5 folds for each of 1 candidates, totalling 5 fits\n",
            "Fitting 5 folds for each of 1 candidates, totalling 5 fits\n",
            "Fitting 5 folds for each of 1 candidates, totalling 5 fits\n",
            "Fitting 5 folds for each of 1 candidates, totalling 5 fits\n",
            "Fitting 5 folds for each of 1 candidates, totalling 5 fits\n",
            "Fitting 5 folds for each of 1 candidates, totalling 5 fits\n",
            "Fitting 5 folds for each of 1 candidates, totalling 5 fits\n",
            "Fitting 5 folds for each of 1 candidates, totalling 5 fits\n",
            "Fitting 5 folds for each of 1 candidates, totalling 5 fits\n",
            "Fitting 5 folds for each of 1 candidates, totalling 5 fits\n",
            "Fitting 5 folds for each of 1 candidates, totalling 5 fits\n",
            "Fitting 5 folds for each of 1 candidates, totalling 5 fits\n",
            "Fitting 5 folds for each of 1 candidates, totalling 5 fits\n",
            "Fitting 5 folds for each of 1 candidates, totalling 5 fits\n",
            "Fitting 5 folds for each of 1 candidates, totalling 5 fits\n",
            "Fitting 5 folds for each of 1 candidates, totalling 5 fits\n",
            "Fitting 5 folds for each of 1 candidates, totalling 5 fits\n",
            "Best hyperparameters:  OrderedDict([('my_classifier__max_depth', 90), ('my_classifier__max_features', 10), ('my_classifier__n_estimators', 170), ('tfidf__max_df', 0.3), ('tfidf__min_df', 9)])\n",
            "Best score:  0.8492431622228394\n"
          ]
        }
      ]
    },
    {
      "cell_type": "code",
      "source": [
        "# run pipe with optimized parameters\n",
        "pipe.set_params(**best_params).fit(X_train, Y_train)\n",
        "pipe_pred = pipe.predict(X_test)\n",
        "report = sklearn.metrics.classification_report(Y_test, pipe_pred)\n",
        "print(report)"
      ],
      "metadata": {
        "colab": {
          "base_uri": "https://localhost:8080/"
        },
        "id": "vqRpCZYeVT_e",
        "outputId": "bd317043-f014-48c0-a09b-66576d26dec6"
      },
      "execution_count": null,
      "outputs": [
        {
          "output_type": "stream",
          "name": "stdout",
          "text": [
            "              precision    recall  f1-score   support\n",
            "\n",
            "           0       0.69      0.92      0.79      3225\n",
            "           1       0.85      0.51      0.64      2752\n",
            "\n",
            "    accuracy                           0.73      5977\n",
            "   macro avg       0.77      0.72      0.71      5977\n",
            "weighted avg       0.76      0.73      0.72      5977\n",
            "\n"
          ]
        }
      ]
    },
    {
      "cell_type": "markdown",
      "source": [
        "By pre-processing the data using the third cleaning method, applying lemmatization to reduce words to their roots, using TF-IDF vectorization with word vectorization, and using Random Forest as the machine learning model, we achieved a high accuracy of **82.03%** on the testing dataset."
      ],
      "metadata": {
        "id": "n3DMMbtB1hr_"
      }
    },
    {
      "cell_type": "markdown",
      "source": [
        "After repeating the same experiment using the first cleaning function, we obtained an accuracy of **82.44%**."
      ],
      "metadata": {
        "id": "jwAARuS33ayv"
      }
    },
    {
      "cell_type": "markdown",
      "source": [
        "Based on our experiments so far, it appears that the first and third cleaning methods, along with lemmatization, are effective for our problem. However, we need to test more models to determine which model and which cleaning method is the most effective."
      ],
      "metadata": {
        "id": "AeYWWRRO5yJi"
      }
    },
    {
      "cell_type": "markdown",
      "source": [
        "##### XGBoost With Cross validation\n"
      ],
      "metadata": {
        "id": "Nv11O9Gu8QWt"
      }
    },
    {
      "cell_type": "markdown",
      "source": [
        "For our first attempt, we will use:\n",
        "1.  XGBoost(commonly used machine learning algorithm for classification problems) with cross validation.\n",
        "2. First & Third method of cleaning \n",
        "3. TF IDF With word vector\n",
        "4. Lamitization\n",
        "5. Bayse search"
      ],
      "metadata": {
        "id": "Gvp8yhu-6x2e"
      }
    },
    {
      "cell_type": "code",
      "source": [
        "params = {   \"tfidf__max_df\": np.arange(0.3, 0.8),\n",
        "    \"tfidf__min_df\": np.arange(5, 100),\n",
        "    'my_classifier__min_child_weight': [20,40,80],\n",
        "    'my_classifier__max_depth':[50,60,70],  \n",
        "    'my_classifier__gamma':[0.5, 1, 1.5, 2, 5],\n",
        "    'my_classifier__colsample_bytree':[0.6, 0.8, 1.0]}\n",
        "\n",
        "\n",
        "pipe = Pipeline([(\"tfidf\", TfidfVectorizer(ngram_range = (1, 2),analyzer=\"word\", norm=\"l2\")), (\"my_classifier\",  XGBClassifier())])\n",
        "\n",
        "XGBoost_BS = BayesSearchCV(\n",
        "    pipe, params, cv=5, verbose=1, n_jobs=2, \n",
        "    scoring='roc_auc')\n",
        "\n",
        "\n",
        "# Perform the search\n",
        "XGBoost_BS.fit(X_train, Y_train)\n",
        "\n",
        "best_params = XGBoost_BS.best_params_\n",
        "\n",
        "# Print the best hyperparameters and score\n",
        "print(\"Best hyperparameters: \", XGBoost_BS.best_params_)\n",
        "print(\"Best score: \", XGBoost_BS.best_score_)\n"
      ],
      "metadata": {
        "colab": {
          "base_uri": "https://localhost:8080/"
        },
        "id": "Mjg5n5058Smt",
        "outputId": "9da83d0f-8221-4c75-dc13-1a9384d4208c"
      },
      "execution_count": null,
      "outputs": [
        {
          "output_type": "stream",
          "name": "stdout",
          "text": [
            "Fitting 5 folds for each of 1 candidates, totalling 5 fits\n",
            "Fitting 5 folds for each of 1 candidates, totalling 5 fits\n",
            "Fitting 5 folds for each of 1 candidates, totalling 5 fits\n",
            "Fitting 5 folds for each of 1 candidates, totalling 5 fits\n",
            "Fitting 5 folds for each of 1 candidates, totalling 5 fits\n",
            "Fitting 5 folds for each of 1 candidates, totalling 5 fits\n",
            "Fitting 5 folds for each of 1 candidates, totalling 5 fits\n",
            "Fitting 5 folds for each of 1 candidates, totalling 5 fits\n",
            "Fitting 5 folds for each of 1 candidates, totalling 5 fits\n",
            "Fitting 5 folds for each of 1 candidates, totalling 5 fits\n",
            "Fitting 5 folds for each of 1 candidates, totalling 5 fits\n",
            "Fitting 5 folds for each of 1 candidates, totalling 5 fits\n",
            "Fitting 5 folds for each of 1 candidates, totalling 5 fits\n",
            "Fitting 5 folds for each of 1 candidates, totalling 5 fits\n",
            "Fitting 5 folds for each of 1 candidates, totalling 5 fits\n",
            "Fitting 5 folds for each of 1 candidates, totalling 5 fits\n",
            "Fitting 5 folds for each of 1 candidates, totalling 5 fits\n",
            "Fitting 5 folds for each of 1 candidates, totalling 5 fits\n",
            "Fitting 5 folds for each of 1 candidates, totalling 5 fits\n",
            "Fitting 5 folds for each of 1 candidates, totalling 5 fits\n",
            "Fitting 5 folds for each of 1 candidates, totalling 5 fits\n",
            "Fitting 5 folds for each of 1 candidates, totalling 5 fits\n",
            "Fitting 5 folds for each of 1 candidates, totalling 5 fits\n",
            "Fitting 5 folds for each of 1 candidates, totalling 5 fits\n",
            "Fitting 5 folds for each of 1 candidates, totalling 5 fits\n",
            "Fitting 5 folds for each of 1 candidates, totalling 5 fits\n",
            "Fitting 5 folds for each of 1 candidates, totalling 5 fits\n",
            "Fitting 5 folds for each of 1 candidates, totalling 5 fits\n",
            "Fitting 5 folds for each of 1 candidates, totalling 5 fits\n",
            "Fitting 5 folds for each of 1 candidates, totalling 5 fits\n",
            "Fitting 5 folds for each of 1 candidates, totalling 5 fits\n",
            "Fitting 5 folds for each of 1 candidates, totalling 5 fits\n",
            "Fitting 5 folds for each of 1 candidates, totalling 5 fits\n",
            "Fitting 5 folds for each of 1 candidates, totalling 5 fits\n",
            "Fitting 5 folds for each of 1 candidates, totalling 5 fits\n",
            "Fitting 5 folds for each of 1 candidates, totalling 5 fits\n",
            "Fitting 5 folds for each of 1 candidates, totalling 5 fits\n",
            "Fitting 5 folds for each of 1 candidates, totalling 5 fits\n"
          ]
        },
        {
          "output_type": "stream",
          "name": "stderr",
          "text": [
            "/usr/local/lib/python3.9/dist-packages/skopt/optimizer/optimizer.py:449: UserWarning: The objective has been evaluated at this point before.\n",
            "  warnings.warn(\"The objective has been evaluated \"\n"
          ]
        },
        {
          "output_type": "stream",
          "name": "stdout",
          "text": [
            "Fitting 5 folds for each of 1 candidates, totalling 5 fits\n",
            "Fitting 5 folds for each of 1 candidates, totalling 5 fits\n",
            "Fitting 5 folds for each of 1 candidates, totalling 5 fits\n",
            "Fitting 5 folds for each of 1 candidates, totalling 5 fits\n",
            "Fitting 5 folds for each of 1 candidates, totalling 5 fits\n",
            "Fitting 5 folds for each of 1 candidates, totalling 5 fits\n",
            "Fitting 5 folds for each of 1 candidates, totalling 5 fits\n"
          ]
        },
        {
          "output_type": "stream",
          "name": "stderr",
          "text": [
            "/usr/local/lib/python3.9/dist-packages/skopt/optimizer/optimizer.py:449: UserWarning: The objective has been evaluated at this point before.\n",
            "  warnings.warn(\"The objective has been evaluated \"\n"
          ]
        },
        {
          "output_type": "stream",
          "name": "stdout",
          "text": [
            "Fitting 5 folds for each of 1 candidates, totalling 5 fits\n",
            "Fitting 5 folds for each of 1 candidates, totalling 5 fits\n"
          ]
        },
        {
          "output_type": "stream",
          "name": "stderr",
          "text": [
            "/usr/local/lib/python3.9/dist-packages/skopt/optimizer/optimizer.py:449: UserWarning: The objective has been evaluated at this point before.\n",
            "  warnings.warn(\"The objective has been evaluated \"\n"
          ]
        },
        {
          "output_type": "stream",
          "name": "stdout",
          "text": [
            "Fitting 5 folds for each of 1 candidates, totalling 5 fits\n"
          ]
        },
        {
          "output_type": "stream",
          "name": "stderr",
          "text": [
            "/usr/local/lib/python3.9/dist-packages/skopt/optimizer/optimizer.py:449: UserWarning: The objective has been evaluated at this point before.\n",
            "  warnings.warn(\"The objective has been evaluated \"\n"
          ]
        },
        {
          "output_type": "stream",
          "name": "stdout",
          "text": [
            "Fitting 5 folds for each of 1 candidates, totalling 5 fits\n",
            "Fitting 5 folds for each of 1 candidates, totalling 5 fits\n",
            "Best hyperparameters:  OrderedDict([('my_classifier__colsample_bytree', 0.6), ('my_classifier__gamma', 5.0), ('my_classifier__max_depth', 50), ('my_classifier__min_child_weight', 20), ('tfidf__max_df', 0.3), ('tfidf__min_df', 26)])\n",
            "Best score:  0.8315946140815976\n"
          ]
        }
      ]
    },
    {
      "cell_type": "markdown",
      "source": [
        "In the training data set we get accuracy **83.15%** when we used cross validation "
      ],
      "metadata": {
        "id": "8KjwRLyK7Eu5"
      }
    },
    {
      "cell_type": "markdown",
      "source": [
        "##### XGBoost Without Cross validation\n"
      ],
      "metadata": {
        "id": "__u9bp2qOeiS"
      }
    },
    {
      "cell_type": "markdown",
      "source": [
        "For these attempt, we will use:\n",
        "1.  XGBoost(commonly used machine learning algorithm for classification problems) with validation set.\n",
        "2. First & Third method of cleaning \n",
        "3. TF IDF With word vector\n",
        "4. Lamitization\n",
        "5. Bayse search"
      ],
      "metadata": {
        "id": "BIWWPY82DYPH"
      }
    },
    {
      "cell_type": "code",
      "source": [
        "X_train = data_clean[\"comment_clean\"]\n",
        "Y_train = data_clean[\"label\"]\n",
        "\n",
        "# Further split the original training set to a train and a validation set\n",
        "X_train2, X_val, y_train2, y_val = train_test_split(\n",
        "    X_train, Y_train, train_size = 0.8, stratify = Y_train, random_state = 2022)\n",
        "\n",
        "\n",
        "# Create a list where train data indices are -1 and validation data indices are 0\n",
        "# X_train2 (new training set), X_train\n",
        "split_index = [-1 if x in X_train2.index else 0 for x in X_train.index]\n",
        "\n",
        "# Use the list to create PredefinedSplit\n",
        "pds = PredefinedSplit(test_fold = split_index)\n",
        "\n",
        "\n",
        "params = {   \"tfidf__max_df\": np.arange(0.3, 0.8),\n",
        "    \"tfidf__min_df\": np.arange(5, 100),\n",
        "    'my_classifier__min_child_weight': [20,40,80],\n",
        "    'my_classifier__max_depth':[50,60,70],  \n",
        "    'my_classifier__gamma':[0.5, 1, 1.5, 2, 5],\n",
        "    'my_classifier__colsample_bytree':[0.6, 0.8, 1.0]}\n",
        "\n",
        "\n",
        "pipe = Pipeline([(\"tfidf\", TfidfVectorizer(ngram_range = (1, 2),analyzer=\"word\", norm=\"l2\")), (\"my_classifier\",  XGBClassifier())])\n",
        "\n",
        "XGBoost_BS = BayesSearchCV(\n",
        "    pipe, params, cv=5, verbose=1, n_jobs=2, \n",
        "    scoring='roc_auc')\n",
        "\n",
        "\n",
        "# Perform the search\n",
        "XGBoost_BS.fit(X_train, Y_train)\n",
        "\n",
        "best_params = XGBoost_BS.best_params_\n",
        "\n",
        "# Print the best hyperparameters and score\n",
        "print(\"Best hyperparameters: \", XGBoost_BS.best_params_)\n",
        "print(\"Best score: \", XGBoost_BS.best_score_)\n"
      ],
      "metadata": {
        "colab": {
          "base_uri": "https://localhost:8080/"
        },
        "id": "pxs9CWKPNtWy",
        "outputId": "3bcdabce-3bd6-4a86-f50d-b2708b0260fa"
      },
      "execution_count": null,
      "outputs": [
        {
          "output_type": "stream",
          "name": "stdout",
          "text": [
            "Fitting 5 folds for each of 1 candidates, totalling 5 fits\n",
            "Fitting 5 folds for each of 1 candidates, totalling 5 fits\n",
            "Fitting 5 folds for each of 1 candidates, totalling 5 fits\n",
            "Fitting 5 folds for each of 1 candidates, totalling 5 fits\n",
            "Fitting 5 folds for each of 1 candidates, totalling 5 fits\n",
            "Fitting 5 folds for each of 1 candidates, totalling 5 fits\n",
            "Fitting 5 folds for each of 1 candidates, totalling 5 fits\n",
            "Fitting 5 folds for each of 1 candidates, totalling 5 fits\n",
            "Fitting 5 folds for each of 1 candidates, totalling 5 fits\n",
            "Fitting 5 folds for each of 1 candidates, totalling 5 fits\n",
            "Fitting 5 folds for each of 1 candidates, totalling 5 fits\n",
            "Fitting 5 folds for each of 1 candidates, totalling 5 fits\n",
            "Fitting 5 folds for each of 1 candidates, totalling 5 fits\n",
            "Fitting 5 folds for each of 1 candidates, totalling 5 fits\n",
            "Fitting 5 folds for each of 1 candidates, totalling 5 fits\n",
            "Fitting 5 folds for each of 1 candidates, totalling 5 fits\n",
            "Fitting 5 folds for each of 1 candidates, totalling 5 fits\n",
            "Fitting 5 folds for each of 1 candidates, totalling 5 fits\n",
            "Fitting 5 folds for each of 1 candidates, totalling 5 fits\n",
            "Fitting 5 folds for each of 1 candidates, totalling 5 fits\n",
            "Fitting 5 folds for each of 1 candidates, totalling 5 fits\n",
            "Fitting 5 folds for each of 1 candidates, totalling 5 fits\n",
            "Fitting 5 folds for each of 1 candidates, totalling 5 fits\n",
            "Fitting 5 folds for each of 1 candidates, totalling 5 fits\n",
            "Fitting 5 folds for each of 1 candidates, totalling 5 fits\n",
            "Fitting 5 folds for each of 1 candidates, totalling 5 fits\n",
            "Fitting 5 folds for each of 1 candidates, totalling 5 fits\n",
            "Fitting 5 folds for each of 1 candidates, totalling 5 fits\n",
            "Fitting 5 folds for each of 1 candidates, totalling 5 fits\n",
            "Fitting 5 folds for each of 1 candidates, totalling 5 fits\n",
            "Fitting 5 folds for each of 1 candidates, totalling 5 fits\n",
            "Fitting 5 folds for each of 1 candidates, totalling 5 fits\n",
            "Fitting 5 folds for each of 1 candidates, totalling 5 fits\n",
            "Fitting 5 folds for each of 1 candidates, totalling 5 fits\n",
            "Fitting 5 folds for each of 1 candidates, totalling 5 fits\n",
            "Fitting 5 folds for each of 1 candidates, totalling 5 fits\n",
            "Fitting 5 folds for each of 1 candidates, totalling 5 fits\n",
            "Fitting 5 folds for each of 1 candidates, totalling 5 fits\n",
            "Fitting 5 folds for each of 1 candidates, totalling 5 fits\n"
          ]
        },
        {
          "output_type": "stream",
          "name": "stderr",
          "text": [
            "/usr/local/lib/python3.9/dist-packages/skopt/optimizer/optimizer.py:449: UserWarning: The objective has been evaluated at this point before.\n",
            "  warnings.warn(\"The objective has been evaluated \"\n"
          ]
        },
        {
          "output_type": "stream",
          "name": "stdout",
          "text": [
            "Fitting 5 folds for each of 1 candidates, totalling 5 fits\n",
            "Fitting 5 folds for each of 1 candidates, totalling 5 fits\n",
            "Fitting 5 folds for each of 1 candidates, totalling 5 fits\n",
            "Fitting 5 folds for each of 1 candidates, totalling 5 fits\n",
            "Fitting 5 folds for each of 1 candidates, totalling 5 fits\n",
            "Fitting 5 folds for each of 1 candidates, totalling 5 fits\n",
            "Fitting 5 folds for each of 1 candidates, totalling 5 fits\n",
            "Fitting 5 folds for each of 1 candidates, totalling 5 fits\n",
            "Fitting 5 folds for each of 1 candidates, totalling 5 fits\n",
            "Fitting 5 folds for each of 1 candidates, totalling 5 fits\n",
            "Fitting 5 folds for each of 1 candidates, totalling 5 fits\n",
            "Best hyperparameters:  OrderedDict([('my_classifier__colsample_bytree', 1.0), ('my_classifier__gamma', 5.0), ('my_classifier__max_depth', 50), ('my_classifier__min_child_weight', 20), ('tfidf__max_df', 0.3), ('tfidf__min_df', 50)])\n",
            "Best score:  0.8240704807659208\n"
          ]
        }
      ]
    },
    {
      "cell_type": "markdown",
      "source": [
        "('my_classifier__colsample_bytree', 1.0), ('my_classifier__gamma', 5.0), ('my_classifier__max_depth', 50), ('my_classifier__min_child_weight', 20), ('tfidf__max_df', 0.3), ('tfidf__min_df', 50)])\n",
        "Best score:  0.8240704807659208"
      ],
      "metadata": {
        "id": "YX0gb2Fc4t7R"
      }
    },
    {
      "cell_type": "markdown",
      "source": [
        "In the training data set we get accuracy **82.40%** when we used validation set "
      ],
      "metadata": {
        "id": "ry88oqB9BxoJ"
      }
    },
    {
      "cell_type": "markdown",
      "source": [
        "From above we decideto use XGBoost with cross validation to test it on the **testing dataset** and it get accuracy **80.323%**</br>\n",
        "The accuracy of XGBoost is less than Random Forest </br>\n",
        "Random Forest may achieve higher accuracy than XGBoost due to its ability to be less affected by outliers and noisy data in the training set. Additionally, the performance of both algorithms can be influenced by the specific hyperparameters used. In some cases, Random Forest may be able to find the optimal hyperparameters more efficiently than XGBoost, leading to better performance."
      ],
      "metadata": {
        "id": "MNFJz1phCMdf"
      }
    },
    {
      "cell_type": "markdown",
      "source": [
        "#### Random Search"
      ],
      "metadata": {
        "id": "mdvdUiKMVU8w"
      }
    },
    {
      "cell_type": "markdown",
      "source": [
        "##### XGBoost Wihout Cross validation"
      ],
      "metadata": {
        "id": "meQMknKo6aLu"
      }
    },
    {
      "cell_type": "markdown",
      "source": [
        "For these attempt, we will use:\n",
        "1.  XGBoost(commonly used machine learning algorithm for classification problems) with validation set.\n",
        "2. Third method of cleaning \n",
        "3. TF IDF With word vector\n",
        "4. Lamitization\n",
        "5. Random search"
      ],
      "metadata": {
        "id": "-rL2tYPqDhJ-"
      }
    },
    {
      "cell_type": "code",
      "source": [
        "X_train = data_clean[\"comment_clean\"]\n",
        "Y_train = data_clean[\"label\"]\n",
        "\n",
        "# Further split the original training set to a train and a validation set\n",
        "X_train2, X_val, y_train2, y_val = train_test_split(\n",
        "    X_train, Y_train, train_size = 0.8, stratify = Y_train, random_state = 2022)\n",
        "\n",
        "\n",
        "# Create a list where train data indices are -1 and validation data indices are 0\n",
        "# X_train2 (new training set), X_train\n",
        "split_index = [-1 if x in X_train2.index else 0 for x in X_train.index]\n",
        "\n",
        "# Use the list to create PredefinedSplit\n",
        "pds = PredefinedSplit(test_fold = split_index)"
      ],
      "metadata": {
        "id": "Q3NV0wMR7qiP"
      },
      "execution_count": null,
      "outputs": []
    },
    {
      "cell_type": "code",
      "source": [
        "%%time \n",
        "pipe_xgb = Pipeline([(\"tfidf\", TfidfVectorizer(ngram_range = (1, 2),analyzer=\"word\", norm=\"l2\")), (\"xgb\", XGBClassifier(random_state=42,n_jobs=-1, eval_metric='rmse',use_label_encoder=False))])\n",
        "\n",
        "# define parameter space to test # runtime 17 min\n",
        "params = {\n",
        "    'tfidf__sublinear_tf':[True], #True best\n",
        "    'tfidf__strip_accents':[None],\n",
        "    'tfidf__smooth_idf':[False],\n",
        "    'tfidf__ngram_range': [(1, 5)], #(1,2)\n",
        "    'tfidf__min_df': [11], \n",
        "    'tfidf__max_df': [0.2],\n",
        "    'tfidf__analyzer':['word','char','char_wb'],\n",
        "    'xgb__booster':['gbtree','gblinear', 'dart'],\n",
        "    'xgb__learning_rate':[1.0, 0.1,0.01,0.0001, 1.5],\n",
        "\n",
        "}\n",
        "   \n",
        "pipe_xgb_clf = RandomizedSearchCV(pipe_xgb, params, n_jobs=-1,cv=pds, scoring=\"roc_auc\", n_iter=30)\n",
        "pipe_xgb_clf.fit(X_train, Y_train)"
      ],
      "metadata": {
        "colab": {
          "base_uri": "https://localhost:8080/",
          "height": 225
        },
        "id": "WXiarSOl6ZYY",
        "outputId": "cd908772-2433-492a-cd78-9fa682eda437"
      },
      "execution_count": null,
      "outputs": [
        {
          "output_type": "stream",
          "name": "stderr",
          "text": [
            "/usr/local/lib/python3.9/dist-packages/xgboost/sklearn.py:1395: UserWarning: `use_label_encoder` is deprecated in 1.7.0.\n",
            "  warnings.warn(\"`use_label_encoder` is deprecated in 1.7.0.\")\n"
          ]
        },
        {
          "output_type": "stream",
          "name": "stdout",
          "text": [
            "CPU times: user 1min 3s, sys: 6.91 s, total: 1min 10s\n",
            "Wall time: 2h 51min 14s\n"
          ]
        },
        {
          "output_type": "execute_result",
          "data": {
            "text/plain": [
              "RandomizedSearchCV(cv=PredefinedSplit(test_fold=array([ 0, -1, ..., -1,  0])),\n",
              "                   estimator=Pipeline(steps=[('tfidf',\n",
              "                                              TfidfVectorizer(ngram_range=(1,\n",
              "                                                                           2))),\n",
              "                                             ('xgb',\n",
              "                                              XGBClassifier(base_score=None,\n",
              "                                                            booster=None,\n",
              "                                                            callbacks=None,\n",
              "                                                            colsample_bylevel=None,\n",
              "                                                            colsample_bynode=None,\n",
              "                                                            colsample_bytree=None,\n",
              "                                                            early_stopping_rounds=None,\n",
              "                                                            enable_categorical=False,\n",
              "                                                            eval_metric='rmse',\n",
              "                                                            feat...\n",
              "                   n_iter=45, n_jobs=-1,\n",
              "                   param_distributions={'tfidf__analyzer': ['word', 'char',\n",
              "                                                            'char_wb'],\n",
              "                                        'tfidf__max_df': [0.2],\n",
              "                                        'tfidf__min_df': [11],\n",
              "                                        'tfidf__ngram_range': [(1, 5)],\n",
              "                                        'tfidf__smooth_idf': [False],\n",
              "                                        'tfidf__strip_accents': [None],\n",
              "                                        'tfidf__sublinear_tf': [True],\n",
              "                                        'xgb__booster': ['gbtree', 'gblinear',\n",
              "                                                         'dart'],\n",
              "                                        'xgb__learning_rate': [1.0, 0.1, 0.01,\n",
              "                                                               0.0001, 1.5]},\n",
              "                   scoring='roc_auc')"
            ],
            "text/html": [
              "<style>#sk-container-id-2 {color: black;background-color: white;}#sk-container-id-2 pre{padding: 0;}#sk-container-id-2 div.sk-toggleable {background-color: white;}#sk-container-id-2 label.sk-toggleable__label {cursor: pointer;display: block;width: 100%;margin-bottom: 0;padding: 0.3em;box-sizing: border-box;text-align: center;}#sk-container-id-2 label.sk-toggleable__label-arrow:before {content: \"▸\";float: left;margin-right: 0.25em;color: #696969;}#sk-container-id-2 label.sk-toggleable__label-arrow:hover:before {color: black;}#sk-container-id-2 div.sk-estimator:hover label.sk-toggleable__label-arrow:before {color: black;}#sk-container-id-2 div.sk-toggleable__content {max-height: 0;max-width: 0;overflow: hidden;text-align: left;background-color: #f0f8ff;}#sk-container-id-2 div.sk-toggleable__content pre {margin: 0.2em;color: black;border-radius: 0.25em;background-color: #f0f8ff;}#sk-container-id-2 input.sk-toggleable__control:checked~div.sk-toggleable__content {max-height: 200px;max-width: 100%;overflow: auto;}#sk-container-id-2 input.sk-toggleable__control:checked~label.sk-toggleable__label-arrow:before {content: \"▾\";}#sk-container-id-2 div.sk-estimator input.sk-toggleable__control:checked~label.sk-toggleable__label {background-color: #d4ebff;}#sk-container-id-2 div.sk-label input.sk-toggleable__control:checked~label.sk-toggleable__label {background-color: #d4ebff;}#sk-container-id-2 input.sk-hidden--visually {border: 0;clip: rect(1px 1px 1px 1px);clip: rect(1px, 1px, 1px, 1px);height: 1px;margin: -1px;overflow: hidden;padding: 0;position: absolute;width: 1px;}#sk-container-id-2 div.sk-estimator {font-family: monospace;background-color: #f0f8ff;border: 1px dotted black;border-radius: 0.25em;box-sizing: border-box;margin-bottom: 0.5em;}#sk-container-id-2 div.sk-estimator:hover {background-color: #d4ebff;}#sk-container-id-2 div.sk-parallel-item::after {content: \"\";width: 100%;border-bottom: 1px solid gray;flex-grow: 1;}#sk-container-id-2 div.sk-label:hover label.sk-toggleable__label {background-color: #d4ebff;}#sk-container-id-2 div.sk-serial::before {content: \"\";position: absolute;border-left: 1px solid gray;box-sizing: border-box;top: 0;bottom: 0;left: 50%;z-index: 0;}#sk-container-id-2 div.sk-serial {display: flex;flex-direction: column;align-items: center;background-color: white;padding-right: 0.2em;padding-left: 0.2em;position: relative;}#sk-container-id-2 div.sk-item {position: relative;z-index: 1;}#sk-container-id-2 div.sk-parallel {display: flex;align-items: stretch;justify-content: center;background-color: white;position: relative;}#sk-container-id-2 div.sk-item::before, #sk-container-id-2 div.sk-parallel-item::before {content: \"\";position: absolute;border-left: 1px solid gray;box-sizing: border-box;top: 0;bottom: 0;left: 50%;z-index: -1;}#sk-container-id-2 div.sk-parallel-item {display: flex;flex-direction: column;z-index: 1;position: relative;background-color: white;}#sk-container-id-2 div.sk-parallel-item:first-child::after {align-self: flex-end;width: 50%;}#sk-container-id-2 div.sk-parallel-item:last-child::after {align-self: flex-start;width: 50%;}#sk-container-id-2 div.sk-parallel-item:only-child::after {width: 0;}#sk-container-id-2 div.sk-dashed-wrapped {border: 1px dashed gray;margin: 0 0.4em 0.5em 0.4em;box-sizing: border-box;padding-bottom: 0.4em;background-color: white;}#sk-container-id-2 div.sk-label label {font-family: monospace;font-weight: bold;display: inline-block;line-height: 1.2em;}#sk-container-id-2 div.sk-label-container {text-align: center;}#sk-container-id-2 div.sk-container {/* jupyter's `normalize.less` sets `[hidden] { display: none; }` but bootstrap.min.css set `[hidden] { display: none !important; }` so we also need the `!important` here to be able to override the default hidden behavior on the sphinx rendered scikit-learn.org. See: https://github.com/scikit-learn/scikit-learn/issues/21755 */display: inline-block !important;position: relative;}#sk-container-id-2 div.sk-text-repr-fallback {display: none;}</style><div id=\"sk-container-id-2\" class=\"sk-top-container\"><div class=\"sk-text-repr-fallback\"><pre>RandomizedSearchCV(cv=PredefinedSplit(test_fold=array([ 0, -1, ..., -1,  0])),\n",
              "                   estimator=Pipeline(steps=[(&#x27;tfidf&#x27;,\n",
              "                                              TfidfVectorizer(ngram_range=(1,\n",
              "                                                                           2))),\n",
              "                                             (&#x27;xgb&#x27;,\n",
              "                                              XGBClassifier(base_score=None,\n",
              "                                                            booster=None,\n",
              "                                                            callbacks=None,\n",
              "                                                            colsample_bylevel=None,\n",
              "                                                            colsample_bynode=None,\n",
              "                                                            colsample_bytree=None,\n",
              "                                                            early_stopping_rounds=None,\n",
              "                                                            enable_categorical=False,\n",
              "                                                            eval_metric=&#x27;rmse&#x27;,\n",
              "                                                            feat...\n",
              "                   n_iter=45, n_jobs=-1,\n",
              "                   param_distributions={&#x27;tfidf__analyzer&#x27;: [&#x27;word&#x27;, &#x27;char&#x27;,\n",
              "                                                            &#x27;char_wb&#x27;],\n",
              "                                        &#x27;tfidf__max_df&#x27;: [0.2],\n",
              "                                        &#x27;tfidf__min_df&#x27;: [11],\n",
              "                                        &#x27;tfidf__ngram_range&#x27;: [(1, 5)],\n",
              "                                        &#x27;tfidf__smooth_idf&#x27;: [False],\n",
              "                                        &#x27;tfidf__strip_accents&#x27;: [None],\n",
              "                                        &#x27;tfidf__sublinear_tf&#x27;: [True],\n",
              "                                        &#x27;xgb__booster&#x27;: [&#x27;gbtree&#x27;, &#x27;gblinear&#x27;,\n",
              "                                                         &#x27;dart&#x27;],\n",
              "                                        &#x27;xgb__learning_rate&#x27;: [1.0, 0.1, 0.01,\n",
              "                                                               0.0001, 1.5]},\n",
              "                   scoring=&#x27;roc_auc&#x27;)</pre><b>In a Jupyter environment, please rerun this cell to show the HTML representation or trust the notebook. <br />On GitHub, the HTML representation is unable to render, please try loading this page with nbviewer.org.</b></div><div class=\"sk-container\" hidden><div class=\"sk-item sk-dashed-wrapped\"><div class=\"sk-label-container\"><div class=\"sk-label sk-toggleable\"><input class=\"sk-toggleable__control sk-hidden--visually\" id=\"sk-estimator-id-2\" type=\"checkbox\" ><label for=\"sk-estimator-id-2\" class=\"sk-toggleable__label sk-toggleable__label-arrow\">RandomizedSearchCV</label><div class=\"sk-toggleable__content\"><pre>RandomizedSearchCV(cv=PredefinedSplit(test_fold=array([ 0, -1, ..., -1,  0])),\n",
              "                   estimator=Pipeline(steps=[(&#x27;tfidf&#x27;,\n",
              "                                              TfidfVectorizer(ngram_range=(1,\n",
              "                                                                           2))),\n",
              "                                             (&#x27;xgb&#x27;,\n",
              "                                              XGBClassifier(base_score=None,\n",
              "                                                            booster=None,\n",
              "                                                            callbacks=None,\n",
              "                                                            colsample_bylevel=None,\n",
              "                                                            colsample_bynode=None,\n",
              "                                                            colsample_bytree=None,\n",
              "                                                            early_stopping_rounds=None,\n",
              "                                                            enable_categorical=False,\n",
              "                                                            eval_metric=&#x27;rmse&#x27;,\n",
              "                                                            feat...\n",
              "                   n_iter=45, n_jobs=-1,\n",
              "                   param_distributions={&#x27;tfidf__analyzer&#x27;: [&#x27;word&#x27;, &#x27;char&#x27;,\n",
              "                                                            &#x27;char_wb&#x27;],\n",
              "                                        &#x27;tfidf__max_df&#x27;: [0.2],\n",
              "                                        &#x27;tfidf__min_df&#x27;: [11],\n",
              "                                        &#x27;tfidf__ngram_range&#x27;: [(1, 5)],\n",
              "                                        &#x27;tfidf__smooth_idf&#x27;: [False],\n",
              "                                        &#x27;tfidf__strip_accents&#x27;: [None],\n",
              "                                        &#x27;tfidf__sublinear_tf&#x27;: [True],\n",
              "                                        &#x27;xgb__booster&#x27;: [&#x27;gbtree&#x27;, &#x27;gblinear&#x27;,\n",
              "                                                         &#x27;dart&#x27;],\n",
              "                                        &#x27;xgb__learning_rate&#x27;: [1.0, 0.1, 0.01,\n",
              "                                                               0.0001, 1.5]},\n",
              "                   scoring=&#x27;roc_auc&#x27;)</pre></div></div></div><div class=\"sk-parallel\"><div class=\"sk-parallel-item\"><div class=\"sk-item\"><div class=\"sk-label-container\"><div class=\"sk-label sk-toggleable\"><input class=\"sk-toggleable__control sk-hidden--visually\" id=\"sk-estimator-id-3\" type=\"checkbox\" ><label for=\"sk-estimator-id-3\" class=\"sk-toggleable__label sk-toggleable__label-arrow\">estimator: Pipeline</label><div class=\"sk-toggleable__content\"><pre>Pipeline(steps=[(&#x27;tfidf&#x27;, TfidfVectorizer(ngram_range=(1, 2))),\n",
              "                (&#x27;xgb&#x27;,\n",
              "                 XGBClassifier(base_score=None, booster=None, callbacks=None,\n",
              "                               colsample_bylevel=None, colsample_bynode=None,\n",
              "                               colsample_bytree=None,\n",
              "                               early_stopping_rounds=None,\n",
              "                               enable_categorical=False, eval_metric=&#x27;rmse&#x27;,\n",
              "                               feature_types=None, gamma=None, gpu_id=None,\n",
              "                               grow_policy=None, importance_type=None,\n",
              "                               interaction_constraints=None, learning_rate=None,\n",
              "                               max_bin=None, max_cat_threshold=None,\n",
              "                               max_cat_to_onehot=None, max_delta_step=None,\n",
              "                               max_depth=None, max_leaves=None,\n",
              "                               min_child_weight=None, missing=nan,\n",
              "                               monotone_constraints=None, n_estimators=100,\n",
              "                               n_jobs=-1, num_parallel_tree=None,\n",
              "                               predictor=None, random_state=42, ...))])</pre></div></div></div><div class=\"sk-serial\"><div class=\"sk-item\"><div class=\"sk-serial\"><div class=\"sk-item\"><div class=\"sk-estimator sk-toggleable\"><input class=\"sk-toggleable__control sk-hidden--visually\" id=\"sk-estimator-id-4\" type=\"checkbox\" ><label for=\"sk-estimator-id-4\" class=\"sk-toggleable__label sk-toggleable__label-arrow\">TfidfVectorizer</label><div class=\"sk-toggleable__content\"><pre>TfidfVectorizer(ngram_range=(1, 2))</pre></div></div></div><div class=\"sk-item\"><div class=\"sk-estimator sk-toggleable\"><input class=\"sk-toggleable__control sk-hidden--visually\" id=\"sk-estimator-id-5\" type=\"checkbox\" ><label for=\"sk-estimator-id-5\" class=\"sk-toggleable__label sk-toggleable__label-arrow\">XGBClassifier</label><div class=\"sk-toggleable__content\"><pre>XGBClassifier(base_score=None, booster=None, callbacks=None,\n",
              "              colsample_bylevel=None, colsample_bynode=None,\n",
              "              colsample_bytree=None, early_stopping_rounds=None,\n",
              "              enable_categorical=False, eval_metric=&#x27;rmse&#x27;, feature_types=None,\n",
              "              gamma=None, gpu_id=None, grow_policy=None, importance_type=None,\n",
              "              interaction_constraints=None, learning_rate=None, max_bin=None,\n",
              "              max_cat_threshold=None, max_cat_to_onehot=None,\n",
              "              max_delta_step=None, max_depth=None, max_leaves=None,\n",
              "              min_child_weight=None, missing=nan, monotone_constraints=None,\n",
              "              n_estimators=100, n_jobs=-1, num_parallel_tree=None,\n",
              "              predictor=None, random_state=42, ...)</pre></div></div></div></div></div></div></div></div></div></div></div></div>"
            ]
          },
          "metadata": {},
          "execution_count": 31
        }
      ]
    },
    {
      "cell_type": "markdown",
      "source": [
        "After testing the best model from the random search with testing data set we get accuracy **81.694%** </br>\n",
        "One possible reasone is that in these attempet we used validation set not cross validation.  </br>\n",
        "Other reason why Random Search may achieve higher accuracy than Bayesian Search for the XGBoost model is that Random Search is a simpler and more straightforward approach."
      ],
      "metadata": {
        "id": "3U7HW7onExXU"
      }
    },
    {
      "cell_type": "markdown",
      "source": [
        "##### Random Forest Wihout Cross validation V1"
      ],
      "metadata": {
        "id": "fGbDbCVoHK8i"
      }
    },
    {
      "cell_type": "markdown",
      "source": [
        "For these attempt, we will use:\n",
        "1. Random Forest(commonly used machine learning algorithm for classification problems) with validation set.\n",
        "2. Third method of cleaning \n",
        "3. TF IDF With word vector\n",
        "4. Lamitization\n",
        "5. Random search"
      ],
      "metadata": {
        "id": "Kay2IlE7F0ZV"
      }
    },
    {
      "cell_type": "code",
      "source": [
        "# feature creation and modelling in a single function\n",
        "pipe = Pipeline([(\"tfidf\", TfidfVectorizer(ngram_range = (1, 2),analyzer=\"word\", norm=\"l2\")), (\"RandomForest\", RandomForestClassifier(random_state=1))])\n",
        "\n",
        "# define parameter space to test # runtime 35min\n",
        "params = {\n",
        "    \"tfidf__ngram_range\": [(1, 2), (1, 3)],\n",
        "    \"tfidf__max_df\": np.arange(0.3, 0.8),\n",
        "    \"tfidf__min_df\": np.arange(5, 100),\n",
        "}\n",
        "# it is quite slow so we do 4 for now\n",
        "pipe_clf = RandomizedSearchCV(\n",
        "    pipe, params, n_jobs=-1,cv=pds, scoring=\"roc_auc\", n_iter=30)\n",
        "pipe_clf.fit(X_train, Y_train)\n",
        "# pickle.dump(pipe_clf, open(\"./clf_pipe.pck\", \"wb\"))"
      ],
      "metadata": {
        "id": "emGbRLhejVFg",
        "colab": {
          "base_uri": "https://localhost:8080/",
          "height": 223
        },
        "outputId": "deab5b07-89bb-4510-aff7-fcfa0005ed9f"
      },
      "execution_count": null,
      "outputs": [
        {
          "output_type": "stream",
          "name": "stderr",
          "text": [
            "/usr/local/lib/python3.9/dist-packages/sklearn/model_selection/_search.py:952: UserWarning: One or more of the test scores are non-finite: [nan nan nan nan nan nan nan nan nan nan nan nan nan nan nan nan nan nan\n",
            " nan nan nan nan nan nan nan nan nan nan nan nan]\n",
            "  warnings.warn(\n"
          ]
        },
        {
          "output_type": "execute_result",
          "data": {
            "text/plain": [
              "RandomizedSearchCV(cv=PredefinedSplit(test_fold=array([ 0, -1, ..., -1,  0])),\n",
              "                   estimator=Pipeline(steps=[('tfidf',\n",
              "                                              TfidfVectorizer(ngram_range=(1,\n",
              "                                                                           2))),\n",
              "                                             ('RandomForest',\n",
              "                                              RandomForestClassifier(random_state=1))]),\n",
              "                   n_iter=30, n_jobs=-1,\n",
              "                   param_distributions={'tfidf__max_df': array([0.3]),\n",
              "                                        'tfidf__min_df': array([ 5,  6,  7,  8,  9, 10, 11, 12, 13, 14, 15, 16, 17, 18, 19, 20, 21,\n",
              "       22, 23, 24, 25, 26, 27, 28, 29, 30, 31, 32, 33, 34, 35, 36, 37, 38,\n",
              "       39, 40, 41, 42, 43, 44, 45, 46, 47, 48, 49, 50, 51, 52, 53, 54, 55,\n",
              "       56, 57, 58, 59, 60, 61, 62, 63, 64, 65, 66, 67, 68, 69, 70, 71, 72,\n",
              "       73, 74, 75, 76, 77, 78, 79, 80, 81, 82, 83, 84, 85, 86, 87, 88, 89,\n",
              "       90, 91, 92, 93, 94, 95, 96, 97, 98, 99]),\n",
              "                                        'tfidf__ngram_range': [(1, 2), (1, 3)]},\n",
              "                   scoring='roc_auc')"
            ],
            "text/html": [
              "<style>#sk-container-id-2 {color: black;background-color: white;}#sk-container-id-2 pre{padding: 0;}#sk-container-id-2 div.sk-toggleable {background-color: white;}#sk-container-id-2 label.sk-toggleable__label {cursor: pointer;display: block;width: 100%;margin-bottom: 0;padding: 0.3em;box-sizing: border-box;text-align: center;}#sk-container-id-2 label.sk-toggleable__label-arrow:before {content: \"▸\";float: left;margin-right: 0.25em;color: #696969;}#sk-container-id-2 label.sk-toggleable__label-arrow:hover:before {color: black;}#sk-container-id-2 div.sk-estimator:hover label.sk-toggleable__label-arrow:before {color: black;}#sk-container-id-2 div.sk-toggleable__content {max-height: 0;max-width: 0;overflow: hidden;text-align: left;background-color: #f0f8ff;}#sk-container-id-2 div.sk-toggleable__content pre {margin: 0.2em;color: black;border-radius: 0.25em;background-color: #f0f8ff;}#sk-container-id-2 input.sk-toggleable__control:checked~div.sk-toggleable__content {max-height: 200px;max-width: 100%;overflow: auto;}#sk-container-id-2 input.sk-toggleable__control:checked~label.sk-toggleable__label-arrow:before {content: \"▾\";}#sk-container-id-2 div.sk-estimator input.sk-toggleable__control:checked~label.sk-toggleable__label {background-color: #d4ebff;}#sk-container-id-2 div.sk-label input.sk-toggleable__control:checked~label.sk-toggleable__label {background-color: #d4ebff;}#sk-container-id-2 input.sk-hidden--visually {border: 0;clip: rect(1px 1px 1px 1px);clip: rect(1px, 1px, 1px, 1px);height: 1px;margin: -1px;overflow: hidden;padding: 0;position: absolute;width: 1px;}#sk-container-id-2 div.sk-estimator {font-family: monospace;background-color: #f0f8ff;border: 1px dotted black;border-radius: 0.25em;box-sizing: border-box;margin-bottom: 0.5em;}#sk-container-id-2 div.sk-estimator:hover {background-color: #d4ebff;}#sk-container-id-2 div.sk-parallel-item::after {content: \"\";width: 100%;border-bottom: 1px solid gray;flex-grow: 1;}#sk-container-id-2 div.sk-label:hover label.sk-toggleable__label {background-color: #d4ebff;}#sk-container-id-2 div.sk-serial::before {content: \"\";position: absolute;border-left: 1px solid gray;box-sizing: border-box;top: 0;bottom: 0;left: 50%;z-index: 0;}#sk-container-id-2 div.sk-serial {display: flex;flex-direction: column;align-items: center;background-color: white;padding-right: 0.2em;padding-left: 0.2em;position: relative;}#sk-container-id-2 div.sk-item {position: relative;z-index: 1;}#sk-container-id-2 div.sk-parallel {display: flex;align-items: stretch;justify-content: center;background-color: white;position: relative;}#sk-container-id-2 div.sk-item::before, #sk-container-id-2 div.sk-parallel-item::before {content: \"\";position: absolute;border-left: 1px solid gray;box-sizing: border-box;top: 0;bottom: 0;left: 50%;z-index: -1;}#sk-container-id-2 div.sk-parallel-item {display: flex;flex-direction: column;z-index: 1;position: relative;background-color: white;}#sk-container-id-2 div.sk-parallel-item:first-child::after {align-self: flex-end;width: 50%;}#sk-container-id-2 div.sk-parallel-item:last-child::after {align-self: flex-start;width: 50%;}#sk-container-id-2 div.sk-parallel-item:only-child::after {width: 0;}#sk-container-id-2 div.sk-dashed-wrapped {border: 1px dashed gray;margin: 0 0.4em 0.5em 0.4em;box-sizing: border-box;padding-bottom: 0.4em;background-color: white;}#sk-container-id-2 div.sk-label label {font-family: monospace;font-weight: bold;display: inline-block;line-height: 1.2em;}#sk-container-id-2 div.sk-label-container {text-align: center;}#sk-container-id-2 div.sk-container {/* jupyter's `normalize.less` sets `[hidden] { display: none; }` but bootstrap.min.css set `[hidden] { display: none !important; }` so we also need the `!important` here to be able to override the default hidden behavior on the sphinx rendered scikit-learn.org. See: https://github.com/scikit-learn/scikit-learn/issues/21755 */display: inline-block !important;position: relative;}#sk-container-id-2 div.sk-text-repr-fallback {display: none;}</style><div id=\"sk-container-id-2\" class=\"sk-top-container\"><div class=\"sk-text-repr-fallback\"><pre>RandomizedSearchCV(cv=PredefinedSplit(test_fold=array([ 0, -1, ..., -1,  0])),\n",
              "                   estimator=Pipeline(steps=[(&#x27;tfidf&#x27;,\n",
              "                                              TfidfVectorizer(ngram_range=(1,\n",
              "                                                                           2))),\n",
              "                                             (&#x27;RandomForest&#x27;,\n",
              "                                              RandomForestClassifier(random_state=1))]),\n",
              "                   n_iter=30, n_jobs=-1,\n",
              "                   param_distributions={&#x27;tfidf__max_df&#x27;: array([0.3]),\n",
              "                                        &#x27;tfidf__min_df&#x27;: array([ 5,  6,  7,  8,  9, 10, 11, 12, 13, 14, 15, 16, 17, 18, 19, 20, 21,\n",
              "       22, 23, 24, 25, 26, 27, 28, 29, 30, 31, 32, 33, 34, 35, 36, 37, 38,\n",
              "       39, 40, 41, 42, 43, 44, 45, 46, 47, 48, 49, 50, 51, 52, 53, 54, 55,\n",
              "       56, 57, 58, 59, 60, 61, 62, 63, 64, 65, 66, 67, 68, 69, 70, 71, 72,\n",
              "       73, 74, 75, 76, 77, 78, 79, 80, 81, 82, 83, 84, 85, 86, 87, 88, 89,\n",
              "       90, 91, 92, 93, 94, 95, 96, 97, 98, 99]),\n",
              "                                        &#x27;tfidf__ngram_range&#x27;: [(1, 2), (1, 3)]},\n",
              "                   scoring=&#x27;roc_auc&#x27;)</pre><b>In a Jupyter environment, please rerun this cell to show the HTML representation or trust the notebook. <br />On GitHub, the HTML representation is unable to render, please try loading this page with nbviewer.org.</b></div><div class=\"sk-container\" hidden><div class=\"sk-item sk-dashed-wrapped\"><div class=\"sk-label-container\"><div class=\"sk-label sk-toggleable\"><input class=\"sk-toggleable__control sk-hidden--visually\" id=\"sk-estimator-id-2\" type=\"checkbox\" ><label for=\"sk-estimator-id-2\" class=\"sk-toggleable__label sk-toggleable__label-arrow\">RandomizedSearchCV</label><div class=\"sk-toggleable__content\"><pre>RandomizedSearchCV(cv=PredefinedSplit(test_fold=array([ 0, -1, ..., -1,  0])),\n",
              "                   estimator=Pipeline(steps=[(&#x27;tfidf&#x27;,\n",
              "                                              TfidfVectorizer(ngram_range=(1,\n",
              "                                                                           2))),\n",
              "                                             (&#x27;RandomForest&#x27;,\n",
              "                                              RandomForestClassifier(random_state=1))]),\n",
              "                   n_iter=30, n_jobs=-1,\n",
              "                   param_distributions={&#x27;tfidf__max_df&#x27;: array([0.3]),\n",
              "                                        &#x27;tfidf__min_df&#x27;: array([ 5,  6,  7,  8,  9, 10, 11, 12, 13, 14, 15, 16, 17, 18, 19, 20, 21,\n",
              "       22, 23, 24, 25, 26, 27, 28, 29, 30, 31, 32, 33, 34, 35, 36, 37, 38,\n",
              "       39, 40, 41, 42, 43, 44, 45, 46, 47, 48, 49, 50, 51, 52, 53, 54, 55,\n",
              "       56, 57, 58, 59, 60, 61, 62, 63, 64, 65, 66, 67, 68, 69, 70, 71, 72,\n",
              "       73, 74, 75, 76, 77, 78, 79, 80, 81, 82, 83, 84, 85, 86, 87, 88, 89,\n",
              "       90, 91, 92, 93, 94, 95, 96, 97, 98, 99]),\n",
              "                                        &#x27;tfidf__ngram_range&#x27;: [(1, 2), (1, 3)]},\n",
              "                   scoring=&#x27;roc_auc&#x27;)</pre></div></div></div><div class=\"sk-parallel\"><div class=\"sk-parallel-item\"><div class=\"sk-item\"><div class=\"sk-label-container\"><div class=\"sk-label sk-toggleable\"><input class=\"sk-toggleable__control sk-hidden--visually\" id=\"sk-estimator-id-3\" type=\"checkbox\" ><label for=\"sk-estimator-id-3\" class=\"sk-toggleable__label sk-toggleable__label-arrow\">estimator: Pipeline</label><div class=\"sk-toggleable__content\"><pre>Pipeline(steps=[(&#x27;tfidf&#x27;, TfidfVectorizer(ngram_range=(1, 2))),\n",
              "                (&#x27;RandomForest&#x27;, RandomForestClassifier(random_state=1))])</pre></div></div></div><div class=\"sk-serial\"><div class=\"sk-item\"><div class=\"sk-serial\"><div class=\"sk-item\"><div class=\"sk-estimator sk-toggleable\"><input class=\"sk-toggleable__control sk-hidden--visually\" id=\"sk-estimator-id-4\" type=\"checkbox\" ><label for=\"sk-estimator-id-4\" class=\"sk-toggleable__label sk-toggleable__label-arrow\">TfidfVectorizer</label><div class=\"sk-toggleable__content\"><pre>TfidfVectorizer(ngram_range=(1, 2))</pre></div></div></div><div class=\"sk-item\"><div class=\"sk-estimator sk-toggleable\"><input class=\"sk-toggleable__control sk-hidden--visually\" id=\"sk-estimator-id-5\" type=\"checkbox\" ><label for=\"sk-estimator-id-5\" class=\"sk-toggleable__label sk-toggleable__label-arrow\">RandomForestClassifier</label><div class=\"sk-toggleable__content\"><pre>RandomForestClassifier(random_state=1)</pre></div></div></div></div></div></div></div></div></div></div></div></div>"
            ]
          },
          "metadata": {},
          "execution_count": 36
        }
      ]
    },
    {
      "cell_type": "code",
      "source": [
        "print(pipe_clf.best_params_)"
      ],
      "metadata": {
        "id": "UP5siZo6jdQD",
        "colab": {
          "base_uri": "https://localhost:8080/"
        },
        "outputId": "c74c4cf9-8812-45b1-85e1-3cb582a0e69b"
      },
      "execution_count": null,
      "outputs": [
        {
          "output_type": "stream",
          "name": "stdout",
          "text": [
            "{'tfidf__ngram_range': (1, 2), 'tfidf__min_df': 55, 'tfidf__max_df': 0.3}\n"
          ]
        }
      ]
    },
    {
      "cell_type": "markdown",
      "source": [
        "These attempet get the higher accuracy on testing dataset **86.364%**"
      ],
      "metadata": {
        "id": "CchFs81RGDjE"
      }
    },
    {
      "cell_type": "markdown",
      "source": [
        "##### Random Forest Wihout Cross validation V2"
      ],
      "metadata": {
        "id": "Rql_1SW1NyCk"
      }
    },
    {
      "cell_type": "markdown",
      "source": [
        "For these attempt, we will use:\n",
        "1. Random Forest(commonly used machine learning algorithm for classification problems) with validation set.\n",
        "2. Third method of cleaning \n",
        "3. TF IDF With word vector\n",
        "4. Streamer\n",
        "5. Random search"
      ],
      "metadata": {
        "id": "pobYfrtqN1Dk"
      }
    },
    {
      "cell_type": "code",
      "source": [
        "#Third Method of cleaning\n",
        "data_clean[\"comment_clean\"] = data_clean['text'].apply(lambda x: clean_text(x,lamitize = False))\n"
      ],
      "metadata": {
        "id": "7rqa3a--N8ub"
      },
      "execution_count": null,
      "outputs": []
    },
    {
      "cell_type": "code",
      "execution_count": null,
      "metadata": {
        "outputId": "0046279a-e4f7-4265-b51a-6424db22770a",
        "id": "tPU6MW7nlN8H"
      },
      "outputs": [
        {
          "name": "stdout",
          "output_type": "stream",
          "text": [
            "Best hyperparameters:  {'tfidf__ngram_range': (1, 2), 'tfidf__min_df': 7, 'tfidf__max_df': 0.3}\n",
            "Best score:  0.8362188498194227\n"
          ]
        }
      ],
      "source": [
        "X_train = data_clean[\"comment_clean\"]\n",
        "Y_train = data_clean[\"label\"]\n",
        "\n",
        "# Further split the original training set to a train and a validation set\n",
        "X_train2, X_val, y_train2, y_val = train_test_split(\n",
        "    X_train, Y_train, train_size = 0.8, stratify = Y_train, random_state = 2022)\n",
        "\n",
        "\n",
        "# Create a list where train data indices are -1 and validation data indices are 0\n",
        "# X_train2 (new training set), X_train\n",
        "split_index = [-1 if x in X_train2.index else 0 for x in X_train.index]\n",
        "\n",
        "# Use the list to create PredefinedSplit\n",
        "pds = PredefinedSplit(test_fold = split_index)\n",
        "\n",
        "\n",
        "# feature creation and modelling in a single function\n",
        "pipe = Pipeline([(\"tfidf\", TfidfVectorizer(ngram_range = (1, 2),analyzer=\"word\", norm=\"l2\")), (\"RandomForest\", RandomForestClassifier(random_state=1))])\n",
        "\n",
        "# define parameter space to test # runtime 35min\n",
        "params = {\n",
        "    \"tfidf__ngram_range\": [(1, 2), (1, 3)],\n",
        "    \"tfidf__max_df\": np.arange(0.3, 0.8),\n",
        "    \"tfidf__min_df\": np.arange(5, 100),\n",
        "}\n",
        "# it is quite slow so we do 4 for now\n",
        "pipe_clf = RandomizedSearchCV(\n",
        "    pipe, params, n_jobs=-1, scoring=\"roc_auc\", n_iter=45)\n",
        "pipe_clf.fit(X_train, Y_train)\n",
        "# pickle.dump(pipe_clf, open(\"./clf_pipe.pck\", \"wb\"))\n",
        "\n",
        "best_params = pipe_clf.best_params_\n",
        "\n",
        "# Print the best hyperparameters and score\n",
        "print(\"Best hyperparameters: \", pipe_clf.best_params_)\n",
        "print(\"Best score: \", pipe_clf.best_score_)\n"
      ]
    },
    {
      "cell_type": "markdown",
      "source": [
        "when we compare between using steaming and lammitization for pre processing we can see that the accurace decreassed when we used steaming"
      ],
      "metadata": {
        "id": "jtHWnDsGmo5Y"
      }
    },
    {
      "cell_type": "markdown",
      "source": [
        "##### SVC Wihout Cross validation"
      ],
      "metadata": {
        "id": "kqNb5-Ri7-KI"
      }
    },
    {
      "cell_type": "markdown",
      "source": [
        "For these attempt, we will use:\n",
        "1. SVC with validation set.\n",
        "2. Third method of cleaning \n",
        "3. TF IDF With word vector\n",
        "4. Lamitization\n",
        "5. Random search"
      ],
      "metadata": {
        "id": "gaKTJw2mGwkO"
      }
    },
    {
      "cell_type": "code",
      "source": [
        "%%time\n",
        "# feature creation and modelling in a single function\n",
        "pipe = Pipeline([(\"tfidf\", TfidfVectorizer()), (\"svc\", LinearSVC())])\n",
        "\n",
        "# define parameter space to test # runtime 19min\n",
        "params = {\n",
        "    \"tfidf__ngram_range\": [(1, 3)],\n",
        "    \"tfidf__max_df\": [0.5],\n",
        "    \"tfidf__min_df\": [5],\n",
        "    \"svc__C\": np.arange(0.2, 1, 0.15),\n",
        "}\n",
        "pipe_svc_clf = RandomizedSearchCV(pipe, params, n_jobs=-1, scoring=\"f1_macro\",  n_iter=3)\n",
        "pipe_svc_clf.fit(X_train, Y_train)\n",
        "# pickle.dump(pipe_svc_clf, open(\"./pipe_svc_clf.pck\", \"wb\"))"
      ],
      "metadata": {
        "id": "jrZPvE9BjhFm",
        "colab": {
          "base_uri": "https://localhost:8080/"
        },
        "outputId": "8337e596-3488-47bf-b952-62e409601b4b"
      },
      "execution_count": null,
      "outputs": [
        {
          "output_type": "stream",
          "name": "stdout",
          "text": [
            "CPU times: user 9.55 s, sys: 454 ms, total: 10 s\n",
            "Wall time: 1min 23s\n"
          ]
        }
      ]
    },
    {
      "cell_type": "code",
      "source": [
        "best_params = pipe_svc_clf.best_params_\n",
        "print(best_params)"
      ],
      "metadata": {
        "id": "l8Xs3WrJjjo0",
        "colab": {
          "base_uri": "https://localhost:8080/"
        },
        "outputId": "68f42a10-d6e5-44f8-bc6d-21a54bf26a5f"
      },
      "execution_count": null,
      "outputs": [
        {
          "output_type": "stream",
          "name": "stdout",
          "text": [
            "{'tfidf__ngram_range': (1, 3), 'tfidf__min_df': 5, 'tfidf__max_df': 0.5, 'svc__C': 0.7999999999999998}\n"
          ]
        }
      ]
    },
    {
      "cell_type": "markdown",
      "source": [
        "Here we noticed that the training accuracy is low </br>\n",
        "One possible reason why SVC may achieve low accuracy for text classification is that it may not be able to handle high dimensional data effectively. This is because text data can have a large number of features, which can make the resulting feature space very large and sparse."
      ],
      "metadata": {
        "id": "phnC89HlGW4j"
      }
    },
    {
      "cell_type": "markdown",
      "source": [
        "### Using Character vectorization"
      ],
      "metadata": {
        "id": "iN8SyBWekKQ6"
      }
    },
    {
      "cell_type": "markdown",
      "source": [
        "#### Random forest Without Cross validation"
      ],
      "metadata": {
        "id": "r3XnGToZjhGp"
      }
    },
    {
      "cell_type": "markdown",
      "source": [
        "For these attempt, we will use:\n",
        "1. Random Forest with validation set.\n",
        "2. Third method of cleaning \n",
        "3. TF IDF With char vector\n",
        "4. Lamitization\n",
        "5. Random search"
      ],
      "metadata": {
        "id": "VH_7ATW9HAnI"
      }
    },
    {
      "cell_type": "code",
      "execution_count": null,
      "metadata": {
        "outputId": "f5f43873-f986-44ac-a005-f29822756f6a",
        "id": "YPYcu2TGlUoX"
      },
      "outputs": [
        {
          "name": "stdout",
          "output_type": "stream",
          "text": [
            "Best hyperparameters:  {'tfidf__ngram_range': (1, 3), 'tfidf__min_df': 31, 'tfidf__max_df': 0.3}\n",
            "Best score:  0.7924789686506418\n"
          ]
        }
      ],
      "source": [
        "X_train = data_clean[\"comment_clean\"]\n",
        "Y_train = data_clean[\"label\"]\n",
        "\n",
        "# Further split the original training set to a train and a validation set\n",
        "X_train2, X_val, y_train2, y_val = train_test_split(\n",
        "    X_train, Y_train, train_size = 0.8, stratify = Y_train, random_state = 2022)\n",
        "\n",
        "\n",
        "# Create a list where train data indices are -1 and validation data indices are 0\n",
        "# X_train2 (new training set), X_train\n",
        "split_index = [-1 if x in X_train2.index else 0 for x in X_train.index]\n",
        "\n",
        "# Use the list to create PredefinedSplit\n",
        "pds = PredefinedSplit(test_fold = split_index)\n",
        "\n",
        "\n",
        "# feature creation and modelling in a single function\n",
        "pipe = Pipeline([(\"tfidf\", TfidfVectorizer(ngram_range = (1, 2),analyzer=\"char\", norm=\"l2\")), (\"RandomForest\", RandomForestClassifier(random_state=1))])\n",
        "\n",
        "# define parameter space to test # runtime 35min\n",
        "params = {\n",
        "    \"tfidf__ngram_range\": [(1, 2), (1, 3)],\n",
        "    \"tfidf__max_df\": np.arange(0.3, 0.8),\n",
        "    \"tfidf__min_df\": np.arange(5, 100),\n",
        "}\n",
        "# it is quite slow so we do 4 for now\n",
        "pipe_clf = RandomizedSearchCV(\n",
        "    pipe, params, n_jobs=-1, scoring=\"roc_auc\", n_iter=45)\n",
        "pipe_clf.fit(X_train, Y_train)\n",
        "# pickle.dump(pipe_clf, open(\"./clf_pipe.pck\", \"wb\"))\n",
        "\n",
        "best_params = pipe_clf.best_params_\n",
        "\n",
        "# Print the best hyperparameters and score\n",
        "print(\"Best hyperparameters: \", pipe_clf.best_params_)\n",
        "print(\"Best score: \", pipe_clf.best_score_)\n"
      ]
    },
    {
      "cell_type": "markdown",
      "source": [
        "From above we can notice that the accuracy decreassed when we used character vectorization rather than word vecotrization. "
      ],
      "metadata": {
        "id": "6RxReWevmvSR"
      }
    },
    {
      "cell_type": "markdown",
      "source": [
        "# The best Model \n",
        "\n",
        "So the best model for our problem is:</br>\n",
        "1. Random  Forest with validation set.\n",
        "2. Third method of cleaning\n",
        "3. TF IDF With word vector\n",
        "4. Lamitization\n",
        "5. Random search\n",
        "\n",
        "As It accuracy in the testing data set **86.364%**"
      ],
      "metadata": {
        "id": "hU1ksHKsIHH-"
      }
    },
    {
      "cell_type": "markdown",
      "source": [
        "## Using test dataset"
      ],
      "metadata": {
        "id": "Av1YDFmZTOND"
      }
    },
    {
      "cell_type": "code",
      "source": [
        "classifiers[0]"
      ],
      "metadata": {
        "colab": {
          "base_uri": "https://localhost:8080/",
          "height": 74
        },
        "id": "7-4VzGe-T1T1",
        "outputId": "0b548946-b4de-42d8-e553-58a82afeef10"
      },
      "execution_count": null,
      "outputs": [
        {
          "output_type": "execute_result",
          "data": {
            "text/plain": [
              "LogisticRegression(random_state=1, solver='sag')"
            ],
            "text/html": [
              "<style>#sk-container-id-2 {color: black;background-color: white;}#sk-container-id-2 pre{padding: 0;}#sk-container-id-2 div.sk-toggleable {background-color: white;}#sk-container-id-2 label.sk-toggleable__label {cursor: pointer;display: block;width: 100%;margin-bottom: 0;padding: 0.3em;box-sizing: border-box;text-align: center;}#sk-container-id-2 label.sk-toggleable__label-arrow:before {content: \"▸\";float: left;margin-right: 0.25em;color: #696969;}#sk-container-id-2 label.sk-toggleable__label-arrow:hover:before {color: black;}#sk-container-id-2 div.sk-estimator:hover label.sk-toggleable__label-arrow:before {color: black;}#sk-container-id-2 div.sk-toggleable__content {max-height: 0;max-width: 0;overflow: hidden;text-align: left;background-color: #f0f8ff;}#sk-container-id-2 div.sk-toggleable__content pre {margin: 0.2em;color: black;border-radius: 0.25em;background-color: #f0f8ff;}#sk-container-id-2 input.sk-toggleable__control:checked~div.sk-toggleable__content {max-height: 200px;max-width: 100%;overflow: auto;}#sk-container-id-2 input.sk-toggleable__control:checked~label.sk-toggleable__label-arrow:before {content: \"▾\";}#sk-container-id-2 div.sk-estimator input.sk-toggleable__control:checked~label.sk-toggleable__label {background-color: #d4ebff;}#sk-container-id-2 div.sk-label input.sk-toggleable__control:checked~label.sk-toggleable__label {background-color: #d4ebff;}#sk-container-id-2 input.sk-hidden--visually {border: 0;clip: rect(1px 1px 1px 1px);clip: rect(1px, 1px, 1px, 1px);height: 1px;margin: -1px;overflow: hidden;padding: 0;position: absolute;width: 1px;}#sk-container-id-2 div.sk-estimator {font-family: monospace;background-color: #f0f8ff;border: 1px dotted black;border-radius: 0.25em;box-sizing: border-box;margin-bottom: 0.5em;}#sk-container-id-2 div.sk-estimator:hover {background-color: #d4ebff;}#sk-container-id-2 div.sk-parallel-item::after {content: \"\";width: 100%;border-bottom: 1px solid gray;flex-grow: 1;}#sk-container-id-2 div.sk-label:hover label.sk-toggleable__label {background-color: #d4ebff;}#sk-container-id-2 div.sk-serial::before {content: \"\";position: absolute;border-left: 1px solid gray;box-sizing: border-box;top: 0;bottom: 0;left: 50%;z-index: 0;}#sk-container-id-2 div.sk-serial {display: flex;flex-direction: column;align-items: center;background-color: white;padding-right: 0.2em;padding-left: 0.2em;position: relative;}#sk-container-id-2 div.sk-item {position: relative;z-index: 1;}#sk-container-id-2 div.sk-parallel {display: flex;align-items: stretch;justify-content: center;background-color: white;position: relative;}#sk-container-id-2 div.sk-item::before, #sk-container-id-2 div.sk-parallel-item::before {content: \"\";position: absolute;border-left: 1px solid gray;box-sizing: border-box;top: 0;bottom: 0;left: 50%;z-index: -1;}#sk-container-id-2 div.sk-parallel-item {display: flex;flex-direction: column;z-index: 1;position: relative;background-color: white;}#sk-container-id-2 div.sk-parallel-item:first-child::after {align-self: flex-end;width: 50%;}#sk-container-id-2 div.sk-parallel-item:last-child::after {align-self: flex-start;width: 50%;}#sk-container-id-2 div.sk-parallel-item:only-child::after {width: 0;}#sk-container-id-2 div.sk-dashed-wrapped {border: 1px dashed gray;margin: 0 0.4em 0.5em 0.4em;box-sizing: border-box;padding-bottom: 0.4em;background-color: white;}#sk-container-id-2 div.sk-label label {font-family: monospace;font-weight: bold;display: inline-block;line-height: 1.2em;}#sk-container-id-2 div.sk-label-container {text-align: center;}#sk-container-id-2 div.sk-container {/* jupyter's `normalize.less` sets `[hidden] { display: none; }` but bootstrap.min.css set `[hidden] { display: none !important; }` so we also need the `!important` here to be able to override the default hidden behavior on the sphinx rendered scikit-learn.org. See: https://github.com/scikit-learn/scikit-learn/issues/21755 */display: inline-block !important;position: relative;}#sk-container-id-2 div.sk-text-repr-fallback {display: none;}</style><div id=\"sk-container-id-2\" class=\"sk-top-container\"><div class=\"sk-text-repr-fallback\"><pre>LogisticRegression(random_state=1, solver=&#x27;sag&#x27;)</pre><b>In a Jupyter environment, please rerun this cell to show the HTML representation or trust the notebook. <br />On GitHub, the HTML representation is unable to render, please try loading this page with nbviewer.org.</b></div><div class=\"sk-container\" hidden><div class=\"sk-item\"><div class=\"sk-estimator sk-toggleable\"><input class=\"sk-toggleable__control sk-hidden--visually\" id=\"sk-estimator-id-2\" type=\"checkbox\" checked><label for=\"sk-estimator-id-2\" class=\"sk-toggleable__label sk-toggleable__label-arrow\">LogisticRegression</label><div class=\"sk-toggleable__content\"><pre>LogisticRegression(random_state=1, solver=&#x27;sag&#x27;)</pre></div></div></div></div></div>"
            ]
          },
          "metadata": {},
          "execution_count": 42
        }
      ]
    },
    {
      "cell_type": "code",
      "source": [
        "%%time\n",
        "# test all classifiers and save pred. results on test data\n",
        "\n",
        "for name, clf in zip(names, classifiers):\n",
        "    submission = pd.DataFrame()\n",
        "    submission['id'] = test_data['id']\n",
        "    test_data['comment_clean'] = test_data['text'].apply(lambda x: cleanerFUN(x))\n",
        "    # test_data['comment_clean'], e, e = cleaner(test_data, labeled=False) #V2\n",
        "    # test_data[\"comment_clean\"] = test_data['text'].apply(lambda x: clean_text(x)) # V3\n",
        "    test = vectorizer.transform(test_data[\"comment_clean\"])\n",
        "    submission['label'] = clf.predict_proba(test)[:,1]\n",
        "    submission.to_csv(f\"{name}.csv\", index=False)"
      ],
      "metadata": {
        "colab": {
          "base_uri": "https://localhost:8080/"
        },
        "id": "L5a_g-11UJBw",
        "outputId": "293f5d8f-cbf8-4920-871b-f94ae53d5cd9"
      },
      "execution_count": null,
      "outputs": [
        {
          "output_type": "stream",
          "name": "stdout",
          "text": [
            "CPU times: user 43.4 s, sys: 237 ms, total: 43.6 s\n",
            "Wall time: 43.7 s\n"
          ]
        }
      ]
    },
    {
      "cell_type": "code",
      "source": [
        "submission = pd.DataFrame()\n",
        "\n",
        "submission['id'] = test_data['id']\n",
        "\n",
        "test_data[\"comment_clean\"] = test_data['text'].apply(lambda x: clean_text(x)) \n",
        "\n",
        "submission['label'] = pipe_clf.predict_proba(test_data[\"comment_clean\"])[:,1]\n",
        "\n",
        "submission.to_csv(f\"RandomForesrttRS.csv\", index=False)"
      ],
      "metadata": {
        "id": "Rj_yecsmdR8H"
      },
      "execution_count": null,
      "outputs": []
    },
    {
      "cell_type": "markdown",
      "source": [
        "# Discussion"
      ],
      "metadata": {
        "id": "f4i3YZfrN2Rs"
      }
    },
    {
      "cell_type": "markdown",
      "source": [
        "**🌈 What is the difference between Character n-gram and Word n-gram? Which one tends to suffer more from the OOV issue?** </br></br>\n",
        "Character n-grams and word n-grams are two types of n-gram models used in natural language processing. The main difference between them is the level at which they operate.</br>\n",
        "\n",
        "Character n-grams operate at the character level, where each n-gram represents a sequence of n consecutive characters in a text. For example, the 3-gram \"cat\" in the word \"category\" would be represented as \"cat\", \"ate\", and \"teg\" in a character n-gram model.</br>\n",
        "\n",
        "Word n-grams, on the other hand, operate at the word level, where each n-gram represents a sequence of n consecutive words in a text. For example, the 3-gram \"cat\" in the sentence \"the cat sat on the mat\" would be represented as \"the cat sat\", \"cat sat on\", and \"sat on the\".</br>\n",
        "\n",
        "Regarding the OOV (Out-Of-Vocabulary) issue, character n-grams tend to suffer more than word n-grams. This is because character n-grams can generate a large number of possible n-grams, including many rare or unseen ones. In contrast, word n-grams are limited by the vocabulary of the language, which tends to be much smaller than the number of possible character n-grams. As a result, word n-grams are less likely to encounter unseen n-grams, whereas character n-grams are more likely to suffer from the OOV issue.</br>"
      ],
      "metadata": {
        "id": "NeGJv_MBOIIz"
      }
    },
    {
      "cell_type": "markdown",
      "source": [
        "**🌈 What is the difference between stop word removal and stemming? Are these techniques language-dependent?**</br></br>\n",
        "Stop word removal and stemming are two common techniques used in natural language processing for text pre-processing. The main differences between them are:</br></br>\n",
        "\n",
        "Stop word removal involves removing common words that are deemed to have little semantic value or do not contribute to the meaning of a text. Examples of stop words in English include \"the\", \"and\", \"a\", \"an\", \"of\", etc. The goal of stop word removal is to reduce the dimensionality of the text data and improve the performance of downstream tasks such as text classification or clustering.</br>\n",
        "\n",
        "Stemming, on the other hand, involves reducing words to their root or base form. The goal of stemming is to reduce inflectional forms and derivationally related forms of a word to a common base form, which can help in reducing the vocabulary size and improve the performance of text-related tasks.</br>\n",
        "\n",
        "Both stop word removal and stemming are language-dependent techniques, as different languages have different stop words and morphology. For example, the stop words in English are different from those in French or Chinese. Similarly, stemming rules and algorithms differ across languages, as the morphology of words varies from language to language.</br>"
      ],
      "metadata": {
        "id": "rD_GAiqsOWLQ"
      }
    },
    {
      "cell_type": "markdown",
      "source": [
        "**🌈 Is tokenization techniques language dependent? Why?**</br></br>\n",
        "\n",
        "\n",
        "Tokenization techniques can be language-dependent because different languages have different rules for word boundaries and tokenization. For example, in English, words are typically separated by spaces, but in some languages such as Chinese or Japanese, there are no spaces between words. In such cases, tokenization requires specific rules to identify word boundaries based on the language's writing system, which can be different from those used in languages that rely on spaces to separate words.</br>\n",
        "\n",
        "Moreover, some languages have morphologically rich inflectional systems, which can result in complex word forms and compound words. Such languages may require more sophisticated tokenization techniques to identify the correct word boundaries, including morphological analysis and sub-word tokenization.</br>\n",
        "\n",
        "Therefore, tokenization techniques can be language-dependent, and different languages may require different tokenization techniques to accurately represent the text data."
      ],
      "metadata": {
        "id": "KEIQOtTvOwyz"
      }
    },
    {
      "cell_type": "markdown",
      "source": [
        "**🌈 What is the difference between count vectorizer and tf-idf vectorizer? Would it be feasible to use all possible n-grams? If not, how should you select them?**</br></br>\n",
        "\n",
        "Count vectorizer and TF-IDF vectorizer are two commonly used text vectorization techniques in natural language processing. The main differences between them are:</br></br>\n",
        "\n",
        "Count vectorizer represents the frequency of each word in a text document, where each document is represented as a vector of word frequencies. This approach is simple and efficient and is widely used in many text-related tasks.</br>\n",
        "\n",
        "TF-IDF (term frequency-inverse document frequency) vectorizer, on the other hand, represents the importance of each word in a text document relative to its frequency in the entire corpus. This approach is useful for identifying rare and important words that may have a higher impact on the meaning of the document.</br>\n",
        "\n",
        "Regarding the use of n-grams, it may not be feasible to use all possible n-grams, especially for large values of n, as this can result in a high-dimensional feature space and may lead to overfitting. In practice, a subset of n-grams is often selected based on their frequency and relevance to the task at hand. For example, unigrams (n=1) can capture the frequency of individual words, bigrams (n=2) can capture some degree of word co-occurrence, and trigrams (n=3) can capture some degree of phrase-level information. The choice of n-grams would depend on the specific task and the characteristics of the text data being analyzed.</br>\n",
        "\n",
        "In summary, count vectorizer and TF-IDF vectorizer are two text vectorization techniques that differ in how they represent the importance of words in a text. The selection of n-grams should be based on the specific task and the characteristics of the text data being analyzed, rather than using all possible n-grams."
      ],
      "metadata": {
        "id": "1i_Mc4F9O_se"
      }
    }
  ]
}