{
 "cells": [
  {
   "cell_type": "markdown",
   "metadata": {},
   "source": [
    "# Problem Statment"
   ]
  },
  {
   "cell_type": "markdown",
   "metadata": {},
   "source": [
    "**These is a classification problem** to develop a predictive model that can accurately predict the anti-cancer activity of a set of drug compounds, based on their molecular structures.. The performance of the model will be evaluated using various metrics, including accuracy, precision, recall, and F1 score. </br>\n"
   ]
  },
  {
   "cell_type": "markdown",
   "metadata": {},
   "source": [
    "**The input** is a dataset of drug compounds represented by their molecular structures. The dataset consists of around 4,000 drug compounds and their corresponding activity levels, measured using a bioassay..</br>\n",
    "**The output** the label represent if the chemical compound is positive against non-small cell lung cancer, or negative:\n",
    "* 1 for possitive\n",
    "* 0 for negative.</br>\n",
    "\n",
    "**The goal** is to develop a predictive model that can take in the molecular graph representations of the drug compounds and predict their activity levels against cancer cells. "
   ]
  },
  {
   "cell_type": "markdown",
   "metadata": {},
   "source": [
    "**The challenges** \n",
    "1. Data sparsity and imbalance: The dataset of drug compounds and their activity levels may be sparse, meaning that there is a limited amount of data available for training and testing the predictive model. Additionally, the dataset may be imbalanced, meaning that there are significantly more compounds of one activity level than the other. This can make it difficult to train a predictive model that is both accurate and generalizes well to new data.\n",
    "\n",
    "2. Complex molecular structures: Drug compounds can have complex molecular structures that require specialized methods for feature extraction and representation. The molecular structures may also contain noise or errors, which can affect the performance of the predictive model.\n"
   ]
  },
  {
   "cell_type": "markdown",
   "metadata": {},
   "source": [
    "**The impact of predictive models for anti-cancer drug activity prediction can be significant in several ways:**\n",
    "1. Accelerating drug discovery: Predictive models can help identify drug compounds with high activity levels against cancer cells more quickly and efficiently than traditional experimental methods. This can accelerate the drug discovery process and reduce the cost and time required to develop new anti-cancer drugs.\n",
    "\n",
    "2. Improving drug efficacy and safety: Predictive models can help identify drug compounds with higher efficacy and safety profiles, reducing the risk of adverse side effects and improving patient outcomes."
   ]
  },
  {
   "cell_type": "markdown",
   "metadata": {},
   "source": [
    "# Let's Get Started"
   ]
  },
  {
   "cell_type": "code",
   "execution_count": 1,
   "metadata": {
    "execution": {
     "iopub.execute_input": "2023-04-28T14:43:48.585035Z",
     "iopub.status.busy": "2023-04-28T14:43:48.584556Z",
     "iopub.status.idle": "2023-04-28T14:43:49.580757Z",
     "shell.execute_reply": "2023-04-28T14:43:49.579237Z",
     "shell.execute_reply.started": "2023-04-28T14:43:48.584994Z"
    }
   },
   "outputs": [],
   "source": [
    "\n",
    "import numpy as np \n",
    "import pandas as pd \n",
    "import seaborn as sns \n",
    "import matplotlib.pyplot as plt \n",
    "%matplotlib inline\n",
    "import sklearn\n",
    "from sklearn.model_selection import train_test_split, cross_val_score, KFold\n",
    "\n",
    "from sklearn.metrics import classification_report, confusion_matrix, roc_curve, precision_score, recall_score, f1_score, precision_recall_curve\n",
    "from tqdm.notebook import tqdm\n",
    "import os\n",
    "import math\n",
    "sns.set()\n",
    "\n",
    "from sklearn.pipeline import make_pipeline\n",
    "from sklearn.preprocessing import StandardScaler, LabelEncoder, OneHotEncoder\n",
    "from time import time\n",
    "from sklearn.decomposition import PCA\n",
    "from sklearn.pipeline import Pipeline"
   ]
  },
  {
   "cell_type": "code",
   "execution_count": 2,
   "metadata": {
    "execution": {
     "iopub.execute_input": "2023-04-28T14:43:49.583889Z",
     "iopub.status.busy": "2023-04-28T14:43:49.583500Z",
     "iopub.status.idle": "2023-04-28T14:44:28.422846Z",
     "shell.execute_reply": "2023-04-28T14:44:28.421522Z",
     "shell.execute_reply.started": "2023-04-28T14:43:49.583851Z"
    }
   },
   "outputs": [
    {
     "name": "stdout",
     "output_type": "stream",
     "text": [
      "\u001b[31mERROR: pip's dependency resolver does not currently take into account all the packages that are installed. This behaviour is the source of the following dependency conflicts.\n",
      "tfx-bsl 1.12.0 requires google-api-python-client<2,>=1.7.11, but you have google-api-python-client 2.83.0 which is incompatible.\n",
      "onnx 1.13.1 requires protobuf<4,>=3.20.2, but you have protobuf 3.19.6 which is incompatible.\n",
      "apache-beam 2.44.0 requires dill<0.3.2,>=0.3.1.1, but you have dill 0.3.6 which is incompatible.\u001b[0m\u001b[31m\n",
      "\u001b[0m\u001b[33mWARNING: Running pip as the 'root' user can result in broken permissions and conflicting behaviour with the system package manager. It is recommended to use a virtual environment instead: https://pip.pypa.io/warnings/venv\u001b[0m\u001b[33m\n",
      "\u001b[0m"
     ]
    }
   ],
   "source": [
    "!pip install --quiet tf2_gnn\n",
    "\n",
    "# https://github.com/microsoft/tf2-gnn\n",
    "# https://github.com/microsoft/tf2-gnn/blob/master/tf2_gnn/layers/gnn.py\n",
    "\n",
    "from tf2_gnn.layers.gnn import GNN, GNNInput"
   ]
  },
  {
   "cell_type": "code",
   "execution_count": 3,
   "metadata": {
    "execution": {
     "iopub.execute_input": "2023-04-28T14:44:28.425132Z",
     "iopub.status.busy": "2023-04-28T14:44:28.424453Z",
     "iopub.status.idle": "2023-04-28T14:44:28.432091Z",
     "shell.execute_reply": "2023-04-28T14:44:28.431103Z",
     "shell.execute_reply.started": "2023-04-28T14:44:28.425092Z"
    }
   },
   "outputs": [],
   "source": [
    "from keras.layers import Embedding"
   ]
  },
  {
   "cell_type": "code",
   "execution_count": 4,
   "metadata": {
    "execution": {
     "iopub.execute_input": "2023-04-28T14:44:28.435016Z",
     "iopub.status.busy": "2023-04-28T14:44:28.434366Z",
     "iopub.status.idle": "2023-04-28T14:44:28.451070Z",
     "shell.execute_reply": "2023-04-28T14:44:28.449816Z",
     "shell.execute_reply.started": "2023-04-28T14:44:28.434978Z"
    }
   },
   "outputs": [],
   "source": [
    "\n",
    "from sklearn.utils import resample \n",
    "import tensorflow as tf\n",
    "from tensorflow.math import segment_mean\n",
    "from tensorflow import keras\n",
    "from tensorflow.keras import Input, Model\n",
    "from tensorflow.keras.layers import Embedding, Dense\n",
    "from tensorflow.keras.optimizers import Adam\n"
   ]
  },
  {
   "cell_type": "code",
   "execution_count": 5,
   "metadata": {
    "execution": {
     "iopub.execute_input": "2023-04-28T14:44:28.453270Z",
     "iopub.status.busy": "2023-04-28T14:44:28.452747Z",
     "iopub.status.idle": "2023-04-28T14:44:28.461708Z",
     "shell.execute_reply": "2023-04-28T14:44:28.460691Z",
     "shell.execute_reply.started": "2023-04-28T14:44:28.453224Z"
    }
   },
   "outputs": [],
   "source": [
    "\n",
    "from tensorflow.keras.layers import Conv2D, MaxPool2D\n",
    "from tensorflow.keras.layers import Flatten, Dropout\n",
    "from tensorflow.keras.layers import GRU, LSTM, Bidirectional"
   ]
  },
  {
   "cell_type": "code",
   "execution_count": 6,
   "metadata": {
    "execution": {
     "iopub.execute_input": "2023-04-28T14:44:28.463835Z",
     "iopub.status.busy": "2023-04-28T14:44:28.463291Z",
     "iopub.status.idle": "2023-04-28T14:44:40.423130Z",
     "shell.execute_reply": "2023-04-28T14:44:40.421591Z",
     "shell.execute_reply.started": "2023-04-28T14:44:28.463795Z"
    }
   },
   "outputs": [
    {
     "name": "stdout",
     "output_type": "stream",
     "text": [
      "\u001b[33mWARNING: Running pip as the 'root' user can result in broken permissions and conflicting behaviour with the system package manager. It is recommended to use a virtual environment instead: https://pip.pypa.io/warnings/venv\u001b[0m\u001b[33m\n",
      "\u001b[0m"
     ]
    }
   ],
   "source": [
    "\n",
    "!pip install --quiet tf2_gnn\n",
    "\n",
    "# https://github.com/microsoft/tf2-gnn\n",
    "# https://github.com/microsoft/tf2-gnn/blob/master/tf2_gnn/layers/gnn.py\n",
    "\n",
    "from tf2_gnn.layers.gnn import GNN, GNNInput\n",
    "from tf2_gnn.layers.message_passing import GNN_Edge_MLP, GNN_FiLM"
   ]
  },
  {
   "cell_type": "code",
   "execution_count": 7,
   "metadata": {
    "execution": {
     "iopub.execute_input": "2023-04-28T14:44:40.425432Z",
     "iopub.status.busy": "2023-04-28T14:44:40.425053Z",
     "iopub.status.idle": "2023-04-28T14:44:40.431470Z",
     "shell.execute_reply": "2023-04-28T14:44:40.430185Z",
     "shell.execute_reply.started": "2023-04-28T14:44:40.425396Z"
    }
   },
   "outputs": [],
   "source": [
    "\n",
    "import warnings\n",
    "warnings.filterwarnings('ignore')"
   ]
  },
  {
   "cell_type": "code",
   "execution_count": 8,
   "metadata": {
    "execution": {
     "iopub.execute_input": "2023-04-28T14:44:40.433505Z",
     "iopub.status.busy": "2023-04-28T14:44:40.433145Z",
     "iopub.status.idle": "2023-04-28T14:44:52.110110Z",
     "shell.execute_reply": "2023-04-28T14:44:52.108366Z",
     "shell.execute_reply.started": "2023-04-28T14:44:40.433473Z"
    }
   },
   "outputs": [
    {
     "name": "stdout",
     "output_type": "stream",
     "text": [
      "\u001b[33mWARNING: Running pip as the 'root' user can result in broken permissions and conflicting behaviour with the system package manager. It is recommended to use a virtual environment instead: https://pip.pypa.io/warnings/venv\u001b[0m\u001b[33m\n",
      "\u001b[0m"
     ]
    }
   ],
   "source": [
    "!pip install --quiet networkx\n",
    "import networkx as nx\n",
    "import matplotlib.pyplot as plt\n",
    "from matplotlib import cm"
   ]
  },
  {
   "cell_type": "code",
   "execution_count": 9,
   "metadata": {
    "execution": {
     "iopub.execute_input": "2023-04-28T14:44:52.112755Z",
     "iopub.status.busy": "2023-04-28T14:44:52.112192Z",
     "iopub.status.idle": "2023-04-28T14:44:52.120189Z",
     "shell.execute_reply": "2023-04-28T14:44:52.118231Z",
     "shell.execute_reply.started": "2023-04-28T14:44:52.112697Z"
    }
   },
   "outputs": [],
   "source": [
    "from tf2_gnn.layers.gnn import GNN\n",
    "from tf2_gnn.layers.gnn import GNNInput\n",
    "from tf2_gnn.layers.message_passing import MessagePassing"
   ]
  },
  {
   "cell_type": "code",
   "execution_count": 10,
   "metadata": {
    "execution": {
     "iopub.execute_input": "2023-04-28T14:44:52.125100Z",
     "iopub.status.busy": "2023-04-28T14:44:52.124725Z",
     "iopub.status.idle": "2023-04-28T14:44:52.136939Z",
     "shell.execute_reply": "2023-04-28T14:44:52.135819Z",
     "shell.execute_reply.started": "2023-04-28T14:44:52.125067Z"
    }
   },
   "outputs": [],
   "source": [
    "import tensorflow as tf\n",
    "from tensorflow.math import segment_mean\n",
    "from tensorflow import keras\n",
    "from tensorflow.keras import Input, Model\n",
    "from tensorflow.keras.layers import Embedding, Dense\n",
    "from tensorflow.keras.optimizers import Adam"
   ]
  },
  {
   "cell_type": "code",
   "execution_count": 11,
   "metadata": {
    "execution": {
     "iopub.execute_input": "2023-04-28T14:44:52.138729Z",
     "iopub.status.busy": "2023-04-28T14:44:52.138375Z",
     "iopub.status.idle": "2023-04-28T14:44:52.153833Z",
     "shell.execute_reply": "2023-04-28T14:44:52.152470Z",
     "shell.execute_reply.started": "2023-04-28T14:44:52.138696Z"
    }
   },
   "outputs": [],
   "source": [
    "import tensorflow as tf\n",
    "from tensorflow import keras\n",
    "from tensorflow.keras import layers\n",
    "from tensorflow.keras.models import Model\n",
    "from tensorflow.keras.layers import Embedding\n",
    "from tf2_gnn.layers.gnn import GNN, GNNInput\n",
    "# from tf2_gnn.utils.gnn import segment_mean"
   ]
  },
  {
   "cell_type": "code",
   "execution_count": 12,
   "metadata": {
    "execution": {
     "iopub.execute_input": "2023-04-28T14:44:52.156095Z",
     "iopub.status.busy": "2023-04-28T14:44:52.155650Z",
     "iopub.status.idle": "2023-04-28T14:44:52.166737Z",
     "shell.execute_reply": "2023-04-28T14:44:52.165845Z",
     "shell.execute_reply.started": "2023-04-28T14:44:52.156056Z"
    }
   },
   "outputs": [],
   "source": [
    "\n",
    "# some seeting for pandas and hvplot\n",
    "\n",
    "pd.options.display.max_columns = 100\n",
    "pd.options.display.max_rows = 300\n",
    "pd.options.display.max_colwidth = 100\n",
    "np.set_printoptions(threshold=2000)"
   ]
  },
  {
   "cell_type": "markdown",
   "metadata": {},
   "source": [
    "## Read SDF format data (structured-data format)"
   ]
  },
  {
   "cell_type": "code",
   "execution_count": 13,
   "metadata": {
    "execution": {
     "iopub.execute_input": "2023-04-28T14:44:52.168107Z",
     "iopub.status.busy": "2023-04-28T14:44:52.167772Z",
     "iopub.status.idle": "2023-04-28T14:44:52.182336Z",
     "shell.execute_reply": "2023-04-28T14:44:52.180980Z",
     "shell.execute_reply.started": "2023-04-28T14:44:52.168076Z"
    }
   },
   "outputs": [],
   "source": [
    "import numpy as np\n",
    "from tqdm.notebook import tqdm\n",
    "\n",
    "def read_sdf(file):\n",
    "    with open(file, 'r') as rf:\n",
    "        content = rf.read()\n",
    "    samples = content.split('$$$$')\n",
    "    \n",
    "    def parse_sample(s):\n",
    "        lines = s.splitlines()\n",
    "        links = []\n",
    "        nodes = []\n",
    "        label = 0\n",
    "        for l in lines:\n",
    "            if l.strip() == '1.0':\n",
    "                label = 1\n",
    "            if l.strip() == '-1.0':\n",
    "                label = 0\n",
    "            if l.startswith('    '):\n",
    "                feature = l.split()\n",
    "                node = feature[3]\n",
    "                nodes.append(node)\n",
    "            elif l.startswith(' '):\n",
    "                lnk = l.split()\n",
    "                # edge: (from, to,) (1-based index)\n",
    "                if int(lnk[0]) - 1 < len(nodes):\n",
    "                    links.append((\n",
    "                        int(lnk[0])-1, \n",
    "                        int(lnk[1])-1, # zero-based index\n",
    "                        # int(lnk[2]) ignore edge weight\n",
    "                    ))\n",
    "        return nodes, np.array(links), label\n",
    "    \n",
    "    return [parse_sample(s) for s in tqdm(samples) if len(s[0]) > 0]\n",
    "                \n",
    "        \n",
    "        "
   ]
  },
  {
   "cell_type": "code",
   "execution_count": 14,
   "metadata": {
    "execution": {
     "iopub.execute_input": "2023-04-28T14:44:52.185374Z",
     "iopub.status.busy": "2023-04-28T14:44:52.184911Z",
     "iopub.status.idle": "2023-04-28T14:44:55.391505Z",
     "shell.execute_reply": "2023-04-28T14:44:55.390296Z",
     "shell.execute_reply.started": "2023-04-28T14:44:52.185324Z"
    }
   },
   "outputs": [
    {
     "data": {
      "application/vnd.jupyter.widget-view+json": {
       "model_id": "7f4cc45eea164ba5bde71d31ba270526",
       "version_major": 2,
       "version_minor": 0
      },
      "text/plain": [
       "  0%|          | 0/25024 [00:00<?, ?it/s]"
      ]
     },
     "metadata": {},
     "output_type": "display_data"
    }
   ],
   "source": [
    "from sklearn.model_selection import train_test_split\n",
    "\n",
    "training_set = read_sdf('/kaggle/input/cisc873-dm-w23-a6/train.sdf')\n",
    "# training_set, validation_set = train_test_split(training_set, test_size=0.15,)"
   ]
  },
  {
   "cell_type": "code",
   "execution_count": 15,
   "metadata": {
    "execution": {
     "iopub.execute_input": "2023-04-28T14:44:55.393079Z",
     "iopub.status.busy": "2023-04-28T14:44:55.392763Z",
     "iopub.status.idle": "2023-04-28T14:44:56.949691Z",
     "shell.execute_reply": "2023-04-28T14:44:56.948421Z",
     "shell.execute_reply.started": "2023-04-28T14:44:55.393049Z"
    }
   },
   "outputs": [
    {
     "data": {
      "application/vnd.jupyter.widget-view+json": {
       "model_id": "7aaf1c405a8a4208a3315cfc893af1cb",
       "version_major": 2,
       "version_minor": 0
      },
      "text/plain": [
       "  0%|          | 0/12326 [00:00<?, ?it/s]"
      ]
     },
     "metadata": {},
     "output_type": "display_data"
    }
   ],
   "source": [
    "testing_set  = read_sdf('/kaggle/input/cisc873-dm-w23-a6/test_x.sdf')"
   ]
  },
  {
   "cell_type": "code",
   "execution_count": 16,
   "metadata": {
    "execution": {
     "iopub.execute_input": "2023-04-28T14:44:56.952307Z",
     "iopub.status.busy": "2023-04-28T14:44:56.951689Z",
     "iopub.status.idle": "2023-04-28T14:44:56.959735Z",
     "shell.execute_reply": "2023-04-28T14:44:56.958532Z",
     "shell.execute_reply.started": "2023-04-28T14:44:56.952257Z"
    }
   },
   "outputs": [
    {
     "name": "stdout",
     "output_type": "stream",
     "text": [
      "(['O', 'O', 'O', 'O', 'O', 'O', 'N', 'N', 'N', 'C', 'C', 'C', 'C', 'C', 'C', 'C', 'C', 'C', 'C', 'C', 'C', 'C', 'C', 'C', 'C', 'C', 'C', 'C', 'C', 'C', 'C'], array([[ 0,  6],\n",
      "       [ 0, 15],\n",
      "       [ 1, 15],\n",
      "       [ 2,  7],\n",
      "       [ 3,  8],\n",
      "       [ 4,  7],\n",
      "       [ 5,  8],\n",
      "       [ 6,  9],\n",
      "       [ 7, 16],\n",
      "       [ 8, 17],\n",
      "       [ 9, 10],\n",
      "       [ 9, 11],\n",
      "       [10, 12],\n",
      "       [10, 22],\n",
      "       [11, 13],\n",
      "       [11, 23],\n",
      "       [12, 21],\n",
      "       [12, 25],\n",
      "       [13, 20],\n",
      "       [13, 26],\n",
      "       [14, 15],\n",
      "       [14, 18],\n",
      "       [14, 19],\n",
      "       [16, 19],\n",
      "       [16, 24],\n",
      "       [17, 18],\n",
      "       [17, 24],\n",
      "       [20, 21],\n",
      "       [22, 27],\n",
      "       [23, 28],\n",
      "       [25, 29],\n",
      "       [26, 30],\n",
      "       [27, 29],\n",
      "       [28, 30]]), 0)\n"
     ]
    }
   ],
   "source": [
    "print(training_set[1])"
   ]
  },
  {
   "cell_type": "markdown",
   "metadata": {},
   "source": [
    "# Visualizing/Inspecting a Sample"
   ]
  },
  {
   "cell_type": "code",
   "execution_count": 14,
   "metadata": {
    "execution": {
     "iopub.execute_input": "2023-04-20T09:59:13.027754Z",
     "iopub.status.busy": "2023-04-20T09:59:13.026904Z",
     "iopub.status.idle": "2023-04-20T09:59:13.036417Z",
     "shell.execute_reply": "2023-04-20T09:59:13.035398Z",
     "shell.execute_reply.started": "2023-04-20T09:59:13.027695Z"
    }
   },
   "outputs": [],
   "source": [
    "\n",
    "colors = cm.rainbow(np.linspace(0, 1, 50))"
   ]
  },
  {
   "cell_type": "code",
   "execution_count": 15,
   "metadata": {
    "execution": {
     "iopub.execute_input": "2023-04-20T09:59:13.039368Z",
     "iopub.status.busy": "2023-04-20T09:59:13.038508Z",
     "iopub.status.idle": "2023-04-20T09:59:13.048979Z",
     "shell.execute_reply": "2023-04-20T09:59:13.047569Z",
     "shell.execute_reply.started": "2023-04-20T09:59:13.039316Z"
    }
   },
   "outputs": [],
   "source": [
    "def visualize(sample):\n",
    "    G=nx.Graph()\n",
    "    nodes = sample[0]\n",
    "    edges = sample[1]\n",
    "    \n",
    "    labeldict={}\n",
    "    node_color=[]\n",
    "    for i,n in enumerate(nodes):\n",
    "        G.add_node(i)\n",
    "        labeldict[i]=n\n",
    "        node_color.append(colors[hash(n)%len(colors)])\n",
    "\n",
    "    # a list of nodes:\n",
    "    for e in edges:\n",
    "        G.add_edge(e[0], e[1])\n",
    "        \n",
    "    nx.draw(G, labels=labeldict, with_labels = True, node_color = node_color)\n",
    "    plt.show()\n",
    "    \n",
    "    return G"
   ]
  },
  {
   "cell_type": "code",
   "execution_count": 16,
   "metadata": {
    "execution": {
     "iopub.execute_input": "2023-04-20T09:59:13.051726Z",
     "iopub.status.busy": "2023-04-20T09:59:13.050910Z",
     "iopub.status.idle": "2023-04-20T09:59:13.334497Z",
     "shell.execute_reply": "2023-04-20T09:59:13.333336Z",
     "shell.execute_reply.started": "2023-04-20T09:59:13.051684Z"
    }
   },
   "outputs": [
    {
     "data": {
      "image/png": "[encoded data removed]",
      "text/plain": [
       "<Figure size 640x480 with 1 Axes>"
      ]
     },
     "metadata": {},
     "output_type": "display_data"
    },
    {
     "data": {
      "text/plain": [
       "<networkx.classes.graph.Graph at 0x7c76df8a00d0>"
      ]
     },
     "execution_count": 16,
     "metadata": {},
     "output_type": "execute_result"
    }
   ],
   "source": [
    "plt.clf()\n",
    "visualize(training_set[20])"
   ]
  },
  {
   "cell_type": "markdown",
   "metadata": {},
   "source": [
    "# Pre-Processing"
   ]
  },
  {
   "cell_type": "markdown",
   "metadata": {},
   "source": [
    " ## Data Up-Sampling"
   ]
  },
  {
   "cell_type": "code",
   "execution_count": 17,
   "metadata": {
    "execution": {
     "iopub.execute_input": "2023-04-28T14:44:56.962394Z",
     "iopub.status.busy": "2023-04-28T14:44:56.961477Z",
     "iopub.status.idle": "2023-04-28T14:44:57.055924Z",
     "shell.execute_reply": "2023-04-28T14:44:57.054701Z",
     "shell.execute_reply.started": "2023-04-28T14:44:56.962343Z"
    }
   },
   "outputs": [
    {
     "name": "stdout",
     "output_type": "stream",
     "text": [
      "0    23806\n",
      "1     1218\n",
      "Name: label, dtype: int64\n",
      "1    23806\n",
      "0    23806\n",
      "Name: label, dtype: int64\n"
     ]
    }
   ],
   "source": [
    "np.unique(np.array(training_set)[:,2],return_counts=True)\n",
    "train_df = pd.DataFrame(training_set, columns=['node','edge','label']) # convert train into DataFrame\n",
    "\n",
    "# print the count of 0,1 in the label column\n",
    "print(train_df['label'].value_counts())\n",
    "\n",
    "\n",
    "class_0 = train_df[train_df['label'] == 0] # get all data that belong to negative class (label = 0) \n",
    "class_1 = train_df[train_df['label'] == 1] # get all data that belong to possitive class (label = 1) \n",
    "\n",
    "class_1 = resample(class_1, replace=True, n_samples=len(class_0), random_state=42)  # resample class_1\n",
    "upsampled_data = pd.concat([class_1, class_0])  # get upsampled data\n",
    "\n",
    "\n",
    "# print the count of 0,1 in the label column after data up-sampling\n",
    "print(upsampled_data[\"label\"].value_counts()) "
   ]
  },
  {
   "cell_type": "code",
   "execution_count": 18,
   "metadata": {
    "execution": {
     "iopub.execute_input": "2023-04-28T14:44:57.057557Z",
     "iopub.status.busy": "2023-04-28T14:44:57.057225Z",
     "iopub.status.idle": "2023-04-28T14:44:57.067977Z",
     "shell.execute_reply": "2023-04-28T14:44:57.066882Z",
     "shell.execute_reply.started": "2023-04-28T14:44:57.057524Z"
    }
   },
   "outputs": [],
   "source": [
    "# convert upsampled_data from DataFram to an array \n",
    "data_upsampled = upsampled_data.to_numpy()"
   ]
  },
  {
   "cell_type": "code",
   "execution_count": 19,
   "metadata": {
    "execution": {
     "iopub.execute_input": "2023-04-28T14:44:57.069783Z",
     "iopub.status.busy": "2023-04-28T14:44:57.069388Z",
     "iopub.status.idle": "2023-04-28T14:44:57.086327Z",
     "shell.execute_reply": "2023-04-28T14:44:57.084917Z",
     "shell.execute_reply.started": "2023-04-28T14:44:57.069748Z"
    }
   },
   "outputs": [],
   "source": [
    "training_set, validation_set = train_test_split(data_upsampled, test_size=0.15,)"
   ]
  },
  {
   "cell_type": "markdown",
   "metadata": {},
   "source": [
    "## Tokenizer"
   ]
  },
  {
   "cell_type": "markdown",
   "metadata": {},
   "source": [
    "To use the graph representation of a molecule as input to a machine learning model, we need to convert it into a numerical format that the model can process. This requires using a tokenizer, which maps the nodes and links in the graph representation to a set of unique numerical tokens."
   ]
  },
  {
   "cell_type": "code",
   "execution_count": 20,
   "metadata": {
    "execution": {
     "iopub.execute_input": "2023-04-28T14:44:57.088321Z",
     "iopub.status.busy": "2023-04-28T14:44:57.087846Z",
     "iopub.status.idle": "2023-04-28T14:44:57.681047Z",
     "shell.execute_reply": "2023-04-28T14:44:57.679624Z",
     "shell.execute_reply.started": "2023-04-28T14:44:57.088287Z"
    }
   },
   "outputs": [],
   "source": [
    "from tensorflow.keras.preprocessing.text import Tokenizer\n",
    "\n",
    "max_vocab = 500\n",
    "max_len = 100\n",
    "\n",
    "\n",
    "# build vocabulary from training set\n",
    "all_nodes = [s[0] for s in training_set]\n",
    "tokenizer = Tokenizer(num_words=max_vocab)\n",
    "tokenizer.fit_on_texts(all_nodes)"
   ]
  },
  {
   "cell_type": "markdown",
   "metadata": {},
   "source": [
    "## Prepare Batch data"
   ]
  },
  {
   "cell_type": "code",
   "execution_count": 21,
   "metadata": {
    "execution": {
     "iopub.execute_input": "2023-04-28T14:44:57.683661Z",
     "iopub.status.busy": "2023-04-28T14:44:57.683040Z",
     "iopub.status.idle": "2023-04-28T14:44:57.695952Z",
     "shell.execute_reply": "2023-04-28T14:44:57.694942Z",
     "shell.execute_reply.started": "2023-04-28T14:44:57.683582Z"
    }
   },
   "outputs": [],
   "source": [
    "from tensorflow.keras.preprocessing.sequence import pad_sequences\n",
    "import random\n",
    "random.seed(0)\n",
    "\n",
    "def prepare_single_batch(samples):\n",
    "    # Extracts the list of node labels for each molecule from the samples list \n",
    "    sample_nodes = [s[0] for s in samples]\n",
    "    # Convert each node label in the sample_nodes list to a numeric token. \n",
    "    sample_nodes = tokenizer.texts_to_sequences(sample_nodes)\n",
    "    \n",
    "    # the pad_sequences function is used to pad the sample_nodes list,to a fixed length. By setting padding='post',\n",
    "    # the function adds padding zeros to the end of each sequence, so that all sequences have the same length.\n",
    "    sample_nodes = pad_sequences(sample_nodes, padding='post')\n",
    "    max_nodes_len = np.shape(sample_nodes)[1]\n",
    "    edges = [s[1]+i*max_nodes_len for i,s in enumerate(samples)]\n",
    "    edges = [e for e in edges if len(e) > 0]\n",
    "    node_to_graph = [[i]*max_nodes_len for i in range(len(samples))]\n",
    "    \n",
    "    all_nodes = np.reshape(sample_nodes, -1)\n",
    "    all_edges = np.concatenate(edges)\n",
    "\n",
    "    node_to_graph = np.reshape(node_to_graph, -1)\n",
    "    return {\n",
    "        'data': all_nodes,\n",
    "        'edges': all_edges,\n",
    "        'node2grah': node_to_graph,\n",
    "    }, np.array([s[2] for s in samples])\n",
    "\n",
    "\n",
    "\n",
    "def gen_batch(dataset, batch_size=16, repeat=False, shuffle=True):\n",
    "    while True:\n",
    "        dataset = list(dataset)\n",
    "        if shuffle:\n",
    "            random.shuffle(dataset)\n",
    "        l = len(dataset)\n",
    "        for ndx in range(0, l, batch_size):\n",
    "            batch_samples = dataset[ndx:min(ndx + batch_size, l)]\n",
    "            yield prepare_single_batch(batch_samples)\n",
    "        if not repeat:\n",
    "            break\n"
   ]
  },
  {
   "cell_type": "markdown",
   "metadata": {},
   "source": [
    "### showing one batch"
   ]
  },
  {
   "cell_type": "code",
   "execution_count": 22,
   "metadata": {
    "execution": {
     "iopub.execute_input": "2023-04-28T14:44:57.698321Z",
     "iopub.status.busy": "2023-04-28T14:44:57.697610Z",
     "iopub.status.idle": "2023-04-28T14:44:57.779171Z",
     "shell.execute_reply": "2023-04-28T14:44:57.777503Z",
     "shell.execute_reply.started": "2023-04-28T14:44:57.698284Z"
    }
   },
   "outputs": [
    {
     "name": "stdout",
     "output_type": "stream",
     "text": [
      "data\n",
      "[ 4  3  3  3  3  1  1  1  1  1  1  1  1  1  1  0  0  0  0  0  0  0  0  0\n",
      "  0  7  7  4  3  3  3  1  1  1  1  1  1  1  1  1  1  1  1  1  1  1  1  1\n",
      "  1  0 14  5  5  5  5  3  3  3  3  3  3  3  3  3  3  1  1  1  1  1  1  1\n",
      "  1  1  1  4  4  3  3  3  3  1  1  1  1  0  0  0  0  0  0  0  0  0  0  0\n",
      "  0  0  0  0]\n",
      "edges\n",
      "[[ 0  7]\n",
      " [ 1  2]\n",
      " [ 1  6]\n",
      " [ 2  7]\n",
      " [ 3  5]\n",
      " [ 3  9]\n",
      " [ 4  7]\n",
      " [ 4 13]\n",
      " [ 4 14]\n",
      " [ 5  6]\n",
      " [ 5  8]\n",
      " [ 6 11]\n",
      " [ 8 10]\n",
      " [ 9 12]\n",
      " [10 12]\n",
      " [25 38]\n",
      " [26 46]\n",
      " [27 35]\n",
      " [27 44]\n",
      " [28 32]\n",
      " [28 34]\n",
      " [29 33]\n",
      " [29 34]\n",
      " [30 32]\n",
      " [30 39]\n",
      " [31 32]\n",
      " [31 33]\n",
      " [31 36]\n",
      " [33 37]\n",
      " [34 35]\n",
      " [35 41]\n",
      " [36 38]\n",
      " [37 40]\n",
      " [38 40]\n",
      " [39 42]\n",
      " [39 43]\n",
      " [41 45]\n",
      " [42 46]\n",
      " [43 47]\n",
      " [44 45]\n",
      " [46 48]\n",
      " [47 48]\n",
      " [50 51]\n",
      " [50 52]\n",
      " [50 53]\n",
      " [50 54]\n",
      " [50 55]\n",
      " [50 56]\n",
      " [55 65]\n",
      " [55 67]\n",
      " [56 66]\n",
      " [56 68]\n",
      " [57 67]\n",
      " [57 71]\n",
      " [58 68]\n",
      " [58 72]\n",
      " [59 65]\n",
      " [60 66]\n",
      " [61 70]\n",
      " [61 74]\n",
      " [62 69]\n",
      " [62 73]\n",
      " [63 71]\n",
      " [63 73]\n",
      " [64 72]\n",
      " [64 74]\n",
      " [65 69]\n",
      " [66 70]\n",
      " [69 71]\n",
      " [70 72]\n",
      " [75 82]\n",
      " [75 83]\n",
      " [76 81]\n",
      " [76 84]\n",
      " [77 78]\n",
      " [77 82]\n",
      " [78 81]\n",
      " [79 80]\n",
      " [79 82]\n",
      " [80 81]]\n",
      "node2grah\n",
      "[0 0 0 0 0 0 0 0 0 0 0 0 0 0 0 0 0 0 0 0 0 0 0 0 0 1 1 1 1 1 1 1 1 1 1 1 1\n",
      " 1 1 1 1 1 1 1 1 1 1 1 1 1 2 2 2 2 2 2 2 2 2 2 2 2 2 2 2 2 2 2 2 2 2 2 2 2\n",
      " 2 3 3 3 3 3 3 3 3 3 3 3 3 3 3 3 3 3 3 3 3 3 3 3 3 3]\n",
      "label [1 0 1 1]\n"
     ]
    }
   ],
   "source": [
    "\n",
    "for train_batch in gen_batch(training_set, batch_size=4):\n",
    "    for k,v in train_batch[0].items():\n",
    "        print(k)\n",
    "        print(v)\n",
    "        pass\n",
    "    print('label', train_batch[1])\n",
    "    break"
   ]
  },
  {
   "cell_type": "markdown",
   "metadata": {},
   "source": [
    "# Building DL Model"
   ]
  },
  {
   "cell_type": "code",
   "execution_count": 23,
   "metadata": {
    "execution": {
     "iopub.execute_input": "2023-04-28T14:44:57.780680Z",
     "iopub.status.busy": "2023-04-28T14:44:57.780346Z",
     "iopub.status.idle": "2023-04-28T14:44:57.788517Z",
     "shell.execute_reply": "2023-04-28T14:44:57.787199Z",
     "shell.execute_reply.started": "2023-04-28T14:44:57.780625Z"
    }
   },
   "outputs": [],
   "source": [
    "import math\n",
    "\n",
    "def train_model(model, training_set, validation_set, batch_size=16, num_epochs=5):\n",
    "    # calculate steps_per_epoch for training and validation data\n",
    "    num_batches = math.ceil(len(training_set) / batch_size)\n",
    "    num_batches_validation = math.ceil(len(validation_set) / batch_size)\n",
    "\n",
    "    # train the model\n",
    "    model.fit(\n",
    "        gen_batch(training_set, batch_size=batch_size, repeat=True),\n",
    "        steps_per_epoch=num_batches,\n",
    "        epochs=num_epochs,\n",
    "        validation_data=gen_batch(validation_set, batch_size=batch_size, repeat=True),\n",
    "        validation_steps=num_batches_validation\n",
    "    )"
   ]
  },
  {
   "cell_type": "code",
   "execution_count": 24,
   "metadata": {
    "execution": {
     "iopub.execute_input": "2023-04-28T14:44:57.790737Z",
     "iopub.status.busy": "2023-04-28T14:44:57.790336Z",
     "iopub.status.idle": "2023-04-28T14:44:57.806283Z",
     "shell.execute_reply": "2023-04-28T14:44:57.804783Z",
     "shell.execute_reply.started": "2023-04-28T14:44:57.790682Z"
    }
   },
   "outputs": [],
   "source": [
    "def get_predictions(model, testing_set, batch_size=16):\n",
    "    y_pred = model.predict(gen_batch(testing_set, batch_size=batch_size, shuffle=False))\n",
    "    y_pred = np.reshape(y_pred, -1)\n",
    "    return y_pred"
   ]
  },
  {
   "cell_type": "code",
   "execution_count": 25,
   "metadata": {
    "execution": {
     "iopub.execute_input": "2023-04-28T14:44:57.808824Z",
     "iopub.status.busy": "2023-04-28T14:44:57.808277Z",
     "iopub.status.idle": "2023-04-28T14:44:57.819244Z",
     "shell.execute_reply": "2023-04-28T14:44:57.817981Z",
     "shell.execute_reply.started": "2023-04-28T14:44:57.808782Z"
    }
   },
   "outputs": [],
   "source": [
    "\n",
    "def save_predictions_to_csv(y_pred, file_name):\n",
    "    submission = pd.DataFrame({'label': y_pred})\n",
    "    submission.index.name = 'id'\n",
    "    submission.to_csv(file_name)"
   ]
  },
  {
   "cell_type": "markdown",
   "metadata": {},
   "source": [
    "## First Trial"
   ]
  },
  {
   "cell_type": "markdown",
   "metadata": {},
   "source": [
    "**The input of these trial is :**  Training data set without upsampling\n",
    "\n",
    "**The Model Used is :**\n",
    "The model uses a **single GNN layer** with dfault hyperparameters. The output of the GNN layer is passed through a function called **segment_mean**, which computes the mean of the node embeddings for each graph in the batch. This is intended to summarize the information from the nodes into a single vector per graph, which can be used for the prediction task.\n",
    "\n",
    "The output of the segment_mean function is passed through a **dense layer** with a **sigmoid** activation function to produce the final predictions. The model is compiled using the **binary cross-entropy loss** function and the **Adam optimizer**."
   ]
  },
  {
   "cell_type": "code",
   "execution_count": 53,
   "metadata": {
    "execution": {
     "iopub.execute_input": "2023-04-28T07:29:11.841029Z",
     "iopub.status.busy": "2023-04-28T07:29:11.840307Z",
     "iopub.status.idle": "2023-04-28T07:29:12.488339Z",
     "shell.execute_reply": "2023-04-28T07:29:12.487659Z",
     "shell.execute_reply.started": "2023-04-28T07:29:11.840985Z"
    }
   },
   "outputs": [
    {
     "name": "stdout",
     "output_type": "stream",
     "text": [
      "gnn_out KerasTensor(type_spec=TensorSpec(shape=(None, 32), dtype=tf.float32, name=None), name='gnn_6/StatefulPartitionedCall:0', description=\"created by layer 'gnn_6'\")\n",
      "mean: KerasTensor(type_spec=TensorSpec(shape=(None, 32), dtype=tf.float32, name=None), name='tf.math.segment_mean_3/SegmentMean:0', description=\"created by layer 'tf.math.segment_mean_3'\")\n",
      "pred: KerasTensor(type_spec=TensorSpec(shape=(None, 1), dtype=tf.float32, name=None), name='dense_6/Sigmoid:0', description=\"created by layer 'dense_6'\")\n",
      "Model: \"model_4\"\n",
      "__________________________________________________________________________________________________\n",
      " Layer (type)                   Output Shape         Param #     Connected to                     \n",
      "==================================================================================================\n",
      " input_19 (InputLayer)          [(None,)]            0           []                               \n",
      "                                                                                                  \n",
      " input_17 (InputLayer)          [(None,)]            0           []                               \n",
      "                                                                                                  \n",
      " tf.math.reduce_max_4 (TFOpLamb  ()                  0           ['input_19[0][0]']               \n",
      " da)                                                                                              \n",
      "                                                                                                  \n",
      " embedding_4 (Embedding)        (None, 20)           10000       ['input_17[0][0]']               \n",
      "                                                                                                  \n",
      " input_18 (InputLayer)          [(None, 2)]          0           []                               \n",
      "                                                                                                  \n",
      " tf.__operators__.add_4 (TFOpLa  ()                  0           ['tf.math.reduce_max_4[0][0]']   \n",
      " mbda)                                                                                            \n",
      "                                                                                                  \n",
      " gnn_6 (GNN)                    (None, 32)           22464       ['embedding_4[0][0]',            \n",
      "                                                                  'input_18[0][0]',               \n",
      "                                                                  'input_19[0][0]',               \n",
      "                                                                  'tf.__operators__.add_4[0][0]'] \n",
      "                                                                                                  \n",
      " tf.math.segment_mean_3 (TFOpLa  (None, 32)          0           ['gnn_6[0][0]',                  \n",
      " mbda)                                                            'input_19[0][0]']               \n",
      "                                                                                                  \n",
      " dense_6 (Dense)                (None, 1)            33          ['tf.math.segment_mean_3[0][0]'] \n",
      "                                                                                                  \n",
      "==================================================================================================\n",
      "Total params: 32,497\n",
      "Trainable params: 32,497\n",
      "Non-trainable params: 0\n",
      "__________________________________________________________________________________________________\n"
     ]
    }
   ],
   "source": [
    "\n",
    "\n",
    "data = keras.Input(batch_shape=(None,))\n",
    "\n",
    "# the first dim is different to the previous one. it is the total number of edges in this batch\n",
    "edge = keras.Input(batch_shape=(None, 2), dtype=tf.int32)\n",
    "node2graph = keras.Input(batch_shape=(None,), dtype=tf.int32)\n",
    "embeded = Embedding(tokenizer.num_words, 20)(data)\n",
    "\n",
    "# number of graphs (number of samples)\n",
    "num_graph = tf.reduce_max(node2graph)+1\n",
    "\n",
    "gnn_input = GNNInput(\n",
    "    node_features=embeded,\n",
    "    adjacency_lists=(edge,),\n",
    "    node_to_graph_map=node2graph, \n",
    "    num_graphs=num_graph,\n",
    ")\n",
    "\n",
    "# https://github.com/microsoft/tf2-gnn/blob/master/tf2_gnn/layers/gnn.py\n",
    "params = GNN.get_default_hyperparameters()\n",
    "params[\"hidden_dim\"] = 32\n",
    "gnn_layer = GNN(params)\n",
    "gnn_out = gnn_layer(gnn_input)\n",
    "\n",
    "print('gnn_out', gnn_out)\n",
    "\n",
    "# https://www.tensorflow.org/api_docs/python/tf/math/segment_mean\n",
    "avg = segment_mean(\n",
    "    data=gnn_out,\n",
    "    segment_ids=node2graph\n",
    ")\n",
    "print('mean:', avg)\n",
    "\n",
    "pred = Dense(1, activation='sigmoid')(avg)\n",
    "print('pred:', pred)\n",
    "\n",
    "modelV1 = Model(\n",
    "    inputs={\n",
    "        'data': data,\n",
    "        'edges': edge,\n",
    "        'node2grah': node2graph,\n",
    "    },\n",
    "    outputs=pred\n",
    ")\n",
    "modelV1.summary()"
   ]
  },
  {
   "cell_type": "code",
   "execution_count": 54,
   "metadata": {
    "execution": {
     "iopub.execute_input": "2023-04-28T07:29:12.490326Z",
     "iopub.status.busy": "2023-04-28T07:29:12.489995Z",
     "iopub.status.idle": "2023-04-28T07:29:12.508626Z",
     "shell.execute_reply": "2023-04-28T07:29:12.507522Z",
     "shell.execute_reply.started": "2023-04-28T07:29:12.490293Z"
    }
   },
   "outputs": [],
   "source": [
    "modelV1.compile(\n",
    "    loss='BinaryCrossentropy',\n",
    "    metrics=['AUC']\n",
    ")"
   ]
  },
  {
   "cell_type": "code",
   "execution_count": 55,
   "metadata": {
    "execution": {
     "iopub.execute_input": "2023-04-28T07:29:12.791581Z",
     "iopub.status.busy": "2023-04-28T07:29:12.791096Z",
     "iopub.status.idle": "2023-04-28T07:39:42.593378Z",
     "shell.execute_reply": "2023-04-28T07:39:42.592261Z",
     "shell.execute_reply.started": "2023-04-28T07:29:12.791526Z"
    }
   },
   "outputs": [
    {
     "name": "stdout",
     "output_type": "stream",
     "text": [
      "Epoch 1/25\n",
      "1564/1564 [==============================] - 26s 15ms/step - loss: 0.2262 - auc: 0.5049 - val_loss: 1.5427 - val_auc: 0.5924\n",
      "Epoch 2/25\n",
      "1564/1564 [==============================] - 24s 15ms/step - loss: 0.1938 - auc: 0.6208 - val_loss: 1.3460 - val_auc: 0.6433\n",
      "Epoch 3/25\n",
      "1564/1564 [==============================] - 23s 15ms/step - loss: 0.1902 - auc: 0.6347 - val_loss: 1.6925 - val_auc: 0.6456\n",
      "Epoch 4/25\n",
      "1564/1564 [==============================] - 23s 15ms/step - loss: 0.1880 - auc: 0.6591 - val_loss: 1.5467 - val_auc: 0.6749\n",
      "Epoch 5/25\n",
      "1564/1564 [==============================] - 23s 15ms/step - loss: 0.1862 - auc: 0.6674 - val_loss: 1.4406 - val_auc: 0.6887\n",
      "Epoch 6/25\n",
      "1564/1564 [==============================] - 23s 14ms/step - loss: 0.1849 - auc: 0.6752 - val_loss: 1.5824 - val_auc: 0.6693\n",
      "Epoch 7/25\n",
      "1564/1564 [==============================] - 23s 15ms/step - loss: 0.1837 - auc: 0.6762 - val_loss: 1.2808 - val_auc: 0.7015\n",
      "Epoch 8/25\n",
      "1564/1564 [==============================] - 23s 15ms/step - loss: 0.1832 - auc: 0.6877 - val_loss: 1.2712 - val_auc: 0.7192\n",
      "Epoch 9/25\n",
      "1564/1564 [==============================] - 23s 15ms/step - loss: 0.1793 - auc: 0.7124 - val_loss: 1.3274 - val_auc: 0.7358\n",
      "Epoch 10/25\n",
      "1564/1564 [==============================] - 23s 15ms/step - loss: 0.1800 - auc: 0.7138 - val_loss: 1.2431 - val_auc: 0.7207\n",
      "Epoch 11/25\n",
      "1564/1564 [==============================] - 23s 15ms/step - loss: 0.1786 - auc: 0.7205 - val_loss: 1.0963 - val_auc: 0.7521\n",
      "Epoch 12/25\n",
      "1564/1564 [==============================] - 23s 15ms/step - loss: 0.1780 - auc: 0.7244 - val_loss: 1.5399 - val_auc: 0.7368\n",
      "Epoch 13/25\n",
      "1564/1564 [==============================] - 23s 15ms/step - loss: 0.1793 - auc: 0.7194 - val_loss: 1.8440 - val_auc: 0.7034\n",
      "Epoch 14/25\n",
      "1564/1564 [==============================] - 23s 14ms/step - loss: 0.1798 - auc: 0.7152 - val_loss: 1.3815 - val_auc: 0.7434\n",
      "Epoch 15/25\n",
      "1564/1564 [==============================] - 23s 15ms/step - loss: 0.1807 - auc: 0.7207 - val_loss: 1.3682 - val_auc: 0.7382\n",
      "Epoch 16/25\n",
      "1564/1564 [==============================] - 23s 15ms/step - loss: 0.1787 - auc: 0.7224 - val_loss: 1.6166 - val_auc: 0.7315\n",
      "Epoch 17/25\n",
      "1564/1564 [==============================] - 23s 14ms/step - loss: 0.1785 - auc: 0.7244 - val_loss: 1.5284 - val_auc: 0.7182\n",
      "Epoch 18/25\n",
      "1564/1564 [==============================] - 23s 15ms/step - loss: 0.1795 - auc: 0.7175 - val_loss: 1.7196 - val_auc: 0.6741\n",
      "Epoch 19/25\n",
      "1564/1564 [==============================] - 23s 15ms/step - loss: 0.1788 - auc: 0.7289 - val_loss: 1.1283 - val_auc: 0.7446\n",
      "Epoch 20/25\n",
      "1564/1564 [==============================] - 23s 14ms/step - loss: 0.1787 - auc: 0.7192 - val_loss: 1.5850 - val_auc: 0.7218\n",
      "Epoch 21/25\n",
      "1564/1564 [==============================] - 24s 15ms/step - loss: 0.1787 - auc: 0.7205 - val_loss: 1.6006 - val_auc: 0.7163\n",
      "Epoch 22/25\n",
      "1564/1564 [==============================] - 23s 15ms/step - loss: 0.1800 - auc: 0.7126 - val_loss: 1.4866 - val_auc: 0.7236\n",
      "Epoch 23/25\n",
      "1564/1564 [==============================] - 23s 15ms/step - loss: 0.1793 - auc: 0.7191 - val_loss: 1.7551 - val_auc: 0.6919\n",
      "Epoch 24/25\n",
      "1564/1564 [==============================] - 25s 16ms/step - loss: 0.1796 - auc: 0.7122 - val_loss: 1.6180 - val_auc: 0.6935\n",
      "Epoch 25/25\n",
      "1564/1564 [==============================] - 22s 14ms/step - loss: 0.1793 - auc: 0.7132 - val_loss: 1.3156 - val_auc: 0.7420\n",
      "771/771 [==============================] - 5s 6ms/step\n"
     ]
    }
   ],
   "source": [
    "train_model(modelV1, training_set, validation_set, batch_size=16, num_epochs=25)\n",
    "y_pred = get_predictions(modelV1, testing_set)\n",
    "save_predictions_to_csv(y_pred, 'First_Trial.csv')\n"
   ]
  },
  {
   "cell_type": "markdown",
   "metadata": {},
   "source": [
    "**Result of the previous trial is :**  </br>\n",
    "**Training accuracy (auc)**: 71.32 %</br>\n",
    "**validatation accuracy (auc)**: 74.20 %</br>\n",
    "**Testing Accuracy (auc)**: 72.088 %</br></br>\n",
    "\n",
    "**Comment :** </br>\n",
    "No overfitting happened here the test score is near to the validation score, maybe the increase in the model complexity of the model will be followed by an increase in performance , or use upsamling for training data set will help in increaseing the performance.</br>\n",
    "In the next trial we will try to use upsampling data with the same model."
   ]
  },
  {
   "cell_type": "markdown",
   "metadata": {},
   "source": [
    "## Second trial"
   ]
  },
  {
   "cell_type": "markdown",
   "metadata": {},
   "source": [
    "**The input of these trial is :** Upsampling training data set \n",
    "\n",
    "**The Model Used is :** Same as the previous model"
   ]
  },
  {
   "cell_type": "code",
   "execution_count": null,
   "metadata": {
    "execution": {
     "iopub.execute_input": "2023-04-26T14:38:35.298153Z",
     "iopub.status.busy": "2023-04-26T14:38:35.297652Z"
    }
   },
   "outputs": [
    {
     "name": "stdout",
     "output_type": "stream",
     "text": [
      "Epoch 1/25\n",
      "2530/2530 [==============================] - 51s 18ms/step - loss: 0.6394 - auc: 0.6834 - val_loss: 0.6178 - val_auc: 0.7288\n",
      "Epoch 2/25\n",
      "2530/2530 [==============================] - 48s 19ms/step - loss: 0.6013 - auc: 0.7390 - val_loss: 0.5833 - val_auc: 0.7596\n",
      "Epoch 3/25\n",
      "2530/2530 [==============================] - 49s 19ms/step - loss: 0.5782 - auc: 0.7645 - val_loss: 0.5688 - val_auc: 0.7829\n",
      "Epoch 4/25\n",
      "2530/2530 [==============================] - 49s 19ms/step - loss: 0.5619 - auc: 0.7814 - val_loss: 0.5484 - val_auc: 0.7992\n",
      "Epoch 5/25\n",
      "2530/2530 [==============================] - 46s 18ms/step - loss: 0.5456 - auc: 0.7980 - val_loss: 0.5217 - val_auc: 0.8230\n",
      "Epoch 6/25\n",
      "2530/2530 [==============================] - 46s 18ms/step - loss: 0.5350 - auc: 0.8081 - val_loss: 0.5066 - val_auc: 0.8371\n",
      "Epoch 7/25\n",
      "2530/2530 [==============================] - 48s 19ms/step - loss: 0.5246 - auc: 0.8179 - val_loss: 0.5100 - val_auc: 0.8328\n",
      "Epoch 8/25\n",
      "2530/2530 [==============================] - 47s 18ms/step - loss: 0.5165 - auc: 0.8251 - val_loss: 0.4894 - val_auc: 0.8472\n",
      "Epoch 9/25\n",
      "2530/2530 [==============================] - 46s 18ms/step - loss: 0.5094 - auc: 0.8309 - val_loss: 0.4928 - val_auc: 0.8452\n",
      "Epoch 10/25\n",
      "2530/2530 [==============================] - 48s 19ms/step - loss: 0.5054 - auc: 0.8347 - val_loss: 0.4844 - val_auc: 0.8537\n",
      "Epoch 11/25\n",
      "2530/2530 [==============================] - 48s 19ms/step - loss: 0.4978 - auc: 0.8401 - val_loss: 0.4933 - val_auc: 0.8493\n",
      "Epoch 12/25\n",
      "2530/2530 [==============================] - 48s 19ms/step - loss: 0.4902 - auc: 0.8451 - val_loss: 0.4803 - val_auc: 0.8540\n",
      "Epoch 13/25\n",
      "2530/2530 [==============================] - 46s 18ms/step - loss: 0.4863 - auc: 0.8486 - val_loss: 0.4595 - val_auc: 0.8655\n",
      "Epoch 14/25\n",
      "2530/2530 [==============================] - 46s 18ms/step - loss: 0.4816 - auc: 0.8511 - val_loss: 0.4802 - val_auc: 0.8624\n",
      "Epoch 15/25\n",
      "2530/2530 [==============================] - 47s 19ms/step - loss: 0.4799 - auc: 0.8535 - val_loss: 0.4566 - val_auc: 0.8683\n",
      "Epoch 16/25\n",
      "2530/2530 [==============================] - 49s 19ms/step - loss: 0.4741 - auc: 0.8567 - val_loss: 0.4534 - val_auc: 0.8713\n",
      "Epoch 17/25\n",
      "2530/2530 [==============================] - 49s 19ms/step - loss: 0.4712 - auc: 0.8590 - val_loss: 0.4968 - val_auc: 0.8601\n",
      "Epoch 18/25\n",
      "2530/2530 [==============================] - 51s 20ms/step - loss: 0.4721 - auc: 0.8587 - val_loss: 0.4465 - val_auc: 0.8753\n",
      "Epoch 19/25\n",
      "2530/2530 [==============================] - 48s 19ms/step - loss: 0.4662 - auc: 0.8621 - val_loss: 0.4624 - val_auc: 0.8715\n",
      "Epoch 20/25\n",
      "2530/2530 [==============================] - 50s 20ms/step - loss: 0.4637 - auc: 0.8640 - val_loss: 0.4591 - val_auc: 0.8778\n",
      "Epoch 21/25\n",
      "2530/2530 [==============================] - 47s 19ms/step - loss: 0.4589 - auc: 0.8667 - val_loss: 0.4773 - val_auc: 0.8716\n",
      "Epoch 22/25\n",
      "2530/2530 [==============================] - 46s 18ms/step - loss: 0.4604 - auc: 0.8664 - val_loss: 0.4322 - val_auc: 0.8863\n",
      "Epoch 23/25\n",
      "2530/2530 [==============================] - 47s 18ms/step - loss: 0.4583 - auc: 0.8673 - val_loss: 0.4351 - val_auc: 0.8825\n",
      "Epoch 24/25\n",
      "2530/2530 [==============================] - 46s 18ms/step - loss: 0.4548 - auc: 0.8695 - val_loss: 0.4551 - val_auc: 0.8756\n",
      "Epoch 25/25\n",
      "1877/2530 [=====================>........] - ETA: 11s - loss: 0.4526 - auc: 0.8706"
     ]
    }
   ],
   "source": [
    "train_model(modelV1, training_set, validation_set, batch_size=16, num_epochs=25)\n",
    "y_pred = get_predictions(modelV1, testing_set)\n",
    "save_predictions_to_csv(y_pred, 'Second_Trial.csv')\n"
   ]
  },
  {
   "cell_type": "markdown",
   "metadata": {},
   "source": [
    "**Result of the previous trial is :**  </br>\n",
    "**Training accuracy (auc)**: 86.95 %</br>\n",
    "**validatation accuracy (auc)**: 87.56 %</br>\n",
    "**Testing Accuracy (auc)**: 80.78 %</br></br>\n",
    "\n",
    "**Comment:** </br>\n",
    "As we can see the performance increased when we used upsampling data so we will use upsampling data in the next trials.</br> \n",
    "Now we need to use different message passing method to find the best method with our data set."
   ]
  },
  {
   "cell_type": "markdown",
   "metadata": {},
   "source": [
    "## Thired Trial"
   ]
  },
  {
   "cell_type": "markdown",
   "metadata": {},
   "source": [
    "**The input of these trial is :** Upsampling training data set \n",
    "\n",
    "**The Model Used is :**\n",
    "\n",
    "The model uses a **single GNN layer** with hyperparameters configured to use a **relational graph convolutional network** (RGCN) message passing method. The output of the GNN layer is passed through a function called **segment_mean**, which computes the mean of the node embeddings for each graph in the batch. This is intended to summarize the information from the nodes into a single vector per graph, which can be used for the prediction task.\n",
    "\n",
    "The output of the **segment_mean** function is passed through a dense layer with a sigmoid activation function to produce the final predictions. The model is compiled using **the binary cross-entropy loss** function and the **Adam optimizer**."
   ]
  },
  {
   "cell_type": "code",
   "execution_count": 30,
   "metadata": {
    "execution": {
     "iopub.execute_input": "2023-04-28T05:56:30.277197Z",
     "iopub.status.busy": "2023-04-28T05:56:30.276758Z",
     "iopub.status.idle": "2023-04-28T05:56:32.971428Z",
     "shell.execute_reply": "2023-04-28T05:56:32.968976Z",
     "shell.execute_reply.started": "2023-04-28T05:56:30.277155Z"
    }
   },
   "outputs": [
    {
     "name": "stdout",
     "output_type": "stream",
     "text": [
      "Model: \"model\"\n",
      "__________________________________________________________________________________________________\n",
      " Layer (type)                   Output Shape         Param #     Connected to                     \n",
      "==================================================================================================\n",
      " input_6 (InputLayer)           [(None,)]            0           []                               \n",
      "                                                                                                  \n",
      " input_4 (InputLayer)           [(None,)]            0           []                               \n",
      "                                                                                                  \n",
      " tf.math.reduce_max (TFOpLambda  ()                  0           ['input_6[0][0]']                \n",
      " )                                                                                                \n",
      "                                                                                                  \n",
      " embedding (Embedding)          (None, 20)           10000       ['input_4[0][0]']                \n",
      "                                                                                                  \n",
      " input_5 (InputLayer)           [(None, 2)]          0           []                               \n",
      "                                                                                                  \n",
      " tf.__operators__.add (TFOpLamb  ()                  0           ['tf.math.reduce_max[0][0]']     \n",
      " da)                                                                                              \n",
      "                                                                                                  \n",
      " gnn (GNN)                      (None, 32)           22464       ['embedding[0][0]',              \n",
      "                                                                  'input_5[0][0]',                \n",
      "                                                                  'input_6[0][0]',                \n",
      "                                                                  'tf.__operators__.add[0][0]']   \n",
      "                                                                                                  \n",
      " tf.math.segment_mean (TFOpLamb  (None, 32)          0           ['gnn[0][0]',                    \n",
      " da)                                                              'input_6[0][0]']                \n",
      "                                                                                                  \n",
      " dense (Dense)                  (None, 1)            33          ['tf.math.segment_mean[0][0]']   \n",
      "                                                                                                  \n",
      "==================================================================================================\n",
      "Total params: 32,497\n",
      "Trainable params: 32,497\n",
      "Non-trainable params: 0\n",
      "__________________________________________________________________________________________________\n"
     ]
    }
   ],
   "source": [
    "data = keras.Input(batch_shape=(None,))\n",
    "\n",
    "# the first dim is different to the previous one. it is the total number of edges in this batch\n",
    "edge = keras.Input(batch_shape=(None, 2), dtype=tf.int32)\n",
    "node2graph = keras.Input(batch_shape=(None,), dtype=tf.int32)\n",
    "embeded = Embedding(tokenizer.num_words, 20)(data)\n",
    "\n",
    "# number of graphs (number of samples)\n",
    "num_graph = tf.reduce_max(node2graph)+1\n",
    "\n",
    "# declare the GNNInput that take the features of node, the edge, the created list 'node2graph', and number of graphs (number of samples)\n",
    "gnn_input = GNNInput(\n",
    "    node_features = embeded,\n",
    "    adjacency_lists = (edge,),\n",
    "    node_to_graph_map = node2graph, \n",
    "    num_graphs = num_graph,\n",
    ")\n",
    "\n",
    "\n",
    "# configure the hyperparameters of GNN layers\n",
    "# https://github.com/microsoft/tf2-gnn/blob/master/tf2_gnn/layers/gnn.py\n",
    "# \n",
    "# frist load the defualt hyperparameters\n",
    "params = GNN.get_default_hyperparameters()\n",
    "# sets the size of the output of all message passing layers\n",
    "params[\"hidden_dim\"] = 32\n",
    "# configures the message passing style to be RGCN (Relational Graph Convolutional Networks)\n",
    "params['message_calculation_class'] = 'RGCN'\n",
    "\n",
    "# Implements a deep Graph Neural Network\n",
    "gnn_layer = GNN(params)\n",
    "gnn_out = gnn_layer(gnn_input)\n",
    "\n",
    "\n",
    "\n",
    "# Computes the mean along segments of a tensor\n",
    "# https://www.tensorflow.org/api_docs/python/tf/math/segment_mean\n",
    "avg = segment_mean(\n",
    "    data = gnn_out,\n",
    "    segment_ids = node2graph\n",
    ")\n",
    "\n",
    "# Define the output layer of the model\n",
    "pred = Dense(1, activation='sigmoid')(avg)\n",
    "\n",
    "\n",
    "# Creating the model\n",
    "modelV3 = Model(\n",
    "    inputs = {\n",
    "        'data': data,\n",
    "        'edges': edge,\n",
    "        'node2grah': node2graph,\n",
    "    },\n",
    "    outputs = pred\n",
    ")\n",
    "modelV3.summary()"
   ]
  },
  {
   "cell_type": "code",
   "execution_count": 31,
   "metadata": {
    "execution": {
     "iopub.execute_input": "2023-04-28T05:56:32.975738Z",
     "iopub.status.busy": "2023-04-28T05:56:32.974923Z",
     "iopub.status.idle": "2023-04-28T05:56:33.008269Z",
     "shell.execute_reply": "2023-04-28T05:56:33.007194Z",
     "shell.execute_reply.started": "2023-04-28T05:56:32.975684Z"
    }
   },
   "outputs": [],
   "source": [
    "\n",
    "modelV3.compile(\n",
    "    loss='BinaryCrossentropy',\n",
    "    metrics=['AUC']\n",
    ")"
   ]
  },
  {
   "cell_type": "code",
   "execution_count": 32,
   "metadata": {
    "execution": {
     "iopub.execute_input": "2023-04-28T05:56:33.009985Z",
     "iopub.status.busy": "2023-04-28T05:56:33.009515Z",
     "iopub.status.idle": "2023-04-28T06:12:54.549068Z",
     "shell.execute_reply": "2023-04-28T06:12:54.546408Z",
     "shell.execute_reply.started": "2023-04-28T05:56:33.009938Z"
    }
   },
   "outputs": [
    {
     "name": "stdout",
     "output_type": "stream",
     "text": [
      "Epoch 1/25\n",
      "2530/2530 [==============================] - 42s 15ms/step - loss: 0.6357 - auc: 0.6913 - val_loss: 0.6153 - val_auc: 0.7295\n",
      "Epoch 2/25\n",
      "2530/2530 [==============================] - 39s 15ms/step - loss: 0.5960 - auc: 0.7451 - val_loss: 0.5785 - val_auc: 0.7691\n",
      "Epoch 3/25\n",
      "2530/2530 [==============================] - 39s 15ms/step - loss: 0.5740 - auc: 0.7687 - val_loss: 0.5545 - val_auc: 0.7846\n",
      "Epoch 4/25\n",
      "2530/2530 [==============================] - 39s 15ms/step - loss: 0.5593 - auc: 0.7853 - val_loss: 0.5554 - val_auc: 0.7927\n",
      "Epoch 5/25\n",
      "2530/2530 [==============================] - 39s 15ms/step - loss: 0.5457 - auc: 0.7996 - val_loss: 0.5376 - val_auc: 0.8073\n",
      "Epoch 6/25\n",
      "2530/2530 [==============================] - 39s 16ms/step - loss: 0.5363 - auc: 0.8084 - val_loss: 0.5303 - val_auc: 0.8134\n",
      "Epoch 7/25\n",
      "2530/2530 [==============================] - 39s 16ms/step - loss: 0.5294 - auc: 0.8142 - val_loss: 0.5274 - val_auc: 0.8231\n",
      "Epoch 8/25\n",
      "2530/2530 [==============================] - 39s 16ms/step - loss: 0.5211 - auc: 0.8209 - val_loss: 0.5163 - val_auc: 0.8243\n",
      "Epoch 9/25\n",
      "2530/2530 [==============================] - 39s 15ms/step - loss: 0.5122 - auc: 0.8294 - val_loss: 0.5010 - val_auc: 0.8387\n",
      "Epoch 10/25\n",
      "2530/2530 [==============================] - 39s 16ms/step - loss: 0.5073 - auc: 0.8336 - val_loss: 0.5047 - val_auc: 0.8366\n",
      "Epoch 11/25\n",
      "2530/2530 [==============================] - 39s 15ms/step - loss: 0.5027 - auc: 0.8371 - val_loss: 0.4906 - val_auc: 0.8450\n",
      "Epoch 12/25\n",
      "2530/2530 [==============================] - 39s 15ms/step - loss: 0.4966 - auc: 0.8413 - val_loss: 0.4873 - val_auc: 0.8485\n",
      "Epoch 13/25\n",
      "2530/2530 [==============================] - 38s 15ms/step - loss: 0.4909 - auc: 0.8450 - val_loss: 0.4868 - val_auc: 0.8516\n",
      "Epoch 14/25\n",
      "2530/2530 [==============================] - 39s 15ms/step - loss: 0.4896 - auc: 0.8460 - val_loss: 0.4871 - val_auc: 0.8484\n",
      "Epoch 15/25\n",
      "2530/2530 [==============================] - 39s 15ms/step - loss: 0.4856 - auc: 0.8491 - val_loss: 0.4782 - val_auc: 0.8563\n",
      "Epoch 16/25\n",
      "2530/2530 [==============================] - 39s 15ms/step - loss: 0.4846 - auc: 0.8499 - val_loss: 0.4741 - val_auc: 0.8585\n",
      "Epoch 17/25\n",
      "2530/2530 [==============================] - 39s 15ms/step - loss: 0.4800 - auc: 0.8533 - val_loss: 0.4687 - val_auc: 0.8621\n",
      "Epoch 18/25\n",
      "2530/2530 [==============================] - 39s 16ms/step - loss: 0.4808 - auc: 0.8533 - val_loss: 0.4646 - val_auc: 0.8650\n",
      "Epoch 19/25\n",
      "2530/2530 [==============================] - 39s 15ms/step - loss: 0.4744 - auc: 0.8571 - val_loss: 0.4683 - val_auc: 0.8635\n",
      "Epoch 20/25\n",
      "2530/2530 [==============================] - 39s 15ms/step - loss: 0.4721 - auc: 0.8587 - val_loss: 0.4629 - val_auc: 0.8682\n",
      "Epoch 21/25\n",
      "2530/2530 [==============================] - 39s 15ms/step - loss: 0.4738 - auc: 0.8577 - val_loss: 0.4482 - val_auc: 0.8732\n",
      "Epoch 22/25\n",
      "2530/2530 [==============================] - 39s 15ms/step - loss: 0.4731 - auc: 0.8579 - val_loss: 0.4695 - val_auc: 0.8614\n",
      "Epoch 23/25\n",
      "2530/2530 [==============================] - 42s 16ms/step - loss: 0.4722 - auc: 0.8591 - val_loss: 0.4662 - val_auc: 0.8629\n",
      "Epoch 24/25\n",
      "2530/2530 [==============================] - 39s 16ms/step - loss: 0.4716 - auc: 0.8596 - val_loss: 0.4730 - val_auc: 0.8639\n",
      "Epoch 25/25\n",
      "2530/2530 [==============================] - 39s 16ms/step - loss: 0.4696 - auc: 0.8606 - val_loss: 0.4437 - val_auc: 0.8766\n"
     ]
    },
    {
     "ename": "NameError",
     "evalue": "name 'model' is not defined",
     "output_type": "error",
     "traceback": [
      "\u001b[0;31m---------------------------------------------------------------------------\u001b[0m",
      "\u001b[0;31mNameError\u001b[0m                                 Traceback (most recent call last)",
      "\u001b[0;32m/tmp/ipykernel_27/3030365983.py\u001b[0m in \u001b[0;36m<module>\u001b[0;34m\u001b[0m\n\u001b[1;32m      1\u001b[0m \u001b[0mtrain_model\u001b[0m\u001b[0;34m(\u001b[0m\u001b[0mmodelV3\u001b[0m\u001b[0;34m,\u001b[0m \u001b[0mtraining_set\u001b[0m\u001b[0;34m,\u001b[0m \u001b[0mvalidation_set\u001b[0m\u001b[0;34m,\u001b[0m \u001b[0mbatch_size\u001b[0m\u001b[0;34m=\u001b[0m\u001b[0;36m16\u001b[0m\u001b[0;34m,\u001b[0m \u001b[0mnum_epochs\u001b[0m\u001b[0;34m=\u001b[0m\u001b[0;36m25\u001b[0m\u001b[0;34m)\u001b[0m\u001b[0;34m\u001b[0m\u001b[0;34m\u001b[0m\u001b[0m\n\u001b[0;32m----> 2\u001b[0;31m \u001b[0my_pred\u001b[0m \u001b[0;34m=\u001b[0m \u001b[0mget_predictions\u001b[0m\u001b[0;34m(\u001b[0m\u001b[0mmodel\u001b[0m\u001b[0;34m,\u001b[0m \u001b[0mtesting_set\u001b[0m\u001b[0;34m)\u001b[0m\u001b[0;34m\u001b[0m\u001b[0;34m\u001b[0m\u001b[0m\n\u001b[0m\u001b[1;32m      3\u001b[0m \u001b[0msave_predictions_to_csv\u001b[0m\u001b[0;34m(\u001b[0m\u001b[0my_pred\u001b[0m\u001b[0;34m,\u001b[0m \u001b[0;34m'Third_Trial.csv'\u001b[0m\u001b[0;34m)\u001b[0m\u001b[0;34m\u001b[0m\u001b[0;34m\u001b[0m\u001b[0m\n",
      "\u001b[0;31mNameError\u001b[0m: name 'model' is not defined"
     ]
    }
   ],
   "source": [
    "train_model(modelV3, training_set, validation_set, batch_size=16, num_epochs=25)\n"
   ]
  },
  {
   "cell_type": "code",
   "execution_count": 33,
   "metadata": {
    "execution": {
     "iopub.execute_input": "2023-04-28T06:14:21.346146Z",
     "iopub.status.busy": "2023-04-28T06:14:21.345725Z",
     "iopub.status.idle": "2023-04-28T06:14:26.399857Z",
     "shell.execute_reply": "2023-04-28T06:14:26.398811Z",
     "shell.execute_reply.started": "2023-04-28T06:14:21.346111Z"
    }
   },
   "outputs": [
    {
     "name": "stdout",
     "output_type": "stream",
     "text": [
      "771/771 [==============================] - 5s 6ms/step\n"
     ]
    }
   ],
   "source": [
    "y_pred = get_predictions(modelV3, testing_set)\n",
    "save_predictions_to_csv(y_pred, 'Third_Trial.csv')"
   ]
  },
  {
   "cell_type": "markdown",
   "metadata": {},
   "source": [
    "**Result of the previous trial is :**  </br>\n",
    "**Training accuracy (auc)**: 86.06 %</br>\n",
    "**validatation accuracy (auc)**: 87.66 %</br>\n",
    "**Testing Accuracy (auc)**: 81.03 %</br></br>\n",
    "\n",
    "**Comment :** </br>\n",
    "when we used relational graph convolutional network (RGCN) message passing method the accuracy slightly increased.</br>\n",
    "So, we need to use different message passing method or use more complex model."
   ]
  },
  {
   "cell_type": "markdown",
   "metadata": {},
   "source": [
    "## Fourth Trial"
   ]
  },
  {
   "cell_type": "markdown",
   "metadata": {},
   "source": [
    "**The input of these trial is :** Upsampling training data set \n",
    "\n",
    "**The Model Used is :**\n",
    "\n",
    "The model uses a **single GNN layer** with hyperparameters configured to use a **relational graph attention network** (RGAT) message passing method. The output of the GNN layer is passed through a function called **segment_mean**, which computes the **mean of the node** embeddings for each graph in the batch. This is intended to summarize the information from the nodes into a single vector per graph, which can be used for the prediction task.\n",
    "\n",
    "The output of the **segment_mean** function is passed through a dense layer with a **sigmoid** activation function to produce the final predictions. The model is compiled using the **binary cross-entropy loss** function and the **Adam optimizer**."
   ]
  },
  {
   "cell_type": "code",
   "execution_count": 34,
   "metadata": {
    "execution": {
     "iopub.execute_input": "2023-04-28T06:14:26.401986Z",
     "iopub.status.busy": "2023-04-28T06:14:26.401645Z",
     "iopub.status.idle": "2023-04-28T06:14:27.566333Z",
     "shell.execute_reply": "2023-04-28T06:14:27.564883Z",
     "shell.execute_reply.started": "2023-04-28T06:14:26.401955Z"
    }
   },
   "outputs": [
    {
     "name": "stdout",
     "output_type": "stream",
     "text": [
      "Model: \"model_1\"\n",
      "__________________________________________________________________________________________________\n",
      " Layer (type)                   Output Shape         Param #     Connected to                     \n",
      "==================================================================================================\n",
      " input_9 (InputLayer)           [(None,)]            0           []                               \n",
      "                                                                                                  \n",
      " input_7 (InputLayer)           [(None,)]            0           []                               \n",
      "                                                                                                  \n",
      " tf.math.reduce_max_1 (TFOpLamb  ()                  0           ['input_9[0][0]']                \n",
      " da)                                                                                              \n",
      "                                                                                                  \n",
      " embedding_1 (Embedding)        (None, 20)           10000       ['input_7[0][0]']                \n",
      "                                                                                                  \n",
      " input_8 (InputLayer)           [(None, 2)]          0           []                               \n",
      "                                                                                                  \n",
      " tf.__operators__.add_1 (TFOpLa  ()                  0           ['tf.math.reduce_max_1[0][0]']   \n",
      " mbda)                                                                                            \n",
      "                                                                                                  \n",
      " gnn_1 (GNN)                    (None, 32)           22720       ['embedding_1[0][0]',            \n",
      "                                                                  'input_8[0][0]',                \n",
      "                                                                  'input_9[0][0]',                \n",
      "                                                                  'tf.__operators__.add_1[0][0]'] \n",
      "                                                                                                  \n",
      " tf.math.segment_mean_1 (TFOpLa  (None, 32)          0           ['gnn_1[0][0]',                  \n",
      " mbda)                                                            'input_9[0][0]']                \n",
      "                                                                                                  \n",
      " dense_1 (Dense)                (None, 1)            33          ['tf.math.segment_mean_1[0][0]'] \n",
      "                                                                                                  \n",
      "==================================================================================================\n",
      "Total params: 32,753\n",
      "Trainable params: 32,753\n",
      "Non-trainable params: 0\n",
      "__________________________________________________________________________________________________\n"
     ]
    }
   ],
   "source": [
    "data = keras.Input(batch_shape=(None,))\n",
    "\n",
    "# the first dim is different to the previous one. it is the total number of edges in this batch\n",
    "edge = keras.Input(batch_shape=(None, 2), dtype=tf.int32)\n",
    "node2graph = keras.Input(batch_shape=(None,), dtype=tf.int32)\n",
    "embeded = Embedding(tokenizer.num_words, 20)(data)\n",
    "\n",
    "# number of graphs (number of samples)\n",
    "num_graph = tf.reduce_max(node2graph)+1\n",
    "\n",
    "# declare the GNNInput that take the features of node, the edge, the created list 'node2graph', and number of graphs (number of samples)\n",
    "gnn_input = GNNInput(\n",
    "    node_features = embeded,\n",
    "    adjacency_lists = (edge,),\n",
    "    node_to_graph_map = node2graph, \n",
    "    num_graphs = num_graph,\n",
    ")\n",
    "\n",
    "\n",
    "# configure the hyperparameters of GNN layers\n",
    "# https://github.com/microsoft/tf2-gnn/blob/master/tf2_gnn/layers/gnn.py\n",
    "# \n",
    "# frist load the defualt hyperparameters\n",
    "params = GNN.get_default_hyperparameters()\n",
    "# sets the size of the output of all message passing layers\n",
    "params[\"hidden_dim\"] = 32\n",
    "# configures the message passing style to be RGAT (Relational Graph Attention Networks)\n",
    "params['message_calculation_class'] = 'RGAT'\n",
    "# configures the number of parallel (independent) weighted sums that are computed, whose results are concatenated to obtain the final result.\n",
    "params[\"num_heads\"] = 4\n",
    "\n",
    "# Implements a deep Graph Neural Network\n",
    "gnn_layer = GNN(params)\n",
    "gnn_out = gnn_layer(gnn_input)\n",
    "\n",
    "\n",
    "\n",
    "# Computes the mean along segments of a tensor\n",
    "# https://www.tensorflow.org/api_docs/python/tf/math/segment_mean\n",
    "avg = segment_mean(\n",
    "    data = gnn_out,\n",
    "    segment_ids = node2graph\n",
    ")\n",
    "\n",
    "# Define the out put layer of the model\n",
    "pred = Dense(1, activation='sigmoid')(avg)\n",
    "\n",
    "\n",
    "# Creating the model\n",
    "modelV4 = Model(\n",
    "    inputs = {\n",
    "        'data': data,\n",
    "        'edges': edge,\n",
    "        'node2grah': node2graph,\n",
    "    },\n",
    "    outputs = pred\n",
    ")\n",
    "modelV4.summary()"
   ]
  },
  {
   "cell_type": "code",
   "execution_count": 35,
   "metadata": {
    "execution": {
     "iopub.execute_input": "2023-04-28T06:14:27.568889Z",
     "iopub.status.busy": "2023-04-28T06:14:27.568525Z",
     "iopub.status.idle": "2023-04-28T06:14:27.583384Z",
     "shell.execute_reply": "2023-04-28T06:14:27.582093Z",
     "shell.execute_reply.started": "2023-04-28T06:14:27.568856Z"
    }
   },
   "outputs": [],
   "source": [
    "\n",
    "modelV4.compile(\n",
    "    loss='BinaryCrossentropy',\n",
    "    metrics=['AUC']\n",
    ")"
   ]
  },
  {
   "cell_type": "code",
   "execution_count": 40,
   "metadata": {
    "execution": {
     "iopub.execute_input": "2023-04-28T06:45:49.695061Z",
     "iopub.status.busy": "2023-04-28T06:45:49.694532Z",
     "iopub.status.idle": "2023-04-28T07:08:57.247352Z",
     "shell.execute_reply": "2023-04-28T07:08:57.245741Z",
     "shell.execute_reply.started": "2023-04-28T06:45:49.695015Z"
    }
   },
   "outputs": [
    {
     "name": "stdout",
     "output_type": "stream",
     "text": [
      "Epoch 1/25\n",
      "2530/2530 [==============================] - 55s 22ms/step - loss: 0.6175 - auc: 0.7150 - val_loss: 0.6076 - val_auc: 0.7443\n",
      "Epoch 2/25\n",
      "2530/2530 [==============================] - 56s 22ms/step - loss: 0.5843 - auc: 0.7591 - val_loss: 0.5754 - val_auc: 0.7752\n",
      "Epoch 3/25\n",
      "2530/2530 [==============================] - 56s 22ms/step - loss: 0.5575 - auc: 0.7888 - val_loss: 0.5552 - val_auc: 0.7978\n",
      "Epoch 4/25\n",
      "2530/2530 [==============================] - 54s 21ms/step - loss: 0.5412 - auc: 0.8036 - val_loss: 0.5330 - val_auc: 0.8109\n",
      "Epoch 5/25\n",
      "2530/2530 [==============================] - 54s 21ms/step - loss: 0.5259 - auc: 0.8169 - val_loss: 0.5433 - val_auc: 0.8130\n",
      "Epoch 6/25\n",
      "2530/2530 [==============================] - 56s 22ms/step - loss: 0.5119 - auc: 0.8279 - val_loss: 0.4991 - val_auc: 0.8393\n",
      "Epoch 7/25\n",
      "2530/2530 [==============================] - 56s 22ms/step - loss: 0.4960 - auc: 0.8401 - val_loss: 0.4929 - val_auc: 0.8450\n",
      "Epoch 8/25\n",
      "2530/2530 [==============================] - 55s 22ms/step - loss: 0.4862 - auc: 0.8478 - val_loss: 0.4831 - val_auc: 0.8539\n",
      "Epoch 9/25\n",
      "2530/2530 [==============================] - 55s 22ms/step - loss: 0.4752 - auc: 0.8559 - val_loss: 0.4675 - val_auc: 0.8630\n",
      "Epoch 10/25\n",
      "2530/2530 [==============================] - 57s 23ms/step - loss: 0.4655 - auc: 0.8625 - val_loss: 0.4469 - val_auc: 0.8750\n",
      "Epoch 11/25\n",
      "2530/2530 [==============================] - 57s 22ms/step - loss: 0.4564 - auc: 0.8686 - val_loss: 0.4350 - val_auc: 0.8818\n",
      "Epoch 12/25\n",
      "2530/2530 [==============================] - 59s 23ms/step - loss: 0.4520 - auc: 0.8716 - val_loss: 0.4435 - val_auc: 0.8766\n",
      "Epoch 13/25\n",
      "2530/2530 [==============================] - 53s 21ms/step - loss: 0.4438 - auc: 0.8767 - val_loss: 0.4202 - val_auc: 0.8897\n",
      "Epoch 14/25\n",
      "2530/2530 [==============================] - 56s 22ms/step - loss: 0.4370 - auc: 0.8808 - val_loss: 0.4178 - val_auc: 0.8915\n",
      "Epoch 15/25\n",
      "2530/2530 [==============================] - 54s 21ms/step - loss: 0.4276 - auc: 0.8862 - val_loss: 0.4214 - val_auc: 0.8896\n",
      "Epoch 16/25\n",
      "2530/2530 [==============================] - 55s 22ms/step - loss: 0.4237 - auc: 0.8881 - val_loss: 0.3973 - val_auc: 0.9013\n",
      "Epoch 17/25\n",
      "2530/2530 [==============================] - 53s 21ms/step - loss: 0.4207 - auc: 0.8902 - val_loss: 0.4226 - val_auc: 0.8906\n",
      "Epoch 18/25\n",
      "2530/2530 [==============================] - 54s 21ms/step - loss: 0.4155 - auc: 0.8934 - val_loss: 0.3936 - val_auc: 0.9033\n",
      "Epoch 19/25\n",
      "2530/2530 [==============================] - 53s 21ms/step - loss: 0.4076 - auc: 0.8972 - val_loss: 0.4066 - val_auc: 0.8980\n",
      "Epoch 20/25\n",
      "2530/2530 [==============================] - 55s 22ms/step - loss: 0.4048 - auc: 0.8991 - val_loss: 0.4001 - val_auc: 0.9047\n",
      "Epoch 21/25\n",
      "2530/2530 [==============================] - 57s 22ms/step - loss: 0.3980 - auc: 0.9024 - val_loss: 0.3746 - val_auc: 0.9136\n",
      "Epoch 22/25\n",
      "2530/2530 [==============================] - 57s 23ms/step - loss: 0.3956 - auc: 0.9046 - val_loss: 0.3850 - val_auc: 0.9087\n",
      "Epoch 23/25\n",
      "2530/2530 [==============================] - 55s 22ms/step - loss: 0.3990 - auc: 0.9028 - val_loss: 0.3834 - val_auc: 0.9142\n",
      "Epoch 24/25\n",
      "2530/2530 [==============================] - 56s 22ms/step - loss: 0.3879 - auc: 0.9081 - val_loss: 0.3755 - val_auc: 0.9144\n",
      "Epoch 25/25\n",
      "2530/2530 [==============================] - 54s 21ms/step - loss: 0.3848 - auc: 0.9094 - val_loss: 0.3681 - val_auc: 0.9194\n",
      "771/771 [==============================] - 7s 8ms/step\n"
     ]
    }
   ],
   "source": [
    "train_model(modelV4, training_set, validation_set, batch_size=16, num_epochs=25)\n",
    "y_pred = get_predictions(modelV4, testing_set)\n",
    "save_predictions_to_csv(y_pred, 'Fourth_Trial.csv')\n"
   ]
  },
  {
   "cell_type": "markdown",
   "metadata": {},
   "source": [
    "**Result of the previous trial is :**  </br>\n",
    "**Training accuracy (auc)**: 90.94 %</br>\n",
    "**validatation accuracy (auc)**: 91.94 %</br>\n",
    "**Testing Accuracy (auc)**: 84.614 %</br></br>\n",
    "\n",
    "**Comment :** </br>\n",
    "Here, we used RGAT (Relational Graph Attention Networks) as message passing method and it improved the performance.</br></br>\n",
    "The reason why RGATs may improve the accuracy more than RGCNs in certain cases is that attention mechanisms can help the model focus on the most relevant nodes and edges in the graph, and capture more complex relationships between them. By assigning different weights to different nodes and edges based on their importance, RGATs can improve the accuracy of the model and capture more fine-grained information about the graph.</br>\n",
    "\n",
    "In contrast, RGCNs use weight-sharing to ensure that the same parameters are used for each edge type. While this can be effective in some cases, it may not be sufficient to capture the full complexity of the graph, especially if there are significant differences between the different types of edges."
   ]
  },
  {
   "cell_type": "markdown",
   "metadata": {},
   "source": [
    "## Fifth Trile"
   ]
  },
  {
   "cell_type": "markdown",
   "metadata": {},
   "source": [
    "**The input of these trial is :** Upsampling training data set \n",
    "\n",
    "**The Model Used is :**\n",
    "\n",
    "The model uses a single GNN layer with hyperparameters configured to use a **relational graph attention network** (RGAT) message passing method. The output of the GNN layer is passed through an **attention mechanism**, which applies **a dense layer with a hyperbolic tangent** activation function, followed by a **softmax** activation function, to compute attention weights. These weights are then used to compute a **weighted average** of the node embeddings, which is intended to highlight the most important nodes for the prediction task.\n",
    "\n",
    "The output of the attention mechanism is passed through a dense layer with a **sigmoid** activation function to produce the final predictions. The model is compiled using the Adam optimizer and binary cross-entropy loss function, and the accuracy metric is used to evaluate the model performance. "
   ]
  },
  {
   "cell_type": "code",
   "execution_count": 26,
   "metadata": {
    "execution": {
     "iopub.execute_input": "2023-04-28T14:44:57.821333Z",
     "iopub.status.busy": "2023-04-28T14:44:57.820547Z",
     "iopub.status.idle": "2023-04-28T14:45:00.990277Z",
     "shell.execute_reply": "2023-04-28T14:45:00.989073Z",
     "shell.execute_reply.started": "2023-04-28T14:44:57.821277Z"
    }
   },
   "outputs": [
    {
     "name": "stdout",
     "output_type": "stream",
     "text": [
      "Model: \"model\"\n",
      "__________________________________________________________________________________________________\n",
      " Layer (type)                   Output Shape         Param #     Connected to                     \n",
      "==================================================================================================\n",
      " input_3 (InputLayer)           [(None,)]            0           []                               \n",
      "                                                                                                  \n",
      " input_1 (InputLayer)           [(None,)]            0           []                               \n",
      "                                                                                                  \n",
      " tf.math.reduce_max (TFOpLambda  ()                  0           ['input_3[0][0]']                \n",
      " )                                                                                                \n",
      "                                                                                                  \n",
      " embedding (Embedding)          (None, 20)           10000       ['input_1[0][0]']                \n",
      "                                                                                                  \n",
      " input_2 (InputLayer)           [(None, 2)]          0           []                               \n",
      "                                                                                                  \n",
      " tf.__operators__.add (TFOpLamb  ()                  0           ['tf.math.reduce_max[0][0]']     \n",
      " da)                                                                                              \n",
      "                                                                                                  \n",
      " gnn (GNN)                      (None, 32)           22720       ['embedding[0][0]',              \n",
      "                                                                  'input_2[0][0]',                \n",
      "                                                                  'input_3[0][0]',                \n",
      "                                                                  'tf.__operators__.add[0][0]']   \n",
      "                                                                                                  \n",
      " dense (Dense)                  (None, 1)            33          ['gnn[0][0]']                    \n",
      "                                                                                                  \n",
      " flatten (Flatten)              (None, 1)            0           ['dense[0][0]']                  \n",
      "                                                                                                  \n",
      " activation (Activation)        (None, 1)            0           ['flatten[0][0]']                \n",
      "                                                                                                  \n",
      " dense_1 (Dense)                (None, 32)           64          ['activation[0][0]']             \n",
      "                                                                                                  \n",
      " multiply (Multiply)            (None, 32)           0           ['gnn[0][0]',                    \n",
      "                                                                  'dense_1[0][0]']                \n",
      "                                                                                                  \n",
      " tf.math.segment_mean (TFOpLamb  (None, 32)          0           ['multiply[0][0]',               \n",
      " da)                                                              'input_3[0][0]']                \n",
      "                                                                                                  \n",
      " dense_2 (Dense)                (None, 1)            33          ['tf.math.segment_mean[0][0]']   \n",
      "                                                                                                  \n",
      "==================================================================================================\n",
      "Total params: 32,850\n",
      "Trainable params: 32,850\n",
      "Non-trainable params: 0\n",
      "__________________________________________________________________________________________________\n"
     ]
    }
   ],
   "source": [
    "\n",
    "data = keras.Input(batch_shape=(None,))\n",
    "\n",
    "# the first dim is different to the previous one. it is the total number of edges in this batch\n",
    "edge = keras.Input(batch_shape=(None, 2), dtype=tf.int32)\n",
    "node2graph = keras.Input(batch_shape=(None,), dtype=tf.int32)\n",
    "embeded = Embedding(tokenizer.num_words, 20)(data)\n",
    "\n",
    "# number of graphs (number of samples)\n",
    "num_graph = tf.reduce_max(node2graph)+1\n",
    "\n",
    "# declare the GNNInput that take the features of node, the edge, the created list 'node2graph', and number of graphs (number of samples)\n",
    "gnn_input = GNNInput(\n",
    "    node_features = embeded,\n",
    "    adjacency_lists = (edge,),\n",
    "    node_to_graph_map = node2graph, \n",
    "    num_graphs = num_graph,\n",
    ")\n",
    "params = GNN.get_default_hyperparameters()\n",
    "params['hidden_dim'] = 32\n",
    "params['num_heads'] = 4\n",
    "params['dropout_rate'] = 0.2\n",
    "params['message_calculation_class'] = 'RGAT'\n",
    "gnn_layer1 = GNN(params)(gnn_input)\n",
    "\n",
    "attn = layers.Dense(1, activation=\"tanh\")(gnn_layer1)\n",
    "attn = layers.Flatten()(attn)\n",
    "attn = layers.Activation(\"softmax\")(attn)\n",
    "attn = layers.Dense(32)(attn)\n",
    "# attn = layers.Reshape((32))(attn)  # Add a Reshape layer to convert attn to (None, 1, 20)\n",
    "# attn = layers.Permute([2, 1])(attn)\n",
    "attn_out = layers.Multiply()([gnn_layer1, attn])\n",
    "attn_out = segment_mean(data =attn_out, segment_ids = node2graph) \n",
    "\n",
    "output = layers.Dense(1, activation=\"sigmoid\")(attn_out)\n",
    "labels = keras.Input(batch_shape=(None,))\n",
    "labels = layers.Reshape((1,))(labels)  # Reshape labels to have shape (None, 1)\n",
    "\n",
    "\n",
    "modelV5 = Model(inputs = {\n",
    "        'data': data,\n",
    "        'edges': edge,\n",
    "        'node2grah': node2graph,\n",
    "    }, outputs=output)\n",
    "modelV5.compile(optimizer=\"adam\", loss=\"binary_crossentropy\", metrics=[\"accuracy\"])\n",
    "modelV5.summary()"
   ]
  },
  {
   "cell_type": "code",
   "execution_count": 27,
   "metadata": {
    "execution": {
     "iopub.execute_input": "2023-04-28T14:45:00.992104Z",
     "iopub.status.busy": "2023-04-28T14:45:00.991758Z",
     "iopub.status.idle": "2023-04-28T15:08:00.527235Z",
     "shell.execute_reply": "2023-04-28T15:08:00.526012Z",
     "shell.execute_reply.started": "2023-04-28T14:45:00.992072Z"
    }
   },
   "outputs": [
    {
     "name": "stdout",
     "output_type": "stream",
     "text": [
      "Epoch 1/25\n",
      "2530/2530 [==============================] - 63s 22ms/step - loss: 0.6230 - accuracy: 0.6556 - val_loss: 0.5911 - val_accuracy: 0.7067\n",
      "Epoch 2/25\n",
      "2530/2530 [==============================] - 55s 22ms/step - loss: 0.5814 - accuracy: 0.7066 - val_loss: 0.5739 - val_accuracy: 0.7153\n",
      "Epoch 3/25\n",
      "2530/2530 [==============================] - 57s 22ms/step - loss: 0.5547 - accuracy: 0.7273 - val_loss: 0.5356 - val_accuracy: 0.7425\n",
      "Epoch 4/25\n",
      "2530/2530 [==============================] - 55s 22ms/step - loss: 0.5329 - accuracy: 0.7405 - val_loss: 0.5165 - val_accuracy: 0.7546\n",
      "Epoch 5/25\n",
      "2530/2530 [==============================] - 55s 22ms/step - loss: 0.5200 - accuracy: 0.7487 - val_loss: 0.5032 - val_accuracy: 0.7572\n",
      "Epoch 6/25\n",
      "2530/2530 [==============================] - 55s 22ms/step - loss: 0.5055 - accuracy: 0.7586 - val_loss: 0.4857 - val_accuracy: 0.7740\n",
      "Epoch 7/25\n",
      "2530/2530 [==============================] - 55s 22ms/step - loss: 0.4922 - accuracy: 0.7657 - val_loss: 0.4762 - val_accuracy: 0.7779\n",
      "Epoch 8/25\n",
      "2530/2530 [==============================] - 54s 22ms/step - loss: 0.4773 - accuracy: 0.7736 - val_loss: 0.4509 - val_accuracy: 0.7910\n",
      "Epoch 9/25\n",
      "2530/2530 [==============================] - 57s 23ms/step - loss: 0.4637 - accuracy: 0.7806 - val_loss: 0.4462 - val_accuracy: 0.7935\n",
      "Epoch 10/25\n",
      "2530/2530 [==============================] - 57s 22ms/step - loss: 0.4540 - accuracy: 0.7870 - val_loss: 0.4363 - val_accuracy: 0.7975\n",
      "Epoch 11/25\n",
      "2530/2530 [==============================] - 54s 21ms/step - loss: 0.4466 - accuracy: 0.7914 - val_loss: 0.4267 - val_accuracy: 0.8008\n",
      "Epoch 12/25\n",
      "2530/2530 [==============================] - 56s 22ms/step - loss: 0.4382 - accuracy: 0.7953 - val_loss: 0.4317 - val_accuracy: 0.8048\n",
      "Epoch 13/25\n",
      "2530/2530 [==============================] - 55s 22ms/step - loss: 0.4251 - accuracy: 0.8037 - val_loss: 0.4119 - val_accuracy: 0.8073\n",
      "Epoch 14/25\n",
      "2530/2530 [==============================] - 56s 22ms/step - loss: 0.4201 - accuracy: 0.8073 - val_loss: 0.4034 - val_accuracy: 0.8209\n",
      "Epoch 15/25\n",
      "2530/2530 [==============================] - 53s 21ms/step - loss: 0.4119 - accuracy: 0.8118 - val_loss: 0.3840 - val_accuracy: 0.8269\n",
      "Epoch 16/25\n",
      "2530/2530 [==============================] - 53s 21ms/step - loss: 0.4047 - accuracy: 0.8139 - val_loss: 0.3825 - val_accuracy: 0.8240\n",
      "Epoch 17/25\n",
      "2530/2530 [==============================] - 54s 21ms/step - loss: 0.3991 - accuracy: 0.8197 - val_loss: 0.4017 - val_accuracy: 0.8223\n",
      "Epoch 18/25\n",
      "2530/2530 [==============================] - 54s 21ms/step - loss: 0.3898 - accuracy: 0.8228 - val_loss: 0.3788 - val_accuracy: 0.8241\n",
      "Epoch 19/25\n",
      "2530/2530 [==============================] - 55s 22ms/step - loss: 0.3826 - accuracy: 0.8278 - val_loss: 0.3684 - val_accuracy: 0.8367\n",
      "Epoch 20/25\n",
      "2530/2530 [==============================] - 56s 22ms/step - loss: 0.3799 - accuracy: 0.8297 - val_loss: 0.3573 - val_accuracy: 0.8355\n",
      "Epoch 21/25\n",
      "2530/2530 [==============================] - 55s 22ms/step - loss: 0.3729 - accuracy: 0.8338 - val_loss: 0.3543 - val_accuracy: 0.8401\n",
      "Epoch 22/25\n",
      "2530/2530 [==============================] - 53s 21ms/step - loss: 0.3683 - accuracy: 0.8362 - val_loss: 0.3481 - val_accuracy: 0.8506\n",
      "Epoch 23/25\n",
      "2530/2530 [==============================] - 53s 21ms/step - loss: 0.3621 - accuracy: 0.8391 - val_loss: 0.3446 - val_accuracy: 0.8516\n",
      "Epoch 24/25\n",
      "2530/2530 [==============================] - 54s 21ms/step - loss: 0.3653 - accuracy: 0.8382 - val_loss: 0.3377 - val_accuracy: 0.8570\n",
      "Epoch 25/25\n",
      "2530/2530 [==============================] - 55s 22ms/step - loss: 0.3583 - accuracy: 0.8425 - val_loss: 0.3359 - val_accuracy: 0.8544\n"
     ]
    }
   ],
   "source": [
    "train_model(modelV5, training_set, validation_set, batch_size=16, num_epochs=25)"
   ]
  },
  {
   "cell_type": "code",
   "execution_count": 28,
   "metadata": {
    "execution": {
     "iopub.execute_input": "2023-04-28T15:08:00.534431Z",
     "iopub.status.busy": "2023-04-28T15:08:00.533817Z",
     "iopub.status.idle": "2023-04-28T15:08:07.219503Z",
     "shell.execute_reply": "2023-04-28T15:08:07.218462Z",
     "shell.execute_reply.started": "2023-04-28T15:08:00.534367Z"
    }
   },
   "outputs": [
    {
     "name": "stdout",
     "output_type": "stream",
     "text": [
      "771/771 [==============================] - 6s 8ms/step\n"
     ]
    }
   ],
   "source": [
    "y_pred = get_predictions(modelV5, testing_set)"
   ]
  },
  {
   "cell_type": "code",
   "execution_count": 29,
   "metadata": {
    "execution": {
     "iopub.execute_input": "2023-04-28T15:08:07.221333Z",
     "iopub.status.busy": "2023-04-28T15:08:07.221016Z",
     "iopub.status.idle": "2023-04-28T15:08:07.259076Z",
     "shell.execute_reply": "2023-04-28T15:08:07.257953Z",
     "shell.execute_reply.started": "2023-04-28T15:08:07.221304Z"
    }
   },
   "outputs": [],
   "source": [
    "save_predictions_to_csv(y_pred, 'Fifth_Trial.csv')\n"
   ]
  },
  {
   "cell_type": "markdown",
   "metadata": {},
   "source": [
    "**Result of the previous trial is :**  </br>\n",
    "**Training accuracy (auc)**: 84.25 %</br>\n",
    "**validatation accuracy (auc)**: 85.44 %</br>\n",
    "**Testing Accuracy (auc)**: 84.617 %</br></br>\n",
    "\n",
    "**Comment :** </br>\n",
    "When we used more complex model the performance didn't improve that maybe our data is small so more complex model will not add more benfit."
   ]
  },
  {
   "cell_type": "markdown",
   "metadata": {},
   "source": [
    "## Sixth Trile"
   ]
  },
  {
   "cell_type": "markdown",
   "metadata": {},
   "source": [
    "**The input of these trial is :** Upsampling training data set \n",
    "\n",
    "**The Model Used is :**\n",
    "\n",
    "**The model uses two GNN layers**, each with a different set of hyperparameters, to learn representations of the molecular graphs. The outputs of the GNN layers are then pooled **using mean pooling**, and **concatenated together**. The resulting pooled outputs are then passed through a **dropout layer** for regularization, and finally through **a dense layer** with a sigmoid activation function to produce the final predictions.\n",
    "\n",
    "**The model is compiled** using the AdamW optimizer and binary cross-entropy loss function, and the accuracy metric is used to evaluate the model performance. "
   ]
  },
  {
   "cell_type": "code",
   "execution_count": 30,
   "metadata": {
    "execution": {
     "iopub.execute_input": "2023-04-25T12:51:15.363462Z",
     "iopub.status.busy": "2023-04-25T12:51:15.362277Z",
     "iopub.status.idle": "2023-04-25T12:51:17.955219Z",
     "shell.execute_reply": "2023-04-25T12:51:17.953744Z",
     "shell.execute_reply.started": "2023-04-25T12:51:15.363420Z"
    }
   },
   "outputs": [
    {
     "name": "stdout",
     "output_type": "stream",
     "text": [
      "Model: \"model_1\"\n",
      "__________________________________________________________________________________________________\n",
      " Layer (type)                   Output Shape         Param #     Connected to                     \n",
      "==================================================================================================\n",
      " input_15 (InputLayer)          [(None,)]            0           []                               \n",
      "                                                                                                  \n",
      " input_13 (InputLayer)          [(None,)]            0           []                               \n",
      "                                                                                                  \n",
      " tf.math.reduce_max_4 (TFOpLamb  ()                  0           ['input_15[0][0]']               \n",
      " da)                                                                                              \n",
      "                                                                                                  \n",
      " embedding_3 (Embedding)        (None, 20)           10000       ['input_13[0][0]']               \n",
      "                                                                                                  \n",
      " input_14 (InputLayer)          [(None, 2)]          0           []                               \n",
      "                                                                                                  \n",
      " tf.__operators__.add_4 (TFOpLa  ()                  0           ['tf.math.reduce_max_4[0][0]']   \n",
      " mbda)                                                                                            \n",
      "                                                                                                  \n",
      " gnn_3 (GNN)                    (None, 64)           71552       ['embedding_3[0][0]',            \n",
      "                                                                  'input_14[0][0]',               \n",
      "                                                                  'input_15[0][0]',               \n",
      "                                                                  'tf.__operators__.add_4[0][0]'] \n",
      "                                                                                                  \n",
      " gnn_5 (GNN)                    (None, 32)           22720       ['embedding_3[0][0]',            \n",
      "                                                                  'input_14[0][0]',               \n",
      "                                                                  'input_15[0][0]',               \n",
      "                                                                  'tf.__operators__.add_4[0][0]'] \n",
      "                                                                                                  \n",
      " tf.math.unsorted_segment_mean   (None, 64)          0           ['gnn_3[0][0]',                  \n",
      " (TFOpLambda)                                                     'input_15[0][0]',               \n",
      "                                                                  'tf.__operators__.add_4[0][0]'] \n",
      "                                                                                                  \n",
      " tf.math.unsorted_segment_mean_  (None, 32)          0           ['gnn_5[0][0]',                  \n",
      " 1 (TFOpLambda)                                                   'input_15[0][0]',               \n",
      "                                                                  'tf.__operators__.add_4[0][0]'] \n",
      "                                                                                                  \n",
      " concatenate (Concatenate)      (None, 96)           0           ['tf.math.unsorted_segment_mean[0\n",
      "                                                                 ][0]',                           \n",
      "                                                                  'tf.math.unsorted_segment_mean_1\n",
      "                                                                 [0][0]']                         \n",
      "                                                                                                  \n",
      " dropout (Dropout)              (None, 96)           0           ['concatenate[0][0]']            \n",
      "                                                                                                  \n",
      " dense_1 (Dense)                (None, 1)            97          ['dropout[0][0]']                \n",
      "                                                                                                  \n",
      "==================================================================================================\n",
      "Total params: 104,369\n",
      "Trainable params: 104,369\n",
      "Non-trainable params: 0\n",
      "__________________________________________________________________________________________________\n"
     ]
    }
   ],
   "source": [
    "\n",
    "# from tf2_gnn.utils.general import get_aggregate_method_from_str\n",
    "\n",
    "\n",
    "data = keras.Input(batch_shape=(None,))\n",
    "\n",
    "# the first dim is different to the previous one. it is the total number of edges in this batch\n",
    "edge = keras.Input(batch_shape=(None, 2), dtype=tf.int32)\n",
    "node2graph = keras.Input(batch_shape=(None,), dtype=tf.int32)\n",
    "embeded = Embedding(tokenizer.num_words, 20)(data)\n",
    "\n",
    "# number of graphs (number of samples)\n",
    "num_graph = tf.reduce_max(node2graph)+1\n",
    "\n",
    "# declare the GNNInput that take the features of node, the edge, the created list 'node2graph', and number of graphs (number of samples)\n",
    "gnn_input = GNNInput(\n",
    "    node_features = embeded,\n",
    "    adjacency_lists = (edge,),\n",
    "    node_to_graph_map = node2graph, \n",
    "    num_graphs = num_graph,\n",
    ")\n",
    "\n",
    "\n",
    "# Define the GNN layers\n",
    "params = GNN.get_default_hyperparameters()\n",
    "params[\"hidden_dim\"] = 64\n",
    "params[\"num_heads\"] = 8\n",
    "params[\"dropout_rate\"] = 0.2\n",
    "params[\"message_calculation_class\"] = \"RGCN\"\n",
    "gnn_layer1 = GNN(params)\n",
    "gnn_out1 = gnn_layer1(gnn_input)\n",
    "\n",
    "params[\"hidden_dim\"] = 32\n",
    "params[\"num_heads\"] = 4\n",
    "params[\"dropout_rate\"] = 0.1\n",
    "params[\"message_calculation_class\"] = \"RGAT\"\n",
    "gnn_layer2 = GNN(params)\n",
    "gnn_out2 = gnn_layer2(gnn_input)\n",
    "\n",
    "gnn_layer2 = GNN(params)\n",
    "gnn_out2 = gnn_layer2(gnn_input)\n",
    "\n",
    "# Apply mean pooling to the outputs of the GNN layers\n",
    "pool_out1 = tf.math.unsorted_segment_mean(gnn_out1, node2graph, num_graph)\n",
    "pool_out2 = tf.math.unsorted_segment_mean(gnn_out2, node2graph, num_graph)\n",
    "\n",
    "# Concatenate the pooled outputs\n",
    "pool_out = layers.concatenate([pool_out1, pool_out2])\n",
    "\n",
    "# Add dropout regularization\n",
    "dropout = layers.Dropout(0.3)(pool_out)\n",
    "\n",
    "# Define the output layer of the model\n",
    "pred = layers.Dense(1, activation=\"sigmoid\")(dropout)\n",
    "\n",
    "# Create the model\n",
    "modelV6 = Model(inputs={\n",
    "        'data': data,\n",
    "        'edges': edge,\n",
    "        'node2grah': node2graph,\n",
    "    },  outputs=pred)\n",
    "\n",
    "# Use AdamW optimizer and binary cross-entropy loss\n",
    "opt = Adam(learning_rate=0.001)\n",
    "modelV6.compile(optimizer=opt, loss=\"binary_crossentropy\", metrics=[\"accuracy\"])\n",
    "\n",
    "modelV6.summary()\n"
   ]
  },
  {
   "cell_type": "code",
   "execution_count": 31,
   "metadata": {
    "execution": {
     "iopub.execute_input": "2023-04-25T12:51:17.957603Z",
     "iopub.status.busy": "2023-04-25T12:51:17.957234Z",
     "iopub.status.idle": "2023-04-25T13:27:50.202905Z",
     "shell.execute_reply": "2023-04-25T13:27:50.201492Z",
     "shell.execute_reply.started": "2023-04-25T12:51:17.957567Z"
    }
   },
   "outputs": [
    {
     "name": "stdout",
     "output_type": "stream",
     "text": [
      "Epoch 1/25\n",
      "2530/2530 [==============================] - 97s 34ms/step - loss: 0.6077 - accuracy: 0.6742 - val_loss: 0.5663 - val_accuracy: 0.7099\n",
      "Epoch 2/25\n",
      "2530/2530 [==============================] - 86s 34ms/step - loss: 0.5520 - accuracy: 0.7282 - val_loss: 0.5352 - val_accuracy: 0.7375\n",
      "Epoch 3/25\n",
      "2530/2530 [==============================] - 86s 34ms/step - loss: 0.5338 - accuracy: 0.7363 - val_loss: 0.5204 - val_accuracy: 0.7405\n",
      "Epoch 4/25\n",
      "2530/2530 [==============================] - 86s 34ms/step - loss: 0.5153 - accuracy: 0.7447 - val_loss: 0.5050 - val_accuracy: 0.7482\n",
      "Epoch 5/25\n",
      "2530/2530 [==============================] - 86s 34ms/step - loss: 0.5013 - accuracy: 0.7569 - val_loss: 0.4925 - val_accuracy: 0.7676\n",
      "Epoch 6/25\n",
      "2530/2530 [==============================] - 86s 34ms/step - loss: 0.4865 - accuracy: 0.7702 - val_loss: 0.4787 - val_accuracy: 0.7684\n",
      "Epoch 7/25\n",
      "2530/2530 [==============================] - 86s 34ms/step - loss: 0.4783 - accuracy: 0.7744 - val_loss: 0.4806 - val_accuracy: 0.7674\n",
      "Epoch 8/25\n",
      "2530/2530 [==============================] - 86s 34ms/step - loss: 0.4606 - accuracy: 0.7856 - val_loss: 0.4483 - val_accuracy: 0.7863\n",
      "Epoch 9/25\n",
      "2530/2530 [==============================] - 86s 34ms/step - loss: 0.4442 - accuracy: 0.7938 - val_loss: 0.4357 - val_accuracy: 0.7991\n",
      "Epoch 10/25\n",
      "2530/2530 [==============================] - 86s 34ms/step - loss: 0.4328 - accuracy: 0.8009 - val_loss: 0.4246 - val_accuracy: 0.7984\n",
      "Epoch 11/25\n",
      "2530/2530 [==============================] - 86s 34ms/step - loss: 0.4244 - accuracy: 0.8061 - val_loss: 0.4052 - val_accuracy: 0.8125\n",
      "Epoch 12/25\n",
      "2530/2530 [==============================] - 86s 34ms/step - loss: 0.4068 - accuracy: 0.8153 - val_loss: 0.3998 - val_accuracy: 0.8163\n",
      "Epoch 13/25\n",
      "2530/2530 [==============================] - 86s 34ms/step - loss: 0.3933 - accuracy: 0.8208 - val_loss: 0.3854 - val_accuracy: 0.8254\n",
      "Epoch 14/25\n",
      "2530/2530 [==============================] - 86s 34ms/step - loss: 0.3831 - accuracy: 0.8257 - val_loss: 0.3696 - val_accuracy: 0.8367\n",
      "Epoch 15/25\n",
      "2530/2530 [==============================] - 87s 34ms/step - loss: 0.3706 - accuracy: 0.8336 - val_loss: 0.3922 - val_accuracy: 0.8212\n",
      "Epoch 16/25\n",
      "2530/2530 [==============================] - 86s 34ms/step - loss: 0.3573 - accuracy: 0.8389 - val_loss: 0.3421 - val_accuracy: 0.8496\n",
      "Epoch 17/25\n",
      "2530/2530 [==============================] - 86s 34ms/step - loss: 0.3524 - accuracy: 0.8438 - val_loss: 0.3439 - val_accuracy: 0.8478\n",
      "Epoch 18/25\n",
      "2530/2530 [==============================] - 86s 34ms/step - loss: 0.3570 - accuracy: 0.8413 - val_loss: 0.3328 - val_accuracy: 0.8565\n",
      "Epoch 19/25\n",
      "2530/2530 [==============================] - 86s 34ms/step - loss: 0.3482 - accuracy: 0.8445 - val_loss: 0.3341 - val_accuracy: 0.8554\n",
      "Epoch 20/25\n",
      "2530/2530 [==============================] - 86s 34ms/step - loss: 0.3374 - accuracy: 0.8541 - val_loss: 0.3138 - val_accuracy: 0.8661\n",
      "Epoch 21/25\n",
      "2530/2530 [==============================] - 87s 34ms/step - loss: 0.3238 - accuracy: 0.8575 - val_loss: 0.3051 - val_accuracy: 0.8752\n",
      "Epoch 22/25\n",
      "2530/2530 [==============================] - 87s 34ms/step - loss: 0.3089 - accuracy: 0.8672 - val_loss: 0.2982 - val_accuracy: 0.8757\n",
      "Epoch 23/25\n",
      "2530/2530 [==============================] - 87s 34ms/step - loss: 0.3049 - accuracy: 0.8696 - val_loss: 0.3016 - val_accuracy: 0.8709\n",
      "Epoch 24/25\n",
      "2530/2530 [==============================] - 87s 35ms/step - loss: 0.2964 - accuracy: 0.8723 - val_loss: 0.2652 - val_accuracy: 0.8898\n",
      "Epoch 25/25\n",
      "2530/2530 [==============================] - 87s 35ms/step - loss: 0.2879 - accuracy: 0.8785 - val_loss: 0.2818 - val_accuracy: 0.8813\n"
     ]
    }
   ],
   "source": [
    "train_model(modelV6, training_set, validation_set, batch_size=16, num_epochs=25)\n"
   ]
  },
  {
   "cell_type": "code",
   "execution_count": 32,
   "metadata": {
    "execution": {
     "iopub.execute_input": "2023-04-25T13:27:50.206055Z",
     "iopub.status.busy": "2023-04-25T13:27:50.205550Z",
     "iopub.status.idle": "2023-04-25T13:27:59.332251Z",
     "shell.execute_reply": "2023-04-25T13:27:59.330970Z",
     "shell.execute_reply.started": "2023-04-25T13:27:50.206005Z"
    }
   },
   "outputs": [
    {
     "name": "stdout",
     "output_type": "stream",
     "text": [
      "771/771 [==============================] - 9s 10ms/step\n"
     ]
    }
   ],
   "source": [
    "y_pred = get_predictions(modelV6, testing_set)\n",
    "save_predictions_to_csv(y_pred, 'Sixth_Trial.csv')"
   ]
  },
  {
   "cell_type": "markdown",
   "metadata": {},
   "source": [
    "**Result of the previous trial is :**  </br>\n",
    "**Training accuracy (auc)**: 87.85 %</br>\n",
    "**validatation accuracy (auc)**: 88.13 %</br>\n",
    "**Testing Accuracy (auc)**: 83.11 %</br></br>\n",
    "\n",
    "**Comment :** </br>\n",
    "Here we tried to use more complex model as we used two layers with two different  message passing methods (RGAT,RGCN)But the accuracy decreased then trial number foure</br> \n",
    "The reasone for that may be because of: </br>Interference between message passing methods: If the RGAT and RGCN message passing methods are not complementary or compatible, they may interfere with each other and degrade the performance of the model. It's possible that the two-layer model did not effectively combine the information from the two"
   ]
  },
  {
   "cell_type": "markdown",
   "metadata": {},
   "source": [
    "# Seventh Trile"
   ]
  },
  {
   "cell_type": "markdown",
   "metadata": {},
   "source": [
    "**The input of these trial is :**  Training data set without upsampling\n",
    "\n",
    "**The Model Used is :**\n",
    "The model uses a **single GNN layer** with hyperparameters configured to use a **Gated Graph Neural Networks** (GGNN) message passing method. The output of the GNN layer is passed through a function called **segment_mean**, which computes the mean of the node embeddings for each graph in the batch. This is intended to summarize the information from the nodes into a single vector per graph, which can be used for the prediction task.\n",
    "\n",
    "The output of the segment_mean function is passed through a **dense layer** with a **sigmoid** activation function to produce the final predictions. The model is compiled using the **binary cross-entropy loss** function and the **Adam optimizer**."
   ]
  },
  {
   "cell_type": "code",
   "execution_count": 96,
   "metadata": {
    "execution": {
     "iopub.execute_input": "2023-04-25T16:09:44.369448Z",
     "iopub.status.busy": "2023-04-25T16:09:44.369024Z",
     "iopub.status.idle": "2023-04-25T16:09:45.256352Z",
     "shell.execute_reply": "2023-04-25T16:09:45.254832Z",
     "shell.execute_reply.started": "2023-04-25T16:09:44.369413Z"
    }
   },
   "outputs": [
    {
     "name": "stdout",
     "output_type": "stream",
     "text": [
      "Model: \"model_22\"\n",
      "__________________________________________________________________________________________________\n",
      " Layer (type)                   Output Shape         Param #     Connected to                     \n",
      "==================================================================================================\n",
      " input_108 (InputLayer)         [(None,)]            0           []                               \n",
      "                                                                                                  \n",
      " input_106 (InputLayer)         [(None,)]            0           []                               \n",
      "                                                                                                  \n",
      " tf.math.reduce_max_54 (TFOpLam  ()                  0           ['input_108[0][0]']              \n",
      " bda)                                                                                             \n",
      "                                                                                                  \n",
      " embedding_34 (Embedding)       (None, 20)           10000       ['input_106[0][0]']              \n",
      "                                                                                                  \n",
      " input_107 (InputLayer)         [(None, 2)]          0           []                               \n",
      "                                                                                                  \n",
      " tf.__operators__.add_54 (TFOpL  ()                  0           ['tf.math.reduce_max_54[0][0]']  \n",
      " ambda)                                                                                           \n",
      "                                                                                                  \n",
      " gnn_52 (GNN)                   (None, 64)           171392      ['embedding_34[0][0]',           \n",
      "                                                                  'input_107[0][0]',              \n",
      "                                                                  'input_108[0][0]',              \n",
      "                                                                  'tf.__operators__.add_54[0][0]']\n",
      "                                                                                                  \n",
      " tf.math.segment_mean_18 (TFOpL  (None, 64)          0           ['gnn_52[0][0]',                 \n",
      " ambda)                                                           'input_108[0][0]']              \n",
      "                                                                                                  \n",
      " dense_45 (Dense)               (None, 1)            65          ['tf.math.segment_mean_18[0][0]']\n",
      "                                                                                                  \n",
      "==================================================================================================\n",
      "Total params: 181,457\n",
      "Trainable params: 181,457\n",
      "Non-trainable params: 0\n",
      "__________________________________________________________________________________________________\n"
     ]
    }
   ],
   "source": [
    "data = keras.Input(batch_shape=(None,))\n",
    "\n",
    "# the first dim is different to the previous one. it is the total number of edges in this batch\n",
    "edge = keras.Input(batch_shape=(None, 2), dtype=tf.int32)\n",
    "node2graph = keras.Input(batch_shape=(None,), dtype=tf.int32)\n",
    "embeded = Embedding(tokenizer.num_words, 20)(data)\n",
    "\n",
    "# number of graphs (number of samples)\n",
    "num_graph = tf.reduce_max(node2graph)+1\n",
    "\n",
    "# declare the GNNInput that take the features of node, the edge, the created list 'node2graph', and number of graphs (number of samples)\n",
    "gnn_input = GNNInput(\n",
    "    node_features=embeded,\n",
    "    adjacency_lists=(edge,),\n",
    "    node_to_graph_map=node2graph, \n",
    "    num_graphs=num_graph,\n",
    ")\n",
    "\n",
    "\n",
    "# configure the hyperparameters of GNN layers\n",
    "# https://github.com/microsoft/tf2-gnn/blob/master/tf2_gnn/layers/gnn.py\n",
    "# \n",
    "# frist load the defualt hyperparameters\n",
    "params = GNN.get_default_hyperparameters()\n",
    "# sets the size of the output of all message passing layers\n",
    "params[\"hidden_dim\"] = 64\n",
    "# configures the message passing style to be GGNN (Gated Graph Neural Networks)\n",
    "params['message_calculation_class'] = 'GGNN'\n",
    "\n",
    "# Implements a deep Graph Neural Network\n",
    "gnn_layer = GNN(params)\n",
    "gnn_out = gnn_layer(gnn_input)\n",
    "\n",
    "\n",
    "\n",
    "# Computes the mean along segments of a tensor\n",
    "avg = segment_mean(\n",
    "    data = gnn_out,\n",
    "    segment_ids = node2graph\n",
    ")\n",
    "\n",
    "# Define the out put layer of the model\n",
    "pred = Dense(1, activation='sigmoid')(avg)\n",
    "\n",
    "\n",
    "# Creating the model\n",
    "modelV7 = Model(\n",
    "    inputs={\n",
    "        'data': data,\n",
    "        'edges': edge,\n",
    "        'node2grah': node2graph,\n",
    "    },\n",
    "    outputs = pred\n",
    ")\n",
    "modelV7.compile(optimizer=\"adam\", loss=\"binary_crossentropy\", metrics=[\"accuracy\"])\n",
    "modelV7.summary()"
   ]
  },
  {
   "cell_type": "code",
   "execution_count": 97,
   "metadata": {
    "execution": {
     "iopub.execute_input": "2023-04-25T16:09:45.258699Z",
     "iopub.status.busy": "2023-04-25T16:09:45.258343Z",
     "iopub.status.idle": "2023-04-25T16:53:09.567871Z",
     "shell.execute_reply": "2023-04-25T16:53:09.566324Z",
     "shell.execute_reply.started": "2023-04-25T16:09:45.258664Z"
    }
   },
   "outputs": [
    {
     "name": "stdout",
     "output_type": "stream",
     "text": [
      "Epoch 1/25\n",
      "2530/2530 [==============================] - 109s 41ms/step - loss: 0.5944 - accuracy: 0.6824 - val_loss: 0.5528 - val_accuracy: 0.7267\n",
      "Epoch 2/25\n",
      "2530/2530 [==============================] - 104s 41ms/step - loss: 0.5327 - accuracy: 0.7410 - val_loss: 0.5065 - val_accuracy: 0.7607\n",
      "Epoch 3/25\n",
      "1449/2530 [================>.............] - ETA: 41s - loss: 0.4857 - accuracy: 0.7738"
     ]
    },
    {
     "name": "stderr",
     "output_type": "stream",
     "text": [
      "IOPub message rate exceeded.\n",
      "The notebook server will temporarily stop sending output\n",
      "to the client in order to avoid crashing it.\n",
      "To change this limit, set the config variable\n",
      "`--NotebookApp.iopub_msg_rate_limit`.\n",
      "\n",
      "Current values:\n",
      "NotebookApp.iopub_msg_rate_limit=1000.0 (msgs/sec)\n",
      "NotebookApp.rate_limit_window=3.0 (secs)\n",
      "\n"
     ]
    },
    {
     "name": "stdout",
     "output_type": "stream",
     "text": [
      "2530/2530 [==============================] - 105s 41ms/step - loss: 0.4296 - accuracy: 0.8062 - val_loss: 0.4117 - val_accuracy: 0.8247\n",
      "Epoch 5/25\n",
      "2530/2530 [==============================] - 104s 41ms/step - loss: 0.3900 - accuracy: 0.8280 - val_loss: 0.3898 - val_accuracy: 0.8306\n",
      "Epoch 6/25\n",
      "1773/2530 [====================>.........] - ETA: 29s - loss: 0.3642 - accuracy: 0.8409"
     ]
    },
    {
     "name": "stderr",
     "output_type": "stream",
     "text": [
      "IOPub message rate exceeded.\n",
      "The notebook server will temporarily stop sending output\n",
      "to the client in order to avoid crashing it.\n",
      "To change this limit, set the config variable\n",
      "`--NotebookApp.iopub_msg_rate_limit`.\n",
      "\n",
      "Current values:\n",
      "NotebookApp.iopub_msg_rate_limit=1000.0 (msgs/sec)\n",
      "NotebookApp.rate_limit_window=3.0 (secs)\n",
      "\n"
     ]
    },
    {
     "name": "stdout",
     "output_type": "stream",
     "text": [
      "2530/2530 [==============================] - 102s 40ms/step - loss: 0.3320 - accuracy: 0.8595 - val_loss: 0.3226 - val_accuracy: 0.8596\n",
      "Epoch 8/25\n",
      "2530/2530 [==============================] - 103s 41ms/step - loss: 0.3037 - accuracy: 0.8722 - val_loss: 0.3130 - val_accuracy: 0.8726\n",
      "Epoch 9/25\n",
      "2471/2530 [============================>.] - ETA: 2s - loss: 0.2778 - accuracy: 0.8865"
     ]
    },
    {
     "name": "stderr",
     "output_type": "stream",
     "text": [
      "IOPub message rate exceeded.\n",
      "The notebook server will temporarily stop sending output\n",
      "to the client in order to avoid crashing it.\n",
      "To change this limit, set the config variable\n",
      "`--NotebookApp.iopub_msg_rate_limit`.\n",
      "\n",
      "Current values:\n",
      "NotebookApp.iopub_msg_rate_limit=1000.0 (msgs/sec)\n",
      "NotebookApp.rate_limit_window=3.0 (secs)\n",
      "\n"
     ]
    },
    {
     "name": "stdout",
     "output_type": "stream",
     "text": [
      "2530/2530 [==============================] - 102s 40ms/step - loss: 0.3008 - accuracy: 0.8744 - val_loss: 0.2470 - val_accuracy: 0.9053\n",
      "Epoch 11/25\n",
      "2530/2530 [==============================] - 102s 41ms/step - loss: 0.2435 - accuracy: 0.9035 - val_loss: 0.2430 - val_accuracy: 0.9034\n",
      "Epoch 12/25\n",
      "2530/2530 [==============================] - 107s 42ms/step - loss: 0.3644 - accuracy: 0.8376 - val_loss: 0.3504 - val_accuracy: 0.8437\n",
      "Epoch 17/25\n",
      "2530/2530 [==============================] - 102s 40ms/step - loss: 0.3136 - accuracy: 0.8679 - val_loss: 0.2847 - val_accuracy: 0.8906\n",
      "Epoch 18/25\n",
      "2530/2530 [==============================] - 104s 41ms/step - loss: 0.2611 - accuracy: 0.8931 - val_loss: 0.2781 - val_accuracy: 0.8944\n",
      "Epoch 19/25\n",
      "2530/2530 [==============================] - 104s 41ms/step - loss: 0.2426 - accuracy: 0.9029 - val_loss: 0.2537 - val_accuracy: 0.9048\n",
      "Epoch 20/25\n",
      "2530/2530 [==============================] - 107s 42ms/step - loss: 0.2187 - accuracy: 0.9152 - val_loss: 0.2203 - val_accuracy: 0.9201\n",
      "Epoch 21/25\n",
      "2530/2530 [==============================] - 104s 41ms/step - loss: 0.2024 - accuracy: 0.9222 - val_loss: 0.2167 - val_accuracy: 0.9219\n",
      "Epoch 22/25\n",
      "2530/2530 [==============================] - 105s 41ms/step - loss: 0.1829 - accuracy: 0.9320 - val_loss: 0.2129 - val_accuracy: 0.9254\n",
      "Epoch 23/25\n",
      "2530/2530 [==============================] - 109s 43ms/step - loss: 0.1777 - accuracy: 0.9338 - val_loss: 0.1987 - val_accuracy: 0.9304\n",
      "Epoch 24/25\n",
      "2530/2530 [==============================] - 103s 41ms/step - loss: 0.1695 - accuracy: 0.9377 - val_loss: 0.1882 - val_accuracy: 0.9350\n",
      "Epoch 25/25\n",
      "2530/2530 [==============================] - 103s 41ms/step - loss: 0.1613 - accuracy: 0.9412 - val_loss: 0.1633 - val_accuracy: 0.9455\n"
     ]
    }
   ],
   "source": [
    "train_model(modelV7, training_set, validation_set, batch_size=16, num_epochs=25)"
   ]
  },
  {
   "cell_type": "code",
   "execution_count": 98,
   "metadata": {
    "execution": {
     "iopub.execute_input": "2023-04-25T16:53:09.573258Z",
     "iopub.status.busy": "2023-04-25T16:53:09.571434Z",
     "iopub.status.idle": "2023-04-25T16:53:20.531095Z",
     "shell.execute_reply": "2023-04-25T16:53:20.529817Z",
     "shell.execute_reply.started": "2023-04-25T16:53:09.573193Z"
    }
   },
   "outputs": [
    {
     "name": "stdout",
     "output_type": "stream",
     "text": [
      "771/771 [==============================] - 11s 13ms/step\n"
     ]
    }
   ],
   "source": [
    "y_pred = get_predictions(modelV7, testing_set)\n",
    "save_predictions_to_csv(y_pred, 'Seventh_Trial.csv')"
   ]
  },
  {
   "cell_type": "markdown",
   "metadata": {},
   "source": [
    "**Result of the previous trial is :**  </br>\n",
    "**Training accuracy (auc)**: 94.12 %</br>\n",
    "**validatation accuracy (auc)**: 94.55 %</br>\n",
    "**Testing Accuracy (auc)**: 85.64 %</br></br>\n",
    "\n",
    "**Comment :** </br>\n",
    "When we tried to use Gated Graph Neural Networks (GGNN) message passing method it improve test accuracy more than RGCN,RGAT methods.</br>\n",
    "\n",
    "The reason why GGNNs may improve the accuracy more than RGCNs or RGATs in certain cases is that they can capture more complex temporal dependencies between the nodes in the graph. Unlike RGCNs and RGATs, which perform message passing in a fixed order and do not consider the temporal order of the nodes, GGNNs use recurrent units to update the node representations in a way that depends on the previous states of the nodes. This allows GGNNs to capture more fine-grained information about the graph and improve the accuracy of the model."
   ]
  },
  {
   "cell_type": "markdown",
   "metadata": {},
   "source": [
    "# Eighth trial"
   ]
  },
  {
   "cell_type": "markdown",
   "metadata": {},
   "source": [
    "**The input of these trial is :** Upsampling training data set \n",
    "\n",
    "**The Model Used is :**\n",
    "\n",
    "**The model uses two GNN layers**, with same set of hyperparameters configured to use (**GGNN**) message passing method, to learn representations of the molecular graphs. The outputs of the GNN layers are then pooled **using mean pooling**, and **concatenated together**. The resulting pooled outputs are then passed through a **dropout layer** for regularization, and finally through **a dense layer** with a sigmoid activation function to produce the final predictions.\n",
    "\n",
    "**The model is compiled** using the AdamW optimizer and binary cross-entropy loss function, and the accuracy metric is used to evaluate the model performance. "
   ]
  },
  {
   "cell_type": "code",
   "execution_count": 99,
   "metadata": {
    "execution": {
     "iopub.execute_input": "2023-04-25T17:01:54.808149Z",
     "iopub.status.busy": "2023-04-25T17:01:54.806829Z",
     "iopub.status.idle": "2023-04-25T17:01:57.181787Z",
     "shell.execute_reply": "2023-04-25T17:01:57.180584Z",
     "shell.execute_reply.started": "2023-04-25T17:01:54.808095Z"
    }
   },
   "outputs": [
    {
     "name": "stdout",
     "output_type": "stream",
     "text": [
      "Model: \"model_23\"\n",
      "__________________________________________________________________________________________________\n",
      " Layer (type)                   Output Shape         Param #     Connected to                     \n",
      "==================================================================================================\n",
      " input_111 (InputLayer)         [(None,)]            0           []                               \n",
      "                                                                                                  \n",
      " input_109 (InputLayer)         [(None,)]            0           []                               \n",
      "                                                                                                  \n",
      " tf.math.reduce_max_55 (TFOpLam  ()                  0           ['input_111[0][0]']              \n",
      " bda)                                                                                             \n",
      "                                                                                                  \n",
      " embedding_35 (Embedding)       (None, 20)           10000       ['input_109[0][0]']              \n",
      "                                                                                                  \n",
      " input_110 (InputLayer)         [(None, 2)]          0           []                               \n",
      "                                                                                                  \n",
      " tf.__operators__.add_55 (TFOpL  ()                  0           ['tf.math.reduce_max_55[0][0]']  \n",
      " ambda)                                                                                           \n",
      "                                                                                                  \n",
      " gnn_53 (GNN)                   (None, 64)           171392      ['embedding_35[0][0]',           \n",
      "                                                                  'input_110[0][0]',              \n",
      "                                                                  'input_111[0][0]',              \n",
      "                                                                  'tf.__operators__.add_55[0][0]']\n",
      "                                                                                                  \n",
      " gnn_55 (GNN)                   (None, 32)           47808       ['embedding_35[0][0]',           \n",
      "                                                                  'input_110[0][0]',              \n",
      "                                                                  'input_111[0][0]',              \n",
      "                                                                  'tf.__operators__.add_55[0][0]']\n",
      "                                                                                                  \n",
      " tf.math.unsorted_segment_mean_  (None, 64)          0           ['gnn_53[0][0]',                 \n",
      " 2 (TFOpLambda)                                                   'input_111[0][0]',              \n",
      "                                                                  'tf.__operators__.add_55[0][0]']\n",
      "                                                                                                  \n",
      " tf.math.unsorted_segment_mean_  (None, 32)          0           ['gnn_55[0][0]',                 \n",
      " 3 (TFOpLambda)                                                   'input_111[0][0]',              \n",
      "                                                                  'tf.__operators__.add_55[0][0]']\n",
      "                                                                                                  \n",
      " concatenate_1 (Concatenate)    (None, 96)           0           ['tf.math.unsorted_segment_mean_2\n",
      "                                                                 [0][0]',                         \n",
      "                                                                  'tf.math.unsorted_segment_mean_3\n",
      "                                                                 [0][0]']                         \n",
      "                                                                                                  \n",
      " dropout_27 (Dropout)           (None, 96)           0           ['concatenate_1[0][0]']          \n",
      "                                                                                                  \n",
      " dense_46 (Dense)               (None, 1)            97          ['dropout_27[0][0]']             \n",
      "                                                                                                  \n",
      "==================================================================================================\n",
      "Total params: 229,297\n",
      "Trainable params: 229,297\n",
      "Non-trainable params: 0\n",
      "__________________________________________________________________________________________________\n"
     ]
    }
   ],
   "source": [
    "\n",
    "# from tf2_gnn.utils.general import get_aggregate_method_from_str\n",
    "\n",
    "\n",
    "data = keras.Input(batch_shape=(None,))\n",
    "\n",
    "# the first dim is different to the previous one. it is the total number of edges in this batch\n",
    "edge = keras.Input(batch_shape=(None, 2), dtype=tf.int32)\n",
    "node2graph = keras.Input(batch_shape=(None,), dtype=tf.int32)\n",
    "embeded = Embedding(tokenizer.num_words, 20)(data)\n",
    "\n",
    "# number of graphs (number of samples)\n",
    "num_graph = tf.reduce_max(node2graph)+1\n",
    "\n",
    "# declare the GNNInput that take the features of node, the edge, the created list 'node2graph', and number of graphs (number of samples)\n",
    "gnn_input = GNNInput(\n",
    "    node_features = embeded,\n",
    "    adjacency_lists = (edge,),\n",
    "    node_to_graph_map = node2graph, \n",
    "    num_graphs = num_graph,\n",
    ")\n",
    "\n",
    "\n",
    "# Define the GNN layers\n",
    "params = GNN.get_default_hyperparameters()\n",
    "params[\"hidden_dim\"] = 64\n",
    "params[\"num_heads\"] = 8\n",
    "params[\"dropout_rate\"] = 0.2\n",
    "params[\"message_calculation_class\"] = \"GGNN\"\n",
    "gnn_layer1 = GNN(params)\n",
    "gnn_out1 = gnn_layer1(gnn_input)\n",
    "\n",
    "params[\"hidden_dim\"] = 32\n",
    "params[\"num_heads\"] = 4\n",
    "params[\"dropout_rate\"] = 0.1\n",
    "params[\"message_calculation_class\"] = \"GGNN\"\n",
    "gnn_layer2 = GNN(params)\n",
    "gnn_out2 = gnn_layer2(gnn_input)\n",
    "\n",
    "gnn_layer2 = GNN(params)\n",
    "gnn_out2 = gnn_layer2(gnn_input)\n",
    "\n",
    "# Apply mean pooling to the outputs of the GNN layers\n",
    "pool_out1 = tf.math.unsorted_segment_mean(gnn_out1, node2graph, num_graph)\n",
    "pool_out2 = tf.math.unsorted_segment_mean(gnn_out2, node2graph, num_graph)\n",
    "\n",
    "# Concatenate the pooled outputs\n",
    "pool_out = layers.concatenate([pool_out1, pool_out2])\n",
    "\n",
    "# Add dropout regularization\n",
    "dropout = layers.Dropout(0.3)(pool_out)\n",
    "\n",
    "# Define the output layer of the model\n",
    "pred = layers.Dense(1, activation=\"sigmoid\")(dropout)\n",
    "\n",
    "# Create the model\n",
    "modelV8 = Model(inputs={\n",
    "        'data': data,\n",
    "        'edges': edge,\n",
    "        'node2grah': node2graph,\n",
    "    },  outputs=pred)\n",
    "\n",
    "# Use AdamW optimizer and binary cross-entropy loss\n",
    "opt = Adam(learning_rate=0.001)\n",
    "modelV8.compile(optimizer=opt, loss=\"binary_crossentropy\", metrics=[\"accuracy\"])\n",
    "\n",
    "modelV8.summary()\n"
   ]
  },
  {
   "cell_type": "code",
   "execution_count": 103,
   "metadata": {
    "execution": {
     "iopub.execute_input": "2023-04-25T17:39:56.308878Z",
     "iopub.status.busy": "2023-04-25T17:39:56.308447Z",
     "iopub.status.idle": "2023-04-25T17:51:18.350225Z",
     "shell.execute_reply": "2023-04-25T17:51:18.348822Z",
     "shell.execute_reply.started": "2023-04-25T17:39:56.308844Z"
    }
   },
   "outputs": [
    {
     "name": "stdout",
     "output_type": "stream",
     "text": [
      "Epoch 1/5\n",
      "2530/2530 [==============================] - 127s 50ms/step - loss: 0.2444 - accuracy: 0.9016 - val_loss: 0.2670 - val_accuracy: 0.9010\n",
      "Epoch 2/5\n",
      "2530/2530 [==============================] - 127s 50ms/step - loss: 0.2644 - accuracy: 0.8937 - val_loss: 0.2429 - val_accuracy: 0.9097\n",
      "Epoch 3/5\n",
      "2530/2530 [==============================] - 125s 50ms/step - loss: 0.2462 - accuracy: 0.9011 - val_loss: 0.2408 - val_accuracy: 0.9115\n",
      "Epoch 4/5\n",
      "2530/2530 [==============================] - 124s 49ms/step - loss: 0.2292 - accuracy: 0.9111 - val_loss: 0.2524 - val_accuracy: 0.9147\n",
      "Epoch 5/5\n",
      "2530/2530 [==============================] - 126s 50ms/step - loss: 0.2258 - accuracy: 0.9126 - val_loss: 0.2532 - val_accuracy: 0.9142\n"
     ]
    }
   ],
   "source": [
    "train_model(modelV8, training_set, validation_set, batch_size=16, num_epochs=5)"
   ]
  },
  {
   "cell_type": "code",
   "execution_count": 104,
   "metadata": {
    "execution": {
     "iopub.execute_input": "2023-04-25T17:55:07.523788Z",
     "iopub.status.busy": "2023-04-25T17:55:07.523318Z",
     "iopub.status.idle": "2023-04-25T17:55:28.739192Z",
     "shell.execute_reply": "2023-04-25T17:55:28.737505Z",
     "shell.execute_reply.started": "2023-04-25T17:55:07.523749Z"
    }
   },
   "outputs": [
    {
     "name": "stdout",
     "output_type": "stream",
     "text": [
      "771/771 [==============================] - 13s 16ms/step\n"
     ]
    }
   ],
   "source": [
    "y_pred = get_predictions(modelV8, testing_set)\n",
    "save_predictions_to_csv(y_pred, 'Eighth_Trial.csv')"
   ]
  },
  {
   "cell_type": "markdown",
   "metadata": {},
   "source": [
    "**Result of the previous trial is :**  </br>\n",
    "**Training accuracy (auc)**: 91.26 %</br>\n",
    "**validatation accuracy (auc)**: 91.42 %</br>\n",
    "**Testing Accuracy (auc)**: 85.67 %</br></br>\n",
    "\n",
    "**Comment :** </br>\n",
    "Here we tried to use more complex model as we used two layers with same  message passing methods (GGNN) But the accuracy didn't improve then the the simple model</br> \n"
   ]
  },
  {
   "cell_type": "markdown",
   "metadata": {},
   "source": [
    "# Ninth Trial "
   ]
  },
  {
   "cell_type": "markdown",
   "metadata": {},
   "source": [
    "**The input of these trial is :** Upsampling training data set \n",
    "\n",
    "**The Model Used is :**\n",
    "\n",
    "**The model uses three GNN layers**, with same set of hyperparameters configured to use (**RGAT**) message passing method, to learn representations of the molecular graphs. There are **dropout layer**  detween each layer for regularization. The output of the GNN layers is passed through a function called **segment_mean**, which computes the mean of the node embeddings for each graph in the batch. This is intended to summarize the information from the nodes into a single vector per graph, which can be used for the prediction task.\n",
    "**The model is compiled** using the AdamW optimizer and binary cross-entropy loss function, and the accuracy metric is used to evaluate the model performance. "
   ]
  },
  {
   "cell_type": "code",
   "execution_count": 30,
   "metadata": {
    "execution": {
     "iopub.execute_input": "2023-04-28T15:14:14.589312Z",
     "iopub.status.busy": "2023-04-28T15:14:14.588159Z",
     "iopub.status.idle": "2023-04-28T15:14:17.022311Z",
     "shell.execute_reply": "2023-04-28T15:14:17.021373Z",
     "shell.execute_reply.started": "2023-04-28T15:14:14.589264Z"
    }
   },
   "outputs": [],
   "source": [
    "data = keras.Input(batch_shape=(None,))\n",
    "\n",
    "# the first dim is different to the previous one. it is the total number of edges in this batch\n",
    "edge = keras.Input(batch_shape=(None, 2), dtype=tf.int32)\n",
    "node2graph = keras.Input(batch_shape=(None,), dtype=tf.int32)\n",
    "embeded = Embedding(tokenizer.num_words, 20)(data)\n",
    "\n",
    "# number of graphs (number of samples)\n",
    "num_graph = tf.reduce_max(node2graph)+1\n",
    "\n",
    "# declare the GNNInput that take the features of node, the edge, the created list 'node2graph', and number of graphs (number of samples)\n",
    "gnn_input = GNNInput(\n",
    "    node_features = embeded,\n",
    "    adjacency_lists = (edge,),\n",
    "    node_to_graph_map = node2graph, \n",
    "    num_graphs = num_graph,\n",
    ")\n",
    "\n",
    "\n",
    "params[\"hidden_dim\"] = 64\n",
    "params[\"num_heads\"] = 4\n",
    "params[\"dropout_rate\"] = 0.2\n",
    "params[\"message_calculation_class\"] = \"GGNN\"\n",
    "\n",
    "gnn_layer1 = GNN(params)\n",
    "gnn_out1 = Dropout(0.2)(gnn_layer1(gnn_input))\n",
    "\n",
    "gnn_layer2 = GNN(params)\n",
    "gnn_out2 = Dropout(0.2)(gnn_layer2(GNNInput(\n",
    "    node_features=gnn_out1,\n",
    "    adjacency_lists=(edge,),\n",
    "    node_to_graph_map=node2graph,\n",
    "    num_graphs=tf.reduce_max(node2graph) + 1,\n",
    ")))\n",
    "\n",
    "gnn_layer3 = GNN(params)\n",
    "gnn_out3 = Dropout(0.2)(gnn_layer3(GNNInput(\n",
    "    node_features=gnn_out2,\n",
    "    adjacency_lists=(edge,),\n",
    "    node_to_graph_map=node2graph,\n",
    "    num_graphs=tf.reduce_max(node2graph) + 1,\n",
    ")))\n",
    "\n",
    "avg = segment_mean(\n",
    "    data=gnn_out3,\n",
    "    segment_ids=node2graph\n",
    ")\n",
    "\n",
    "pred = Dense(1, activation=\"sigmoid\")(avg)\n",
    "\n",
    "modelV9 = Model(inputs={\n",
    "        'data': data,\n",
    "        'edges': edge,\n",
    "        'node2grah': node2graph,\n",
    "    }, outputs=pred)\n",
    "modelV9.compile(optimizer=\"adam\", loss=\"binary_crossentropy\", metrics=[\"accuracy\"])"
   ]
  },
  {
   "cell_type": "code",
   "execution_count": 31,
   "metadata": {
    "execution": {
     "iopub.execute_input": "2023-04-28T15:14:17.024487Z",
     "iopub.status.busy": "2023-04-28T15:14:17.023969Z",
     "iopub.status.idle": "2023-04-28T17:07:51.768076Z",
     "shell.execute_reply": "2023-04-28T17:07:51.766896Z",
     "shell.execute_reply.started": "2023-04-28T15:14:17.024455Z"
    }
   },
   "outputs": [
    {
     "name": "stdout",
     "output_type": "stream",
     "text": [
      "Epoch 1/25\n",
      "2530/2530 [==============================] - 289s 109ms/step - loss: 0.6314 - accuracy: 0.6453 - val_loss: 0.6328 - val_accuracy: 0.6409\n",
      "Epoch 2/25\n",
      "2530/2530 [==============================] - 275s 109ms/step - loss: 0.6205 - accuracy: 0.6576 - val_loss: 0.6214 - val_accuracy: 0.6568\n",
      "Epoch 3/25\n",
      "2530/2530 [==============================] - 275s 109ms/step - loss: 0.6016 - accuracy: 0.6768 - val_loss: 0.5993 - val_accuracy: 0.6838\n",
      "Epoch 4/25\n",
      "2530/2530 [==============================] - 273s 108ms/step - loss: 0.5840 - accuracy: 0.6933 - val_loss: 0.5819 - val_accuracy: 0.6932\n",
      "Epoch 5/25\n",
      "2530/2530 [==============================] - 278s 110ms/step - loss: 0.5772 - accuracy: 0.6978 - val_loss: 0.6033 - val_accuracy: 0.6823\n",
      "Epoch 6/25\n",
      "2530/2530 [==============================] - 271s 107ms/step - loss: 0.5785 - accuracy: 0.6988 - val_loss: 0.5579 - val_accuracy: 0.7173\n",
      "Epoch 7/25\n",
      "2530/2530 [==============================] - 272s 108ms/step - loss: 0.5570 - accuracy: 0.7187 - val_loss: 0.5499 - val_accuracy: 0.7288\n",
      "Epoch 8/25\n",
      "2530/2530 [==============================] - 272s 108ms/step - loss: 0.5423 - accuracy: 0.7280 - val_loss: 0.5355 - val_accuracy: 0.7335\n",
      "Epoch 9/25\n",
      "2530/2530 [==============================] - 271s 107ms/step - loss: 0.5337 - accuracy: 0.7337 - val_loss: 0.5116 - val_accuracy: 0.7551\n",
      "Epoch 10/25\n",
      "2530/2530 [==============================] - 273s 108ms/step - loss: 0.5185 - accuracy: 0.7439 - val_loss: 0.4944 - val_accuracy: 0.7627\n",
      "Epoch 11/25\n",
      "2530/2530 [==============================] - 272s 108ms/step - loss: 0.5023 - accuracy: 0.7577 - val_loss: 0.4731 - val_accuracy: 0.7704\n",
      "Epoch 12/25\n",
      "2530/2530 [==============================] - 270s 107ms/step - loss: 0.4850 - accuracy: 0.7647 - val_loss: 0.4684 - val_accuracy: 0.7709\n",
      "Epoch 13/25\n",
      "2530/2530 [==============================] - 270s 107ms/step - loss: 0.4864 - accuracy: 0.7650 - val_loss: 0.4815 - val_accuracy: 0.7736\n",
      "Epoch 14/25\n",
      "2530/2530 [==============================] - 270s 107ms/step - loss: 0.4766 - accuracy: 0.7673 - val_loss: 0.4562 - val_accuracy: 0.7884\n",
      "Epoch 15/25\n",
      "2530/2530 [==============================] - 269s 106ms/step - loss: 0.4541 - accuracy: 0.7842 - val_loss: 0.4207 - val_accuracy: 0.8054\n",
      "Epoch 16/25\n",
      "2530/2530 [==============================] - 273s 108ms/step - loss: 0.4375 - accuracy: 0.7942 - val_loss: 0.4200 - val_accuracy: 0.8085\n",
      "Epoch 17/25\n",
      "2530/2530 [==============================] - 271s 107ms/step - loss: 0.4304 - accuracy: 0.7970 - val_loss: 0.4087 - val_accuracy: 0.8110\n",
      "Epoch 18/25\n",
      "2530/2530 [==============================] - 271s 107ms/step - loss: 0.4104 - accuracy: 0.8087 - val_loss: 0.4115 - val_accuracy: 0.8121\n",
      "Epoch 19/25\n",
      "2530/2530 [==============================] - 275s 109ms/step - loss: 0.4000 - accuracy: 0.8143 - val_loss: 0.4082 - val_accuracy: 0.8164\n",
      "Epoch 20/25\n",
      "2530/2530 [==============================] - 272s 108ms/step - loss: 0.3893 - accuracy: 0.8209 - val_loss: 0.3866 - val_accuracy: 0.8237\n",
      "Epoch 21/25\n",
      "2530/2530 [==============================] - 272s 108ms/step - loss: 0.3934 - accuracy: 0.8191 - val_loss: 0.4501 - val_accuracy: 0.7940\n",
      "Epoch 22/25\n",
      "2530/2530 [==============================] - 270s 107ms/step - loss: 0.3942 - accuracy: 0.8154 - val_loss: 0.4117 - val_accuracy: 0.8065\n",
      "Epoch 23/25\n",
      "2530/2530 [==============================] - 270s 107ms/step - loss: 0.3814 - accuracy: 0.8255 - val_loss: 0.3835 - val_accuracy: 0.8269\n",
      "Epoch 24/25\n",
      "2530/2530 [==============================] - 271s 107ms/step - loss: 0.3690 - accuracy: 0.8299 - val_loss: 0.3690 - val_accuracy: 0.8414\n",
      "Epoch 25/25\n",
      "2530/2530 [==============================] - 270s 107ms/step - loss: 0.3502 - accuracy: 0.8427 - val_loss: 0.3665 - val_accuracy: 0.8419\n"
     ]
    }
   ],
   "source": [
    "train_model(modelV9, training_set, validation_set, batch_size=16, num_epochs=25)"
   ]
  },
  {
   "cell_type": "code",
   "execution_count": 32,
   "metadata": {
    "execution": {
     "iopub.execute_input": "2023-04-28T17:07:51.770681Z",
     "iopub.status.busy": "2023-04-28T17:07:51.770153Z",
     "iopub.status.idle": "2023-04-28T17:08:15.667496Z",
     "shell.execute_reply": "2023-04-28T17:08:15.666329Z",
     "shell.execute_reply.started": "2023-04-28T17:07:51.770616Z"
    }
   },
   "outputs": [
    {
     "name": "stdout",
     "output_type": "stream",
     "text": [
      "771/771 [==============================] - 24s 29ms/step\n"
     ]
    }
   ],
   "source": [
    "y_pred = get_predictions(modelV9, testing_set)\n",
    "save_predictions_to_csv(y_pred, 'Ninth_Trial.csv')"
   ]
  },
  {
   "cell_type": "markdown",
   "metadata": {},
   "source": [
    "**Result of the previous trial is :**  </br>\n",
    "**Training accuracy (auc)**: 84.27 %</br>\n",
    "**validatation accuracy (auc)**: 84.19 %</br>\n",
    "**Testing Accuracy (auc)**: 77.17 %</br></br>\n",
    "\n",
    "**Comment :** </br>\n",
    "Here we tried more complex model as we used three layer from GNN layer.</br> \n",
    "But the accuracy decreased ten the simple model.</br>"
   ]
  },
  {
   "cell_type": "markdown",
   "metadata": {},
   "source": [
    "## Tenth Trial"
   ]
  },
  {
   "cell_type": "markdown",
   "metadata": {},
   "source": [
    "**The input of these trial is :**  Training data set without upsampling\n",
    "\n",
    "**The Model Used is :**\n",
    "The model uses a **single GNN layer** with hyperparameters configured to use a **Rational graph convolutional network** (RGCN) message passing method. The output of the GNN layer is passed through a function called **segment_mean**, which computes the mean of the node embeddings for each graph in the batch. This is intended to summarize the information from the nodes into a single vector per graph, which can be used for the prediction task.\n",
    "\n",
    "The output of the segment_mean function is passed through a **dense layer** with a **sigmoid** activation function to produce the final predictions. The model is compiled using the **binary cross-entropy loss** function and the **Adam optimizer**."
   ]
  },
  {
   "cell_type": "code",
   "execution_count": 77,
   "metadata": {
    "execution": {
     "iopub.execute_input": "2023-04-25T15:08:10.841148Z",
     "iopub.status.busy": "2023-04-25T15:08:10.839703Z",
     "iopub.status.idle": "2023-04-25T15:08:11.549886Z",
     "shell.execute_reply": "2023-04-25T15:08:11.548368Z",
     "shell.execute_reply.started": "2023-04-25T15:08:10.841077Z"
    }
   },
   "outputs": [
    {
     "name": "stdout",
     "output_type": "stream",
     "text": [
      "Model: \"model_16\"\n",
      "__________________________________________________________________________________________________\n",
      " Layer (type)                   Output Shape         Param #     Connected to                     \n",
      "==================================================================================================\n",
      " input_81 (InputLayer)          [(None,)]            0           []                               \n",
      "                                                                                                  \n",
      " input_79 (InputLayer)          [(None,)]            0           []                               \n",
      "                                                                                                  \n",
      " tf.math.reduce_max_44 (TFOpLam  ()                  0           ['input_81[0][0]']               \n",
      " bda)                                                                                             \n",
      "                                                                                                  \n",
      " embedding_25 (Embedding)       (None, 20)           10000       ['input_79[0][0]']               \n",
      "                                                                                                  \n",
      " input_80 (InputLayer)          [(None, 2)]          0           []                               \n",
      "                                                                                                  \n",
      " tf.__operators__.add_44 (TFOpL  ()                  0           ['tf.math.reduce_max_44[0][0]']  \n",
      " ambda)                                                                                           \n",
      "                                                                                                  \n",
      " gnn_42 (GNN)                   (None, 64)           71552       ['embedding_25[0][0]',           \n",
      "                                                                  'input_80[0][0]',               \n",
      "                                                                  'input_81[0][0]',               \n",
      "                                                                  'tf.__operators__.add_44[0][0]']\n",
      "                                                                                                  \n",
      " tf.math.segment_mean_11 (TFOpL  (None, 64)          0           ['gnn_42[0][0]',                 \n",
      " ambda)                                                           'input_81[0][0]']               \n",
      "                                                                                                  \n",
      " dense_30 (Dense)               (None, 1)            65          ['tf.math.segment_mean_11[0][0]']\n",
      "                                                                                                  \n",
      "==================================================================================================\n",
      "Total params: 81,617\n",
      "Trainable params: 81,617\n",
      "Non-trainable params: 0\n",
      "__________________________________________________________________________________________________\n"
     ]
    }
   ],
   "source": [
    "data = keras.Input(batch_shape=(None,))\n",
    "\n",
    "# the first dim is different to the previous one. it is the total number of edges in this batch\n",
    "edge = keras.Input(batch_shape=(None, 2), dtype=tf.int32)\n",
    "node2graph = keras.Input(batch_shape=(None,), dtype=tf.int32)\n",
    "embeded = Embedding(tokenizer.num_words, 20)(data)\n",
    "\n",
    "# number of graphs (number of samples)\n",
    "num_graph = tf.reduce_max(node2graph)+1\n",
    "\n",
    "# declare the GNNInput that take the features of node, the edge, the created list 'node2graph', and number of graphs (number of samples)\n",
    "gnn_input = GNNInput(\n",
    "    node_features = embeded,\n",
    "    adjacency_lists = (edge,),\n",
    "    node_to_graph_map = node2graph, \n",
    "    num_graphs = num_graph,\n",
    ")\n",
    "\n",
    "\n",
    "# configure the hyperparameters of GNN layers\n",
    "# https://github.com/microsoft/tf2-gnn/blob/master/tf2_gnn/layers/gnn.py\n",
    "# \n",
    "# frist load the defualt hyperparameters\n",
    "params = GNN.get_default_hyperparameters()\n",
    "# sets the size of the output of all message passing layers\n",
    "params[\"hidden_dim\"] = 64\n",
    "# configures the message passing style to be RGCN\n",
    "params['message_calculation_class'] = 'RGCN'\n",
    "# configures the number of parallel (independent) weighted sums that are computed, whose results are concatenated to obtain the final result.\n",
    "params[\"num_heads\"] = 4\n",
    "\n",
    "# Implements a deep Graph Neural Network\n",
    "gnn_layer = GNN(params)\n",
    "gnn_out = gnn_layer(gnn_input)\n",
    "\n",
    "\n",
    "\n",
    "# Computes the mean along segments of a tensor\n",
    "# https://www.tensorflow.org/api_docs/python/tf/math/segment_mean\n",
    "avg = segment_mean(\n",
    "    data = gnn_out,\n",
    "    segment_ids = node2graph\n",
    ")\n",
    "\n",
    "# Define the out put layer of the model\n",
    "pred = Dense(1, activation='sigmoid')(avg)\n",
    "\n",
    "\n",
    "# Creating the model\n",
    "modelV10 = Model(\n",
    "    inputs = {\n",
    "        'data': data,\n",
    "        'edges': edge,\n",
    "        'node2grah': node2graph,\n",
    "    },\n",
    "    outputs = pred\n",
    ")\n",
    "modelV10.compile(optimizer=\"adam\", loss=\"binary_crossentropy\", metrics=[\"accuracy\"])\n",
    "modelV10.summary()"
   ]
  },
  {
   "cell_type": "code",
   "execution_count": 78,
   "metadata": {
    "execution": {
     "iopub.execute_input": "2023-04-25T15:08:15.411821Z",
     "iopub.status.busy": "2023-04-25T15:08:15.411375Z",
     "iopub.status.idle": "2023-04-25T15:30:17.861669Z",
     "shell.execute_reply": "2023-04-25T15:30:17.860376Z",
     "shell.execute_reply.started": "2023-04-25T15:08:15.411780Z"
    }
   },
   "outputs": [
    {
     "name": "stdout",
     "output_type": "stream",
     "text": [
      "Epoch 1/20\n",
      "2530/2530 [==============================] - 70s 26ms/step - loss: 0.6142 - accuracy: 0.6621 - val_loss: 0.5911 - val_accuracy: 0.6894\n",
      "Epoch 2/20\n",
      "2530/2530 [==============================] - 66s 26ms/step - loss: 0.5845 - accuracy: 0.6957 - val_loss: 0.5743 - val_accuracy: 0.7012\n",
      "Epoch 3/20\n",
      "2530/2530 [==============================] - 67s 27ms/step - loss: 0.5599 - accuracy: 0.7197 - val_loss: 0.5535 - val_accuracy: 0.7174\n",
      "Epoch 4/20\n",
      "2530/2530 [==============================] - 66s 26ms/step - loss: 0.5319 - accuracy: 0.7401 - val_loss: 0.5182 - val_accuracy: 0.7533\n",
      "Epoch 5/20\n",
      "2530/2530 [==============================] - 66s 26ms/step - loss: 0.5103 - accuracy: 0.7578 - val_loss: 0.5005 - val_accuracy: 0.7604\n",
      "Epoch 6/20\n",
      "2530/2530 [==============================] - 65s 26ms/step - loss: 0.4991 - accuracy: 0.7606 - val_loss: 0.4949 - val_accuracy: 0.7595\n",
      "Epoch 7/20\n",
      "2530/2530 [==============================] - 66s 26ms/step - loss: 0.4769 - accuracy: 0.7745 - val_loss: 0.4746 - val_accuracy: 0.7771\n",
      "Epoch 8/20\n",
      "2530/2530 [==============================] - 65s 26ms/step - loss: 0.4591 - accuracy: 0.7858 - val_loss: 0.4653 - val_accuracy: 0.7880\n",
      "Epoch 9/20\n",
      "2530/2530 [==============================] - 66s 26ms/step - loss: 0.4460 - accuracy: 0.7933 - val_loss: 0.4242 - val_accuracy: 0.8086\n",
      "Epoch 10/20\n",
      "2530/2530 [==============================] - 66s 26ms/step - loss: 0.4264 - accuracy: 0.8062 - val_loss: 0.4116 - val_accuracy: 0.8073\n",
      "Epoch 11/20\n",
      "2530/2530 [==============================] - 65s 26ms/step - loss: 0.4101 - accuracy: 0.8146 - val_loss: 0.3947 - val_accuracy: 0.8269\n",
      "Epoch 12/20\n",
      "2530/2530 [==============================] - 66s 26ms/step - loss: 0.3978 - accuracy: 0.8253 - val_loss: 0.3905 - val_accuracy: 0.8258\n",
      "Epoch 13/20\n",
      "2530/2530 [==============================] - 66s 26ms/step - loss: 0.3837 - accuracy: 0.8286 - val_loss: 0.3626 - val_accuracy: 0.8447\n",
      "Epoch 14/20\n",
      "2530/2530 [==============================] - 64s 25ms/step - loss: 0.3754 - accuracy: 0.8344 - val_loss: 0.3668 - val_accuracy: 0.8447\n",
      "Epoch 15/20\n",
      "2530/2530 [==============================] - 66s 26ms/step - loss: 0.3625 - accuracy: 0.8458 - val_loss: 0.3760 - val_accuracy: 0.8418\n",
      "Epoch 16/20\n",
      "2530/2530 [==============================] - 65s 26ms/step - loss: 0.3536 - accuracy: 0.8493 - val_loss: 0.3549 - val_accuracy: 0.8570\n",
      "Epoch 17/20\n",
      "2530/2530 [==============================] - 67s 26ms/step - loss: 0.3421 - accuracy: 0.8545 - val_loss: 0.3377 - val_accuracy: 0.8652\n",
      "Epoch 18/20\n",
      "2530/2530 [==============================] - 68s 27ms/step - loss: 0.3322 - accuracy: 0.8604 - val_loss: 0.3205 - val_accuracy: 0.8671\n",
      "Epoch 19/20\n",
      "2530/2530 [==============================] - 65s 26ms/step - loss: 0.3283 - accuracy: 0.8626 - val_loss: 0.3008 - val_accuracy: 0.8790\n",
      "Epoch 20/20\n",
      "2530/2530 [==============================] - 66s 26ms/step - loss: 0.3135 - accuracy: 0.8707 - val_loss: 0.3213 - val_accuracy: 0.8713\n"
     ]
    }
   ],
   "source": [
    "train_model(modelV10, training_set, validation_set, batch_size=16, num_epochs=20)"
   ]
  },
  {
   "cell_type": "code",
   "execution_count": 83,
   "metadata": {
    "execution": {
     "iopub.execute_input": "2023-04-25T15:59:06.671428Z",
     "iopub.status.busy": "2023-04-25T15:59:06.670937Z",
     "iopub.status.idle": "2023-04-25T15:59:13.532115Z",
     "shell.execute_reply": "2023-04-25T15:59:13.530622Z",
     "shell.execute_reply.started": "2023-04-25T15:59:06.671387Z"
    }
   },
   "outputs": [
    {
     "name": "stdout",
     "output_type": "stream",
     "text": [
      "771/771 [==============================] - 7s 8ms/step\n"
     ]
    }
   ],
   "source": [
    "y_pred = get_predictions(modelV10, testing_set)\n",
    "save_predictions_to_csv(y_pred, 'Tenth_Trial.csv')"
   ]
  },
  {
   "cell_type": "markdown",
   "metadata": {},
   "source": [
    "**Result of the previous trial is :**  </br>\n",
    "**Training accuracy (auc)**: 87.07 %</br>\n",
    "**validatation accuracy (auc)**: 87.13 %</br>\n",
    "**Testing Accuracy (auc)**: 50 %</br></br>\n",
    "\n",
    "**Comment :** </br>\n",
    "\n",
    "In previous trial we try to use the same model with the same massig passing method but here we will try to change in different hyperparameter as we see we will try to use 64 hidden_dim, and 4 num_heads. \n",
    "But the accuracy become so bad that may because of: </br>Lack of convergence: Changing the hyperparameters can affect the convergence of the model during training. If the model doesn't converge to a good solution, it may perform poorly on the test data."
   ]
  },
  {
   "cell_type": "markdown",
   "metadata": {},
   "source": [
    "# Elventh Trial"
   ]
  },
  {
   "cell_type": "markdown",
   "metadata": {},
   "source": [
    "**The input of these trial is :** Upsampling training data set \n",
    "\n",
    "**The Model Used is :**\n",
    "\n",
    "**The model uses two GNN layers**, each with a different set of hyperparameters, to learn representations of the molecular graphs. The outputs of the GNN layers are then pooled **using mean pooling**, and **concatenated together**. The resulting pooled outputs are then passed through a **dropout layer** for regularization, and finally through **a dense layer** with a sigmoid activation function to produce the final predictions.\n",
    "\n",
    "**The model is compiled** using the AdamW optimizer and binary cross-entropy loss function, and the accuracy metric is used to evaluate the model performance. "
   ]
  },
  {
   "cell_type": "code",
   "execution_count": 37,
   "metadata": {
    "execution": {
     "iopub.execute_input": "2023-04-28T18:37:01.657581Z",
     "iopub.status.busy": "2023-04-28T18:37:01.657182Z",
     "iopub.status.idle": "2023-04-28T18:37:03.843274Z",
     "shell.execute_reply": "2023-04-28T18:37:03.841986Z",
     "shell.execute_reply.started": "2023-04-28T18:37:01.657547Z"
    }
   },
   "outputs": [
    {
     "name": "stdout",
     "output_type": "stream",
     "text": [
      "Model: \"model_3\"\n",
      "__________________________________________________________________________________________________\n",
      " Layer (type)                   Output Shape         Param #     Connected to                     \n",
      "==================================================================================================\n",
      " input_13 (InputLayer)          [(None,)]            0           []                               \n",
      "                                                                                                  \n",
      " input_11 (InputLayer)          [(None,)]            0           []                               \n",
      "                                                                                                  \n",
      " tf.math.reduce_max_5 (TFOpLamb  ()                  0           ['input_13[0][0]']               \n",
      " da)                                                                                              \n",
      "                                                                                                  \n",
      " embedding_3 (Embedding)        (None, 20)           10000       ['input_11[0][0]']               \n",
      "                                                                                                  \n",
      " input_12 (InputLayer)          [(None, 2)]          0           []                               \n",
      "                                                                                                  \n",
      " tf.__operators__.add_5 (TFOpLa  ()                  0           ['tf.math.reduce_max_5[0][0]']   \n",
      " mbda)                                                                                            \n",
      "                                                                                                  \n",
      " gnn_7 (GNN)                    (None, 64)           71552       ['embedding_3[0][0]',            \n",
      "                                                                  'input_12[0][0]',               \n",
      "                                                                  'input_13[0][0]',               \n",
      "                                                                  'tf.__operators__.add_5[0][0]'] \n",
      "                                                                                                  \n",
      " gnn_9 (GNN)                    (None, 32)           47808       ['embedding_3[0][0]',            \n",
      "                                                                  'input_12[0][0]',               \n",
      "                                                                  'input_13[0][0]',               \n",
      "                                                                  'tf.__operators__.add_5[0][0]'] \n",
      "                                                                                                  \n",
      " tf.math.unsorted_segment_mean_  (None, 64)          0           ['gnn_7[0][0]',                  \n",
      " 2 (TFOpLambda)                                                   'input_13[0][0]',               \n",
      "                                                                  'tf.__operators__.add_5[0][0]'] \n",
      "                                                                                                  \n",
      " tf.math.unsorted_segment_mean_  (None, 32)          0           ['gnn_9[0][0]',                  \n",
      " 3 (TFOpLambda)                                                   'input_13[0][0]',               \n",
      "                                                                  'tf.__operators__.add_5[0][0]'] \n",
      "                                                                                                  \n",
      " concatenate_1 (Concatenate)    (None, 96)           0           ['tf.math.unsorted_segment_mean_2\n",
      "                                                                 [0][0]',                         \n",
      "                                                                  'tf.math.unsorted_segment_mean_3\n",
      "                                                                 [0][0]']                         \n",
      "                                                                                                  \n",
      " dropout_4 (Dropout)            (None, 96)           0           ['concatenate_1[0][0]']          \n",
      "                                                                                                  \n",
      " dense_5 (Dense)                (None, 1)            97          ['dropout_4[0][0]']              \n",
      "                                                                                                  \n",
      "==================================================================================================\n",
      "Total params: 129,457\n",
      "Trainable params: 129,457\n",
      "Non-trainable params: 0\n",
      "__________________________________________________________________________________________________\n"
     ]
    }
   ],
   "source": [
    "\n",
    "# from tf2_gnn.utils.general import get_aggregate_method_from_str\n",
    "\n",
    "\n",
    "data = keras.Input(batch_shape=(None,))\n",
    "\n",
    "# the first dim is different to the previous one. it is the total number of edges in this batch\n",
    "edge = keras.Input(batch_shape=(None, 2), dtype=tf.int32)\n",
    "node2graph = keras.Input(batch_shape=(None,), dtype=tf.int32)\n",
    "embeded = Embedding(tokenizer.num_words, 20)(data)\n",
    "\n",
    "# number of graphs (number of samples)\n",
    "num_graph = tf.reduce_max(node2graph)+1\n",
    "\n",
    "# declare the GNNInput that take the features of node, the edge, the created list 'node2graph', and number of graphs (number of samples)\n",
    "gnn_input = GNNInput(\n",
    "    node_features = embeded,\n",
    "    adjacency_lists = (edge,),\n",
    "    node_to_graph_map = node2graph, \n",
    "    num_graphs = num_graph,\n",
    ")\n",
    "\n",
    "\n",
    "# Define the GNN layers\n",
    "params = GNN.get_default_hyperparameters()\n",
    "params[\"hidden_dim\"] = 64\n",
    "params[\"num_heads\"] = 8\n",
    "params[\"dropout_rate\"] = 0.1\n",
    "params[\"message_calculation_class\"] = \"RGCN\"\n",
    "gnn_layer1 = GNN(params)\n",
    "gnn_out1 = gnn_layer1(gnn_input)\n",
    "\n",
    "params[\"hidden_dim\"] = 32\n",
    "params[\"num_heads\"] = 4\n",
    "params[\"dropout_rate\"] = 0.1\n",
    "params[\"message_calculation_class\"] = \"GGNN\"\n",
    "gnn_layer2 = GNN(params)\n",
    "gnn_out2 = gnn_layer2(gnn_input)\n",
    "\n",
    "gnn_layer2 = GNN(params)\n",
    "gnn_out2 = gnn_layer2(gnn_input)\n",
    "\n",
    "# Apply mean pooling to the outputs of the GNN layers\n",
    "pool_out1 = tf.math.unsorted_segment_mean(gnn_out1, node2graph, num_graph)\n",
    "pool_out2 = tf.math.unsorted_segment_mean(gnn_out2, node2graph, num_graph)\n",
    "\n",
    "# Concatenate the pooled outputs\n",
    "pool_out = layers.concatenate([pool_out1, pool_out2])\n",
    "\n",
    "# Add dropout regularization\n",
    "dropout = layers.Dropout(0.3)(pool_out)\n",
    "\n",
    "# Define the output layer of the model\n",
    "pred = layers.Dense(1, activation=\"sigmoid\")(dropout)\n",
    "\n",
    "# Create the model\n",
    "modelV11 = Model(inputs={\n",
    "        'data': data,\n",
    "        'edges': edge,\n",
    "        'node2grah': node2graph,\n",
    "    },  outputs=pred)\n",
    "\n",
    "# Use AdamW optimizer and binary cross-entropy loss\n",
    "opt = Adam(learning_rate=0.001)\n",
    "modelV11.compile(optimizer=opt, loss=\"binary_crossentropy\", metrics=[\"accuracy\"])\n",
    "\n",
    "modelV11.summary()\n"
   ]
  },
  {
   "cell_type": "code",
   "execution_count": 38,
   "metadata": {
    "execution": {
     "iopub.execute_input": "2023-04-28T06:15:08.672586Z",
     "iopub.status.busy": "2023-04-28T06:15:08.672015Z",
     "iopub.status.idle": "2023-04-28T06:43:31.837935Z",
     "shell.execute_reply": "2023-04-28T06:43:31.836633Z",
     "shell.execute_reply.started": "2023-04-28T06:15:08.672513Z"
    }
   },
   "outputs": [
    {
     "name": "stdout",
     "output_type": "stream",
     "text": [
      "Epoch 1/20\n",
      "2530/2530 [==============================] - 95s 34ms/step - loss: 0.6227 - accuracy: 0.6569 - val_loss: 0.6194 - val_accuracy: 0.6448\n",
      "Epoch 2/20\n",
      "2530/2530 [==============================] - 86s 34ms/step - loss: 0.5934 - accuracy: 0.6926 - val_loss: 0.5714 - val_accuracy: 0.7158\n",
      "Epoch 3/20\n",
      "2530/2530 [==============================] - 85s 33ms/step - loss: 0.5507 - accuracy: 0.7260 - val_loss: 0.5231 - val_accuracy: 0.7456\n",
      "Epoch 4/20\n",
      "2530/2530 [==============================] - 84s 33ms/step - loss: 0.5046 - accuracy: 0.7634 - val_loss: 0.4882 - val_accuracy: 0.7695\n",
      "Epoch 5/20\n",
      "2530/2530 [==============================] - 84s 33ms/step - loss: 0.4664 - accuracy: 0.7861 - val_loss: 0.4552 - val_accuracy: 0.7847\n",
      "Epoch 6/20\n",
      "2530/2530 [==============================] - 84s 33ms/step - loss: 0.4353 - accuracy: 0.8022 - val_loss: 0.4124 - val_accuracy: 0.8124\n",
      "Epoch 7/20\n",
      "2530/2530 [==============================] - 84s 33ms/step - loss: 0.4145 - accuracy: 0.8133 - val_loss: 0.3941 - val_accuracy: 0.8281\n",
      "Epoch 8/20\n",
      "2530/2530 [==============================] - 84s 33ms/step - loss: 0.3889 - accuracy: 0.8274 - val_loss: 0.3899 - val_accuracy: 0.8338\n",
      "Epoch 9/20\n",
      "2530/2530 [==============================] - 86s 34ms/step - loss: 0.3780 - accuracy: 0.8346 - val_loss: 0.3915 - val_accuracy: 0.8285\n",
      "Epoch 10/20\n",
      "2530/2530 [==============================] - 87s 35ms/step - loss: 0.3663 - accuracy: 0.8406 - val_loss: 0.3690 - val_accuracy: 0.8447\n",
      "Epoch 11/20\n",
      "2530/2530 [==============================] - 86s 34ms/step - loss: 0.3501 - accuracy: 0.8473 - val_loss: 0.3252 - val_accuracy: 0.8625\n",
      "Epoch 12/20\n",
      "2530/2530 [==============================] - 84s 33ms/step - loss: 0.3333 - accuracy: 0.8580 - val_loss: 0.3330 - val_accuracy: 0.8636\n",
      "Epoch 13/20\n",
      "2530/2530 [==============================] - 84s 33ms/step - loss: 0.3206 - accuracy: 0.8646 - val_loss: 0.3044 - val_accuracy: 0.8803\n",
      "Epoch 14/20\n",
      "2530/2530 [==============================] - 85s 33ms/step - loss: 0.3140 - accuracy: 0.8692 - val_loss: 0.2991 - val_accuracy: 0.8818\n",
      "Epoch 15/20\n",
      "2530/2530 [==============================] - 84s 33ms/step - loss: 0.3028 - accuracy: 0.8727 - val_loss: 0.2840 - val_accuracy: 0.8831\n",
      "Epoch 16/20\n",
      "2530/2530 [==============================] - 84s 33ms/step - loss: 0.2938 - accuracy: 0.8782 - val_loss: 0.2789 - val_accuracy: 0.8891\n",
      "Epoch 17/20\n",
      "2530/2530 [==============================] - 84s 33ms/step - loss: 0.2826 - accuracy: 0.8844 - val_loss: 0.2785 - val_accuracy: 0.8891\n",
      "Epoch 18/20\n",
      "2530/2530 [==============================] - 85s 34ms/step - loss: 0.2751 - accuracy: 0.8867 - val_loss: 0.2720 - val_accuracy: 0.8960\n",
      "Epoch 19/20\n",
      "2530/2530 [==============================] - 84s 33ms/step - loss: 0.2690 - accuracy: 0.8896 - val_loss: 0.2619 - val_accuracy: 0.9037\n",
      "Epoch 20/20\n",
      "2530/2530 [==============================] - 84s 33ms/step - loss: 0.2618 - accuracy: 0.8943 - val_loss: 0.2654 - val_accuracy: 0.9002\n"
     ]
    }
   ],
   "source": [
    "train_model(modelV11, training_set, validation_set, batch_size=16, num_epochs=20)"
   ]
  },
  {
   "cell_type": "code",
   "execution_count": 36,
   "metadata": {
    "execution": {
     "iopub.execute_input": "2023-04-28T18:36:04.934071Z",
     "iopub.status.busy": "2023-04-28T18:36:04.932606Z",
     "iopub.status.idle": "2023-04-28T18:36:26.675744Z",
     "shell.execute_reply": "2023-04-28T18:36:26.674655Z",
     "shell.execute_reply.started": "2023-04-28T18:36:04.933943Z"
    }
   },
   "outputs": [
    {
     "name": "stdout",
     "output_type": "stream",
     "text": [
      "771/771 [==============================] - 12s 14ms/step\n"
     ]
    }
   ],
   "source": [
    "y_pred = get_predictions(modelV11, testing_set)\n",
    "save_predictions_to_csv(y_pred, 'Eleventh_Trial.csv')"
   ]
  },
  {
   "cell_type": "markdown",
   "metadata": {},
   "source": [
    "**Result of the previous trial is :**  </br>\n",
    "**Training accuracy (auc)**: 89.43 %</br>\n",
    "**validatation accuracy (auc)**: 90.02 %</br>\n",
    "**Testing Accuracy (auc)**: 87.053 %</br></br>\n",
    "\n",
    "**Comment :** </br>  \n",
    "So these model get the best accuracy until now."
   ]
  },
  {
   "cell_type": "markdown",
   "metadata": {},
   "source": [
    "# Best Model :\n",
    "From above we can see that the trial number eleven has the best scor in the test data set \n",
    "So we can achive our bst model by using : \n",
    "1. up sampling for the learning data set \n",
    "2. two GNN layer one of them use RGCN as  message calculation class ,and other GGNN\n",
    "3. mean pooling, and concatenated two layer \n",
    "4. dropout layer (0.3)\n",
    "5. finally, dense layer with sigmoid activation function "
   ]
  },
  {
   "cell_type": "markdown",
   "metadata": {},
   "source": [
    "# Question"
   ]
  },
  {
   "cell_type": "markdown",
   "metadata": {},
   "source": [
    "**🌈Based on the provided template, describe the format of the input file (sdf file).**\n",
    "\n",
    "The Structure Data File (SDF) format is a text-based file format for storing molecular structures and associated data. It was originally developed by Molecular Design Limited (MDL) and is now widely used in the chemistry and drug discovery fields.\n",
    "\n",
    "The SDF format consists of a series of records, each of which represents a single molecular structure. Each record has a fixed format, consisting of one or more header lines followed by a series of data lines. The header lines describe the structure and associated data, while the data lines represent the atoms and bonds in the molecule."
   ]
  },
  {
   "cell_type": "markdown",
   "metadata": {},
   "source": [
    "**🌈What are the input tensors to the neural network model (their meaning, not just symbol)? What is each of their dims and their meaning (e.g. batch_size)?**\n",
    "\n",
    "The input tensors to the neural network model are:\n",
    "\n",
    "**data tensor**: This tensor contains the node features for all the nodes in the input graph. It has a shape of **(batch_size, num_nodes)**, where batch_size is the number of graphs in the batch, and num_nodes is the maximum number of nodes in any graph in the batch. Each element in the tensor represents the feature value for a particular node in a particular graph.\n",
    "\n",
    "**edge tensor**: This tensor contains the edge connections between the nodes in the input graph. It is a **two-dimensional tensor** of shape **(num_edges, 2)**, where num_edges is the total number of edges in the batch. The first column represents the source node index, and the second column represents the destination node index.\n",
    "\n",
    "**node2graph tensor**: This tensor indicates which graph each node belongs to. It is a **one-dimensional** tensor of shape **(num_nodes,)**, where num_nodes is the total number of nodes in the batch. Each element in the tensor represents the graph ID of the corresponding node in the data tensor."
   ]
  },
  {
   "cell_type": "markdown",
   "metadata": {},
   "source": [
    "**🌈For each dim of gnn_out, what does it symbolize? For each dim of avg, what does it symbolize?**\n",
    "\n",
    "**gnn_out**: This tensor represents the output of the GNN layers in the neural network model. It has a shape of (batch_size, num_nodes, hidden_dim), where:</br>\n",
    "\n",
    "*    batch_size is the number of graphs in the batch.</br>\n",
    "*    num_nodes is the maximum number of nodes in any graph in the batch.</br>\n",
    "*    hidden_dim is the number of hidden units in the GNN layers.</br>\n",
    " Each element of gnn_out represents the hidden state of a particular node in a particular graph, after processing the input graph through the GNN layers.</br></br>\n",
    "\n",
    "**avg**: This tensor represents the output of the global pooling operation on the gnn_out tensor. It has a shape of (batch_size, hidden_dim), where:\n",
    "\n",
    "*        batch_size is the number of graphs in the batch.</br>\n",
    "*        hidden_dim is the number of hidden units in the GNN layers.</br>\n",
    " Each element of avg represents the average hidden state across all nodes in a particular graph, after processing the input graph through the GNN layers."
   ]
  },
  {
   "cell_type": "markdown",
   "metadata": {},
   "source": [
    "**🌈What is the difference between segment_mean and tf.reduce_mean? For each dim of pred, what does it symbolize?**\n",
    "\n",
    "**segment_mean** and **tf.reduce_mean** are two different functions in TensorFlow that compute the mean across different segments of a tensor.\n",
    "\n",
    "**tf.reduce_mean** computes the mean across all elements of a tensor, while **segment_mean** computes the mean across segments of a tensor, where the segments are defined by another tensor of the same shape.\n",
    "\n",
    "**For example,** if you have a tensor x of shape (batch_size, num_nodes, hidden_dim) and a tensor segment_ids of shape (batch_size, num_nodes), where each element of segment_ids represents the ID of the segment that the corresponding element of x belongs to, you can compute the segment means of x using segment_mean(x, segment_ids).\n",
    "\n",
    "**As for the dimensions of pred,** it depends on the task and the specific neural network model being used. In general, the dimensions of pred represent the output of the model after processing the input data, and can vary depending on the architecture of the model and the type of output being predicted.\n",
    "\n",
    "**However,** in the case of binary classification, pred typically has a shape of (batch_size, 1), where batch_size is the number of samples in the input batch, and each element represents the predicted probability that the corresponding sample belongs to the positive class."
   ]
  },
  {
   "cell_type": "markdown",
   "metadata": {},
   "source": [
    "**🌈What is the motivation/theory/idea to use multiple gcn layers comparing to just one? How many layers were used in the template?**\n",
    "\n",
    "The motivation behind using multiple graph convolutional network (GCN) layers in a neural network model is to enable the model to capture increasingly complex and abstract features of the input graph data. Each GCN layer learns to aggregate information from a node's local neighborhood, and the output of one GCN layer can be fed as input to the next GCN layer, allowing the model to learn more complex graph-level features that depend on larger neighborhoods of nodes.\n",
    "\n",
    "By stacking multiple GCN layers, the model can learn increasingly abstract representations of the input graph, allowing it to better distinguish between different types of graphs or perform more complex tasks on the graph data.\n",
    "\n",
    "The number of GCN layers used in a neural network model can vary depending on the specific application and the complexity of the input graph data. In the template provided, the model has two GCN layers, but this number can be increased or decreased depending on the needs of the specific application."
   ]
  }
 ],
 "metadata": {
  "kernelspec": {
   "display_name": "Python 3 (ipykernel)",
   "language": "python",
   "name": "python3"
  },
  "language_info": {
   "codemirror_mode": {
    "name": "ipython",
    "version": 3
   },
   "file_extension": ".py",
   "mimetype": "text/x-python",
   "name": "python",
   "nbconvert_exporter": "python",
   "pygments_lexer": "ipython3",
   "version": "3.9.13"
  }
 },
 "nbformat": 4,
 "nbformat_minor": 4
}
