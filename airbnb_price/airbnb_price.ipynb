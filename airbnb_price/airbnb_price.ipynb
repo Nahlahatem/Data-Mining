{
 "cells": [
  {
   "cell_type": "markdown",
   "metadata": {
    "id": "eGA8eG4HiSK7"
   },
   "source": [
    "# Problem Defination \n",
    "\n",
    "\n",
    "\n",
    "\n",
    "\n"
   ]
  },
  {
   "cell_type": "markdown",
   "metadata": {
    "id": "hytX7aTgiSK-"
   },
   "source": [
    "\n",
    "**The problem statement** is to predict the price range of Airbnb listings in Montreal based on their listing characteristics. The pricing is divided into three categories:</br></br>\n",
    "\n",
    "0 - Beginner: Lower price range</br>\n",
    "1 - Plus: Medium price range</br>\n",
    "2 - Premium: Higher price range</br>\n",
    "\n",
    "The dataset contains information about Airbnb listings in Montreal from 2019, including images,and text that descripe the apartment/house.</br>\n",
    "\n",
    "We will use a multi-objective, multi-task and multi-modal approach to solve this problem. </br>\n",
    "\n",
    "We have two different **input** for our problem :\n",
    "First, image for the apartment/house and text that descripe the apartment/house. </br>\n",
    "\n",
    "**The output** of the problem is a predicted pricing range for new Airbnb listings in Montreal, based on their listing characteristics. The predicted pricing range is represented by 0, 1, or 2.</br> \n",
    "\n",
    "**The goal** is to recommend a pricing range to new hosts rather than a fixed price, based on the features of the listing.."
   ]
  },
  {
   "cell_type": "markdown",
   "metadata": {
    "id": "I5npYriQiSK_"
   },
   "source": [
    "The required function is to **classify** the data into 3 categories of pricing \n"
   ]
  },
  {
   "cell_type": "markdown",
   "metadata": {
    "id": "3ALBnKYpiSK_"
   },
   "source": [
    "## Challenges\n",
    "\n",
    "The challenge is to develop a multi-objective multi-modality solution to predict the pricing range of new listings, using machine learning techniques and feature engineering.\n",
    "\n",
    "Also there are several challenges associated with predicting the listing price of Airbnb rentals based on listing characteristics:\n",
    "\n",
    "* Limited data: While the dataset may contain rich information for each listing, it may not be large enough to capture all the nuances of the rental market in Montreal. This could result in inaccurate predictions or biased models.\n",
    "\n",
    "* Complex pricing models: Airbnb pricing is influenced by many factors, including seasonality, location, and demand. Developing accurate pricing models that take into account all these factors can be challenging.\n",
    "\n",
    "* Dynamic market conditions: The rental market is constantly changing, and prices can fluctuate based on supply and demand. Predictive models developed using historical data may not be accurate in predicting prices in the current market."
   ]
  },
  {
   "cell_type": "markdown",
   "metadata": {
    "id": "aeGgZ_GXiSLA"
   },
   "source": [
    "## The impact\n",
    "The impact of predicting the listing price of Airbnb rentals based on listing characteristics could be significant for several reasons.\n",
    "\n",
    "First, it could help new hosts optimize their pricing strategy and attract more bookings. By recommending a pricing range based on the listing's characteristics, hosts can avoid underpricing or overpricing their rental, which could lead to missed opportunities or lost revenue.\n",
    "\n",
    "Second, it could help improve the user experience for Airbnb guests. If hosts are pricing their rentals more accurately, guests are more likely to have a positive experience and be more satisfied with their stay. This, in turn, could lead to repeat bookings and positive reviews, which are important for the success of Airbnb hosts."
   ]
  },
  {
   "cell_type": "markdown",
   "metadata": {
    "id": "I8FUhppciSLA"
   },
   "source": [
    "# Let's Get Started"
   ]
  },
  {
   "cell_type": "code",
   "execution_count": null,
   "metadata": {
    "execution": {
     "iopub.execute_input": "2023-04-12T16:50:14.012148Z",
     "iopub.status.busy": "2023-04-12T16:50:14.011758Z",
     "iopub.status.idle": "2023-04-12T16:50:15.340696Z",
     "shell.execute_reply": "2023-04-12T16:50:15.339533Z",
     "shell.execute_reply.started": "2023-04-12T16:50:14.012117Z"
    },
    "id": "DxGlcb49iSLA",
    "outputId": "e9753b43-6444-4a5c-ae59-56c9e479fcb3"
   },
   "outputs": [
    {
     "name": "stdout",
     "output_type": "stream",
     "text": [
      "[nltk_data] Downloading package punkt to /usr/share/nltk_data...\n",
      "[nltk_data]   Package punkt is already up-to-date!\n",
      "[nltk_data] Downloading package wordnet to /usr/share/nltk_data...\n",
      "[nltk_data]   Package wordnet is already up-to-date!\n",
      "[nltk_data] Downloading package stopwords to /usr/share/nltk_data...\n",
      "[nltk_data]   Package stopwords is already up-to-date!\n",
      "[nltk_data] Downloading package words to /usr/share/nltk_data...\n",
      "[nltk_data]   Package words is already up-to-date!\n",
      "[nltk_data] Downloading package stopwords to /usr/share/nltk_data...\n",
      "[nltk_data]   Package stopwords is already up-to-date!\n"
     ]
    },
    {
     "data": {
      "text/plain": [
       "True"
      ]
     },
     "execution_count": 1,
     "metadata": {},
     "output_type": "execute_result"
    }
   ],
   "source": [
    "import nltk\n",
    "nltk.download('punkt')\n",
    "nltk.download('wordnet')\n",
    "nltk.download('stopwords')\n",
    "nltk.download('words')\n",
    "nltk.download('stopwords')"
   ]
  },
  {
   "cell_type": "code",
   "execution_count": null,
   "metadata": {
    "execution": {
     "iopub.execute_input": "2023-04-12T16:50:15.344309Z",
     "iopub.status.busy": "2023-04-12T16:50:15.343106Z",
     "iopub.status.idle": "2023-04-12T16:50:15.349894Z",
     "shell.execute_reply": "2023-04-12T16:50:15.348871Z",
     "shell.execute_reply.started": "2023-04-12T16:50:15.344235Z"
    },
    "id": "EyURoM_XiSLC"
   },
   "outputs": [],
   "source": [
    "from nltk.stem.snowball import SnowballStemmer\n",
    "from nltk.tokenize import word_tokenize\n",
    "from nltk.corpus import stopwords"
   ]
  },
  {
   "cell_type": "code",
   "execution_count": null,
   "metadata": {
    "execution": {
     "iopub.execute_input": "2023-04-12T16:50:15.351930Z",
     "iopub.status.busy": "2023-04-12T16:50:15.351361Z",
     "iopub.status.idle": "2023-04-12T16:50:28.604112Z",
     "shell.execute_reply": "2023-04-12T16:50:28.602824Z",
     "shell.execute_reply.started": "2023-04-12T16:50:15.351871Z"
    },
    "id": "lwmjjr7ZiSLC",
    "outputId": "699efd02-53b3-4702-a729-0eba49b14b7e"
   },
   "outputs": [
    {
     "name": "stdout",
     "output_type": "stream",
     "text": [
      "Collecting translate\n",
      "  Downloading translate-3.6.1-py2.py3-none-any.whl (12 kB)\n",
      "Requirement already satisfied: requests in /opt/conda/lib/python3.7/site-packages (from translate) (2.28.2)\n",
      "Collecting libretranslatepy==2.1.1\n",
      "  Downloading libretranslatepy-2.1.1-py3-none-any.whl (3.2 kB)\n",
      "Requirement already satisfied: lxml in /opt/conda/lib/python3.7/site-packages (from translate) (4.9.2)\n",
      "Requirement already satisfied: click in /opt/conda/lib/python3.7/site-packages (from translate) (8.1.3)\n",
      "Requirement already satisfied: importlib-metadata in /opt/conda/lib/python3.7/site-packages (from click->translate) (4.11.4)\n",
      "Requirement already satisfied: charset-normalizer<4,>=2 in /opt/conda/lib/python3.7/site-packages (from requests->translate) (2.1.1)\n",
      "Requirement already satisfied: certifi>=2017.4.17 in /opt/conda/lib/python3.7/site-packages (from requests->translate) (2022.12.7)\n",
      "Requirement already satisfied: idna<4,>=2.5 in /opt/conda/lib/python3.7/site-packages (from requests->translate) (3.4)\n",
      "Requirement already satisfied: urllib3<1.27,>=1.21.1 in /opt/conda/lib/python3.7/site-packages (from requests->translate) (1.26.14)\n",
      "Requirement already satisfied: typing-extensions>=3.6.4 in /opt/conda/lib/python3.7/site-packages (from importlib-metadata->click->translate) (4.4.0)\n",
      "Requirement already satisfied: zipp>=0.5 in /opt/conda/lib/python3.7/site-packages (from importlib-metadata->click->translate) (3.11.0)\n",
      "Installing collected packages: libretranslatepy, translate\n",
      "Successfully installed libretranslatepy-2.1.1 translate-3.6.1\n",
      "\u001b[33mWARNING: Running pip as the 'root' user can result in broken permissions and conflicting behaviour with the system package manager. It is recommended to use a virtual environment instead: https://pip.pypa.io/warnings/venv\u001b[0m\u001b[33m\n",
      "\u001b[0mNote: you may need to restart the kernel to use updated packages.\n"
     ]
    }
   ],
   "source": [
    "pip install translate"
   ]
  },
  {
   "cell_type": "code",
   "execution_count": null,
   "metadata": {
    "execution": {
     "iopub.execute_input": "2023-04-12T16:50:28.607479Z",
     "iopub.status.busy": "2023-04-12T16:50:28.607097Z",
     "iopub.status.idle": "2023-04-12T16:50:40.089695Z",
     "shell.execute_reply": "2023-04-12T16:50:40.088730Z",
     "shell.execute_reply.started": "2023-04-12T16:50:28.607441Z"
    },
    "id": "bCnYytoDiSLC",
    "outputId": "ce7f5806-563e-4eb0-f2d7-653137c072bd"
   },
   "outputs": [
    {
     "name": "stdout",
     "output_type": "stream",
     "text": [
      "Requirement already satisfied: scikit-plot in /opt/conda/lib/python3.7/site-packages (0.3.7)\n",
      "Requirement already satisfied: scikit-learn>=0.18 in /opt/conda/lib/python3.7/site-packages (from scikit-plot) (1.0.2)\n",
      "Requirement already satisfied: scipy>=0.9 in /opt/conda/lib/python3.7/site-packages (from scikit-plot) (1.7.3)\n",
      "Requirement already satisfied: joblib>=0.10 in /opt/conda/lib/python3.7/site-packages (from scikit-plot) (1.2.0)\n",
      "Requirement already satisfied: matplotlib>=1.4.0 in /opt/conda/lib/python3.7/site-packages (from scikit-plot) (3.5.3)\n",
      "Requirement already satisfied: fonttools>=4.22.0 in /opt/conda/lib/python3.7/site-packages (from matplotlib>=1.4.0->scikit-plot) (4.38.0)\n",
      "Requirement already satisfied: pillow>=6.2.0 in /opt/conda/lib/python3.7/site-packages (from matplotlib>=1.4.0->scikit-plot) (9.4.0)\n",
      "Requirement already satisfied: packaging>=20.0 in /opt/conda/lib/python3.7/site-packages (from matplotlib>=1.4.0->scikit-plot) (23.0)\n",
      "Requirement already satisfied: python-dateutil>=2.7 in /opt/conda/lib/python3.7/site-packages (from matplotlib>=1.4.0->scikit-plot) (2.8.2)\n",
      "Requirement already satisfied: kiwisolver>=1.0.1 in /opt/conda/lib/python3.7/site-packages (from matplotlib>=1.4.0->scikit-plot) (1.4.4)\n",
      "Requirement already satisfied: cycler>=0.10 in /opt/conda/lib/python3.7/site-packages (from matplotlib>=1.4.0->scikit-plot) (0.11.0)\n",
      "Requirement already satisfied: numpy>=1.17 in /opt/conda/lib/python3.7/site-packages (from matplotlib>=1.4.0->scikit-plot) (1.21.6)\n",
      "Requirement already satisfied: pyparsing>=2.2.1 in /opt/conda/lib/python3.7/site-packages (from matplotlib>=1.4.0->scikit-plot) (3.0.9)\n",
      "Requirement already satisfied: threadpoolctl>=2.0.0 in /opt/conda/lib/python3.7/site-packages (from scikit-learn>=0.18->scikit-plot) (3.1.0)\n",
      "Requirement already satisfied: typing-extensions in /opt/conda/lib/python3.7/site-packages (from kiwisolver>=1.0.1->matplotlib>=1.4.0->scikit-plot) (4.4.0)\n",
      "Requirement already satisfied: six>=1.5 in /opt/conda/lib/python3.7/site-packages (from python-dateutil>=2.7->matplotlib>=1.4.0->scikit-plot) (1.16.0)\n",
      "\u001b[33mWARNING: Running pip as the 'root' user can result in broken permissions and conflicting behaviour with the system package manager. It is recommended to use a virtual environment instead: https://pip.pypa.io/warnings/venv\u001b[0m\u001b[33m\n",
      "\u001b[0mNote: you may need to restart the kernel to use updated packages.\n"
     ]
    }
   ],
   "source": [
    "pip install scikit-plot"
   ]
  },
  {
   "cell_type": "code",
   "execution_count": null,
   "metadata": {
    "execution": {
     "iopub.execute_input": "2023-04-12T16:50:40.091382Z",
     "iopub.status.busy": "2023-04-12T16:50:40.091037Z",
     "iopub.status.idle": "2023-04-12T16:50:52.458083Z",
     "shell.execute_reply": "2023-04-12T16:50:52.456673Z",
     "shell.execute_reply.started": "2023-04-12T16:50:40.091345Z"
    },
    "id": "YxonkfuYiSLD",
    "outputId": "9445fcef-f008-4eba-c4c9-4610406d3794"
   },
   "outputs": [
    {
     "name": "stdout",
     "output_type": "stream",
     "text": [
      "Collecting contractions\n",
      "  Downloading contractions-0.1.73-py2.py3-none-any.whl (8.7 kB)\n",
      "Collecting textsearch>=0.0.21\n",
      "  Downloading textsearch-0.0.24-py2.py3-none-any.whl (7.6 kB)\n",
      "Collecting pyahocorasick\n",
      "  Downloading pyahocorasick-2.0.0-cp37-cp37m-manylinux_2_5_x86_64.manylinux1_x86_64.whl (101 kB)\n",
      "\u001b[2K     \u001b[90m━━━━━━━━━━━━━━━━━━━━━━━━━━━━━━━━━━━━━━━\u001b[0m \u001b[32m101.8/101.8 kB\u001b[0m \u001b[31m5.5 MB/s\u001b[0m eta \u001b[36m0:00:00\u001b[0m\n",
      "\u001b[?25hCollecting anyascii\n",
      "  Downloading anyascii-0.3.2-py3-none-any.whl (289 kB)\n",
      "\u001b[2K     \u001b[90m━━━━━━━━━━━━━━━━━━━━━━━━━━━━━━━━━━━━━━\u001b[0m \u001b[32m289.9/289.9 kB\u001b[0m \u001b[31m11.1 MB/s\u001b[0m eta \u001b[36m0:00:00\u001b[0m\n",
      "\u001b[?25hInstalling collected packages: pyahocorasick, anyascii, textsearch, contractions\n",
      "Successfully installed anyascii-0.3.2 contractions-0.1.73 pyahocorasick-2.0.0 textsearch-0.0.24\n",
      "\u001b[33mWARNING: Running pip as the 'root' user can result in broken permissions and conflicting behaviour with the system package manager. It is recommended to use a virtual environment instead: https://pip.pypa.io/warnings/venv\u001b[0m\u001b[33m\n",
      "\u001b[0m"
     ]
    }
   ],
   "source": [
    "!pip install contractions"
   ]
  },
  {
   "cell_type": "code",
   "execution_count": null,
   "metadata": {
    "execution": {
     "iopub.execute_input": "2023-04-12T16:50:52.460669Z",
     "iopub.status.busy": "2023-04-12T16:50:52.460245Z",
     "iopub.status.idle": "2023-04-12T16:51:07.412370Z",
     "shell.execute_reply": "2023-04-12T16:51:07.411304Z",
     "shell.execute_reply.started": "2023-04-12T16:50:52.460626Z"
    },
    "id": "42vNoSp8iSLD",
    "outputId": "53051d1d-c69a-4045-9a4c-c32858808bdb"
   },
   "outputs": [
    {
     "name": "stdout",
     "output_type": "stream",
     "text": [
      "Collecting googletrans==3.1.0a0\n",
      "  Downloading googletrans-3.1.0a0.tar.gz (19 kB)\n",
      "  Preparing metadata (setup.py) ... \u001b[?25ldone\n",
      "\u001b[?25hCollecting httpx==0.13.3\n",
      "  Downloading httpx-0.13.3-py3-none-any.whl (55 kB)\n",
      "\u001b[2K     \u001b[90m━━━━━━━━━━━━━━━━━━━━━━━━━━━━━━━━━━━━━━━━\u001b[0m \u001b[32m55.1/55.1 kB\u001b[0m \u001b[31m4.5 MB/s\u001b[0m eta \u001b[36m0:00:00\u001b[0m\n",
      "\u001b[?25hCollecting httpcore==0.9.*\n",
      "  Downloading httpcore-0.9.1-py3-none-any.whl (42 kB)\n",
      "\u001b[2K     \u001b[90m━━━━━━━━━━━━━━━━━━━━━━━━━━━━━━━━━━━━━━━━\u001b[0m \u001b[32m42.6/42.6 kB\u001b[0m \u001b[31m3.9 MB/s\u001b[0m eta \u001b[36m0:00:00\u001b[0m\n",
      "\u001b[?25hCollecting idna==2.*\n",
      "  Downloading idna-2.10-py2.py3-none-any.whl (58 kB)\n",
      "\u001b[2K     \u001b[90m━━━━━━━━━━━━━━━━━━━━━━━━━━━━━━━━━━━━━━━━\u001b[0m \u001b[32m58.8/58.8 kB\u001b[0m \u001b[31m5.9 MB/s\u001b[0m eta \u001b[36m0:00:00\u001b[0m\n",
      "\u001b[?25hCollecting chardet==3.*\n",
      "  Downloading chardet-3.0.4-py2.py3-none-any.whl (133 kB)\n",
      "\u001b[2K     \u001b[90m━━━━━━━━━━━━━━━━━━━━━━━━━━━━━━━━━━━━━━\u001b[0m \u001b[32m133.4/133.4 kB\u001b[0m \u001b[31m10.9 MB/s\u001b[0m eta \u001b[36m0:00:00\u001b[0m\n",
      "\u001b[?25hCollecting rfc3986<2,>=1.3\n",
      "  Downloading rfc3986-1.5.0-py2.py3-none-any.whl (31 kB)\n",
      "Requirement already satisfied: certifi in /opt/conda/lib/python3.7/site-packages (from httpx==0.13.3->googletrans==3.1.0a0) (2022.12.7)\n",
      "Collecting hstspreload\n",
      "  Downloading hstspreload-2023.1.1-py3-none-any.whl (1.5 MB)\n",
      "\u001b[2K     \u001b[90m━━━━━━━━━━━━━━━━━━━━━━━━━━━━━━━━━━━━━━━━\u001b[0m \u001b[32m1.5/1.5 MB\u001b[0m \u001b[31m55.0 MB/s\u001b[0m eta \u001b[36m0:00:00\u001b[0m\n",
      "\u001b[?25hRequirement already satisfied: sniffio in /opt/conda/lib/python3.7/site-packages (from httpx==0.13.3->googletrans==3.1.0a0) (1.3.0)\n",
      "Collecting h2==3.*\n",
      "  Downloading h2-3.2.0-py2.py3-none-any.whl (65 kB)\n",
      "\u001b[2K     \u001b[90m━━━━━━━━━━━━━━━━━━━━━━━━━━━━━━━━━━━━━━━━\u001b[0m \u001b[32m65.0/65.0 kB\u001b[0m \u001b[31m5.6 MB/s\u001b[0m eta \u001b[36m0:00:00\u001b[0m\n",
      "\u001b[?25hCollecting h11<0.10,>=0.8\n",
      "  Downloading h11-0.9.0-py2.py3-none-any.whl (53 kB)\n",
      "\u001b[2K     \u001b[90m━━━━━━━━━━━━━━━━━━━━━━━━━━━━━━━━━━━━━━━━\u001b[0m \u001b[32m53.6/53.6 kB\u001b[0m \u001b[31m5.7 MB/s\u001b[0m eta \u001b[36m0:00:00\u001b[0m\n",
      "\u001b[?25hCollecting hpack<4,>=3.0\n",
      "  Downloading hpack-3.0.0-py2.py3-none-any.whl (38 kB)\n",
      "Collecting hyperframe<6,>=5.2.0\n",
      "  Downloading hyperframe-5.2.0-py2.py3-none-any.whl (12 kB)\n",
      "Building wheels for collected packages: googletrans\n",
      "  Building wheel for googletrans (setup.py) ... \u001b[?25ldone\n",
      "\u001b[?25h  Created wheel for googletrans: filename=googletrans-3.1.0a0-py3-none-any.whl size=16368 sha256=b56090e6aa5ed1fc9a988eed0b1da07de29196ce1787f8b6784aaa8772c0b4a1\n",
      "  Stored in directory: /root/.cache/pip/wheels/61/f7/ef/4d5c03c448eb8583bc063caca7e8802d8801af40c65e9b8022\n",
      "Successfully built googletrans\n",
      "Installing collected packages: rfc3986, hyperframe, hpack, h11, chardet, idna, hstspreload, h2, httpcore, httpx, googletrans\n",
      "  Attempting uninstall: h11\n",
      "    Found existing installation: h11 0.14.0\n",
      "    Uninstalling h11-0.14.0:\n",
      "      Successfully uninstalled h11-0.14.0\n",
      "  Attempting uninstall: idna\n",
      "    Found existing installation: idna 3.4\n",
      "    Uninstalling idna-3.4:\n",
      "      Successfully uninstalled idna-3.4\n",
      "\u001b[31mERROR: pip's dependency resolver does not currently take into account all the packages that are installed. This behaviour is the source of the following dependency conflicts.\n",
      "librosa 0.10.0.post2 requires soundfile>=0.12.1, but you have soundfile 0.11.0 which is incompatible.\n",
      "apache-beam 2.44.0 requires dill<0.3.2,>=0.3.1.1, but you have dill 0.3.6 which is incompatible.\u001b[0m\u001b[31m\n",
      "\u001b[0mSuccessfully installed chardet-3.0.4 googletrans-3.1.0a0 h11-0.9.0 h2-3.2.0 hpack-3.0.0 hstspreload-2023.1.1 httpcore-0.9.1 httpx-0.13.3 hyperframe-5.2.0 idna-2.10 rfc3986-1.5.0\n",
      "\u001b[33mWARNING: Running pip as the 'root' user can result in broken permissions and conflicting behaviour with the system package manager. It is recommended to use a virtual environment instead: https://pip.pypa.io/warnings/venv\u001b[0m\u001b[33m\n",
      "\u001b[0m"
     ]
    }
   ],
   "source": [
    "# install transtaltion libarary\n",
    "!pip install googletrans==3.1.0a0"
   ]
  },
  {
   "cell_type": "code",
   "execution_count": null,
   "metadata": {
    "execution": {
     "iopub.execute_input": "2023-04-12T16:51:07.415138Z",
     "iopub.status.busy": "2023-04-12T16:51:07.414665Z",
     "iopub.status.idle": "2023-04-12T16:51:07.434365Z",
     "shell.execute_reply": "2023-04-12T16:51:07.433417Z",
     "shell.execute_reply.started": "2023-04-12T16:51:07.415094Z"
    },
    "id": "gMwrEzOBiSLD"
   },
   "outputs": [],
   "source": [
    "import contractions"
   ]
  },
  {
   "cell_type": "code",
   "execution_count": null,
   "metadata": {
    "execution": {
     "iopub.execute_input": "2023-04-12T16:51:07.436439Z",
     "iopub.status.busy": "2023-04-12T16:51:07.435954Z",
     "iopub.status.idle": "2023-04-12T16:51:07.808544Z",
     "shell.execute_reply": "2023-04-12T16:51:07.807298Z",
     "shell.execute_reply.started": "2023-04-12T16:51:07.436401Z"
    },
    "id": "vUHMshQwiSLE"
   },
   "outputs": [],
   "source": [
    "import re\n",
    "from nltk.stem.wordnet import WordNetLemmatizer\n",
    "\n",
    "#library that contains punctuation\n",
    "import string\n",
    "# string.punctuation\n",
    "import nltk\n",
    "from nltk.classify.scikitlearn import SklearnClassifier\n",
    "from sklearn.svm import SVC\n",
    "from translate import Translator\n",
    "from sklearn.pipeline import Pipeline\n",
    "from sklearn.model_selection import GridSearchCV\n",
    "# Let's try this with SVM model\n",
    "from skopt import BayesSearchCV\n",
    "from skopt.space import Real, Categorical, Integer\n",
    "from sklearn.model_selection import train_test_split, GridSearchCV\n",
    "from sklearn.model_selection import PredefinedSplit"
   ]
  },
  {
   "cell_type": "code",
   "execution_count": null,
   "metadata": {
    "execution": {
     "iopub.execute_input": "2023-04-12T16:51:07.810541Z",
     "iopub.status.busy": "2023-04-12T16:51:07.810177Z",
     "iopub.status.idle": "2023-04-12T16:51:07.989452Z",
     "shell.execute_reply": "2023-04-12T16:51:07.988354Z",
     "shell.execute_reply.started": "2023-04-12T16:51:07.810506Z"
    },
    "id": "3yp1zBxwiSLE"
   },
   "outputs": [],
   "source": [
    "import os\n",
    "\n",
    "import pandas as pd\n",
    "from tqdm.notebook import tqdm\n",
    "from PIL import Image\n",
    "import pandas as pd\n",
    "import os\n",
    "import numpy as np\n",
    "from ast import literal_eval\n",
    "from sklearn.model_selection import train_test_split\n",
    "import os\n",
    "import matplotlib.pyplot as plt\n",
    "from googletrans import Translator\n"
   ]
  },
  {
   "cell_type": "code",
   "execution_count": null,
   "metadata": {
    "execution": {
     "iopub.execute_input": "2023-04-12T16:51:07.993356Z",
     "iopub.status.busy": "2023-04-12T16:51:07.993009Z",
     "iopub.status.idle": "2023-04-12T16:51:16.671205Z",
     "shell.execute_reply": "2023-04-12T16:51:16.670089Z",
     "shell.execute_reply.started": "2023-04-12T16:51:07.993322Z"
    },
    "id": "t2yk0YtMiSLE"
   },
   "outputs": [],
   "source": [
    "\n",
    "from tensorflow.keras.preprocessing.text import Tokenizer\n",
    "from tensorflow.keras.preprocessing.sequence import pad_sequences\n",
    "from sklearn.model_selection import train_test_split\n",
    "from pprint import pprint\n"
   ]
  },
  {
   "cell_type": "code",
   "execution_count": null,
   "metadata": {
    "execution": {
     "iopub.execute_input": "2023-04-12T16:51:16.673454Z",
     "iopub.status.busy": "2023-04-12T16:51:16.672683Z",
     "iopub.status.idle": "2023-04-12T16:51:16.894990Z",
     "shell.execute_reply": "2023-04-12T16:51:16.893823Z",
     "shell.execute_reply.started": "2023-04-12T16:51:16.673397Z"
    },
    "id": "_uQR5deLiSLE"
   },
   "outputs": [],
   "source": [
    "from __future__ import absolute_import, division, print_function, unicode_literals\n",
    "import collections\n",
    "import matplotlib.pyplot as plt\n",
    "import numpy as np\n",
    "import tensorflow as tf\n",
    "from tensorflow import keras\n",
    "from tensorflow.keras.layers import Conv2D, Flatten, Dense, MaxPool2D\n",
    "from tensorflow.keras.optimizers import Adam\n",
    "from collections import Counter\n",
    "\n",
    "import seaborn as sns"
   ]
  },
  {
   "cell_type": "code",
   "execution_count": null,
   "metadata": {
    "execution": {
     "iopub.execute_input": "2023-04-12T16:51:16.896961Z",
     "iopub.status.busy": "2023-04-12T16:51:16.896529Z",
     "iopub.status.idle": "2023-04-12T16:51:16.903067Z",
     "shell.execute_reply": "2023-04-12T16:51:16.901931Z",
     "shell.execute_reply.started": "2023-04-12T16:51:16.896926Z"
    },
    "id": "FFsRiVbKiSLE",
    "outputId": "faf4c25c-c7c4-49b6-b3f5-e321078f4a7e"
   },
   "outputs": [
    {
     "name": "stderr",
     "output_type": "stream",
     "text": [
      "/opt/conda/lib/python3.7/site-packages/ipykernel_launcher.py:2: FutureWarning: Passing a negative integer is deprecated in version 1.0 and will not be supported in future version. Instead, use None to not limit the column width.\n",
      "  \n"
     ]
    }
   ],
   "source": [
    "#expanding the dispay of text sms column\n",
    "pd.set_option('display.max_colwidth', -1)"
   ]
  },
  {
   "cell_type": "code",
   "execution_count": null,
   "metadata": {
    "execution": {
     "iopub.execute_input": "2023-04-12T16:51:16.905689Z",
     "iopub.status.busy": "2023-04-12T16:51:16.904958Z",
     "iopub.status.idle": "2023-04-12T16:51:17.177023Z",
     "shell.execute_reply": "2023-04-12T16:51:17.176165Z",
     "shell.execute_reply.started": "2023-04-12T16:51:16.905650Z"
    },
    "id": "74YfQxhYiSLF",
    "outputId": "ef91e5bb-7a7d-4a66-f8d3-db701f9819b2"
   },
   "outputs": [
    {
     "data": {
      "text/html": [
       "<div>\n",
       "<style scoped>\n",
       "    .dataframe tbody tr th:only-of-type {\n",
       "        vertical-align: middle;\n",
       "    }\n",
       "\n",
       "    .dataframe tbody tr th {\n",
       "        vertical-align: top;\n",
       "    }\n",
       "\n",
       "    .dataframe thead th {\n",
       "        text-align: right;\n",
       "    }\n",
       "</style>\n",
       "<table border=\"1\" class=\"dataframe\">\n",
       "  <thead>\n",
       "    <tr style=\"text-align: right;\">\n",
       "      <th></th>\n",
       "      <th>summary</th>\n",
       "      <th>image</th>\n",
       "      <th>type</th>\n",
       "      <th>price</th>\n",
       "    </tr>\n",
       "  </thead>\n",
       "  <tbody>\n",
       "    <tr>\n",
       "      <th>0</th>\n",
       "      <td>Spacious, sunny and cozy modern apartment in the heart of Montreal. This 3 bedroom centrally located in the very popular Plateau Mont-royal neighborhood in the middle of prince-arthur pedestrian-only street. Close to all amenities ( Restaurants, coffee house, bars, clubs, shopping, universities, subway stations). Experience Montreal like a real local resident, be in the heart of the action: grand prix week, grill Saint-Laurent festival, mural 2019 and so much more!</td>\n",
       "      <td>img_train/0.jpg</td>\n",
       "      <td>Apartment</td>\n",
       "      <td>1</td>\n",
       "    </tr>\n",
       "    <tr>\n",
       "      <th>1</th>\n",
       "      <td>Located in one of the most vibrant and accessible locations of downtown Montreal, this one bedroom condo will not only impress you but leave you with one of the most memorable experiences. It is walking distance of the popular Sainte-Catherine Street, the Bell Center, the Old Port, Lachine Canal, Bonaventure metro, and much much more...</td>\n",
       "      <td>img_train/1.jpg</td>\n",
       "      <td>Apartment</td>\n",
       "      <td>0</td>\n",
       "    </tr>\n",
       "    <tr>\n",
       "      <th>2</th>\n",
       "      <td>Logement coquet et douillet à 10 minutes du centre-ville de Montréal. Épicerie, pharmacie, saq, restaurants et transports en communs à proximité. Deux chambres fermées pouvant accueillir 4 adultes!</td>\n",
       "      <td>img_train/2.jpg</td>\n",
       "      <td>Apartment</td>\n",
       "      <td>1</td>\n",
       "    </tr>\n",
       "    <tr>\n",
       "      <th>3</th>\n",
       "      <td>Beautiful and spacious (1076 sc ft, / 100 mc) condo (on the 1th floor) in the West-Island of Montreal.  Located in a quiet residential area, near a number of superb green spaces . 3 min. car from highways 13 &amp; 40, 7 min. from Le Marché de l'Ouest, 15 min. from the Airport, 6 min. walk from Sunnybrooke train station that goes downtown MTL. in 20 min. and is close to the beautiful nature park Bois de Liesse ; walk and bike paths in summer and snowshoe and cross-country skiing paths in winter.</td>\n",
       "      <td>img_train/3.jpg</td>\n",
       "      <td>Apartment</td>\n",
       "      <td>1</td>\n",
       "    </tr>\n",
       "    <tr>\n",
       "      <th>4</th>\n",
       "      <td>Très grand appartement ''rustique'' et très agréable a vivre à louer dans un quartier sympa de Montréal. Une grande chambre au sous-sol et au Rez de chaussée il y a une chambre, une grande cuisine salle à manger et un grand salon double La cuisine offre de nombreuses machines comme un mixeur, un robot ménager, une cafetière, une machine a panini, une machine a gaufre, ... Très proche du du bord du fleuve et du centre-ville de Verdun et de Montréal à pied, en métro, vélo ou autobus.</td>\n",
       "      <td>img_train/4.jpg</td>\n",
       "      <td>Apartment</td>\n",
       "      <td>0</td>\n",
       "    </tr>\n",
       "  </tbody>\n",
       "</table>\n",
       "</div>"
      ],
      "text/plain": [
       "                                                                                                                                                                                                                                                                                                                                                                                                                                                                                                           summary  \\\n",
       "0  Spacious, sunny and cozy modern apartment in the heart of Montreal. This 3 bedroom centrally located in the very popular Plateau Mont-royal neighborhood in the middle of prince-arthur pedestrian-only street. Close to all amenities ( Restaurants, coffee house, bars, clubs, shopping, universities, subway stations). Experience Montreal like a real local resident, be in the heart of the action: grand prix week, grill Saint-Laurent festival, mural 2019 and so much more!                             \n",
       "1  Located in one of the most vibrant and accessible locations of downtown Montreal, this one bedroom condo will not only impress you but leave you with one of the most memorable experiences. It is walking distance of the popular Sainte-Catherine Street, the Bell Center, the Old Port, Lachine Canal, Bonaventure metro, and much much more...                                                                                                                                                                \n",
       "2  Logement coquet et douillet à 10 minutes du centre-ville de Montréal. Épicerie, pharmacie, saq, restaurants et transports en communs à proximité. Deux chambres fermées pouvant accueillir 4 adultes!                                                                                                                                                                                                                                                                                                             \n",
       "3  Beautiful and spacious (1076 sc ft, / 100 mc) condo (on the 1th floor) in the West-Island of Montreal.  Located in a quiet residential area, near a number of superb green spaces . 3 min. car from highways 13 & 40, 7 min. from Le Marché de l'Ouest, 15 min. from the Airport, 6 min. walk from Sunnybrooke train station that goes downtown MTL. in 20 min. and is close to the beautiful nature park Bois de Liesse ; walk and bike paths in summer and snowshoe and cross-country skiing paths in winter.   \n",
       "4  Très grand appartement ''rustique'' et très agréable a vivre à louer dans un quartier sympa de Montréal. Une grande chambre au sous-sol et au Rez de chaussée il y a une chambre, une grande cuisine salle à manger et un grand salon double La cuisine offre de nombreuses machines comme un mixeur, un robot ménager, une cafetière, une machine a panini, une machine a gaufre, ... Très proche du du bord du fleuve et du centre-ville de Verdun et de Montréal à pied, en métro, vélo ou autobus.            \n",
       "\n",
       "             image       type  price  \n",
       "0  img_train/0.jpg  Apartment  1      \n",
       "1  img_train/1.jpg  Apartment  0      \n",
       "2  img_train/2.jpg  Apartment  1      \n",
       "3  img_train/3.jpg  Apartment  1      \n",
       "4  img_train/4.jpg  Apartment  0      "
      ]
     },
     "execution_count": 13,
     "metadata": {},
     "output_type": "execute_result"
    }
   ],
   "source": [
    "\n",
    "\n",
    "# after unzipping the datset\n",
    "# we find that (through the file browser on the left) there is a csv file and a \n",
    "# folder of images\n",
    "df = pd.read_csv('/kaggle/input/copy-of-cisc-873-dm-w23-a4/a4/train_xy.csv')\n",
    "df_test = pd.read_csv('/kaggle/input/copy-of-cisc-873-dm-w23-a4/a4/test_x.csv')\n",
    "\n",
    "df.head()"
   ]
  },
  {
   "cell_type": "markdown",
   "metadata": {
    "id": "2RBI8OiiiSLF"
   },
   "source": [
    "# 2. Exploar Data"
   ]
  },
  {
   "cell_type": "code",
   "execution_count": null,
   "metadata": {
    "execution": {
     "iopub.execute_input": "2023-04-11T00:51:16.034607Z",
     "iopub.status.busy": "2023-04-11T00:51:16.033772Z",
     "iopub.status.idle": "2023-04-11T00:51:16.051169Z",
     "shell.execute_reply": "2023-04-11T00:51:16.049967Z",
     "shell.execute_reply.started": "2023-04-11T00:51:16.034560Z"
    },
    "id": "-o5z6f1liSLF",
    "outputId": "61b30f84-cf56-4977-a639-92ce788daf53"
   },
   "outputs": [
    {
     "name": "stdout",
     "output_type": "stream",
     "text": [
      "<class 'pandas.core.frame.DataFrame'>\n",
      "RangeIndex: 7627 entries, 0 to 7626\n",
      "Data columns (total 4 columns):\n",
      " #   Column   Non-Null Count  Dtype \n",
      "---  ------   --------------  ----- \n",
      " 0   summary  7326 non-null   object\n",
      " 1   image    7627 non-null   object\n",
      " 2   type     7627 non-null   object\n",
      " 3   price    7627 non-null   int64 \n",
      "dtypes: int64(1), object(3)\n",
      "memory usage: 238.5+ KB\n"
     ]
    }
   ],
   "source": [
    "df.info()"
   ]
  },
  {
   "cell_type": "markdown",
   "metadata": {
    "id": "jmBxOGUuiSLF"
   },
   "source": [
    "We have some null values in \"Summary\" columns "
   ]
  },
  {
   "cell_type": "markdown",
   "metadata": {
    "id": "50WdCNDsiSLF"
   },
   "source": [
    "**To view the summary statistics of the price variable**"
   ]
  },
  {
   "cell_type": "code",
   "execution_count": null,
   "metadata": {
    "execution": {
     "iopub.execute_input": "2023-04-12T04:21:10.280228Z",
     "iopub.status.busy": "2023-04-12T04:21:10.279552Z",
     "iopub.status.idle": "2023-04-12T04:21:10.295162Z",
     "shell.execute_reply": "2023-04-12T04:21:10.293388Z",
     "shell.execute_reply.started": "2023-04-12T04:21:10.280183Z"
    },
    "id": "cKKv8JGSiSLF",
    "outputId": "866ae6eb-a158-4317-a8a5-794ebd48942c"
   },
   "outputs": [
    {
     "name": "stdout",
     "output_type": "stream",
     "text": [
      "count    7627.000000\n",
      "mean     0.442769   \n",
      "std      0.611946   \n",
      "min      0.000000   \n",
      "25%      0.000000   \n",
      "50%      0.000000   \n",
      "75%      1.000000   \n",
      "max      2.000000   \n",
      "Name: price, dtype: float64\n"
     ]
    }
   ],
   "source": [
    "\n",
    "# View summary statistics of the price variable\n",
    "print(df['price'].describe())"
   ]
  },
  {
   "cell_type": "markdown",
   "metadata": {
    "id": "S33OwFNNiSLG"
   },
   "source": [
    "**To view the value counts of the type variable**"
   ]
  },
  {
   "cell_type": "code",
   "execution_count": null,
   "metadata": {
    "execution": {
     "iopub.execute_input": "2023-04-12T04:18:53.514324Z",
     "iopub.status.busy": "2023-04-12T04:18:53.513859Z",
     "iopub.status.idle": "2023-04-12T04:18:53.526134Z",
     "shell.execute_reply": "2023-04-12T04:18:53.524466Z",
     "shell.execute_reply.started": "2023-04-12T04:18:53.514284Z"
    },
    "id": "rk0y9ScGiSLG",
    "outputId": "2877f753-8305-4976-cb90-e481529276f8"
   },
   "outputs": [
    {
     "name": "stdout",
     "output_type": "stream",
     "text": [
      "Apartment                 5765\n",
      "Condominium               691 \n",
      "House                     406 \n",
      "Loft                      324 \n",
      "Townhouse                 167 \n",
      "Serviced apartment        77  \n",
      "Bed and breakfast         38  \n",
      "Guest suite               32  \n",
      "Hostel                    26  \n",
      "Bungalow                  25  \n",
      "Guesthouse                14  \n",
      "Cottage                   12  \n",
      "Aparthotel                12  \n",
      "Boutique hotel            10  \n",
      "Other                     8   \n",
      "Villa                     7   \n",
      "Tiny house                3   \n",
      "Boat                      2   \n",
      "Cabin                     2   \n",
      "Camper/RV                 2   \n",
      "Casa particular (Cuba)    1   \n",
      "Hotel                     1   \n",
      "Earth house               1   \n",
      "Castle                    1   \n",
      "Name: type, dtype: int64\n"
     ]
    }
   ],
   "source": [
    "# View the value counts of the type variable\n",
    "print(df['type'].value_counts())"
   ]
  },
  {
   "cell_type": "code",
   "execution_count": null,
   "metadata": {
    "execution": {
     "iopub.execute_input": "2023-04-12T04:17:51.189702Z",
     "iopub.status.busy": "2023-04-12T04:17:51.189232Z",
     "iopub.status.idle": "2023-04-12T04:17:51.531663Z",
     "shell.execute_reply": "2023-04-12T04:17:51.530140Z",
     "shell.execute_reply.started": "2023-04-12T04:17:51.189663Z"
    },
    "id": "RseJ5IC9iSLG",
    "outputId": "d2375691-ac9a-4a58-cc8c-e9096aff8602"
   },
   "outputs": [
    {
     "data": {
      "image/png": "[encoded data removed]",
      "text/plain": [
       "<Figure size 1500x300 with 1 Axes>"
      ]
     },
     "metadata": {},
     "output_type": "display_data"
    }
   ],
   "source": [
    "# Create a scatterplot of price vs. type\n",
    "yticks = [0, 1, 2]\n",
    "\n",
    "fig, ax = plt.subplots(figsize=(15,3)) \n",
    "\n",
    "sns.scatterplot(x='type', y='price', data=df)\n",
    "plt.xticks(rotation=45)\n",
    "plt.yticks(yticks)\n",
    "plt.show()"
   ]
  },
  {
   "cell_type": "markdown",
   "metadata": {
    "id": "Xk7sZ_TCiSLG"
   },
   "source": [
    "## Check Duplication"
   ]
  },
  {
   "cell_type": "code",
   "execution_count": null,
   "metadata": {
    "execution": {
     "iopub.execute_input": "2023-04-11T00:51:16.052927Z",
     "iopub.status.busy": "2023-04-11T00:51:16.052520Z",
     "iopub.status.idle": "2023-04-11T00:51:16.069393Z",
     "shell.execute_reply": "2023-04-11T00:51:16.067954Z",
     "shell.execute_reply.started": "2023-04-11T00:51:16.052891Z"
    },
    "id": "EfQs3lJ3iSLG",
    "outputId": "67cbaae8-0479-4c42-fcef-6038f799e4e9"
   },
   "outputs": [
    {
     "name": "stdout",
     "output_type": "stream",
     "text": [
      "Duplicated data: 0\n"
     ]
    }
   ],
   "source": [
    "print(\"Duplicated data:\", df.duplicated().sum())"
   ]
  },
  {
   "cell_type": "markdown",
   "metadata": {
    "id": "9asJUza4iSLH"
   },
   "source": [
    "There are no duplication values in the dataset "
   ]
  },
  {
   "cell_type": "markdown",
   "metadata": {
    "id": "tDVOsSYhiSLH"
   },
   "source": [
    "## Check if data imbalanced "
   ]
  },
  {
   "cell_type": "code",
   "execution_count": null,
   "metadata": {
    "execution": {
     "iopub.execute_input": "2023-04-12T04:28:04.189243Z",
     "iopub.status.busy": "2023-04-12T04:28:04.188678Z",
     "iopub.status.idle": "2023-04-12T04:28:04.338851Z",
     "shell.execute_reply": "2023-04-12T04:28:04.337022Z",
     "shell.execute_reply.started": "2023-04-12T04:28:04.189200Z"
    },
    "id": "81jWMi_liSLH",
    "outputId": "d419e533-780b-4e50-839c-b1dad2bc5973"
   },
   "outputs": [
    {
     "data": {
      "image/png": "[encoded data removed]",
      "text/plain": [
       "<Figure size 640x480 with 1 Axes>"
      ]
     },
     "metadata": {},
     "output_type": "display_data"
    }
   ],
   "source": [
    "# summarize class distribution\n",
    "myexplode = [0.2, 0 ,0]\n",
    "colors = ['lightblue', 'salmon', 'lightgreen']\n",
    "counter = Counter(df['price'])\n",
    "Labels = ['plus','Beginner','premium']\n",
    "plt.pie(counter.values(),labels = Labels , explode = myexplode, shadow = True,colors=colors)\n",
    "plt.show()"
   ]
  },
  {
   "cell_type": "markdown",
   "metadata": {
    "id": "AS80zvd2iSLH"
   },
   "source": [
    "Based on the graph, it appears that the data is imbalanced"
   ]
  },
  {
   "cell_type": "markdown",
   "metadata": {
    "id": "jB5YH5deiSLH"
   },
   "source": [
    "## Data Preprocessing\n",
    "\n",
    "We have image and text data. \n",
    "\n",
    "- Image data: resize\n",
    "- Text data: tokenization and converting to integer IDs"
   ]
  },
  {
   "cell_type": "code",
   "execution_count": null,
   "metadata": {
    "execution": {
     "iopub.execute_input": "2023-04-12T16:51:17.178780Z",
     "iopub.status.busy": "2023-04-12T16:51:17.178242Z",
     "iopub.status.idle": "2023-04-12T16:51:17.198034Z",
     "shell.execute_reply": "2023-04-12T16:51:17.196761Z",
     "shell.execute_reply.started": "2023-04-12T16:51:17.178747Z"
    },
    "id": "bEvm7hZHiSLH"
   },
   "outputs": [],
   "source": [
    "\n",
    "# labels:\n",
    "df['type'] = df.type.astype('category').cat.codes\n",
    "df['price'] = df.price.astype('category').cat.codes\n",
    "len_type = len(df.type.unique())\n",
    "len_price = len(df.price.unique())\n",
    "\n",
    "\n",
    "# get the total number of unique outputs (later used for prediction)\n",
    "\n",
    "# split data (training/testing set)\n",
    "# df_train, df_test = train_test_split(df, test_size=0.2, random_state=10)\n",
    "\n",
    "# df_test"
   ]
  },
  {
   "cell_type": "markdown",
   "metadata": {
    "id": "a7g7aFNBiSLI"
   },
   "source": [
    "## Drop Nulls"
   ]
  },
  {
   "cell_type": "markdown",
   "metadata": {
    "id": "JwEEROEpiSLI"
   },
   "source": [
    "Now we need Null values before create our models"
   ]
  },
  {
   "cell_type": "code",
   "execution_count": null,
   "metadata": {
    "execution": {
     "iopub.execute_input": "2023-04-12T16:51:17.200377Z",
     "iopub.status.busy": "2023-04-12T16:51:17.199666Z",
     "iopub.status.idle": "2023-04-12T16:51:17.216382Z",
     "shell.execute_reply": "2023-04-12T16:51:17.214963Z",
     "shell.execute_reply.started": "2023-04-12T16:51:17.200329Z"
    },
    "id": "_kV7aJNHiSLI",
    "outputId": "27eacaa0-abc7-4726-ec04-83204b41aede"
   },
   "outputs": [
    {
     "data": {
      "text/plain": [
       "0"
      ]
     },
     "execution_count": 15,
     "metadata": {},
     "output_type": "execute_result"
    }
   ],
   "source": [
    "\n",
    "# Drop rows that contain null values in summary \n",
    "df = df[df[\"summary\"].notna()]\n",
    "\n",
    "# make sure that there is no other missing data\n",
    "df.isna().sum().sum()"
   ]
  },
  {
   "cell_type": "markdown",
   "metadata": {
    "id": "1x0EE_q5jbcA"
   },
   "source": [
    "# pre-processing "
   ]
  },
  {
   "cell_type": "markdown",
   "metadata": {
    "id": "ndDAtmqJiSLI"
   },
   "source": [
    "### pre-process image data"
   ]
  },
  {
   "cell_type": "markdown",
   "metadata": {
    "id": "uJaG3ocqiSLI"
   },
   "source": [
    "For image data we resize it to (64,64) and convert it to LA mode"
   ]
  },
  {
   "cell_type": "code",
   "execution_count": null,
   "metadata": {
    "colab": {
     "referenced_widgets": [
      "4043b9b82a0f41108c5a40d6461b6e12"
     ]
    },
    "execution": {
     "iopub.execute_input": "2023-04-12T16:51:17.218101Z",
     "iopub.status.busy": "2023-04-12T16:51:17.217774Z",
     "iopub.status.idle": "2023-04-12T16:53:26.390437Z",
     "shell.execute_reply": "2023-04-12T16:53:26.389268Z",
     "shell.execute_reply.started": "2023-04-12T16:51:17.218070Z"
    },
    "id": "H5LWexiJiSLI",
    "outputId": "7ece465a-284e-4743-edfb-e5a35786c062"
   },
   "outputs": [
    {
     "data": {
      "application/vnd.jupyter.widget-view+json": {
       "model_id": "4043b9b82a0f41108c5a40d6461b6e12",
       "version_major": 2,
       "version_minor": 0
      },
      "text/plain": [
       "  0%|          | 0/7326 [00:00<?, ?it/s]"
      ]
     },
     "metadata": {},
     "output_type": "display_data"
    }
   ],
   "source": [
    "# preprocess image data\n",
    "\n",
    "base_dir = '/kaggle/input/copy-of-cisc-873-dm-w23-a4/a4'\n",
    "def load_image(file):\n",
    "    try:\n",
    "        image = Image.open(\n",
    "           os.path.join(base_dir, file) \n",
    "        ).convert('LA').resize((64, 64))\n",
    "        arr = np.array(image)\n",
    "    except:\n",
    "        arr = np.zeros((64, 64, 2))\n",
    "    return arr\n",
    "\n",
    "\n",
    "# loading images:\n",
    "# The tqdm function is being used to display a progress bar while iterating over the image file paths.\n",
    "x_train_image = np.array([load_image(i) for i in tqdm(df.image)])\n",
    "\n"
   ]
  },
  {
   "cell_type": "code",
   "execution_count": null,
   "metadata": {
    "execution": {
     "iopub.execute_input": "2023-04-12T15:58:46.319860Z",
     "iopub.status.busy": "2023-04-12T15:58:46.319422Z",
     "iopub.status.idle": "2023-04-12T15:58:46.571145Z",
     "shell.execute_reply": "2023-04-12T15:58:46.569560Z",
     "shell.execute_reply.started": "2023-04-12T15:58:46.319815Z"
    },
    "id": "7TpiZURXiSLI",
    "outputId": "16240d03-ca00-4cdb-f807-ee1578eccbb3"
   },
   "outputs": [
    {
     "data": {
      "text/plain": [
       "<matplotlib.image.AxesImage at 0x77bcbcac3d10>"
      ]
     },
     "execution_count": 15,
     "metadata": {},
     "output_type": "execute_result"
    },
    {
     "data": {
      "image/png": "[encoded data removed]",
      "text/plain": [
       "<Figure size 640x480 with 1 Axes>"
      ]
     },
     "metadata": {},
     "output_type": "display_data"
    }
   ],
   "source": [
    "# check image loading\n",
    "plt.imshow(x_train_image[0, :, :, 0])\n"
   ]
  },
  {
   "cell_type": "markdown",
   "metadata": {
    "id": "NorYpjmRiSLJ"
   },
   "source": [
    "### Pre-process text data"
   ]
  },
  {
   "cell_type": "markdown",
   "metadata": {
    "id": "a87wHYc8iSLJ"
   },
   "source": [
    "For Text we translate the text first then use tokenization and converting to integer IDs"
   ]
  },
  {
   "cell_type": "code",
   "execution_count": null,
   "metadata": {
    "execution": {
     "iopub.execute_input": "2023-04-12T16:53:26.392607Z",
     "iopub.status.busy": "2023-04-12T16:53:26.392108Z",
     "iopub.status.idle": "2023-04-12T16:57:25.443617Z",
     "shell.execute_reply": "2023-04-12T16:57:25.442336Z",
     "shell.execute_reply.started": "2023-04-12T16:53:26.392545Z"
    },
    "id": "AZAh7aWBiSLJ",
    "outputId": "66e0eef3-608e-4aa2-f87f-8da71223275f"
   },
   "outputs": [
    {
     "name": "stdout",
     "output_type": "stream",
     "text": [
      "CPU times: user 47.4 s, sys: 4.81 s, total: 52.2 s\n",
      "Wall time: 3min 59s\n"
     ]
    }
   ],
   "source": [
    "\n",
    "%%time\n",
    "# translate the different language in summary\n",
    "\n",
    "translator = Translator()\n",
    "df['translated_summary'] = [translator.translate(x, dest='en').text for x in df['summary']]\n"
   ]
  },
  {
   "cell_type": "code",
   "execution_count": null,
   "metadata": {
    "execution": {
     "iopub.execute_input": "2023-04-11T21:53:25.528383Z",
     "iopub.status.busy": "2023-04-11T21:53:25.527999Z",
     "iopub.status.idle": "2023-04-11T21:53:25.535627Z",
     "shell.execute_reply": "2023-04-11T21:53:25.534572Z",
     "shell.execute_reply.started": "2023-04-11T21:53:25.528345Z"
    },
    "id": "I53JRj76iSLJ",
    "outputId": "ac5275f8-d7f2-436c-de28-ee94bf53f482"
   },
   "outputs": [
    {
     "data": {
      "text/plain": [
       "\"Charmant ''3 pièces et demie'' situé au cœur du Vieux-Rosemont, à 5 minutes de marche des bars, restaurants, cafés, etc. Un quartier vraiment sympathique qui rendra votre séjour à Montréal inoubliable.\""
      ]
     },
     "execution_count": 19,
     "metadata": {},
     "output_type": "execute_result"
    }
   ],
   "source": [
    "df['summary'][10]"
   ]
  },
  {
   "cell_type": "code",
   "execution_count": null,
   "metadata": {
    "execution": {
     "iopub.execute_input": "2023-04-11T21:53:25.537833Z",
     "iopub.status.busy": "2023-04-11T21:53:25.536931Z",
     "iopub.status.idle": "2023-04-11T21:53:25.547809Z",
     "shell.execute_reply": "2023-04-11T21:53:25.546720Z",
     "shell.execute_reply.started": "2023-04-11T21:53:25.537794Z"
    },
    "id": "Sri6NG5fiSLJ",
    "outputId": "92ced069-2f94-444d-84e1-0a7746d8b131"
   },
   "outputs": [
    {
     "data": {
      "text/plain": [
       "\"Charming ''3 and a half rooms'' located in the heart of Old Rosemont, 5 minutes walk from bars, restaurants, cafes, etc. A really friendly neighborhood that will make your stay in Montreal unforgettable.\""
      ]
     },
     "execution_count": 20,
     "metadata": {},
     "output_type": "execute_result"
    }
   ],
   "source": [
    "df['translated_summary'][10]"
   ]
  },
  {
   "cell_type": "code",
   "execution_count": null,
   "metadata": {
    "execution": {
     "iopub.execute_input": "2023-04-12T13:16:47.097339Z",
     "iopub.status.busy": "2023-04-12T13:16:47.096803Z",
     "iopub.status.idle": "2023-04-12T13:16:47.106518Z",
     "shell.execute_reply": "2023-04-12T13:16:47.104902Z",
     "shell.execute_reply.started": "2023-04-12T13:16:47.097294Z"
    },
    "id": "Y1GMhkpyiSLK"
   },
   "outputs": [],
   "source": [
    "# loading overview: (force convert some of the non-string cell to string)\n",
    "x_train_text = df.summary.astype('str')\n",
    "\n",
    "# get genre \n",
    "y_train_type = df.type\n",
    "\n",
    "# get language\n",
    "y_train_price = df.price"
   ]
  },
  {
   "cell_type": "code",
   "execution_count": null,
   "metadata": {
    "execution": {
     "iopub.execute_input": "2023-04-11T21:53:25.549739Z",
     "iopub.status.busy": "2023-04-11T21:53:25.549414Z",
     "iopub.status.idle": "2023-04-11T21:53:25.563173Z",
     "shell.execute_reply": "2023-04-11T21:53:25.561685Z",
     "shell.execute_reply.started": "2023-04-11T21:53:25.549711Z"
    },
    "id": "IS8CI7StiSLK"
   },
   "outputs": [],
   "source": [
    "# loading overview: (force convert some of the non-string cell to string)\n",
    "x_train_text = df.translated_summary.astype('str')\n",
    "\n",
    "# get type \n",
    "y_train_type = df.type\n",
    "\n",
    "# get price\n",
    "y_train_price = df.price"
   ]
  },
  {
   "cell_type": "code",
   "execution_count": null,
   "metadata": {
    "execution": {
     "iopub.status.busy": "2023-04-12T16:57:26.014676Z",
     "iopub.status.idle": "2023-04-12T16:57:26.015073Z",
     "shell.execute_reply": "2023-04-12T16:57:26.014902Z",
     "shell.execute_reply.started": "2023-04-12T16:57:26.014882Z"
    },
    "id": "nowswS8oiSLK"
   },
   "outputs": [],
   "source": [
    "# preprocess text data\n",
    "\n",
    "vocab_size = 40000\n",
    "max_len = 100\n",
    "\n",
    "\n",
    "# build vocabulary from training set\n",
    "tokenizer = Tokenizer(num_words=vocab_size)\n",
    "tokenizer.fit_on_texts(x_train_text)\n",
    "\n",
    "\n",
    "def _preprocess(list_of_text):\n",
    "    return pad_sequences(\n",
    "        tokenizer.texts_to_sequences(list_of_text),\n",
    "        maxlen=max_len,\n",
    "        padding='post',\n",
    "    )\n",
    "    \n",
    "\n",
    "# padding is done inside: \n",
    "x_train_text_id = _preprocess(x_train_text)\n",
    "\n",
    "print(x_train_text_id.shape)"
   ]
  },
  {
   "cell_type": "code",
   "execution_count": null,
   "metadata": {
    "execution": {
     "iopub.execute_input": "2023-04-12T14:09:32.642844Z",
     "iopub.status.busy": "2023-04-12T14:09:32.642479Z",
     "iopub.status.idle": "2023-04-12T14:09:32.651403Z",
     "shell.execute_reply": "2023-04-12T14:09:32.650024Z",
     "shell.execute_reply.started": "2023-04-12T14:09:32.642809Z"
    },
    "id": "tLx1CllNiSLK",
    "outputId": "92a4b2f0-f20a-4628-b692-0e80350006dd"
   },
   "outputs": [
    {
     "name": "stdout",
     "output_type": "stream",
     "text": [
      "['spacious sunny and cozy modern apartment in the heart of montreal this 3 '\n",
      " 'bedroom centrally located in the very popular plateau mont royal '\n",
      " 'neighborhood in the middle of prince arthur pedestrian only street close to '\n",
      " 'all amenities restaurants coffee house bars clubs shopping universities '\n",
      " 'subway stations experience montreal like a real local resident be in the '\n",
      " 'heart of the action grand prix week grill saint laurent festival mural 2019 '\n",
      " 'and so much more',\n",
      " 'located in one of the most vibrant and accessible locations of downtown '\n",
      " 'montreal this one bedroom condo will not only impress you but leave you with '\n",
      " 'one of the most memorable experiences it is walking distance of the popular '\n",
      " 'sainte catherine street the bell center the old port lachine canal '\n",
      " 'bonaventure metro and much much more',\n",
      " 'logement coquet et douillet à 10 minutes du centre ville de montréal '\n",
      " 'épicerie pharmacie saq restaurants et transports en communs à proximité deux '\n",
      " 'chambres fermées pouvant accueillir 4 adultes',\n",
      " 'beautiful and spacious 1076 sc ft 100 mc condo on the 1th floor in the west '\n",
      " 'island of montreal located in a quiet residential area near a number of '\n",
      " 'superb green spaces 3 min car from highways 13 40 7 min from le marché de '\n",
      " \"l'ouest 15 min from the airport 6 min walk from sunnybrooke train station \"\n",
      " 'that goes downtown mtl in 20 min and is close to the beautiful nature park '\n",
      " 'bois de liesse walk and bike paths in summer and snowshoe and cross country '\n",
      " 'skiing paths in winter',\n",
      " \"très grand appartement ''rustique'' et très agréable a vivre à louer dans un \"\n",
      " 'quartier sympa de montréal une grande chambre au sous sol et au rez de '\n",
      " 'chaussée il y a une chambre une grande cuisine salle à manger et un grand '\n",
      " 'salon double la cuisine offre de nombreuses machines comme un mixeur un '\n",
      " 'robot ménager une cafetière une machine a panini une machine a gaufre très '\n",
      " 'proche du du bord du fleuve et du centre ville de verdun et de montréal à '\n",
      " 'pied en métro vélo ou autobus']\n"
     ]
    }
   ],
   "source": [
    "# we can use the tokenizer to convert IDs to words.\n",
    "pprint(tokenizer.sequences_to_texts(x_train_text_id[:5]))"
   ]
  },
  {
   "cell_type": "code",
   "execution_count": null,
   "metadata": {
    "execution": {
     "iopub.execute_input": "2023-04-12T14:09:32.817724Z",
     "iopub.status.busy": "2023-04-12T14:09:32.817297Z",
     "iopub.status.idle": "2023-04-12T14:09:32.824457Z",
     "shell.execute_reply": "2023-04-12T14:09:32.823261Z",
     "shell.execute_reply.started": "2023-04-12T14:09:32.817687Z"
    },
    "id": "ONPUsy3tiSLL",
    "outputId": "48376ff3-ef12-40a0-97bd-8f45d354dd08"
   },
   "outputs": [
    {
     "name": "stdout",
     "output_type": "stream",
     "text": [
      "total words in the dictionary: 70000\n"
     ]
    }
   ],
   "source": [
    "print('total words in the dictionary:', tokenizer.num_words)"
   ]
  },
  {
   "cell_type": "markdown",
   "metadata": {
    "id": "dRpwl0vQiSLL"
   },
   "source": [
    "### SMOT\n"
   ]
  },
  {
   "cell_type": "markdown",
   "metadata": {
    "id": "bW4toij9iSLL"
   },
   "source": [
    "We need to try smot to solve imblancing of the data"
   ]
  },
  {
   "cell_type": "code",
   "execution_count": null,
   "metadata": {
    "id": "0UiekYMaiSLL"
   },
   "outputs": [],
   "source": [
    "from imblearn.over_sampling import SMOTE\n",
    "# transform the dataset\n",
    "oversample = SMOTE()\n",
    "X_train, y_train = oversample.fit_resample(X, y)\n",
    "# summarize the new class distribution"
   ]
  },
  {
   "cell_type": "markdown",
   "metadata": {
    "id": "36SnFF76iSLL"
   },
   "source": [
    "## Data Preprocessing (Testing)\n",
    "\n",
    "Here we use the trained tokenizer to pre-process the testing set."
   ]
  },
  {
   "cell_type": "code",
   "execution_count": null,
   "metadata": {
    "colab": {
     "referenced_widgets": [
      "2d526505abe644cb9c23f51f241a5a92"
     ]
    },
    "execution": {
     "iopub.execute_input": "2023-04-12T14:09:40.141535Z",
     "iopub.status.busy": "2023-04-12T14:09:40.141065Z",
     "iopub.status.idle": "2023-04-12T14:11:19.237862Z",
     "shell.execute_reply": "2023-04-12T14:11:19.236322Z",
     "shell.execute_reply.started": "2023-04-12T14:09:40.141496Z"
    },
    "id": "mrqRbDr3iSLL",
    "outputId": "9e364705-7b96-43fd-964b-f49ecea1e51a"
   },
   "outputs": [
    {
     "data": {
      "application/vnd.jupyter.widget-view+json": {
       "model_id": "2d526505abe644cb9c23f51f241a5a92",
       "version_major": 2,
       "version_minor": 0
      },
      "text/plain": [
       "  0%|          | 0/7360 [00:00<?, ?it/s]"
      ]
     },
     "metadata": {},
     "output_type": "display_data"
    }
   ],
   "source": [
    "# loading images:\n",
    "x_test_image = np.array([load_image(i) for i in tqdm(df_test.image)])\n",
    "\n",
    "# loading overview: (force convert some of the non-string cell to string)\n",
    "# df_test['translated_summary'] = [translator.translate(x, dest='en').text for x in df_test['summary']]\n",
    "x_test_text = _preprocess(df_test.summary.astype('str'))"
   ]
  },
  {
   "cell_type": "markdown",
   "metadata": {
    "id": "sH46QWFYiSLL"
   },
   "source": [
    "# Building a Learning model"
   ]
  },
  {
   "cell_type": "markdown",
   "metadata": {
    "id": "ZTr0as1SiSLM"
   },
   "source": [
    "**Prediction Function**"
   ]
  },
  {
   "cell_type": "code",
   "execution_count": null,
   "metadata": {
    "execution": {
     "iopub.execute_input": "2023-04-12T14:06:22.277077Z",
     "iopub.status.busy": "2023-04-12T14:06:22.276580Z",
     "iopub.status.idle": "2023-04-12T14:06:22.285503Z",
     "shell.execute_reply": "2023-04-12T14:06:22.283560Z",
     "shell.execute_reply.started": "2023-04-12T14:06:22.277035Z"
    },
    "id": "Ib_3e089iSLM"
   },
   "outputs": [],
   "source": [
    "def predict_on_testing_set(model, x_test_text, x_test_image):\n",
    "    y_predict = model.predict({'summary': x_test_text, 'image': x_test_image})\n",
    "    price_predicted = y_predict['price']\n",
    "    price_category_predicted = np.argmax(price_predicted, axis=1)\n",
    "    return price_category_predicted"
   ]
  },
  {
   "cell_type": "markdown",
   "metadata": {
    "id": "yLOP59-wiSLM"
   },
   "source": [
    "**Function To Create Submission File**"
   ]
  },
  {
   "cell_type": "code",
   "execution_count": null,
   "metadata": {
    "execution": {
     "iopub.execute_input": "2023-04-12T14:06:18.534301Z",
     "iopub.status.busy": "2023-04-12T14:06:18.533799Z",
     "iopub.status.idle": "2023-04-12T14:06:18.542164Z",
     "shell.execute_reply": "2023-04-12T14:06:18.540298Z",
     "shell.execute_reply.started": "2023-04-12T14:06:18.534243Z"
    },
    "id": "G3DAPiiXiSLM"
   },
   "outputs": [],
   "source": [
    "def create_submission_file(df_test, price_predicted, output_file_path):\n",
    "    submission_df = pd.DataFrame({'id': df_test.id, 'price': price_predicted})\n",
    "    submission_df.to_csv(output_file_path, index=False)"
   ]
  },
  {
   "cell_type": "markdown",
   "metadata": {
    "id": "_XbiUh3fiSLM"
   },
   "source": [
    "## First Model\n"
   ]
  },
  {
   "cell_type": "markdown",
   "metadata": {
    "id": "kygugN0AiSLM"
   },
   "source": [
    "This is a **multi-modal, multi-task learning model**, which takes both textual and image data as inputs and predicts both the type and price range category for each Airbnb listing.\n",
    "\n",
    "The model consists of two input layers, one for textual data and one for image data.\n",
    "\n",
    "**The textual input** is fed through an embedding layer and then averaged to produce a fixed-length feature vector.\n",
    "\n",
    "**The image input** is fed through a convolutional layer and then flattened to produce a feature vector.\n",
    "\n",
    "These **two feature vectors are then concatenated** and fed through two separate dense layers, one for predicting the type category and one for predicting the price range category."
   ]
  },
  {
   "cell_type": "code",
   "execution_count": null,
   "metadata": {
    "execution": {
     "iopub.execute_input": "2023-04-12T06:10:33.655880Z",
     "iopub.status.busy": "2023-04-12T06:10:33.655528Z",
     "iopub.status.idle": "2023-04-12T06:10:34.078320Z",
     "shell.execute_reply": "2023-04-12T06:10:34.076799Z",
     "shell.execute_reply.started": "2023-04-12T06:10:33.655839Z"
    },
    "id": "Jb0FSSaliSLM",
    "outputId": "59458259-eae8-4ffb-e3e0-201ca1a4bb8e"
   },
   "outputs": [
    {
     "name": "stdout",
     "output_type": "stream",
     "text": [
      "Model: \"model\"\n",
      "__________________________________________________________________________________________________\n",
      " Layer (type)                   Output Shape         Param #     Connected to                     \n",
      "==================================================================================================\n",
      " input_2 (InputLayer)           [(None, 64, 64, 2)]  0           []                               \n",
      "                                                                                                  \n",
      " input_1 (InputLayer)           [(None, 100)]        0           []                               \n",
      "                                                                                                  \n",
      " conv2d (Conv2D)                (None, 49, 49, 32)   16416       ['input_2[0][0]']                \n",
      "                                                                                                  \n",
      " embedding (Embedding)          (None, 100, 100)     4000000     ['input_1[0][0]']                \n",
      "                                                                                                  \n",
      " max_pooling2d (MaxPooling2D)   (None, 3, 3, 32)     0           ['conv2d[0][0]']                 \n",
      "                                                                                                  \n",
      " tf.math.reduce_mean (TFOpLambd  (None, 100)         0           ['embedding[0][0]']              \n",
      " a)                                                                                               \n",
      "                                                                                                  \n",
      " flatten (Flatten)              (None, 288)          0           ['max_pooling2d[0][0]']          \n",
      "                                                                                                  \n",
      " tf.concat (TFOpLambda)         (None, 388)          0           ['tf.math.reduce_mean[0][0]',    \n",
      "                                                                  'flatten[0][0]']                \n",
      "                                                                                                  \n",
      " price (Dense)                  (None, 3)            1167        ['tf.concat[0][0]']              \n",
      "                                                                                                  \n",
      " type (Dense)                   (None, 24)           9336        ['tf.concat[0][0]']              \n",
      "                                                                                                  \n",
      "==================================================================================================\n",
      "Total params: 4,026,919\n",
      "Trainable params: 4,026,919\n",
      "Non-trainable params: 0\n",
      "__________________________________________________________________________________________________\n"
     ]
    }
   ],
   "source": [
    "\n",
    "# here we have two inputs. one for image and the other for text.\n",
    "in_text = keras.Input(batch_shape=(None, max_len))\n",
    "in_image = keras.Input(batch_shape=(None, 64, 64, 2))\n",
    "\n",
    "# text part\n",
    "# simple average of embedding. you can change it to anything else as needed\n",
    "embedded = keras.layers.Embedding(tokenizer.num_words, 100)(in_text)\n",
    "averaged = tf.reduce_mean(embedded, axis=1)\n",
    "\n",
    "\n",
    "# image part \n",
    "# simple conv2d. you can change it to anything else as needed\n",
    "cov = Conv2D(32, (16, 16))(in_image)\n",
    "pl = MaxPool2D((16, 16))(cov)\n",
    "flattened = Flatten()(pl)\n",
    "\n",
    "\n",
    "# fusion - combinig both\n",
    "fused = tf.concat([averaged, flattened], axis=-1)\n",
    "\n",
    "# multi-task learning (each is a multi-class classification)\n",
    "# one dense layer for each task\n",
    "p_type = Dense(len_type, activation='softmax', name='type')(fused)\n",
    "p_price = Dense(len_price, activation='softmax', name='price')(fused)\n",
    "\n",
    "\n",
    "# define model input/output using keys.\n",
    "modelV1 = keras.Model(\n",
    "    inputs={\n",
    "        'summary': in_text,\n",
    "        'image': in_image\n",
    "    },\n",
    "    outputs={\n",
    "        'type': p_type,\n",
    "        'price': p_price,\n",
    "    },\n",
    ")\n",
    "\n",
    "\n",
    "# compile model with optimizer, loss values for each task, loss \n",
    "# weights for each task.\n",
    "modelV1.compile(\n",
    "    optimizer=Adam(),\n",
    "    loss={\n",
    "        'type': 'sparse_categorical_crossentropy',\n",
    "        'price': 'sparse_categorical_crossentropy',\n",
    "    },\n",
    "    loss_weights={\n",
    "        'type': 0.5,\n",
    "        'price': 0.5,       \n",
    "    },\n",
    "    metrics={\n",
    "        'type': ['SparseCategoricalAccuracy'],\n",
    "        'price': ['SparseCategoricalAccuracy'],\n",
    "    },\n",
    ")\n",
    "\n",
    "\n",
    "modelV1.summary()"
   ]
  },
  {
   "cell_type": "markdown",
   "metadata": {
    "id": "XKECDwvHiSLN"
   },
   "source": [
    "### Model Training\n",
    " "
   ]
  },
  {
   "cell_type": "code",
   "execution_count": null,
   "metadata": {
    "execution": {
     "iopub.execute_input": "2023-04-12T06:10:34.080614Z",
     "iopub.status.busy": "2023-04-12T06:10:34.080101Z",
     "iopub.status.idle": "2023-04-12T06:23:54.007672Z",
     "shell.execute_reply": "2023-04-12T06:23:54.005580Z",
     "shell.execute_reply.started": "2023-04-12T06:10:34.080561Z"
    },
    "id": "z1TswoLMiSLN",
    "outputId": "a8676436-d420-4e60-d8dc-f9c83ce5f4f0"
   },
   "outputs": [
    {
     "name": "stdout",
     "output_type": "stream",
     "text": [
      "Epoch 1/20\n",
      "367/367 [==============================] - 49s 129ms/step - loss: 24.0925 - price_loss: 23.3742 - type_loss: 24.8109 - price_sparse_categorical_accuracy: 0.4971 - type_sparse_categorical_accuracy: 0.5819 - val_loss: 9.0693 - val_price_loss: 5.6423 - val_type_loss: 12.4963 - val_price_sparse_categorical_accuracy: 0.5368 - val_type_sparse_categorical_accuracy: 0.4052\n",
      "Epoch 2/20\n",
      "367/367 [==============================] - 47s 127ms/step - loss: 9.0706 - price_loss: 6.7701 - type_loss: 11.3711 - price_sparse_categorical_accuracy: 0.5143 - type_sparse_categorical_accuracy: 0.5916 - val_loss: 17.2094 - val_price_loss: 14.1292 - val_type_loss: 20.2896 - val_price_sparse_categorical_accuracy: 0.5982 - val_type_sparse_categorical_accuracy: 0.2353\n",
      "Epoch 3/20\n",
      "367/367 [==============================] - 47s 129ms/step - loss: 7.7344 - price_loss: 5.9261 - type_loss: 9.5428 - price_sparse_categorical_accuracy: 0.5258 - type_sparse_categorical_accuracy: 0.5933 - val_loss: 4.6773 - val_price_loss: 3.6114 - val_type_loss: 5.7432 - val_price_sparse_categorical_accuracy: 0.5109 - val_type_sparse_categorical_accuracy: 0.6269\n",
      "Epoch 4/20\n",
      "367/367 [==============================] - 46s 126ms/step - loss: 6.8093 - price_loss: 4.8245 - type_loss: 8.7942 - price_sparse_categorical_accuracy: 0.5457 - type_sparse_categorical_accuracy: 0.6012 - val_loss: 7.6154 - val_price_loss: 5.4800 - val_type_loss: 9.7507 - val_price_sparse_categorical_accuracy: 0.5941 - val_type_sparse_categorical_accuracy: 0.6801\n",
      "Epoch 5/20\n",
      "367/367 [==============================] - 46s 125ms/step - loss: 6.4577 - price_loss: 4.5888 - type_loss: 8.3265 - price_sparse_categorical_accuracy: 0.5556 - type_sparse_categorical_accuracy: 0.6015 - val_loss: 7.2932 - val_price_loss: 6.3983 - val_type_loss: 8.1881 - val_price_sparse_categorical_accuracy: 0.5914 - val_type_sparse_categorical_accuracy: 0.4973\n",
      "Epoch 6/20\n",
      "367/367 [==============================] - 47s 127ms/step - loss: 5.2446 - price_loss: 3.7755 - type_loss: 6.7137 - price_sparse_categorical_accuracy: 0.5742 - type_sparse_categorical_accuracy: 0.6179 - val_loss: 4.2626 - val_price_loss: 4.0874 - val_type_loss: 4.4377 - val_price_sparse_categorical_accuracy: 0.6091 - val_type_sparse_categorical_accuracy: 0.7067\n",
      "Epoch 7/20\n",
      "367/367 [==============================] - 46s 127ms/step - loss: 5.5513 - price_loss: 4.2323 - type_loss: 6.8703 - price_sparse_categorical_accuracy: 0.5852 - type_sparse_categorical_accuracy: 0.6152 - val_loss: 5.6379 - val_price_loss: 3.5561 - val_type_loss: 7.7197 - val_price_sparse_categorical_accuracy: 0.5962 - val_type_sparse_categorical_accuracy: 0.7285\n",
      "Epoch 8/20\n",
      "367/367 [==============================] - 47s 129ms/step - loss: 4.3555 - price_loss: 3.2387 - type_loss: 5.4723 - price_sparse_categorical_accuracy: 0.6167 - type_sparse_categorical_accuracy: 0.6317 - val_loss: 5.4686 - val_price_loss: 6.1351 - val_type_loss: 4.8022 - val_price_sparse_categorical_accuracy: 0.4025 - val_type_sparse_categorical_accuracy: 0.5600\n",
      "Epoch 9/20\n",
      "367/367 [==============================] - 47s 129ms/step - loss: 4.4206 - price_loss: 3.2650 - type_loss: 5.5763 - price_sparse_categorical_accuracy: 0.6241 - type_sparse_categorical_accuracy: 0.6372 - val_loss: 5.7307 - val_price_loss: 3.1972 - val_type_loss: 8.2642 - val_price_sparse_categorical_accuracy: 0.5750 - val_type_sparse_categorical_accuracy: 0.2483\n",
      "Epoch 10/20\n",
      "367/367 [==============================] - 48s 130ms/step - loss: 20.3219 - price_loss: 11.5519 - type_loss: 29.0920 - price_sparse_categorical_accuracy: 0.5823 - type_sparse_categorical_accuracy: 0.6119 - val_loss: 18.2455 - val_price_loss: 8.1407 - val_type_loss: 28.3502 - val_price_sparse_categorical_accuracy: 0.4870 - val_type_sparse_categorical_accuracy: 0.5573\n",
      "Epoch 11/20\n",
      "367/367 [==============================] - 46s 127ms/step - loss: 10.2050 - price_loss: 5.7347 - type_loss: 14.6753 - price_sparse_categorical_accuracy: 0.6077 - type_sparse_categorical_accuracy: 0.6309 - val_loss: 8.1234 - val_price_loss: 3.8912 - val_type_loss: 12.3556 - val_price_sparse_categorical_accuracy: 0.5962 - val_type_sparse_categorical_accuracy: 0.7572\n",
      "Epoch 12/20\n",
      "367/367 [==============================] - 47s 129ms/step - loss: 5.6504 - price_loss: 3.0383 - type_loss: 8.2625 - price_sparse_categorical_accuracy: 0.6642 - type_sparse_categorical_accuracy: 0.6539 - val_loss: 4.4219 - val_price_loss: 3.1164 - val_type_loss: 5.7273 - val_price_sparse_categorical_accuracy: 0.6276 - val_type_sparse_categorical_accuracy: 0.6603\n",
      "Epoch 13/20\n",
      "367/367 [==============================] - 47s 128ms/step - loss: 4.4886 - price_loss: 2.7153 - type_loss: 6.2620 - price_sparse_categorical_accuracy: 0.6691 - type_sparse_categorical_accuracy: 0.6683 - val_loss: 4.8639 - val_price_loss: 3.9789 - val_type_loss: 5.7488 - val_price_sparse_categorical_accuracy: 0.6207 - val_type_sparse_categorical_accuracy: 0.7005\n",
      "Epoch 14/20\n",
      "367/367 [==============================] - 47s 129ms/step - loss: 5.6612 - price_loss: 3.3245 - type_loss: 7.9979 - price_sparse_categorical_accuracy: 0.6514 - type_sparse_categorical_accuracy: 0.6565 - val_loss: 4.1191 - val_price_loss: 3.2099 - val_type_loss: 5.0283 - val_price_sparse_categorical_accuracy: 0.6317 - val_type_sparse_categorical_accuracy: 0.6876\n",
      "Epoch 15/20\n",
      "367/367 [==============================] - 46s 126ms/step - loss: 9.0143 - price_loss: 5.1698 - type_loss: 12.8589 - price_sparse_categorical_accuracy: 0.6606 - type_sparse_categorical_accuracy: 0.6551 - val_loss: 5.3925 - val_price_loss: 4.1941 - val_type_loss: 6.5909 - val_price_sparse_categorical_accuracy: 0.6398 - val_type_sparse_categorical_accuracy: 0.5805\n",
      "Epoch 16/20\n",
      "367/367 [==============================] - 48s 130ms/step - loss: 5.2102 - price_loss: 3.4084 - type_loss: 7.0120 - price_sparse_categorical_accuracy: 0.6935 - type_sparse_categorical_accuracy: 0.6834 - val_loss: 4.2363 - val_price_loss: 3.1753 - val_type_loss: 5.2973 - val_price_sparse_categorical_accuracy: 0.5723 - val_type_sparse_categorical_accuracy: 0.6385\n",
      "Epoch 17/20\n",
      "367/367 [==============================] - 47s 127ms/step - loss: 9.5659 - price_loss: 7.0898 - type_loss: 12.0421 - price_sparse_categorical_accuracy: 0.6785 - type_sparse_categorical_accuracy: 0.6906 - val_loss: 36.5942 - val_price_loss: 18.1479 - val_type_loss: 55.0404 - val_price_sparse_categorical_accuracy: 0.6248 - val_type_sparse_categorical_accuracy: 0.3226\n"
     ]
    }
   ],
   "source": [
    "history = modelV1.fit(\n",
    "    x={\n",
    "        'summary': x_train_text_id,\n",
    "        'image': x_train_image\n",
    "    },\n",
    "    y={\n",
    "        'type': y_train_type,\n",
    "        'price': y_train_price,\n",
    "    },\n",
    "    epochs=20,\n",
    "    batch_size=16,\n",
    "    validation_split=0.2,\n",
    "    callbacks=[\n",
    "        tf.keras.callbacks.EarlyStopping(monitor='val_price_loss', patience=5, )\n",
    "    ],\n",
    "    verbose=1\n",
    ")"
   ]
  },
  {
   "cell_type": "markdown",
   "metadata": {
    "id": "cYoDh3adiSLO"
   },
   "source": [
    "### Prediction & Save Result"
   ]
  },
  {
   "cell_type": "code",
   "execution_count": null,
   "metadata": {
    "execution": {
     "iopub.execute_input": "2023-04-12T06:23:54.012039Z",
     "iopub.status.busy": "2023-04-12T06:23:54.010468Z",
     "iopub.status.idle": "2023-04-12T06:24:05.031862Z",
     "shell.execute_reply": "2023-04-12T06:24:05.030414Z",
     "shell.execute_reply.started": "2023-04-12T06:23:54.011970Z"
    },
    "id": "BQ8nzkSOiSLO",
    "outputId": "eecdf4d5-09f3-46dd-92ba-bb0d27163282"
   },
   "outputs": [
    {
     "name": "stdout",
     "output_type": "stream",
     "text": [
      "230/230 [==============================] - 9s 39ms/step\n"
     ]
    }
   ],
   "source": [
    "output_file_path = 'FirstModel.csv'\n",
    "price_predict = predict_on_testing_set(modelV1, x_test_text, x_test_image)\n",
    "create_submission_file(df_test, price_predict, output_file_path)"
   ]
  },
  {
   "cell_type": "markdown",
   "metadata": {
    "id": "_qsFpuIsiSLO"
   },
   "source": [
    "1. In these trile we use we **translate** the Summary column before use it to train these model, and **vocab_size = 40000**.</br>\n",
    "When we test these model on testing data we get accuracy **59.32%** which is the no good accuracy."
   ]
  },
  {
   "cell_type": "markdown",
   "metadata": {
    "id": "q9OqyrqpiSLO"
   },
   "source": [
    "2. In another trile we use our data **without translate** it, and **vocab_size = 40000**.</br>\n",
    "When we test these model on testing data we get accuracy **62.06%** which is the good accuracy until now"
   ]
  },
  {
   "cell_type": "markdown",
   "metadata": {
    "id": "HwsfxPgZiSLO"
   },
   "source": [
    "## Second Model\n"
   ]
  },
  {
   "cell_type": "markdown",
   "metadata": {
    "id": "Dl9c81V1iSLO"
   },
   "source": [
    "This is another **multi-modal, multi-task learning model**, similar to the previous model. This model also takes both textual and image data as inputs and predicts both the type and price range category for each Airbnb listing.\n",
    "\n",
    "The model consists of two input layers, one for textual data and one for image data.\n",
    "\n",
    "**The textual input** is fed through an embedding layer and then through an LSTM layer, which is a type of recurrent neural network that can model sequential data. The output from the LSTM layer is then averaged to produce a fixed-length feature vector. \n",
    "\n",
    "**The image input** is fed through a convolutional layer and then flattened to produce a feature vector.\n",
    "\n",
    "These **two feature vectors are then concatenated** and fed through two separate dense layers, one for predicting the type category and one for predicting the price range category."
   ]
  },
  {
   "cell_type": "code",
   "execution_count": null,
   "metadata": {
    "execution": {
     "iopub.execute_input": "2023-04-12T06:24:05.038280Z",
     "iopub.status.busy": "2023-04-12T06:24:05.037872Z",
     "iopub.status.idle": "2023-04-12T06:24:05.589524Z",
     "shell.execute_reply": "2023-04-12T06:24:05.587899Z",
     "shell.execute_reply.started": "2023-04-12T06:24:05.038247Z"
    },
    "id": "-oLdKKu1iSLO",
    "outputId": "9d37feb7-09d7-457c-a2d4-a924b03c66f7"
   },
   "outputs": [
    {
     "name": "stdout",
     "output_type": "stream",
     "text": [
      "Model: \"model_1\"\n",
      "__________________________________________________________________________________________________\n",
      " Layer (type)                   Output Shape         Param #     Connected to                     \n",
      "==================================================================================================\n",
      " input_3 (InputLayer)           [(None, 100)]        0           []                               \n",
      "                                                                                                  \n",
      " input_4 (InputLayer)           [(None, 64, 64, 2)]  0           []                               \n",
      "                                                                                                  \n",
      " embedding_1 (Embedding)        (None, 100, 100)     4000000     ['input_3[0][0]']                \n",
      "                                                                                                  \n",
      " conv2d_1 (Conv2D)              (None, 49, 49, 32)   16416       ['input_4[0][0]']                \n",
      "                                                                                                  \n",
      " lstm (LSTM)                    (None, 100, 64)      42240       ['embedding_1[0][0]']            \n",
      "                                                                                                  \n",
      " max_pooling2d_1 (MaxPooling2D)  (None, 3, 3, 32)    0           ['conv2d_1[0][0]']               \n",
      "                                                                                                  \n",
      " tf.math.reduce_mean_1 (TFOpLam  (None, 64)          0           ['lstm[0][0]']                   \n",
      " bda)                                                                                             \n",
      "                                                                                                  \n",
      " flatten_1 (Flatten)            (None, 288)          0           ['max_pooling2d_1[0][0]']        \n",
      "                                                                                                  \n",
      " tf.concat_1 (TFOpLambda)       (None, 352)          0           ['tf.math.reduce_mean_1[0][0]',  \n",
      "                                                                  'flatten_1[0][0]']              \n",
      "                                                                                                  \n",
      " price (Dense)                  (None, 3)            1059        ['tf.concat_1[0][0]']            \n",
      "                                                                                                  \n",
      " type (Dense)                   (None, 24)           8472        ['tf.concat_1[0][0]']            \n",
      "                                                                                                  \n",
      "==================================================================================================\n",
      "Total params: 4,068,187\n",
      "Trainable params: 4,068,187\n",
      "Non-trainable params: 0\n",
      "__________________________________________________________________________________________________\n"
     ]
    }
   ],
   "source": [
    "\n",
    "# here we have two inputs. one for image and the other for text.\n",
    "in_text = keras.Input(batch_shape=(None, max_len))\n",
    "in_image = keras.Input(batch_shape=(None, 64, 64, 2))\n",
    "\n",
    "# text part\n",
    "# simple average of embedding. you can change it to anything else as needed\n",
    "embedded = tf.keras.layers.Embedding(tokenizer.num_words, 100)(in_text)\n",
    "lstm = tf.keras.layers.LSTM(64, dropout=.2, return_sequences=True)(embedded)\n",
    "averaged = tf.reduce_mean(lstm, axis=1)\n",
    "\n",
    "\n",
    "# image part \n",
    "# simple conv2d. you can change it to anything else as needed\n",
    "cov = Conv2D(32, (16, 16))(in_image)\n",
    "pl = MaxPool2D((16, 16))(cov)\n",
    "flattened = Flatten()(pl)\n",
    "\n",
    "\n",
    "# fusion - combinig both\n",
    "fused = tf.concat([averaged, flattened], axis=-1)\n",
    "\n",
    "# multi-task learning (each is a multi-class classification)\n",
    "# one dense layer for each task\n",
    "p_type = Dense(len_type, activation='softmax', name='type')(fused)\n",
    "p_price = Dense(len_price, activation='softmax', name='price')(fused)\n",
    "\n",
    "\n",
    "# define model input/output using keys.\n",
    "modelV2 = keras.Model(\n",
    "    inputs={\n",
    "        'summary': in_text,\n",
    "        'image': in_image\n",
    "    },\n",
    "    outputs={\n",
    "        'type': p_type,\n",
    "        'price': p_price,\n",
    "    },\n",
    ")\n",
    "\n",
    "\n",
    "# compile model with optimizer, loss values for each task, loss \n",
    "# weights for each task.\n",
    "modelV2.compile(\n",
    "    optimizer=Adam(),\n",
    "    loss={\n",
    "        'type': 'sparse_categorical_crossentropy',\n",
    "        'price': 'sparse_categorical_crossentropy',\n",
    "    },\n",
    "    loss_weights={\n",
    "        'type': 0.5,\n",
    "        'price': 0.5,       \n",
    "    },\n",
    "    metrics={\n",
    "        'type': ['SparseCategoricalAccuracy'],\n",
    "        'price': ['SparseCategoricalAccuracy'],\n",
    "    },\n",
    ")\n",
    "\n",
    "\n",
    "modelV2.summary()"
   ]
  },
  {
   "cell_type": "markdown",
   "metadata": {
    "id": "ooCi2mjTiSLP"
   },
   "source": [
    "### Model Training\n",
    " "
   ]
  },
  {
   "cell_type": "code",
   "execution_count": null,
   "metadata": {
    "execution": {
     "iopub.execute_input": "2023-04-12T06:24:05.592743Z",
     "iopub.status.busy": "2023-04-12T06:24:05.592274Z",
     "iopub.status.idle": "2023-04-12T06:32:10.015371Z",
     "shell.execute_reply": "2023-04-12T06:32:10.013533Z",
     "shell.execute_reply.started": "2023-04-12T06:24:05.592702Z"
    },
    "id": "YxdomVFoiSLP",
    "outputId": "17e224a6-0cb1-487d-fc91-5ef4a40cf5d4"
   },
   "outputs": [
    {
     "name": "stdout",
     "output_type": "stream",
     "text": [
      "Epoch 1/20\n",
      "367/367 [==============================] - 66s 171ms/step - loss: 25.9919 - price_loss: 20.4798 - type_loss: 31.5041 - price_sparse_categorical_accuracy: 0.5085 - type_sparse_categorical_accuracy: 0.5852 - val_loss: 11.5259 - val_price_loss: 10.1199 - val_type_loss: 12.9320 - val_price_sparse_categorical_accuracy: 0.4782 - val_type_sparse_categorical_accuracy: 0.7544\n",
      "Epoch 2/20\n",
      "367/367 [==============================] - 61s 165ms/step - loss: 9.4444 - price_loss: 7.2429 - type_loss: 11.6458 - price_sparse_categorical_accuracy: 0.5314 - type_sparse_categorical_accuracy: 0.6058 - val_loss: 6.0911 - val_price_loss: 4.5838 - val_type_loss: 7.5984 - val_price_sparse_categorical_accuracy: 0.5941 - val_type_sparse_categorical_accuracy: 0.7176\n",
      "Epoch 3/20\n",
      "367/367 [==============================] - 60s 163ms/step - loss: 7.3784 - price_loss: 5.2116 - type_loss: 9.5452 - price_sparse_categorical_accuracy: 0.5473 - type_sparse_categorical_accuracy: 0.6167 - val_loss: 5.5013 - val_price_loss: 4.0570 - val_type_loss: 6.9455 - val_price_sparse_categorical_accuracy: 0.5020 - val_type_sparse_categorical_accuracy: 0.6910\n",
      "Epoch 4/20\n",
      "367/367 [==============================] - 59s 161ms/step - loss: 5.5387 - price_loss: 4.4643 - type_loss: 6.6131 - price_sparse_categorical_accuracy: 0.5551 - type_sparse_categorical_accuracy: 0.6159 - val_loss: 5.0204 - val_price_loss: 4.2563 - val_type_loss: 5.7845 - val_price_sparse_categorical_accuracy: 0.5211 - val_type_sparse_categorical_accuracy: 0.6460\n",
      "Epoch 5/20\n",
      "367/367 [==============================] - 60s 162ms/step - loss: 6.2478 - price_loss: 4.9080 - type_loss: 7.5877 - price_sparse_categorical_accuracy: 0.5488 - type_sparse_categorical_accuracy: 0.6096 - val_loss: 10.7606 - val_price_loss: 7.4814 - val_type_loss: 14.0397 - val_price_sparse_categorical_accuracy: 0.5252 - val_type_sparse_categorical_accuracy: 0.6269\n",
      "Epoch 6/20\n",
      "367/367 [==============================] - 59s 160ms/step - loss: 7.5720 - price_loss: 6.2732 - type_loss: 8.8709 - price_sparse_categorical_accuracy: 0.5531 - type_sparse_categorical_accuracy: 0.6242 - val_loss: 7.3708 - val_price_loss: 6.5735 - val_type_loss: 8.1680 - val_price_sparse_categorical_accuracy: 0.4147 - val_type_sparse_categorical_accuracy: 0.7428\n",
      "Epoch 7/20\n",
      "367/367 [==============================] - 60s 162ms/step - loss: 15.5111 - price_loss: 9.8409 - type_loss: 21.1813 - price_sparse_categorical_accuracy: 0.5621 - type_sparse_categorical_accuracy: 0.6210 - val_loss: 56.2910 - val_price_loss: 37.3320 - val_type_loss: 75.2501 - val_price_sparse_categorical_accuracy: 0.6078 - val_type_sparse_categorical_accuracy: 0.7572\n",
      "Epoch 8/20\n",
      "367/367 [==============================] - 60s 163ms/step - loss: 24.5055 - price_loss: 16.5970 - type_loss: 32.4140 - price_sparse_categorical_accuracy: 0.5536 - type_sparse_categorical_accuracy: 0.6181 - val_loss: 13.7360 - val_price_loss: 9.0417 - val_type_loss: 18.4303 - val_price_sparse_categorical_accuracy: 0.5348 - val_type_sparse_categorical_accuracy: 0.7524\n"
     ]
    }
   ],
   "source": [
    "history = modelV2.fit(\n",
    "    x={\n",
    "        'summary': x_train_text_id,\n",
    "        'image': x_train_image\n",
    "    },\n",
    "    y={\n",
    "        'type': y_train_type,\n",
    "        'price': y_train_price,\n",
    "    },\n",
    "    epochs=20,\n",
    "    batch_size=16,\n",
    "    validation_split=0.2,\n",
    "    callbacks=[\n",
    "        tf.keras.callbacks.EarlyStopping(monitor='val_price_loss', patience=5, )\n",
    "    ],\n",
    "    verbose=1\n",
    ")"
   ]
  },
  {
   "cell_type": "markdown",
   "metadata": {
    "id": "0JgymUxti58J"
   },
   "source": [
    "### Prediction & Save Result"
   ]
  },
  {
   "cell_type": "code",
   "execution_count": null,
   "metadata": {
    "execution": {
     "iopub.execute_input": "2023-04-12T06:32:10.019802Z",
     "iopub.status.busy": "2023-04-12T06:32:10.019176Z",
     "iopub.status.idle": "2023-04-12T06:32:42.222105Z",
     "shell.execute_reply": "2023-04-12T06:32:42.220741Z",
     "shell.execute_reply.started": "2023-04-12T06:32:10.019749Z"
    },
    "id": "rEjF5dmViSLP",
    "outputId": "e111183c-7d0d-425d-91de-7a48bdfd111f"
   },
   "outputs": [
    {
     "name": "stdout",
     "output_type": "stream",
     "text": [
      "230/230 [==============================] - 11s 45ms/step\n"
     ]
    }
   ],
   "source": [
    "output_file_path = 'SecondModel.csv'\n",
    "price_predict = predict_on_testing_set(modelV2, x_test_text, x_test_image)\n",
    "create_submission_file(df_test, price_predict, output_file_path)"
   ]
  },
  {
   "cell_type": "markdown",
   "metadata": {
    "id": "4oal08OxiSLP"
   },
   "source": [
    "3. In these trile we use we **translate** the Summary column before use it to train these model, and **vocab_size = 40000**.</br>\n",
    "When we test these model on testing data we get accuracy **43.179%**."
   ]
  },
  {
   "cell_type": "markdown",
   "metadata": {
    "id": "Fv1Bi38DiSLP"
   },
   "source": [
    "4. In another trile we use our data **without translate** it, and **vocab_size = 40000**.</br>\n",
    "When we test these model on testing data we get accuracy **50.217%**"
   ]
  },
  {
   "cell_type": "markdown",
   "metadata": {
    "id": "_E1BsNLmiSLP"
   },
   "source": [
    "## Third Model "
   ]
  },
  {
   "cell_type": "markdown",
   "metadata": {
    "id": "3BB_Lwc0iSLP"
   },
   "source": [
    "This is another **multi-modal, multi-task learning model**, similar to the previous two models. This model also takes both textual and image data as inputs and predicts both the type and price range category for each Airbnb listing.\n",
    "\n",
    "The model consists of two input layers, one for textual data and one for image data. \n",
    "\n",
    "**The textual input** is fed through an embedding layer and then through a GRU layer, which is a type of recurrent neural network that can model sequential data. The output from the GRU layer is then averaged to produce a fixed-length feature vector. \n",
    "\n",
    "**The image input** is fed through a convolutional layer, a max pooling layer, and a dropout layer, before being flattened to produce a feature vector.\n",
    "\n",
    "These **two feature vectors are then concatenated** and fed through two separate dense layers, one for predicting the type category and one for predicting the price range category."
   ]
  },
  {
   "cell_type": "code",
   "execution_count": null,
   "metadata": {
    "execution": {
     "iopub.execute_input": "2023-04-12T06:32:42.224853Z",
     "iopub.status.busy": "2023-04-12T06:32:42.223565Z",
     "iopub.status.idle": "2023-04-12T06:32:42.699063Z",
     "shell.execute_reply": "2023-04-12T06:32:42.697643Z",
     "shell.execute_reply.started": "2023-04-12T06:32:42.224806Z"
    },
    "id": "o5V4It0ViSLQ",
    "outputId": "43129e8d-3ff6-4ff0-9528-2c5006fe4e49"
   },
   "outputs": [
    {
     "name": "stdout",
     "output_type": "stream",
     "text": [
      "Model: \"model_2\"\n",
      "__________________________________________________________________________________________________\n",
      " Layer (type)                   Output Shape         Param #     Connected to                     \n",
      "==================================================================================================\n",
      " input_6 (InputLayer)           [(None, 64, 64, 2)]  0           []                               \n",
      "                                                                                                  \n",
      " input_5 (InputLayer)           [(None, 100)]        0           []                               \n",
      "                                                                                                  \n",
      " conv2d_2 (Conv2D)              (None, 62, 62, 32)   608         ['input_6[0][0]']                \n",
      "                                                                                                  \n",
      " embedding_2 (Embedding)        (None, 100, 100)     4000000     ['input_5[0][0]']                \n",
      "                                                                                                  \n",
      " max_pooling2d_2 (MaxPooling2D)  (None, 20, 20, 32)  0           ['conv2d_2[0][0]']               \n",
      "                                                                                                  \n",
      " gru (GRU)                      (None, 100, 256)     274944      ['embedding_2[0][0]']            \n",
      "                                                                                                  \n",
      " dropout (Dropout)              (None, 20, 20, 32)   0           ['max_pooling2d_2[0][0]']        \n",
      "                                                                                                  \n",
      " tf.math.reduce_mean_2 (TFOpLam  (None, 256)         0           ['gru[0][0]']                    \n",
      " bda)                                                                                             \n",
      "                                                                                                  \n",
      " flatten_2 (Flatten)            (None, 12800)        0           ['dropout[0][0]']                \n",
      "                                                                                                  \n",
      " tf.concat_2 (TFOpLambda)       (None, 13056)        0           ['tf.math.reduce_mean_2[0][0]',  \n",
      "                                                                  'flatten_2[0][0]']              \n",
      "                                                                                                  \n",
      " price (Dense)                  (None, 3)            39171       ['tf.concat_2[0][0]']            \n",
      "                                                                                                  \n",
      " type (Dense)                   (None, 24)           313368      ['tf.concat_2[0][0]']            \n",
      "                                                                                                  \n",
      "==================================================================================================\n",
      "Total params: 4,628,091\n",
      "Trainable params: 4,628,091\n",
      "Non-trainable params: 0\n",
      "__________________________________________________________________________________________________\n"
     ]
    }
   ],
   "source": [
    "\n",
    "# here we have two inputs. one for image and the other for text.\n",
    "in_text = keras.Input(batch_shape=(None, max_len))\n",
    "in_image = keras.Input(batch_shape=(None, 64, 64, 2))\n",
    "\n",
    "# text part\n",
    "# simple average of embedding. you can change it to anything else as needed\n",
    "embedded = keras.layers.Embedding(tokenizer.num_words, 100)(in_text)\n",
    "gru = keras.layers.GRU(256, dropout=.2, return_sequences=True)(embedded)\n",
    "averaged = tf.reduce_mean(gru, axis=1)\n",
    "\n",
    "\n",
    "# image part \n",
    "# simple conv2d. \n",
    "cov = Conv2D(32, (3, 3))(in_image)\n",
    "pl = MaxPool2D((3, 3))(cov)\n",
    "drop = keras.layers.Dropout(0.1)(pl)\n",
    "flattened = Flatten()(drop)\n",
    "\n",
    "\n",
    "# fusion - combinig both\n",
    "fused = tf.concat([averaged, flattened], axis=-1)\n",
    "\n",
    "# multi-task learning (each is a multi-class classification)\n",
    "# one dense layer for each task\n",
    "p_type = Dense(len_type, activation='softmax', name='type')(fused)\n",
    "p_price = Dense(len_price, activation='softmax', name='price')(fused)\n",
    "\n",
    "\n",
    "# define model input/output using keys.\n",
    "modelV3 = keras.Model(\n",
    "    inputs={\n",
    "        'summary': in_text,\n",
    "        'image': in_image\n",
    "    },\n",
    "    outputs={\n",
    "        'type': p_type,\n",
    "        'price': p_price,\n",
    "    },\n",
    ")\n",
    "\n",
    "\n",
    "# compile model with optimizer, loss values for each task, loss \n",
    "# weights for each task.\n",
    "modelV3.compile(\n",
    "    optimizer=Adam(),\n",
    "    loss={\n",
    "        'type': 'sparse_categorical_crossentropy',\n",
    "        'price': 'sparse_categorical_crossentropy',\n",
    "    },\n",
    "    loss_weights={\n",
    "        'type': 0.5,\n",
    "        'price': 0.5,       \n",
    "    },\n",
    "    metrics={\n",
    "        'type': ['SparseCategoricalAccuracy'],\n",
    "        'price': ['SparseCategoricalAccuracy'],\n",
    "    },\n",
    ")\n",
    "\n",
    "\n",
    "modelV3.summary()"
   ]
  },
  {
   "cell_type": "markdown",
   "metadata": {
    "id": "ix2EelYIiSLQ"
   },
   "source": [
    "### Model Training\n",
    " "
   ]
  },
  {
   "cell_type": "code",
   "execution_count": null,
   "metadata": {
    "execution": {
     "iopub.execute_input": "2023-04-12T06:32:42.702003Z",
     "iopub.status.busy": "2023-04-12T06:32:42.701452Z",
     "iopub.status.idle": "2023-04-12T06:46:12.126168Z",
     "shell.execute_reply": "2023-04-12T06:46:12.124572Z",
     "shell.execute_reply.started": "2023-04-12T06:32:42.701921Z"
    },
    "id": "CSuIvfG1iSLQ",
    "outputId": "fd47fb30-16a8-459d-ecae-eb05a2a44b2e"
   },
   "outputs": [
    {
     "name": "stdout",
     "output_type": "stream",
     "text": [
      "Epoch 1/20\n",
      "367/367 [==============================] - 86s 227ms/step - loss: 31.7441 - price_loss: 27.9363 - type_loss: 35.5519 - price_sparse_categorical_accuracy: 0.5179 - type_sparse_categorical_accuracy: 0.5848 - val_loss: 8.5268 - val_price_loss: 6.6153 - val_type_loss: 10.4383 - val_price_sparse_categorical_accuracy: 0.5784 - val_type_sparse_categorical_accuracy: 0.5607\n",
      "Epoch 2/20\n",
      "367/367 [==============================] - 79s 216ms/step - loss: 6.4579 - price_loss: 5.2495 - type_loss: 7.6663 - price_sparse_categorical_accuracy: 0.5628 - type_sparse_categorical_accuracy: 0.6189 - val_loss: 6.9872 - val_price_loss: 4.8845 - val_type_loss: 9.0899 - val_price_sparse_categorical_accuracy: 0.5437 - val_type_sparse_categorical_accuracy: 0.6855\n",
      "Epoch 3/20\n",
      "367/367 [==============================] - 81s 220ms/step - loss: 7.2790 - price_loss: 5.5297 - type_loss: 9.0283 - price_sparse_categorical_accuracy: 0.5836 - type_sparse_categorical_accuracy: 0.6671 - val_loss: 36.2590 - val_price_loss: 13.7537 - val_type_loss: 58.7643 - val_price_sparse_categorical_accuracy: 0.4161 - val_type_sparse_categorical_accuracy: 0.7688\n",
      "Epoch 4/20\n",
      "367/367 [==============================] - 80s 218ms/step - loss: 7.7913 - price_loss: 6.3472 - type_loss: 9.2354 - price_sparse_categorical_accuracy: 0.6130 - type_sparse_categorical_accuracy: 0.6850 - val_loss: 6.5124 - val_price_loss: 5.0782 - val_type_loss: 7.9466 - val_price_sparse_categorical_accuracy: 0.5123 - val_type_sparse_categorical_accuracy: 0.6623\n",
      "Epoch 5/20\n",
      "367/367 [==============================] - 81s 220ms/step - loss: 2.8329 - price_loss: 2.6605 - type_loss: 3.0054 - price_sparse_categorical_accuracy: 0.6751 - type_sparse_categorical_accuracy: 0.7630 - val_loss: 5.9251 - val_price_loss: 4.6070 - val_type_loss: 7.2431 - val_price_sparse_categorical_accuracy: 0.5055 - val_type_sparse_categorical_accuracy: 0.6317\n",
      "Epoch 6/20\n",
      "367/367 [==============================] - 80s 218ms/step - loss: 2.0292 - price_loss: 2.2045 - type_loss: 1.8539 - price_sparse_categorical_accuracy: 0.7114 - type_sparse_categorical_accuracy: 0.8056 - val_loss: 7.9094 - val_price_loss: 6.2825 - val_type_loss: 9.5363 - val_price_sparse_categorical_accuracy: 0.4986 - val_type_sparse_categorical_accuracy: 0.7210\n",
      "Epoch 7/20\n",
      "367/367 [==============================] - 81s 222ms/step - loss: 2.1271 - price_loss: 2.2905 - type_loss: 1.9637 - price_sparse_categorical_accuracy: 0.7159 - type_sparse_categorical_accuracy: 0.8111 - val_loss: 7.3688 - val_price_loss: 6.4836 - val_type_loss: 8.2541 - val_price_sparse_categorical_accuracy: 0.6098 - val_type_sparse_categorical_accuracy: 0.7121\n",
      "Epoch 8/20\n",
      "367/367 [==============================] - 81s 220ms/step - loss: 48.2737 - price_loss: 27.0033 - type_loss: 69.5440 - price_sparse_categorical_accuracy: 0.6113 - type_sparse_categorical_accuracy: 0.6640 - val_loss: 25.1087 - val_price_loss: 20.4705 - val_type_loss: 29.7468 - val_price_sparse_categorical_accuracy: 0.3240 - val_type_sparse_categorical_accuracy: 0.3315\n",
      "Epoch 9/20\n",
      "367/367 [==============================] - 80s 217ms/step - loss: 4.6127 - price_loss: 2.9003 - type_loss: 6.3252 - price_sparse_categorical_accuracy: 0.7200 - type_sparse_categorical_accuracy: 0.7766 - val_loss: 11.7818 - val_price_loss: 6.3019 - val_type_loss: 17.2618 - val_price_sparse_categorical_accuracy: 0.6112 - val_type_sparse_categorical_accuracy: 0.6153\n",
      "Epoch 10/20\n",
      "367/367 [==============================] - 80s 218ms/step - loss: 2.1007 - price_loss: 1.7155 - type_loss: 2.4859 - price_sparse_categorical_accuracy: 0.7836 - type_sparse_categorical_accuracy: 0.8481 - val_loss: 9.3849 - val_price_loss: 5.7953 - val_type_loss: 12.9746 - val_price_sparse_categorical_accuracy: 0.4993 - val_type_sparse_categorical_accuracy: 0.6842\n"
     ]
    }
   ],
   "source": [
    "history = modelV3.fit(\n",
    "    x={\n",
    "        'summary': x_train_text_id,\n",
    "        'image': x_train_image\n",
    "    },\n",
    "    y={\n",
    "        'type': y_train_type,\n",
    "        'price': y_train_price,\n",
    "    },\n",
    "    epochs=20,\n",
    "    batch_size=16,\n",
    "    validation_split=0.2,\n",
    "    callbacks=[\n",
    "        tf.keras.callbacks.EarlyStopping(monitor='val_price_loss', patience=5, )\n",
    "    ],\n",
    "    verbose=1\n",
    ")"
   ]
  },
  {
   "cell_type": "markdown",
   "metadata": {
    "id": "Tcz-LDtqi8CJ"
   },
   "source": [
    "### Prediction & Save Result"
   ]
  },
  {
   "cell_type": "code",
   "execution_count": null,
   "metadata": {
    "execution": {
     "iopub.execute_input": "2023-04-12T06:46:12.129629Z",
     "iopub.status.busy": "2023-04-12T06:46:12.128490Z",
     "iopub.status.idle": "2023-04-12T06:46:31.809295Z",
     "shell.execute_reply": "2023-04-12T06:46:31.807347Z",
     "shell.execute_reply.started": "2023-04-12T06:46:12.129568Z"
    },
    "id": "jXHj_UYWiSLQ",
    "outputId": "dff0f5f3-667f-4779-e30f-01ac8ceb3100"
   },
   "outputs": [
    {
     "name": "stdout",
     "output_type": "stream",
     "text": [
      "230/230 [==============================] - 19s 80ms/step\n"
     ]
    }
   ],
   "source": [
    "output_file_path = 'ThirdModel.csv'\n",
    "price_predict = predict_on_testing_set(modelV3, x_test_text, x_test_image)\n",
    "create_submission_file(df_test, price_predict, output_file_path)"
   ]
  },
  {
   "cell_type": "markdown",
   "metadata": {
    "id": "xqvLC5aKiSLQ"
   },
   "source": [
    "5. In these trile we use we **translate** the Summary column before use it to train these model, and **vocab_size = 40000**.</br>\n",
    "When we test these model on testing data we get accuracy **60.10%**."
   ]
  },
  {
   "cell_type": "markdown",
   "metadata": {
    "id": "aRycx3GkiSLQ"
   },
   "source": [
    "6. In another trile we use our data **without translate** it, and **vocab_size = 40000**.</br>\n",
    "When we test these model on testing data we get accuracy **50.67%**."
   ]
  },
  {
   "cell_type": "markdown",
   "metadata": {
    "id": "8G31zLA3iSLQ"
   },
   "source": [
    "## Fourth Model"
   ]
  },
  {
   "cell_type": "markdown",
   "metadata": {
    "id": "ndRNuH-4iSLR"
   },
   "source": [
    "This is a **multi-modal deep learning model**, which takes both textual and image data as inputs and predicts two outputs: the type category and the price range category for each Airbnb listing.\n",
    "\n",
    "The model consists of two input layers, one for textual data and one for image data. \n",
    "\n",
    "**The textual input** is fed through an embedding layer and then through a bidirectional LSTM layer for sequential processing, and then through an average pooling layer to produce a fixed-length feature vector.\n",
    "\n",
    "**The image input** is fed through a series of convolutional and max pooling layers to extract features, before being flattened to produce a fixed-length feature vector. \n",
    "\n",
    "**These two feature vectors are then concatenated** and fed through two separate dense output layers with a softmax activation function, one for predicting the type category and one for predicting the price range category."
   ]
  },
  {
   "cell_type": "code",
   "execution_count": null,
   "metadata": {
    "execution": {
     "iopub.execute_input": "2023-04-12T06:46:31.812426Z",
     "iopub.status.busy": "2023-04-12T06:46:31.811873Z",
     "iopub.status.idle": "2023-04-12T06:46:32.595413Z",
     "shell.execute_reply": "2023-04-12T06:46:32.593802Z",
     "shell.execute_reply.started": "2023-04-12T06:46:31.812380Z"
    },
    "id": "w_x6-2l9iSLR",
    "outputId": "aedcbda9-5aa1-4155-ecda-435839529834"
   },
   "outputs": [
    {
     "name": "stdout",
     "output_type": "stream",
     "text": [
      "Model: \"model_3\"\n",
      "__________________________________________________________________________________________________\n",
      " Layer (type)                   Output Shape         Param #     Connected to                     \n",
      "==================================================================================================\n",
      " input_7 (InputLayer)           [(None, 100)]        0           []                               \n",
      "                                                                                                  \n",
      " input_8 (InputLayer)           [(None, 64, 64, 2)]  0           []                               \n",
      "                                                                                                  \n",
      " embedding_3 (Embedding)        (None, 100, 100)     4000000     ['input_7[0][0]']                \n",
      "                                                                                                  \n",
      " conv2d_3 (Conv2D)              (None, 62, 62, 32)   608         ['input_8[0][0]']                \n",
      "                                                                                                  \n",
      " bidirectional (Bidirectional)  (None, 100, 128)     84480       ['embedding_3[0][0]']            \n",
      "                                                                                                  \n",
      " max_pooling2d_3 (MaxPooling2D)  (None, 20, 20, 32)  0           ['conv2d_3[0][0]']               \n",
      "                                                                                                  \n",
      " tf.math.reduce_mean_3 (TFOpLam  (None, 128)         0           ['bidirectional[0][0]']          \n",
      " bda)                                                                                             \n",
      "                                                                                                  \n",
      " flatten_3 (Flatten)            (None, 12800)        0           ['max_pooling2d_3[0][0]']        \n",
      "                                                                                                  \n",
      " tf.concat_3 (TFOpLambda)       (None, 12928)        0           ['tf.math.reduce_mean_3[0][0]',  \n",
      "                                                                  'flatten_3[0][0]']              \n",
      "                                                                                                  \n",
      " price (Dense)                  (None, 3)            38787       ['tf.concat_3[0][0]']            \n",
      "                                                                                                  \n",
      " type (Dense)                   (None, 24)           310296      ['tf.concat_3[0][0]']            \n",
      "                                                                                                  \n",
      "==================================================================================================\n",
      "Total params: 4,434,171\n",
      "Trainable params: 4,434,171\n",
      "Non-trainable params: 0\n",
      "__________________________________________________________________________________________________\n"
     ]
    }
   ],
   "source": [
    "\n",
    "# here we have two inputs. one for image and the other for text.\n",
    "in_text = keras.Input(batch_shape=(None, max_len))\n",
    "in_image = keras.Input(batch_shape=(None, 64, 64, 2))\n",
    "\n",
    "# text part\n",
    "# simple average of embedding with Bidirectional. \n",
    "embedded = keras.layers.Embedding(tokenizer.num_words, 100)(in_text)\n",
    "bidirectional = keras.layers.Bidirectional(keras.layers.LSTM(64, return_sequences=True))(embedded)\n",
    "averaged = tf.reduce_mean(bidirectional, axis=1)\n",
    "\n",
    "\n",
    "# image part \n",
    "# simple conv2d. \n",
    "cov = Conv2D(32, (3, 3))(in_image)\n",
    "pl = MaxPool2D((3, 3))(cov)\n",
    "flattened = Flatten()(pl)\n",
    "\n",
    "\n",
    "# fusion - combinig both\n",
    "fused = tf.concat([averaged, flattened], axis=-1)\n",
    "\n",
    "# multi-task learning (each is a multi-class classification)\n",
    "# one dense layer for each task\n",
    "p_type = Dense(len_type, activation='softmax', name='type')(fused)\n",
    "p_price = Dense(len_price, activation='softmax', name='price')(fused)\n",
    "\n",
    "\n",
    "# define model input/output using keys.\n",
    "modelV4 = keras.Model(\n",
    "    inputs={\n",
    "        'summary': in_text,\n",
    "        'image': in_image\n",
    "    },\n",
    "    outputs={\n",
    "        'type': p_type,\n",
    "        'price': p_price,\n",
    "    },\n",
    ")\n",
    "\n",
    "\n",
    "# compile model with optimizer, loss values for each task, loss \n",
    "# weights for each task.\n",
    "modelV4.compile(\n",
    "    optimizer=Adam(),\n",
    "    loss={\n",
    "        'type': 'sparse_categorical_crossentropy',\n",
    "        'price': 'sparse_categorical_crossentropy',\n",
    "    },\n",
    "    loss_weights={\n",
    "        'type': 0.5,\n",
    "        'price': 0.5,       \n",
    "    },\n",
    "    metrics={\n",
    "        'type': ['SparseCategoricalAccuracy'],\n",
    "        'price': ['SparseCategoricalAccuracy'],\n",
    "    },\n",
    ")\n",
    "\n",
    "\n",
    "modelV4.summary()"
   ]
  },
  {
   "cell_type": "markdown",
   "metadata": {
    "id": "Zg6itH8ZiSLR"
   },
   "source": [
    "### Model Training\n",
    "\n"
   ]
  },
  {
   "cell_type": "code",
   "execution_count": null,
   "metadata": {
    "execution": {
     "iopub.execute_input": "2023-04-12T06:46:32.597850Z",
     "iopub.status.busy": "2023-04-12T06:46:32.597339Z",
     "iopub.status.idle": "2023-04-12T06:54:46.698990Z",
     "shell.execute_reply": "2023-04-12T06:54:46.697861Z",
     "shell.execute_reply.started": "2023-04-12T06:46:32.597797Z"
    },
    "id": "eCA3bYO1iSLR",
    "outputId": "f53da1c5-f624-4701-ce99-22524d8e3b76"
   },
   "outputs": [
    {
     "name": "stdout",
     "output_type": "stream",
     "text": [
      "Epoch 1/20\n",
      "367/367 [==============================] - 56s 139ms/step - loss: 32.0594 - price_loss: 23.5672 - type_loss: 40.5517 - price_sparse_categorical_accuracy: 0.5166 - type_sparse_categorical_accuracy: 0.5923 - val_loss: 15.3271 - val_price_loss: 11.2189 - val_type_loss: 19.4353 - val_price_sparse_categorical_accuracy: 0.4966 - val_type_sparse_categorical_accuracy: 0.3806\n",
      "Epoch 2/20\n",
      "367/367 [==============================] - 48s 132ms/step - loss: 7.9906 - price_loss: 6.4608 - type_loss: 9.5204 - price_sparse_categorical_accuracy: 0.5633 - type_sparse_categorical_accuracy: 0.6287 - val_loss: 8.8057 - val_price_loss: 6.1874 - val_type_loss: 11.4239 - val_price_sparse_categorical_accuracy: 0.5873 - val_type_sparse_categorical_accuracy: 0.6726\n",
      "Epoch 3/20\n",
      "367/367 [==============================] - 48s 132ms/step - loss: 4.7136 - price_loss: 4.2266 - type_loss: 5.2007 - price_sparse_categorical_accuracy: 0.6259 - type_sparse_categorical_accuracy: 0.6824 - val_loss: 7.1979 - val_price_loss: 5.5337 - val_type_loss: 8.8622 - val_price_sparse_categorical_accuracy: 0.5730 - val_type_sparse_categorical_accuracy: 0.6698\n",
      "Epoch 4/20\n",
      "367/367 [==============================] - 48s 132ms/step - loss: 3.5992 - price_loss: 3.4377 - type_loss: 3.7607 - price_sparse_categorical_accuracy: 0.6246 - type_sparse_categorical_accuracy: 0.7075 - val_loss: 8.5230 - val_price_loss: 7.6516 - val_type_loss: 9.3945 - val_price_sparse_categorical_accuracy: 0.5689 - val_type_sparse_categorical_accuracy: 0.4550\n",
      "Epoch 5/20\n",
      "367/367 [==============================] - 49s 132ms/step - loss: 2.9000 - price_loss: 2.8682 - type_loss: 2.9318 - price_sparse_categorical_accuracy: 0.6664 - type_sparse_categorical_accuracy: 0.7451 - val_loss: 7.2233 - val_price_loss: 4.9787 - val_type_loss: 9.4679 - val_price_sparse_categorical_accuracy: 0.5921 - val_type_sparse_categorical_accuracy: 0.7053\n",
      "Epoch 6/20\n",
      "367/367 [==============================] - 49s 132ms/step - loss: 3.4697 - price_loss: 2.9303 - type_loss: 4.0092 - price_sparse_categorical_accuracy: 0.6962 - type_sparse_categorical_accuracy: 0.7333 - val_loss: 15.8064 - val_price_loss: 6.5477 - val_type_loss: 25.0652 - val_price_sparse_categorical_accuracy: 0.4311 - val_type_sparse_categorical_accuracy: 0.3206\n",
      "Epoch 7/20\n",
      "367/367 [==============================] - 49s 133ms/step - loss: 24.3149 - price_loss: 15.3677 - type_loss: 33.2621 - price_sparse_categorical_accuracy: 0.6167 - type_sparse_categorical_accuracy: 0.6497 - val_loss: 16.5318 - val_price_loss: 9.5020 - val_type_loss: 23.5615 - val_price_sparse_categorical_accuracy: 0.4727 - val_type_sparse_categorical_accuracy: 0.7265\n",
      "Epoch 8/20\n",
      "367/367 [==============================] - 49s 134ms/step - loss: 14.1281 - price_loss: 6.3930 - type_loss: 21.8632 - price_sparse_categorical_accuracy: 0.6824 - type_sparse_categorical_accuracy: 0.7104 - val_loss: 12.1523 - val_price_loss: 7.3910 - val_type_loss: 16.9137 - val_price_sparse_categorical_accuracy: 0.4993 - val_type_sparse_categorical_accuracy: 0.5505\n",
      "Epoch 9/20\n",
      "367/367 [==============================] - 49s 133ms/step - loss: 2.4416 - price_loss: 1.7430 - type_loss: 3.1402 - price_sparse_categorical_accuracy: 0.7904 - type_sparse_categorical_accuracy: 0.8292 - val_loss: 11.4699 - val_price_loss: 5.5400 - val_type_loss: 17.3997 - val_price_sparse_categorical_accuracy: 0.5723 - val_type_sparse_categorical_accuracy: 0.4952\n",
      "Epoch 10/20\n",
      "367/367 [==============================] - 49s 133ms/step - loss: 1.3528 - price_loss: 1.0211 - type_loss: 1.6846 - price_sparse_categorical_accuracy: 0.8375 - type_sparse_categorical_accuracy: 0.8766 - val_loss: 10.0855 - val_price_loss: 5.4658 - val_type_loss: 14.7053 - val_price_sparse_categorical_accuracy: 0.5907 - val_type_sparse_categorical_accuracy: 0.5941\n"
     ]
    }
   ],
   "source": [
    "history = modelV4.fit(\n",
    "    x={\n",
    "        'summary': x_train_text_id,\n",
    "        'image': x_train_image\n",
    "    },\n",
    "    y={\n",
    "        'type': y_train_type,\n",
    "        'price': y_train_price,\n",
    "    },\n",
    "    epochs=20,\n",
    "    batch_size=16,\n",
    "    validation_split=0.2,\n",
    "    callbacks=[\n",
    "        tf.keras.callbacks.EarlyStopping(monitor='val_price_loss', patience=5, )\n",
    "    ],\n",
    "    verbose=1\n",
    ")"
   ]
  },
  {
   "cell_type": "markdown",
   "metadata": {
    "id": "Z-sjQOnFi9JZ"
   },
   "source": [
    "### Prediction & Save Result"
   ]
  },
  {
   "cell_type": "code",
   "execution_count": null,
   "metadata": {
    "execution": {
     "iopub.execute_input": "2023-04-12T06:54:46.704157Z",
     "iopub.status.busy": "2023-04-12T06:54:46.703660Z",
     "iopub.status.idle": "2023-04-12T06:54:58.427386Z",
     "shell.execute_reply": "2023-04-12T06:54:58.425919Z",
     "shell.execute_reply.started": "2023-04-12T06:54:46.704114Z"
    },
    "id": "UdjncCKziSLR",
    "outputId": "25a5fba4-e412-4c00-9948-5562069c12b4"
   },
   "outputs": [
    {
     "name": "stdout",
     "output_type": "stream",
     "text": [
      "230/230 [==============================] - 10s 37ms/step\n"
     ]
    }
   ],
   "source": [
    "output_file_path = 'FourthModel.csv'\n",
    "price_predict = predict_on_testing_set(modelV4, x_test_text, x_test_image)\n",
    "create_submission_file(df_test, price_predict, output_file_path)"
   ]
  },
  {
   "cell_type": "markdown",
   "metadata": {
    "id": "0E_hLtQiiSLR"
   },
   "source": [
    "7. In these trile we use we **translate** the Summary column before use it to train these model, and **vocab_size = 40000**.</br>\n",
    "When we test these model on testing data we get accuracy **56.41%**."
   ]
  },
  {
   "cell_type": "markdown",
   "metadata": {
    "id": "6REp54a-iSLS"
   },
   "source": [
    "8. In another trile we use our data **without translate** it, and **vocab_size = 40000**.</br>\n",
    "When we test these model on testing data we get accuracy **59.78%**."
   ]
  },
  {
   "cell_type": "markdown",
   "metadata": {
    "id": "ELoJrPO0iSLS"
   },
   "source": [
    "## Fifith Model"
   ]
  },
  {
   "cell_type": "markdown",
   "metadata": {
    "id": "Xu1l5GAkiSLS"
   },
   "source": [
    "This is a deep learning model for the Airbnb problem, which takes textual data as input and predicts the price range category for each Airbnb listing.\n",
    "\n",
    "The model consists of a **single input layer for textual data**, which is fed through an embedding layer and then through a GRU layer to produce a fixed-length feature vector. The output layer uses a sigmoid activation function to produce a probability distribution over the possible price range categories."
   ]
  },
  {
   "cell_type": "code",
   "execution_count": null,
   "metadata": {
    "execution": {
     "iopub.execute_input": "2023-04-12T14:11:19.240899Z",
     "iopub.status.busy": "2023-04-12T14:11:19.240469Z",
     "iopub.status.idle": "2023-04-12T14:11:19.643185Z",
     "shell.execute_reply": "2023-04-12T14:11:19.641792Z",
     "shell.execute_reply.started": "2023-04-12T14:11:19.240858Z"
    },
    "id": "duP1NCtHiSLS"
   },
   "outputs": [],
   "source": [
    "# define input shape\n",
    "max_len = 100 # maximum length of input sequences\n",
    "vocab_size = 70000 # size of the vocabulary\n",
    "\n",
    "# define model architecture\n",
    "inputs = tf.keras.Input(shape=(max_len,))\n",
    "x = tf.keras.layers.Embedding(vocab_size, 128)(inputs)\n",
    "x = tf.keras.layers.GRU(128)(x)\n",
    "outputs = tf.keras.layers.Dense(len_price, activation='sigmoid')(x)\n",
    "\n",
    "# compile the model\n",
    "modelV5 = tf.keras.Model(inputs=inputs, outputs=outputs)\n",
    "modelV5.compile(optimizer='adam', loss='sparse_categorical_crossentropy', metrics=['accuracy'])"
   ]
  },
  {
   "cell_type": "markdown",
   "metadata": {
    "id": "9XRYdU0jjH7p"
   },
   "source": [
    "### Model Training\n",
    "\n"
   ]
  },
  {
   "cell_type": "code",
   "execution_count": null,
   "metadata": {
    "execution": {
     "iopub.execute_input": "2023-04-12T14:11:19.645202Z",
     "iopub.status.busy": "2023-04-12T14:11:19.644827Z",
     "iopub.status.idle": "2023-04-12T14:40:43.852040Z",
     "shell.execute_reply": "2023-04-12T14:40:43.850587Z",
     "shell.execute_reply.started": "2023-04-12T14:11:19.645166Z"
    },
    "id": "4XtEkhU6iSLS",
    "outputId": "837dea03-1bea-40be-b7b1-90d65a2afc59"
   },
   "outputs": [
    {
     "name": "stdout",
     "output_type": "stream",
     "text": [
      "Epoch 1/20\n",
      "367/367 [==============================] - 89s 235ms/step - loss: 0.8456 - accuracy: 0.6195 - val_loss: 0.8352 - val_accuracy: 0.6241\n",
      "Epoch 2/20\n",
      "367/367 [==============================] - 86s 233ms/step - loss: 0.8397 - accuracy: 0.6196 - val_loss: 0.8151 - val_accuracy: 0.6241\n",
      "Epoch 3/20\n",
      "367/367 [==============================] - 86s 236ms/step - loss: 0.7607 - accuracy: 0.6604 - val_loss: 0.7267 - val_accuracy: 0.6692\n",
      "Epoch 4/20\n",
      "367/367 [==============================] - 87s 236ms/step - loss: 0.5885 - accuracy: 0.7645 - val_loss: 0.7855 - val_accuracy: 0.6637\n",
      "Epoch 5/20\n",
      "367/367 [==============================] - 86s 235ms/step - loss: 0.4473 - accuracy: 0.8333 - val_loss: 0.8904 - val_accuracy: 0.6494\n",
      "Epoch 6/20\n",
      "367/367 [==============================] - 87s 236ms/step - loss: 0.3466 - accuracy: 0.8737 - val_loss: 0.9436 - val_accuracy: 0.6405\n",
      "Epoch 7/20\n",
      "367/367 [==============================] - 87s 237ms/step - loss: 0.2930 - accuracy: 0.8906 - val_loss: 1.1604 - val_accuracy: 0.6473\n",
      "Epoch 8/20\n",
      "367/367 [==============================] - 87s 236ms/step - loss: 0.2480 - accuracy: 0.9075 - val_loss: 1.1726 - val_accuracy: 0.6235\n",
      "Epoch 9/20\n",
      "367/367 [==============================] - 87s 238ms/step - loss: 0.2027 - accuracy: 0.9275 - val_loss: 1.3145 - val_accuracy: 0.6037\n",
      "Epoch 10/20\n",
      "367/367 [==============================] - 87s 236ms/step - loss: 0.1604 - accuracy: 0.9427 - val_loss: 1.2932 - val_accuracy: 0.6276\n",
      "Epoch 11/20\n",
      "367/367 [==============================] - 88s 239ms/step - loss: 0.1287 - accuracy: 0.9582 - val_loss: 1.4499 - val_accuracy: 0.6235\n",
      "Epoch 12/20\n",
      "367/367 [==============================] - 87s 238ms/step - loss: 0.1074 - accuracy: 0.9662 - val_loss: 1.6626 - val_accuracy: 0.6119\n",
      "Epoch 13/20\n",
      "367/367 [==============================] - 87s 237ms/step - loss: 0.0925 - accuracy: 0.9688 - val_loss: 1.5361 - val_accuracy: 0.6146\n",
      "Epoch 14/20\n",
      "367/367 [==============================] - 87s 237ms/step - loss: 0.0835 - accuracy: 0.9730 - val_loss: 1.7909 - val_accuracy: 0.5941\n",
      "Epoch 15/20\n",
      "367/367 [==============================] - 87s 237ms/step - loss: 0.0823 - accuracy: 0.9710 - val_loss: 1.5908 - val_accuracy: 0.6241\n",
      "Epoch 16/20\n",
      "367/367 [==============================] - 87s 237ms/step - loss: 0.0782 - accuracy: 0.9729 - val_loss: 1.7602 - val_accuracy: 0.6262\n",
      "Epoch 17/20\n",
      "367/367 [==============================] - 87s 238ms/step - loss: 0.0680 - accuracy: 0.9763 - val_loss: 1.7422 - val_accuracy: 0.6160\n",
      "Epoch 18/20\n",
      "367/367 [==============================] - 86s 235ms/step - loss: 0.0639 - accuracy: 0.9771 - val_loss: 1.7079 - val_accuracy: 0.6289\n",
      "Epoch 19/20\n",
      "367/367 [==============================] - 86s 234ms/step - loss: 0.0600 - accuracy: 0.9792 - val_loss: 1.6118 - val_accuracy: 0.6146\n",
      "Epoch 20/20\n",
      "367/367 [==============================] - 87s 236ms/step - loss: 0.0503 - accuracy: 0.9807 - val_loss: 2.0362 - val_accuracy: 0.6064\n"
     ]
    }
   ],
   "source": [
    "history = modelV5.fit(\n",
    "    x= x_train_text_id,\n",
    "    y= y_train_price,\n",
    "    epochs=20,\n",
    "    batch_size=16,\n",
    "    validation_split=0.2,\n",
    "    callbacks=[\n",
    "        tf.keras.callbacks.EarlyStopping(monitor='val_price_loss', patience=5, )\n",
    "    ],\n",
    "    verbose=1\n",
    ")"
   ]
  },
  {
   "cell_type": "markdown",
   "metadata": {
    "id": "yjbjNiZMi-i5"
   },
   "source": [
    "### Prediction & Save Result"
   ]
  },
  {
   "cell_type": "code",
   "execution_count": null,
   "metadata": {
    "execution": {
     "iopub.execute_input": "2023-04-12T14:40:43.857253Z",
     "iopub.status.busy": "2023-04-12T14:40:43.855863Z",
     "iopub.status.idle": "2023-04-12T14:40:54.555120Z",
     "shell.execute_reply": "2023-04-12T14:40:54.553935Z",
     "shell.execute_reply.started": "2023-04-12T14:40:43.857188Z"
    },
    "id": "UvrqOn08iSLS",
    "outputId": "0379088d-4bd9-4246-eff0-fe88058a2bf0"
   },
   "outputs": [
    {
     "name": "stdout",
     "output_type": "stream",
     "text": [
      "230/230 [==============================] - 7s 28ms/step\n"
     ]
    }
   ],
   "source": [
    "\n",
    "y_predict = modelV5.predict(x_test_text)\n",
    "price_predicted = y_predict\n",
    "price_category_predicted = np.argmax(price_predicted, axis=1)"
   ]
  },
  {
   "cell_type": "code",
   "execution_count": null,
   "metadata": {
    "execution": {
     "iopub.execute_input": "2023-04-12T14:40:54.558197Z",
     "iopub.status.busy": "2023-04-12T14:40:54.557020Z",
     "iopub.status.idle": "2023-04-12T14:40:54.577729Z",
     "shell.execute_reply": "2023-04-12T14:40:54.576365Z",
     "shell.execute_reply.started": "2023-04-12T14:40:54.558141Z"
    },
    "id": "TMiXUWdqiSLS"
   },
   "outputs": [],
   "source": [
    "output_file_path = 'FifthModel.csv'\n",
    "create_submission_file(df_test, price_category_predicted, output_file_path)"
   ]
  },
  {
   "cell_type": "markdown",
   "metadata": {
    "id": "1bbWAnmWiSLS"
   },
   "source": [
    "9. In these trile we use **we translate** the Summary column before use it to train our model, and **vocab_size = 40000**.</br>\n",
    "When we test these model on testing data we get accuracy **62.47%** which is the good accuracy until now"
   ]
  },
  {
   "cell_type": "markdown",
   "metadata": {
    "id": "iFyWpVGniSLS"
   },
   "source": [
    "10. In another trile we use our data **without translate** it, and **vocab_size = 40000**.</br>\n",
    "When we test these model on testing data we get accuracy **64.64%** which is the good accuracy until now"
   ]
  },
  {
   "cell_type": "markdown",
   "metadata": {
    "id": "h_7cn78hiSLT"
   },
   "source": [
    "11. In another trile we use our data **without translate** it and use **vocab_size = 10000**.</br>\n",
    "When we test these model on testing data we get accuracy **64.972%**. From that we can notice that when we used small number of vocabs the accuracy increased"
   ]
  },
  {
   "cell_type": "markdown",
   "metadata": {
    "id": "YS427_FsiSLT"
   },
   "source": [
    "12. In another trile we use our data **without translate** it and use **vocab_size = 70000**.</br>\n",
    "When we test these model on testing data we get accuracy **61.06%**.\n",
    "From That we can notice that the accuracy reduced when we increase number of vocabs."
   ]
  },
  {
   "cell_type": "markdown",
   "metadata": {
    "id": "CR2n20r3ocBF"
   },
   "source": [
    "**The reason for the above** result is when educing the number of vocabulary words in the model can sometimes improve accuracy because it reduces the amount of noise in the data and allows the model to focus on more relevant features. When the model has to process a large number of vocabulary words, it may struggle to distinguish between important and unimportant features, leading to overfitting and reduced accuracy."
   ]
  },
  {
   "cell_type": "markdown",
   "metadata": {
    "id": "AS63GQiciSLT"
   },
   "source": [
    "## Six Model "
   ]
  },
  {
   "cell_type": "markdown",
   "metadata": {
    "id": "Z2bq416EiSLT"
   },
   "source": [
    "This is a deep learning model for the Airbnb problem, which takes image data as input and predicts the price range category for each Airbnb listing.\n",
    "\n",
    "The model consists of a **single input layer for image data**, which is fed through a series of convolutional and max pooling layers to extract features, before being flattened and fed through several dense layers to produce a fixed-length feature vector. The output layer uses a softmax activation function to produce a probability distribution over the possible price range categories."
   ]
  },
  {
   "cell_type": "code",
   "execution_count": null,
   "metadata": {
    "execution": {
     "iopub.execute_input": "2023-04-12T07:34:52.650944Z",
     "iopub.status.busy": "2023-04-12T07:34:52.650270Z",
     "iopub.status.idle": "2023-04-12T07:34:52.773631Z",
     "shell.execute_reply": "2023-04-12T07:34:52.772229Z",
     "shell.execute_reply.started": "2023-04-12T07:34:52.650889Z"
    },
    "id": "t4nuZqnNiSLT"
   },
   "outputs": [],
   "source": [
    "# define input shape\n",
    "img_height = 64 # height of input images\n",
    "img_width = 64 # width of input images\n",
    "num_channels = 1 # number of color channels in input images\n",
    "\n",
    "\n",
    "# define model architecture\n",
    "inputs = tf.keras.Input(batch_shape=(None, 64, 64, 2))\n",
    "x = tf.keras.layers.Conv2D(32, (3, 3), activation='relu')(inputs)\n",
    "x = tf.keras.layers.MaxPooling2D((2, 2))(x)\n",
    "x = tf.keras.layers.Conv2D(64, (3, 3), activation='relu')(x)\n",
    "x = tf.keras.layers.MaxPooling2D((2, 2))(x)\n",
    "x = tf.keras.layers.Conv2D(128, (3, 3), activation='relu')(x)\n",
    "x = tf.keras.layers.MaxPooling2D((2, 2))(x)\n",
    "x = tf.keras.layers.Flatten()(x)\n",
    "x = tf.keras.layers.Dense(256, activation='relu')(x)\n",
    "x = tf.keras.layers.Dropout(0.5)(x)\n",
    "outputs = tf.keras.layers.Dense(len_price, activation='softmax')(x)\n",
    "\n",
    "# compile the model\n",
    "modelV6 = tf.keras.Model(inputs=inputs, outputs=outputs)\n",
    "modelV6.compile(optimizer='adam', loss='sparse_categorical_crossentropy', metrics=['accuracy'])"
   ]
  },
  {
   "cell_type": "markdown",
   "metadata": {
    "id": "XKHm6V3ojI45"
   },
   "source": [
    "### Model Training\n",
    "\n"
   ]
  },
  {
   "cell_type": "code",
   "execution_count": null,
   "metadata": {
    "execution": {
     "iopub.execute_input": "2023-04-12T07:34:52.776080Z",
     "iopub.status.busy": "2023-04-12T07:34:52.775681Z",
     "iopub.status.idle": "2023-04-12T07:43:58.284782Z",
     "shell.execute_reply": "2023-04-12T07:43:58.283801Z",
     "shell.execute_reply.started": "2023-04-12T07:34:52.776043Z"
    },
    "id": "og1-C0jWiSLT",
    "outputId": "a4f3c589-5553-49d1-8171-5ddb084f3dad"
   },
   "outputs": [
    {
     "name": "stdout",
     "output_type": "stream",
     "text": [
      "Epoch 1/20\n",
      "229/229 [==============================] - 29s 120ms/step - loss: 2.3091 - accuracy: 0.5894\n",
      "Epoch 2/20\n",
      "229/229 [==============================] - 27s 119ms/step - loss: 0.8552 - accuracy: 0.6141\n",
      "Epoch 3/20\n",
      "229/229 [==============================] - 27s 120ms/step - loss: 0.8603 - accuracy: 0.6137\n",
      "Epoch 4/20\n",
      "229/229 [==============================] - 27s 120ms/step - loss: 0.9012 - accuracy: 0.6160\n",
      "Epoch 5/20\n",
      "229/229 [==============================] - 27s 117ms/step - loss: 0.8713 - accuracy: 0.6205\n",
      "Epoch 6/20\n",
      "229/229 [==============================] - 27s 119ms/step - loss: 0.8557 - accuracy: 0.6205\n",
      "Epoch 7/20\n",
      "229/229 [==============================] - 27s 119ms/step - loss: 0.8383 - accuracy: 0.6208\n",
      "Epoch 8/20\n",
      "229/229 [==============================] - 27s 119ms/step - loss: 0.8366 - accuracy: 0.6205\n",
      "Epoch 9/20\n",
      "229/229 [==============================] - 27s 118ms/step - loss: 0.8378 - accuracy: 0.6205\n",
      "Epoch 10/20\n",
      "229/229 [==============================] - 27s 118ms/step - loss: 0.8367 - accuracy: 0.6205\n",
      "Epoch 11/20\n",
      "229/229 [==============================] - 27s 119ms/step - loss: 0.8377 - accuracy: 0.6205\n",
      "Epoch 12/20\n",
      "229/229 [==============================] - 27s 117ms/step - loss: 0.8379 - accuracy: 0.6205\n",
      "Epoch 13/20\n",
      "229/229 [==============================] - 27s 119ms/step - loss: 0.8373 - accuracy: 0.6205\n",
      "Epoch 14/20\n",
      "229/229 [==============================] - 27s 119ms/step - loss: 0.8374 - accuracy: 0.6205\n",
      "Epoch 15/20\n",
      "229/229 [==============================] - 27s 119ms/step - loss: 0.8359 - accuracy: 0.6205\n",
      "Epoch 16/20\n",
      "229/229 [==============================] - 27s 119ms/step - loss: 0.8375 - accuracy: 0.6205\n",
      "Epoch 17/20\n",
      "229/229 [==============================] - 27s 119ms/step - loss: 0.8362 - accuracy: 0.6205\n",
      "Epoch 18/20\n",
      "229/229 [==============================] - 27s 119ms/step - loss: 0.8366 - accuracy: 0.6205\n",
      "Epoch 19/20\n",
      "229/229 [==============================] - 27s 119ms/step - loss: 0.8367 - accuracy: 0.6205\n",
      "Epoch 20/20\n",
      "229/229 [==============================] - 27s 117ms/step - loss: 0.8369 - accuracy: 0.6205\n"
     ]
    }
   ],
   "source": [
    "history = modelV6.fit(\n",
    "    x= x_train_image,\n",
    "    y= y_train_price,\n",
    "    epochs=20,\n",
    "    batch_size=32,\n",
    "#     validation_split=0.2,\n",
    "    callbacks=[\n",
    "        tf.keras.callbacks.EarlyStopping(monitor='val_price_loss', patience=5, )\n",
    "    ],\n",
    "    verbose=1\n",
    ")"
   ]
  },
  {
   "cell_type": "markdown",
   "metadata": {
    "id": "ta7xE1mgi_pZ"
   },
   "source": [
    "### Prediction & Save Result"
   ]
  },
  {
   "cell_type": "code",
   "execution_count": null,
   "metadata": {
    "execution": {
     "iopub.execute_input": "2023-04-12T07:43:58.287489Z",
     "iopub.status.busy": "2023-04-12T07:43:58.287126Z",
     "iopub.status.idle": "2023-04-12T07:44:06.941787Z",
     "shell.execute_reply": "2023-04-12T07:44:06.940802Z",
     "shell.execute_reply.started": "2023-04-12T07:43:58.287457Z"
    },
    "id": "DYOU692FiSLT",
    "outputId": "22f618fe-668e-4d31-87ac-779ccd343fc9"
   },
   "outputs": [
    {
     "name": "stdout",
     "output_type": "stream",
     "text": [
      "230/230 [==============================] - 8s 33ms/step\n"
     ]
    }
   ],
   "source": [
    "y_predict = modelV6.predict( x_test_image)\n",
    "price_predicted = y_predict\n",
    "price_category_predicted = np.argmax(price_predicted, axis=1)"
   ]
  },
  {
   "cell_type": "code",
   "execution_count": null,
   "metadata": {
    "execution": {
     "iopub.execute_input": "2023-04-12T07:44:06.944463Z",
     "iopub.status.busy": "2023-04-12T07:44:06.943259Z",
     "iopub.status.idle": "2023-04-12T07:44:06.959918Z",
     "shell.execute_reply": "2023-04-12T07:44:06.958563Z",
     "shell.execute_reply.started": "2023-04-12T07:44:06.944422Z"
    },
    "id": "dPfeLZPRiSLT"
   },
   "outputs": [],
   "source": [
    "output_file_path = 'SixModel.csv'\n",
    "create_submission_file(df_test, price_category_predicted, output_file_path)"
   ]
  },
  {
   "cell_type": "markdown",
   "metadata": {
    "id": "ezZvBuaOiSLU"
   },
   "source": [
    "13. When we test these model on testing data we get accuracy **62.03%**."
   ]
  },
  {
   "cell_type": "markdown",
   "metadata": {
    "id": "QxYii9EfiSLU"
   },
   "source": [
    "## Seven Model "
   ]
  },
  {
   "cell_type": "markdown",
   "metadata": {
    "id": "cEnc9A7tiSLU"
   },
   "source": [
    "This is a **multi-modal** deep learning model for the Airbnb problem, which takes both textual and image data as inputs and predicts the price range category for each Airbnb listing.\n",
    "\n",
    "The model consists of two input layers, one for textual data and one for image data. \n",
    "\n",
    "**The textual input** is fed through an embedding layer and then through a GRU layer to produce a fixed-length feature vector. \n",
    "\n",
    "**The image input** is fed through a series of convolutional and max pooling layers to extract features, before being flattened and fed through several dense layers to produce a fixed-length feature vector. These two feature vectors are then concatenated and fed through a dense output layer with a softmax activation function, which produces a probability distribution over the possible price range categories."
   ]
  },
  {
   "cell_type": "code",
   "execution_count": null,
   "metadata": {
    "execution": {
     "iopub.execute_input": "2023-04-12T13:48:22.729269Z",
     "iopub.status.busy": "2023-04-12T13:48:22.727836Z",
     "iopub.status.idle": "2023-04-12T13:48:23.190734Z",
     "shell.execute_reply": "2023-04-12T13:48:23.189376Z",
     "shell.execute_reply.started": "2023-04-12T13:48:22.729219Z"
    },
    "id": "HOxUgQ1liSLU"
   },
   "outputs": [],
   "source": [
    "\n",
    "# define input shapes\n",
    "max_len = 100 # maximum length of input sequences\n",
    "vocab_size = 10000 # size of the vocabulary\n",
    "img_height = 64 # height of input images\n",
    "img_width = 64 # width of input images\n",
    "num_channels = 2 # number of color channels in input images\n",
    "\n",
    "# define text model architecture\n",
    "text_inputs = tf.keras.Input(shape=(max_len,))\n",
    "x = tf.keras.layers.Embedding(vocab_size, 128)(text_inputs)\n",
    "x = tf.keras.layers.GRU(128)(x)\n",
    "text_outputs = tf.keras.layers.Dense(64, activation='relu')(x)\n",
    "\n",
    "# define image model architecture\n",
    "image_inputs = tf.keras.Input(shape=(img_height, img_width, num_channels))\n",
    "x = tf.keras.layers.Conv2D(32, (3, 3), activation='relu')(image_inputs)\n",
    "x = tf.keras.layers.MaxPooling2D((2, 2))(x)\n",
    "x = tf.keras.layers.Conv2D(64, (3, 3), activation='relu')(x)\n",
    "x = tf.keras.layers.MaxPooling2D((2, 2))(x)\n",
    "x = tf.keras.layers.Conv2D(128, (3, 3), activation='relu')(x)\n",
    "x = tf.keras.layers.MaxPooling2D((2, 2))(x)\n",
    "x = tf.keras.layers.Flatten()(x)\n",
    "x = tf.keras.layers.Dense(256, activation='relu')(x)\n",
    "x = tf.keras.layers.Dropout(0.5)(x)\n",
    "image_outputs = tf.keras.layers.Dense(64, activation='relu')(x)\n",
    "\n",
    "# concatenate text and image features\n",
    "concatenated = tf.keras.layers.concatenate([text_outputs, image_outputs])\n",
    "\n",
    "# define output layer\n",
    "outputs = tf.keras.layers.Dense(len_price, activation='softmax')(concatenated)\n",
    "\n",
    "# compile the model\n",
    "modelV7 = tf.keras.Model(inputs=[text_inputs, image_inputs], outputs=outputs)\n",
    "modelV7.compile(optimizer='adam', loss='sparse_categorical_crossentropy', metrics=['accuracy'])"
   ]
  },
  {
   "cell_type": "code",
   "execution_count": null,
   "metadata": {
    "execution": {
     "iopub.execute_input": "2023-04-12T07:44:07.385455Z",
     "iopub.status.busy": "2023-04-12T07:44:07.384750Z",
     "iopub.status.idle": "2023-04-12T07:44:07.441421Z",
     "shell.execute_reply": "2023-04-12T07:44:07.439042Z",
     "shell.execute_reply.started": "2023-04-12T07:44:07.385399Z"
    },
    "id": "zaDCFvZiiSLU",
    "outputId": "75a8a4c2-4cd4-4332-89d6-e0a211ef1ad9"
   },
   "outputs": [
    {
     "name": "stdout",
     "output_type": "stream",
     "text": [
      "Model: \"model_7\"\n",
      "__________________________________________________________________________________________________\n",
      " Layer (type)                   Output Shape         Param #     Connected to                     \n",
      "==================================================================================================\n",
      " input_13 (InputLayer)          [(None, 64, 64, 2)]  0           []                               \n",
      "                                                                                                  \n",
      " conv2d_7 (Conv2D)              (None, 62, 62, 32)   608         ['input_13[0][0]']               \n",
      "                                                                                                  \n",
      " max_pooling2d_7 (MaxPooling2D)  (None, 31, 31, 32)  0           ['conv2d_7[0][0]']               \n",
      "                                                                                                  \n",
      " conv2d_8 (Conv2D)              (None, 29, 29, 64)   18496       ['max_pooling2d_7[0][0]']        \n",
      "                                                                                                  \n",
      " max_pooling2d_8 (MaxPooling2D)  (None, 14, 14, 64)  0           ['conv2d_8[0][0]']               \n",
      "                                                                                                  \n",
      " conv2d_9 (Conv2D)              (None, 12, 12, 128)  73856       ['max_pooling2d_8[0][0]']        \n",
      "                                                                                                  \n",
      " max_pooling2d_9 (MaxPooling2D)  (None, 6, 6, 128)   0           ['conv2d_9[0][0]']               \n",
      "                                                                                                  \n",
      " input_12 (InputLayer)          [(None, 100)]        0           []                               \n",
      "                                                                                                  \n",
      " flatten_5 (Flatten)            (None, 4608)         0           ['max_pooling2d_9[0][0]']        \n",
      "                                                                                                  \n",
      " embedding_6 (Embedding)        (None, 100, 128)     5120000     ['input_12[0][0]']               \n",
      "                                                                                                  \n",
      " dense_5 (Dense)                (None, 256)          1179904     ['flatten_5[0][0]']              \n",
      "                                                                                                  \n",
      " gru_3 (GRU)                    (None, 128)          99072       ['embedding_6[0][0]']            \n",
      "                                                                                                  \n",
      " dropout_2 (Dropout)            (None, 256)          0           ['dense_5[0][0]']                \n",
      "                                                                                                  \n",
      " dense_4 (Dense)                (None, 64)           8256        ['gru_3[0][0]']                  \n",
      "                                                                                                  \n",
      " dense_6 (Dense)                (None, 64)           16448       ['dropout_2[0][0]']              \n",
      "                                                                                                  \n",
      " concatenate (Concatenate)      (None, 128)          0           ['dense_4[0][0]',                \n",
      "                                                                  'dense_6[0][0]']                \n",
      "                                                                                                  \n",
      " dense_7 (Dense)                (None, 3)            387         ['concatenate[0][0]']            \n",
      "                                                                                                  \n",
      "==================================================================================================\n",
      "Total params: 6,517,027\n",
      "Trainable params: 6,517,027\n",
      "Non-trainable params: 0\n",
      "__________________________________________________________________________________________________\n"
     ]
    }
   ],
   "source": [
    "modelV7.summary()"
   ]
  },
  {
   "cell_type": "markdown",
   "metadata": {
    "id": "bCOyIQa4jJo5"
   },
   "source": [
    "### Model Training\n",
    "\n"
   ]
  },
  {
   "cell_type": "code",
   "execution_count": null,
   "metadata": {
    "execution": {
     "iopub.execute_input": "2023-04-12T13:48:23.195968Z",
     "iopub.status.busy": "2023-04-12T13:48:23.195589Z",
     "iopub.status.idle": "2023-04-12T14:05:45.428947Z",
     "shell.execute_reply": "2023-04-12T14:05:45.427425Z",
     "shell.execute_reply.started": "2023-04-12T13:48:23.195936Z"
    },
    "id": "AevF6QpoiSLU",
    "outputId": "b6a8c450-4945-4756-e562-9a647e4ac6d4"
   },
   "outputs": [
    {
     "name": "stdout",
     "output_type": "stream",
     "text": [
      "Epoch 1/20\n",
      "229/229 [==============================] - 57s 232ms/step - loss: 1.3149 - accuracy: 0.6080\n",
      "Epoch 2/20\n",
      "229/229 [==============================] - 53s 231ms/step - loss: 0.8396 - accuracy: 0.6205\n",
      "Epoch 3/20\n",
      "229/229 [==============================] - 53s 230ms/step - loss: 0.8281 - accuracy: 0.6231\n",
      "Epoch 4/20\n",
      "229/229 [==============================] - 53s 230ms/step - loss: 0.7011 - accuracy: 0.6956\n",
      "Epoch 5/20\n",
      "229/229 [==============================] - 52s 229ms/step - loss: 0.5582 - accuracy: 0.7720\n",
      "Epoch 6/20\n",
      "229/229 [==============================] - 54s 235ms/step - loss: 0.4301 - accuracy: 0.8347\n",
      "Epoch 7/20\n",
      "229/229 [==============================] - 53s 229ms/step - loss: 0.3370 - accuracy: 0.8765\n",
      "Epoch 8/20\n",
      "229/229 [==============================] - 51s 223ms/step - loss: 0.2576 - accuracy: 0.9076\n",
      "Epoch 9/20\n",
      "229/229 [==============================] - 50s 219ms/step - loss: 0.2104 - accuracy: 0.9274\n",
      "Epoch 10/20\n",
      "229/229 [==============================] - 51s 222ms/step - loss: 0.1661 - accuracy: 0.9440\n",
      "Epoch 11/20\n",
      "229/229 [==============================] - 51s 224ms/step - loss: 0.1372 - accuracy: 0.9559\n",
      "Epoch 12/20\n",
      "229/229 [==============================] - 51s 221ms/step - loss: 0.1164 - accuracy: 0.9621\n",
      "Epoch 13/20\n",
      "229/229 [==============================] - 51s 223ms/step - loss: 0.1133 - accuracy: 0.9637\n",
      "Epoch 14/20\n",
      "229/229 [==============================] - 50s 220ms/step - loss: 0.0984 - accuracy: 0.9666\n",
      "Epoch 15/20\n",
      "229/229 [==============================] - 52s 228ms/step - loss: 0.0936 - accuracy: 0.9690\n",
      "Epoch 16/20\n",
      "229/229 [==============================] - 52s 225ms/step - loss: 0.0793 - accuracy: 0.9728\n",
      "Epoch 17/20\n",
      "229/229 [==============================] - 51s 224ms/step - loss: 0.0763 - accuracy: 0.9719\n",
      "Epoch 18/20\n",
      "229/229 [==============================] - 52s 227ms/step - loss: 0.0685 - accuracy: 0.9749\n",
      "Epoch 19/20\n",
      "229/229 [==============================] - 52s 226ms/step - loss: 0.0670 - accuracy: 0.9741\n",
      "Epoch 20/20\n",
      "229/229 [==============================] - 53s 233ms/step - loss: 0.0622 - accuracy: 0.9757\n"
     ]
    }
   ],
   "source": [
    "historyV7 = modelV7.fit([x_train_text_id, x_train_image], y_train_price, \n",
    "                    epochs=20, \n",
    "                    batch_size=32, \n",
    "#                     validation_data=([text_val, image_val], y_val)\n",
    "                       )"
   ]
  },
  {
   "cell_type": "markdown",
   "metadata": {
    "id": "bW-VbJqajBDp"
   },
   "source": [
    "### Prediction & Save Result"
   ]
  },
  {
   "cell_type": "code",
   "execution_count": null,
   "metadata": {
    "execution": {
     "iopub.execute_input": "2023-04-12T14:05:45.431927Z",
     "iopub.status.busy": "2023-04-12T14:05:45.431368Z",
     "iopub.status.idle": "2023-04-12T14:05:57.403238Z",
     "shell.execute_reply": "2023-04-12T14:05:57.401608Z",
     "shell.execute_reply.started": "2023-04-12T14:05:45.431858Z"
    },
    "id": "TSCcyszAiSLU",
    "outputId": "cd63db6d-63ab-4386-ebb2-20498a4bc262"
   },
   "outputs": [
    {
     "name": "stdout",
     "output_type": "stream",
     "text": [
      "230/230 [==============================] - 11s 47ms/step\n"
     ]
    }
   ],
   "source": [
    "y_predict = modelV7.predict([x_test_text, x_test_image])\n",
    "price_predicted = y_predict\n",
    "price_category_predicted = np.argmax(price_predicted, axis=1)"
   ]
  },
  {
   "cell_type": "code",
   "execution_count": null,
   "metadata": {
    "execution": {
     "iopub.execute_input": "2023-04-12T14:06:29.401191Z",
     "iopub.status.busy": "2023-04-12T14:06:29.399700Z",
     "iopub.status.idle": "2023-04-12T14:06:29.424446Z",
     "shell.execute_reply": "2023-04-12T14:06:29.423168Z",
     "shell.execute_reply.started": "2023-04-12T14:06:29.401116Z"
    },
    "id": "EKE12mHDiSLV"
   },
   "outputs": [],
   "source": [
    "output_file_path = 'SevenModelV3.csv'\n",
    "create_submission_file(df_test, price_category_predicted, output_file_path)"
   ]
  },
  {
   "cell_type": "markdown",
   "metadata": {
    "id": "Dsv8uOJqiSLV"
   },
   "source": [
    "14. In these trile we use we **translate** the Summary column before use it to train our model, and **vocab_size = 40000**.</br>\n",
    "When we test these model on testing data we get accuracy **64.44%**."
   ]
  },
  {
   "cell_type": "markdown",
   "metadata": {
    "id": "yAcGK2yoiSLV"
   },
   "source": [
    "15. In another trile we use our data **without translate** it, and **vocab_size = 40000**.</br>\n",
    "When we test these model on testing data we get accuracy **63.61%**."
   ]
  },
  {
   "cell_type": "markdown",
   "metadata": {
    "id": "tyjLux2wiSLV"
   },
   "source": [
    "16. In another trile we use our data **without translate** it and use **vocab_size = 10000**.</br>\n",
    "When we test these model on testing data we get accuracy **64.972%**.\n",
    "\n",
    "\n",
    "**Reducing the number of vocabulary** words in the model can sometimes improve accuracy because it reduces the amount of noise in the data and allows the model to focus on more relevant features. When the model has to process a large number of vocabulary words, it may struggle to distinguish between important and unimportant features, leading to overfitting and reduced accuracy."
   ]
  },
  {
   "cell_type": "markdown",
   "metadata": {
    "id": "aFeoJCChiSLV"
   },
   "source": [
    "## Best Model "
   ]
  },
  {
   "cell_type": "markdown",
   "metadata": {
    "id": "GEiP_3ZsiSLV"
   },
   "source": [
    "From above notice that when we train data **without translate** it, and with **vocab_size = 10000** the accuracy on testing data set increased except in the last model the accuracy with translated text is higher.\n",
    "\n",
    "So we can see that the model with higher accuracy until now is the **last model** **with translated text**."
   ]
  },
  {
   "cell_type": "markdown",
   "metadata": {
    "id": "2Sa2L6ImiSLV"
   },
   "source": [
    "\n",
    "Compared to the previous models, this model uses a GRU layer for the textual input, which can be more effective than an LSTM layer in capturing sequential information in the input. Additionally, the use of multiple Conv2D and MaxPooling2D layers in the image input can capture more complex spatial features. The use of dropout layers can also help prevent overfitting. Overall, this model architecture may be more suited to handling complex and diverse real estate listings data, leading to higher accuracy.\n",
    "\n",
    "**And Also Reducing the number of vocabulary** words in the model can sometimes improve accuracy because it reduces the amount of noise in the data and allows the model to focus on more relevant features. When the model has to process a large number of vocabulary words, it may struggle to distinguish between important and unimportant features, leading to overfitting and reduced accuracy."
   ]
  },
  {
   "cell_type": "markdown",
   "metadata": {
    "id": "V7FGXdtyiSLV"
   },
   "source": [
    "**🌈Is fully-connected model a good one for sequential data? Why? How about for image data? Is it good? Why?**</br></br>\n",
    "**A fully-connected model** (also known as a dense model or feedforward neural network) can be used for sequential data and image data, but its effectiveness depends on the specific characteristics of the data being modeled.</br>\n",
    "\n",
    "**For sequential data**, fully-connected models are not typically the best choice since they do not consider the temporal dependencies between the input features. For sequential data, it is often more effective to use models with recurrent neural networks (RNNs) such as LSTM or GRU, as they are designed to model sequential data and capture the temporal dependencies between the input features.</br>\n",
    "\n",
    "**For image data**, fully-connected models can be effective when used in combination with convolutional neural networks (CNNs) to process the image features. CNNs are typically used to extract features from the images, and the fully-connected layers are used to map the extracted features to the target variable. However, purely fully-connected models are not typically used for image data, as they do not take into account the spatial structure of the input data."
   ]
  },
  {
   "cell_type": "markdown",
   "metadata": {
    "id": "G9jVfGMfiSLV"
   },
   "source": [
    "**🌈What is gradient vanishing and gradient explosion, and how GRU/LSTM tries to mitigate this problem?**</br></br>\n",
    "**Gradient vanishing** occurs when the gradients of the loss function with respect to the parameters of the model become very small as they are propagated backward through the layers of the network. This can cause the weights to update very slowly or not at all, which can lead to poor model performance.</br>\n",
    "**Gradient explosion**, on the other hand, occurs when the gradients become very large as they are propagated backward through the layers of the network. This can cause the weights to update too quickly and can make the network unstable or cause it to diverge.</br></br>\n",
    "**GRU** (Gated Recurrent Unit) and **LSTM** (Long Short-Term Memory) are two popular RNN architectures that incorporate gating mechanisms to control the flow of information through the network.</br>\n",
    "\n",
    "**In GRU**, the network has two gates: a reset gate and an update gate. The reset gate controls how much of the previous state is forgotten, while the update gate controls how much of the new state is added. This allows the network to selectively incorporate new information while retaining important information from the past.</br>\n",
    "\n",
    "**In LSTM**, the network has three gates: an input gate, a forget gate, and an output gate. The input gate controls how much new information is added to the memory cell, the forget gate controls how much of the previous memory is retained or forgotten, and the output gate controls how much of the memory is used to compute the output.</br>\n",
    "\n",
    "By incorporating gating mechanisms, GRU and LSTM are able to selectively update and forget information, which can help to mitigate the problem of gradient vanishing and gradient explosion. The gates allow the network to learn which information to retain and which to discard, which can help to prevent the gradients from becoming too small or too large as they are propagated backward through the network."
   ]
  },
  {
   "cell_type": "markdown",
   "metadata": {
    "id": "24O7kFZTiSLV"
   },
   "source": [
    "**🌈What is multi-objective/multi-task learning? What is multi-modality learning? How do you use them in this assignment?**</br></br>\n",
    "**Multi-objective/multi-task** learning is a machine learning technique where a model is trained to simultaneously optimize multiple objectives or perform multiple tasks. The goal is to learn a shared representation that can be used to solve multiple related problems more efficiently than training separate models for each task. In multi-objective/multi-task learning, the model learns to balance the trade-offs between different objectives or tasks.</br>\n",
    "\n",
    "**Multi-modality** learning is a machine learning technique where a model is trained to process multiple types of input data (modalities), such as images, text, and audio. The goal is to learn a joint representation of the input data that captures the relationships between the different modalities.</br>\n",
    "\n",
    "**In this assignment**, multi-objective/multi-task learning and multi-modality learning can both be used to improve the performance of the model. For example, we can use multi-task learning to predict both the price category and the type category. By training a single model to perform both tasks, we can leverage the shared features and potentially improve the overall performance of the model.</br>\n",
    "\n",
    "**Similarly,** we can use multi-modality learning to incorporate both image and text data into the model. By training a single model to process both modalities, we can learn a joint representation of the input data that captures the relationships between the two modalities. This can potentially improve the performance of the model, since the text and image data may contain complementary information about the products."
   ]
  },
  {
   "cell_type": "markdown",
   "metadata": {
    "id": "_gcYzTJoiSLW"
   },
   "source": [
    "**🌈What is the difference among xgboost, lightgbm and catboost**</br></br>\n",
    "**XGBoost** (eXtreme Gradient Boosting) is a widely used gradient boosting framework that is known for its scalability and speed. XGBoost uses a gradient boosting algorithm with decision trees as base models, and it includes several advanced features such as regularization, parallel processing, and support for custom loss functions.</br>\n",
    "\n",
    "**LightGBM** (Light Gradient Boosting Machine) is another gradient boosting framework. It is similar to XGBoost in that it uses decision trees as base models, but it uses a different algorithm to construct the trees. Specifically, LightGBM uses a histogram-based approach to binning the feature values, which can be more efficient than the traditional approach of sorting the values. LightGBM also includes several other advanced features such as parallel learning, categorical feature support, and GPU acceleration.</br>\n",
    "\n",
    "**CatBoost** is a gradient boosting framework. It is similar to XGBoost and LightGBM in that it uses decision trees as base models, but it includes several additional features such as support for categorical features, automatic feature scaling, and built-in handling of missing values. CatBoost also uses a novel algorithm for constructing decision trees that takes into account the categorical features, which can improve the accuracy of the model.</br>\n"
   ]
  },
  {
   "cell_type": "code",
   "execution_count": null,
   "metadata": {
    "id": "XlJdYiIaiSLW"
   },
   "outputs": [],
   "source": []
  }
 ],
 "metadata": {
  "colab": {
   "provenance": [],
   "toc_visible": true
  },
  "kernelspec": {
   "display_name": "Python 3 (ipykernel)",
   "language": "python",
   "name": "python3"
  },
  "language_info": {
   "codemirror_mode": {
    "name": "ipython",
    "version": 3
   },
   "file_extension": ".py",
   "mimetype": "text/x-python",
   "name": "python",
   "nbconvert_exporter": "python",
   "pygments_lexer": "ipython3",
   "version": "3.9.13"
  }
 },
 "nbformat": 4,
 "nbformat_minor": 4
}
